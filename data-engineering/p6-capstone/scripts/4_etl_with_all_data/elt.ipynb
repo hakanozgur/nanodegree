{
 "cells": [
  {
   "cell_type": "code",
   "execution_count": 1,
   "metadata": {},
   "outputs": [],
   "source": [
    "import psycopg2\r\n",
    "import json\r\n",
    "import io\r\n",
    "import csv\r\n",
    "from dateutil.parser import isoparse"
   ]
  },
  {
   "cell_type": "code",
   "execution_count": 2,
   "metadata": {},
   "outputs": [],
   "source": [
    "from sql_queries import staging_drop_table_queries, staging_create_table_queries"
   ]
  },
  {
   "cell_type": "code",
   "execution_count": 3,
   "metadata": {},
   "outputs": [],
   "source": [
    "# Connect to local database\r\n",
    "\r\n",
    "connection = psycopg2.connect(\r\n",
    "    host=\"localhost\",\r\n",
    "    port=6021,\r\n",
    "    database=\"eksi\",\r\n",
    "    user=\"postgres\",\r\n",
    "    password=\"docker\")\r\n",
    "\r\n",
    "cursor = connection.cursor()"
   ]
  },
  {
   "cell_type": "code",
   "execution_count": 4,
   "metadata": {},
   "outputs": [],
   "source": [
    "# Drop and create staging tables\r\n",
    "\r\n",
    "for query in staging_drop_table_queries:\r\n",
    "    cursor.execute(query)\r\n",
    "    connection.commit()\r\n",
    "\r\n",
    "for query in staging_create_table_queries:\r\n",
    "    cursor.execute(query)\r\n",
    "    connection.commit()"
   ]
  },
  {
   "cell_type": "code",
   "execution_count": 5,
   "metadata": {},
   "outputs": [
    {
     "name": "stdout",
     "output_type": "stream",
     "text": [
      "162728\n"
     ]
    }
   ],
   "source": [
    "with open('../../data/eksi_preprocessed/db_author_detail.json', 'r', encoding='utf-8') as jsonfile:\r\n",
    "    line_count = 0\r\n",
    "    for item in jsonfile:\r\n",
    "        line_count += 1\r\n",
    "        author = json.loads(item)\r\n",
    "        try:\r\n",
    "            tab_splited_values = io.StringIO(\"\\t\".join(map(str,author.values())))\r\n",
    "            cursor.copy_from(tab_splited_values, 'staging_author_details', sep='\\t', null=\"None\")\r\n",
    "            connection.commit()\r\n",
    "        except (Exception, psycopg2.DatabaseError) as e:\r\n",
    "            print(e)\r\n",
    "            break\r\n",
    "    print(line_count)"
   ]
  },
  {
   "cell_type": "code",
   "execution_count": 11,
   "metadata": {},
   "outputs": [
    {
     "name": "stdout",
     "output_type": "stream",
     "text": [
      "(162728,)\n"
     ]
    }
   ],
   "source": [
    "try:\r\n",
    "    query = \"select count(*) from staging_author_details\"\r\n",
    "    cursor.execute(query)\r\n",
    "    result = cursor.fetchone()\r\n",
    "    print(result)\r\n",
    "except (Exception, psycopg2.DatabaseError) as e:\r\n",
    "    print(e)"
   ]
  },
  {
   "cell_type": "code",
   "execution_count": 11,
   "metadata": {},
   "outputs": [
    {
     "name": "stdout",
     "output_type": "stream",
     "text": [
      "0\n",
      "500000\n",
      "1000000\n",
      "1500000\n"
     ]
    }
   ],
   "source": [
    "with open('../../data/eksi_preprocessed/db_topics.json', 'r', encoding='utf-8') as jsonfile:\r\n",
    "    tab_splited_values = \"\"\r\n",
    "    for index, item in enumerate(jsonfile):\r\n",
    "        if index%500000 == 0:\r\n",
    "            print(index)\r\n",
    "        topic = json.loads(item)\r\n",
    "        try:\r\n",
    "            tab_splited_values += \"\\t\".join(map(str,topic.values())) + \"\\n\"\r\n",
    "        except (Exception, psycopg2.DatabaseError) as e:\r\n",
    "            print(e)\r\n",
    "            break"
   ]
  },
  {
   "cell_type": "code",
   "execution_count": 13,
   "metadata": {},
   "outputs": [
    {
     "data": {
      "text/plain": "1890596"
     },
     "execution_count": 13,
     "metadata": {},
     "output_type": "execute_result"
    }
   ],
   "source": [
    "tab_splited_values.count('\\n')"
   ]
  },
  {
   "cell_type": "code",
   "execution_count": 14,
   "metadata": {},
   "outputs": [],
   "source": [
    "try:\r\n",
    "    tab_splited_values_io = io.StringIO(tab_splited_values)\r\n",
    "    cursor.copy_from(tab_splited_values_io, 'staging_topics', sep='\\t', null=\"None\")\r\n",
    "    connection.commit()\r\n",
    "except (Exception, psycopg2.DatabaseError) as e:\r\n",
    "    print(e)"
   ]
  },
  {
   "cell_type": "code",
   "execution_count": 15,
   "metadata": {},
   "outputs": [
    {
     "name": "stdout",
     "output_type": "stream",
     "text": [
      "(1890596,)\n"
     ]
    }
   ],
   "source": [
    "try:\r\n",
    "    query = \"select count(*) from staging_topics\"\r\n",
    "    cursor.execute(query)\r\n",
    "    result = cursor.fetchone()\r\n",
    "    print(result)\r\n",
    "except (Exception, psycopg2.DatabaseError) as e:\r\n",
    "    print(e)"
   ]
  },
  {
   "cell_type": "code",
   "execution_count": 35,
   "metadata": {},
   "outputs": [
    {
     "name": "stdout",
     "output_type": "stream",
     "text": [
      "1000\n"
     ]
    }
   ],
   "source": [
    "with open('../../data/eksi_preprocessed/db_entries.json', 'r', encoding='utf-8') as jsonfile:\r\n",
    "    line_count = 0\r\n",
    "    for item in jsonfile:\r\n",
    "        line_count += 1\r\n",
    "        entry = json.loads(item)\r\n",
    "        try:\r\n",
    "            tab_splited_values = io.StringIO(\"\\t\".join(map(str,entry.values())))\r\n",
    "            cursor.copy_from(tab_splited_values, 'staging_entries', sep='\\t', null=\"None\")\r\n",
    "            connection.commit()\r\n",
    "        except (Exception, psycopg2.DatabaseError) as e:\r\n",
    "            print(entry)\r\n",
    "            print(e)\r\n",
    "            break\r\n",
    "    print(line_count)"
   ]
  },
  {
   "cell_type": "code",
   "execution_count": 36,
   "metadata": {},
   "outputs": [
    {
     "name": "stdout",
     "output_type": "stream",
     "text": [
      "(1000,)\n"
     ]
    }
   ],
   "source": [
    "try:\r\n",
    "    query = \"select count(*) from staging_entries\"\r\n",
    "    cursor.execute(query)\r\n",
    "    result = cursor.fetchone()\r\n",
    "    print(result)\r\n",
    "except (Exception, psycopg2.DatabaseError) as e:\r\n",
    "    print(e)"
   ]
  },
  {
   "cell_type": "code",
   "execution_count": 41,
   "metadata": {},
   "outputs": [],
   "source": [
    "# cursor.execute(\"ROLLBACK\")\r\n",
    "# connection.commit()"
   ]
  },
  {
   "cell_type": "code",
   "execution_count": 4,
   "metadata": {},
   "outputs": [],
   "source": [
    "from sql_queries import drop_table_queries, create_table_queries,insert_table_queries"
   ]
  },
  {
   "cell_type": "code",
   "execution_count": 5,
   "metadata": {},
   "outputs": [],
   "source": [
    "# Drop and create staging tables\r\n",
    "\r\n",
    "for query in drop_table_queries:\r\n",
    "    cursor.execute(query)\r\n",
    "    connection.commit()\r\n",
    "\r\n",
    "for query in create_table_queries:\r\n",
    "    cursor.execute(query)\r\n",
    "    connection.commit()"
   ]
  },
  {
   "cell_type": "code",
   "execution_count": 6,
   "metadata": {},
   "outputs": [],
   "source": [
    "for query in insert_table_queries:\r\n",
    "    cursor.execute(query)\r\n",
    "    connection.commit()"
   ]
  },
  {
   "cell_type": "code",
   "execution_count": 7,
   "metadata": {},
   "outputs": [],
   "source": [
    "from sql_queries import entry_table_insert"
   ]
  },
  {
   "cell_type": "code",
   "execution_count": 8,
   "metadata": {},
   "outputs": [],
   "source": [
    "cursor.execute(entry_table_insert)\r\n",
    "connection.commit()"
   ]
  },
  {
   "cell_type": "code",
   "execution_count": null,
   "metadata": {},
   "outputs": [],
   "source": []
  }
 ],
 "metadata": {
  "kernelspec": {
   "display_name": "Python 3.7.10 64-bit ('capstone': conda)",
   "name": "python3710jvsc74a57bd0407e9c27d0c9ec7efaa958bdf2ed052c986ab60a55ba4d9adbcf4b8da352d099"
  },
  "language_info": {
   "codemirror_mode": {
    "name": "ipython",
    "version": 3
   },
   "file_extension": ".py",
   "mimetype": "text/x-python",
   "name": "python",
   "nbconvert_exporter": "python",
   "pygments_lexer": "ipython3",
   "version": "3.7.10"
  },
  "orig_nbformat": 2
 },
 "nbformat": 4,
 "nbformat_minor": 2
}