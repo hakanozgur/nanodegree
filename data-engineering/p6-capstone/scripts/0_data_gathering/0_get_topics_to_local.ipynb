{
 "cells": [
  {
   "cell_type": "code",
   "execution_count": 4,
   "metadata": {},
   "outputs": [],
   "source": [
    "from src.api.api_helper import get_popular_topics\r\n",
    "from src.api.api_helper import setup_session\r\n",
    "from src.api.api_helper import get_entries_from_topic\r\n",
    "from src.model.eksi import ProcessStatus\r\n",
    "from src.model.db_models import TopicData\r\n",
    "import json\r\n",
    "import time\r\n",
    "\r\n",
    "HOST = \"https://api.----.com\"\r\n",
    "host =  \"https://api.--------.com\""
   ]
  },
  {
   "cell_type": "code",
   "execution_count": 5,
   "metadata": {
    "collapsed": false,
    "jupyter": {
     "outputs_hidden": false
    },
    "pycharm": {
     "name": "#%%\n"
    }
   },
   "outputs": [],
   "source": [
    "session = setup_session()"
   ]
  },
  {
   "cell_type": "code",
   "execution_count": 6,
   "metadata": {},
   "outputs": [],
   "source": [
    "remaining_topics = []\n",
    "\n",
    "with open('topics.json') as tempfile:\n",
    "    for line in tempfile:\n",
    "        remaining_topics.append(line.strip())"
   ]
  },
  {
   "cell_type": "code",
   "execution_count": null,
   "metadata": {},
   "outputs": [],
   "source": [
    "all_authors  = set()\r\n",
    "all_entries = []\r\n",
    "all_topics = []\r\n",
    "ex_count = 0\r\n",
    "\r\n",
    "for index in reversed(range(6850009,6880019)):\r\n",
    "    if index % 300 == 0:\r\n",
    "        with open('temp_entries.txt', 'a', encoding=\"utf-8\") as file_entries:\r\n",
    "            for entry in all_entries:\r\n",
    "                file_entries.write(json.dumps(entry.dict(), ensure_ascii=False) + \"\\n\")\r\n",
    "\r\n",
    "        with open('temp_authors.txt', 'a', encoding=\"utf-8\") as file_authors:\r\n",
    "            for author in all_authors:\r\n",
    "                file_authors.write(json.dumps(author.dict(), ensure_ascii=False) + \"\\n\")\r\n",
    "\r\n",
    "        with open('temp_topics.txt', 'a', encoding=\"utf-8\") as file_topics:\r\n",
    "            for topics in all_topics:\r\n",
    "                file_topics.write(json.dumps(topics.dict(), ensure_ascii=False) + \"\\n\")\r\n",
    "\r\n",
    "        all_authors  = set()\r\n",
    "        all_entries = []\r\n",
    "        all_topics = []\r\n",
    "        ex_count = 0\r\n",
    "\r\n",
    "        print(index, \"saved\")\r\n",
    "    \r\n",
    "    try:\r\n",
    "        entries, topic = get_entries_from_topic(session=session, topic_id=index, page=1, entries=[])\r\n",
    "\r\n",
    "        for entry in entries:\r\n",
    "\r\n",
    "            # add author\r\n",
    "            author = entry.Author\r\n",
    "            author.ProcessStatus = ProcessStatus.NOT_PROCESSED.value\r\n",
    "            all_authors.add(author)\r\n",
    "            \r\n",
    "            entry.TopicId = topic.Data.Id\r\n",
    "            entry.TopicTitle = topic.Data.Title\r\n",
    "            all_entries.append(entry)\r\n",
    "\r\n",
    "        if topic and topic.Success:\r\n",
    "            created_at = \"\"\r\n",
    "            if len(topic.Data.Entries) > 0:\r\n",
    "                created_at = topic.Data.Entries[0].Created\r\n",
    "\r\n",
    "            all_topics.append(TopicData(\r\n",
    "                Id=topic.Data.Id,\r\n",
    "                Title=topic.Data.Title, \r\n",
    "                EntryCounts=topic.Data.EntryCounts.Total,\r\n",
    "                Slug=topic.Data.Slug,\r\n",
    "                Created=created_at))\r\n",
    "    except Exception as ex:\r\n",
    "        ex_count += 1\r\n",
    "        print(index, ex)\r\n",
    "        if ex_count > 20001:\r\n",
    "            break\r\n",
    "            \r\n",
    "with open('temp_entries.txt', 'a', encoding=\"utf-8\") as file_entries:\r\n",
    "    for entry in all_entries:\r\n",
    "        file_entries.write(json.dumps(entry.dict(), ensure_ascii=False) + \"\\n\")\r\n",
    "\r\n",
    "with open('temp_authors.txt', 'a', encoding=\"utf-8\") as file_authors:\r\n",
    "    for author in all_authors:\r\n",
    "        file_authors.write(json.dumps(author.dict(), ensure_ascii=False) + \"\\n\")\r\n",
    "\r\n",
    "with open('temp_topics.txt', 'a', encoding=\"utf-8\") as file_topics:\r\n",
    "    for topics in all_topics:\r\n",
    "        file_topics.write(json.dumps(topics.dict(), ensure_ascii=False) + \"\\n\")"
   ]
  }
 ],
 "metadata": {
  "kernelspec": {
   "display_name": "Python 3.8.5 64-bit ('base': conda)",
   "name": "python385jvsc74a57bd0d3ff5a1ce451dfff603f0aeb2fe958ed2741cc1700d7ef242fbe9997037b9eb5"
  },
  "language_info": {
   "name": "python",
   "version": ""
  },
  "metadata": {
   "interpreter": {
    "hash": "63fd5069d213b44bf678585dea6b12cceca9941eaf7f819626cde1f2670de90d"
   }
  }
 },
 "nbformat": 4,
 "nbformat_minor": 4
}