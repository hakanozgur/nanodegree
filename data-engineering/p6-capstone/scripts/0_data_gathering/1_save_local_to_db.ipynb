{
 "cells": [
  {
   "cell_type": "code",
   "execution_count": 34,
   "metadata": {},
   "outputs": [],
   "source": [
    "from pymongo import MongoClient\n",
    "from pydantic import parse_obj_as\n",
    "from src.model.popular_topics import PopularTopics\n",
    "import json"
   ]
  },
  {
   "cell_type": "code",
   "execution_count": 35,
   "metadata": {},
   "outputs": [],
   "source": [
    "client = MongoClient(\"mongodb://mongoadmin:\")"
   ]
  },
  {
   "cell_type": "code",
   "execution_count": 36,
   "metadata": {},
   "outputs": [],
   "source": [
    "db = client[\"----\"]"
   ]
  },
  {
   "cell_type": "code",
   "execution_count": 37,
   "metadata": {},
   "outputs": [],
   "source": [
    "db_topics = db[\"topics\"]"
   ]
  },
  {
   "cell_type": "code",
   "execution_count": 38,
   "metadata": {},
   "outputs": [],
   "source": [
    "db_authors = db[\"authors\"]"
   ]
  },
  {
   "cell_type": "code",
   "execution_count": 39,
   "metadata": {},
   "outputs": [],
   "source": [
    "db_entries = db[\"entries\"]"
   ]
  },
  {
   "cell_type": "code",
   "execution_count": 41,
   "metadata": {},
   "outputs": [],
   "source": [
    "with open('temp_topics.txt') as readfile:\n",
    "    for item in readfile:\n",
    "        topic_json = json.loads(item.strip())\n",
    "        topic_dict = {\"TopicTitle\": topic_json['Title'], \"EntryCounts\": topic_json['EntryCounts'], \"Slug\": topic_json['Slug'], \"Created\": topic_json['Created'] }\n",
    "        db_topics.update_one(\n",
    "            {\"TopicId\": topic_json['Id']},\n",
    "            {\n",
    "                \"$set\": topic_dict,\n",
    "            },\n",
    "            upsert=True,\n",
    "        )"
   ]
  },
  {
   "cell_type": "code",
   "execution_count": 42,
   "metadata": {},
   "outputs": [],
   "source": [
    "with open('temp_authors.txt') as readfile:\n",
    "    for item in readfile:\n",
    "        author_json = json.loads(item.strip())\n",
    "        db_authors.update_one(\n",
    "            {\"Id\": author_json['Id']},\n",
    "            {\n",
    "                \"$setOnInsert\": author_json,\n",
    "            },\n",
    "            upsert=True,\n",
    "        )"
   ]
  },
  {
   "cell_type": "code",
   "execution_count": 43,
   "metadata": {},
   "outputs": [],
   "source": [
    "with open('temp_entries.txt') as readfile:\n",
    "    for item in readfile:\n",
    "        entry_json = json.loads(item.strip())\n",
    "        db_entries.update_one(\n",
    "            {\"Id\": entry_json['Id']},\n",
    "            {\n",
    "                \"$setOnInsert\": entry_json,\n",
    "            },\n",
    "            upsert=True,\n",
    "        )"
   ]
  },
  {
   "cell_type": "code",
   "execution_count": null,
   "metadata": {},
   "outputs": [],
   "source": []
  },
  {
   "cell_type": "code",
   "execution_count": null,
   "metadata": {},
   "outputs": [],
   "source": []
  }
 ],
 "metadata": {
  "kernelspec": {
   "display_name": "Python 3.8.5 64-bit ('base': conda)",
   "name": "python385jvsc74a57bd0d3ff5a1ce451dfff603f0aeb2fe958ed2741cc1700d7ef242fbe9997037b9eb5"
  },
  "language_info": {
   "name": "python",
   "version": ""
  }
 },
 "nbformat": 4,
 "nbformat_minor": 4
}