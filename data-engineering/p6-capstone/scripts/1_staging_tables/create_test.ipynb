{
 "cells": [
  {
   "cell_type": "code",
   "execution_count": 1,
   "metadata": {},
   "outputs": [],
   "source": [
    "import psycopg2\r\n",
    "import json\r\n",
    "import io\r\n",
    "import csv\r\n",
    "from dateutil.parser import isoparse"
   ]
  },
  {
   "cell_type": "code",
   "execution_count": 2,
   "metadata": {},
   "outputs": [],
   "source": [
    "connection = psycopg2.connect(\r\n",
    "    host=\"localhost\",\r\n",
    "    port=6021,\r\n",
    "    database=\"eksi\",\r\n",
    "    user=\"postgres\",\r\n",
    "    password=\"docker\")"
   ]
  },
  {
   "cell_type": "code",
   "execution_count": 3,
   "metadata": {},
   "outputs": [],
   "source": [
    "cursor = connection.cursor()"
   ]
  },
  {
   "cell_type": "code",
   "execution_count": 4,
   "metadata": {},
   "outputs": [],
   "source": [
    "from sql_queries import create_table_queries, drop_table_queries"
   ]
  },
  {
   "cell_type": "code",
   "execution_count": 5,
   "metadata": {},
   "outputs": [],
   "source": [
    "for query in drop_table_queries:\r\n",
    "    cursor.execute(query)\r\n",
    "    connection.commit()"
   ]
  },
  {
   "cell_type": "code",
   "execution_count": 6,
   "metadata": {},
   "outputs": [],
   "source": [
    "for query in create_table_queries:\r\n",
    "    cursor.execute(query)\r\n",
    "    connection.commit()"
   ]
  },
  {
   "cell_type": "code",
   "execution_count": 7,
   "metadata": {},
   "outputs": [],
   "source": [
    "with open('./data/sample_entries.json', 'r', encoding='utf-8') as jsonfile:\r\n",
    "    for item in jsonfile:\r\n",
    "        entry = json.loads(item)\r\n",
    "        new_json = {\r\n",
    "            \"entry_id\" : entry['Id'],\r\n",
    "            \"author_nick\" : entry['Author']['Nick'],\r\n",
    "            \"author_id\" : entry['Author']['Id'],\r\n",
    "            \"created\" : entry['Created'],\r\n",
    "            \"last_updated\" :entry['LastUpdated'],\r\n",
    "            \"is_favorite\" : entry['IsFavorite'],\r\n",
    "            \"favorite_count\" : entry['FavoriteCount'],\r\n",
    "            \"hidden\" : entry['Hidden'],\r\n",
    "            \"active\" : entry['Active'],\r\n",
    "            \"comment_count\" : entry['CommentCount'],\r\n",
    "            \"comment_summary\" : entry['CommentSummary'],\r\n",
    "            \"avatar_url\" : entry['AvatarUrl'],\r\n",
    "            \"topic_id\" : entry['TopicId'],\r\n",
    "            \"topic_title\" : entry['TopicTitle'],\r\n",
    "            \"content\" : entry['Content'],\r\n",
    "        }\r\n",
    "        try:\r\n",
    "            loaded_json = json.loads(json.dumps(new_json))\r\n",
    "            tab_splited_values = io.StringIO(\"\\t\".join(map(str,loaded_json.values())))\r\n",
    "            cursor.copy_from(tab_splited_values, 'staging_entries', sep='\\t', null=\"None\")\r\n",
    "            connection.commit()\r\n",
    "        except (Exception, psycopg2.DatabaseError) as e:\r\n",
    "            print(e)\r\n"
   ]
  },
  {
   "cell_type": "code",
   "execution_count": 8,
   "metadata": {},
   "outputs": [],
   "source": [
    "with open('./data/sample_authors_detail.json', 'r', encoding='utf-8') as jsonfile:\r\n",
    "    for item in jsonfile:\r\n",
    "        author = json.loads(item)\r\n",
    "\r\n",
    "        db_badges = None\r\n",
    "        if 'Badges' in author:\r\n",
    "            db_badges = \",\".join([item[\"Name\"] for item in author[\"Badges\"]])\r\n",
    "\r\n",
    "        karma_name, karma_value = None, -1\r\n",
    "        if  author['UserInfo']['Karma']:\r\n",
    "            karma_name = author['UserInfo']['Karma']['Name']\r\n",
    "            karma_value =  author['UserInfo']['Karma']['Value']\r\n",
    "\r\n",
    "        new_json = {\r\n",
    "            'author_id' : author['UserId'],\r\n",
    "            'author_nick' : author['UserInfo']['UserIdentifier']['Nick'],\r\n",
    "            'twitter_screen_name' : author['UserInfo']['TwitterScreenName'],\r\n",
    "            'facbook_profile_url' : author['UserInfo']['FacebookProfileUrl'],\r\n",
    "            'facebook_screen_name' : author['UserInfo']['FacebookScreenName'],\r\n",
    "            'instagram_screen_name' : author['UserInfo']['InstagramScreenName'],\r\n",
    "            'instagram_profile_url' : author['UserInfo']['InstagramProfileUrl'],\r\n",
    "            'karma_name' : karma_name,\r\n",
    "            'karma_value' : karma_value,\r\n",
    "            'entry_count' : author['UserInfo']['EntryCounts']['Total'],\r\n",
    "            'last_entry_date' : author['UserInfo']['LastEntryDate'],\r\n",
    "            'is_corporate' : author['UserInfo']['IsCorporate'],\r\n",
    "            'is_deactivated' : author['UserInfo']['IsDeactivated'],\r\n",
    "            'is_caylak' : author['UserInfo']['IsCaylak'],\r\n",
    "            'is_cursed' : author['UserInfo']['IsCursed'],\r\n",
    "            'follower_count' : author['FollowerCount'],\r\n",
    "            'followings_count' : author['FollowingsCount'],\r\n",
    "            'picture' : author['Picture'],\r\n",
    "            'has_entry_on_seyler' : author['HasEntryUsedOnSeyler'],\r\n",
    "            'badges' :  db_badges,\r\n",
    "            'favorite_entries': '' if 'FavoriteEntries' not in author else author['FavoriteEntries'],\r\n",
    "            'favorited_dntries': '' if 'FavoritedEntries' not in author else author['FavoritedEntries']\r\n",
    "        }\r\n",
    "        try:\r\n",
    "            loaded_json = json.loads(json.dumps(new_json))\r\n",
    "            tab_splited_values = io.StringIO(\"\\t\".join(map(str,loaded_json.values())))\r\n",
    "            cursor.copy_from(tab_splited_values, 'staging_author_details', sep='\\t', null=\"None\")\r\n",
    "            connection.commit()\r\n",
    "        except (Exception, psycopg2.DatabaseError) as e:\r\n",
    "            print(e)\r\n"
   ]
  },
  {
   "cell_type": "code",
   "execution_count": 9,
   "metadata": {},
   "outputs": [],
   "source": [
    "with open('./data/sample_topics.json', 'r', encoding='utf-8') as jsonfile:\r\n",
    "    for item in jsonfile:\r\n",
    "        topics = json.loads(item)\r\n",
    "        new_json = {\r\n",
    "          'topic_id' : topics['TopicId'],\r\n",
    "          'topic_title' : topics['TopicTitle'],\r\n",
    "          'entry_count' : topics['EntryCount'],\r\n",
    "        }\r\n",
    "        try:\r\n",
    "            loaded_json = json.loads(json.dumps(new_json))\r\n",
    "            tab_splited_values = io.StringIO(\"\\t\".join(map(str,loaded_json.values())))\r\n",
    "            cursor.copy_from(tab_splited_values, 'staging_topics', sep='\\t', null=\"None\")\r\n",
    "            connection.commit()\r\n",
    "        except (Exception, psycopg2.DatabaseError) as e:\r\n",
    "            print(e)\r\n"
   ]
  },
  {
   "cell_type": "code",
   "execution_count": 10,
   "metadata": {},
   "outputs": [],
   "source": [
    "with open('./data/sample_authors.json', 'r', encoding='utf-8') as jsonfile:\r\n",
    "    for item in jsonfile:\r\n",
    "        author = json.loads(item)\r\n",
    "        new_json = {\r\n",
    "            'author_id' : author['Id'],\r\n",
    "            'author_nick' : author['Nick'],\r\n",
    "        }\r\n",
    "        try:\r\n",
    "            loaded_json = json.loads(json.dumps(new_json))\r\n",
    "            tab_splited_values = io.StringIO(\"\\t\".join(map(str,loaded_json.values())))\r\n",
    "            cursor.copy_from(tab_splited_values, 'staging_authors', sep='\\t', null=\"None\")\r\n",
    "            connection.commit()\r\n",
    "        except (Exception, psycopg2.DatabaseError) as e:\r\n",
    "            print(e)\r\n"
   ]
  },
  {
   "cell_type": "code",
   "execution_count": null,
   "metadata": {},
   "outputs": [],
   "source": [
    "# cursor.execute(\"ROLLBACK\")\r\n",
    "# connection.commit()"
   ]
  },
  {
   "cell_type": "code",
   "execution_count": 12,
   "metadata": {},
   "outputs": [],
   "source": [
    "# cursor.execute(\"select * from staging_entries;\")\r\n",
    "# cursor.fetchall()"
   ]
  }
 ],
 "metadata": {
  "kernelspec": {
   "display_name": "Python 3.7.10 64-bit ('capstone': conda)",
   "name": "python3710jvsc74a57bd0407e9c27d0c9ec7efaa958bdf2ed052c986ab60a55ba4d9adbcf4b8da352d099"
  },
  "language_info": {
   "name": "python",
   "version": ""
  },
  "orig_nbformat": 2
 },
 "nbformat": 4,
 "nbformat_minor": 2
}