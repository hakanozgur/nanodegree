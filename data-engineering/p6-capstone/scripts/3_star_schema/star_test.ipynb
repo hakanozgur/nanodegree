{
 "cells": [
  {
   "cell_type": "code",
   "execution_count": 1,
   "metadata": {},
   "outputs": [],
   "source": [
    "import psycopg2\r\n",
    "import json\r\n",
    "import io\r\n",
    "import csv\r\n",
    "from sql_queries import create_table_queries, drop_table_queries, insert_table_queries\r\n",
    "\r\n",
    "connection = psycopg2.connect(\r\n",
    "    host=\"localhost\",\r\n",
    "    port=6021,\r\n",
    "    database=\"eksi\",\r\n",
    "    user=\"postgres\",\r\n",
    "    password=\"docker\")\r\n",
    "\r\n",
    "cursor = connection.cursor()\r\n",
    "\r\n",
    "for query in drop_table_queries:\r\n",
    "    cursor.execute(query)\r\n",
    "    connection.commit()\r\n",
    "\r\n",
    "for query in create_table_queries:\r\n",
    "    cursor.execute(query)\r\n",
    "    connection.commit()"
   ]
  },
  {
   "cell_type": "code",
   "execution_count": 2,
   "metadata": {},
   "outputs": [],
   "source": [
    "for query in insert_table_queries:\r\n",
    "    cursor.execute(query)\r\n",
    "    connection.commit()"
   ]
  },
  {
   "cell_type": "code",
   "execution_count": 3,
   "metadata": {},
   "outputs": [],
   "source": [
    "# cursor.execute(\"ROLLBACK\")\r\n",
    "# connection.commit()"
   ]
  },
  {
   "cell_type": "code",
   "execution_count": null,
   "metadata": {},
   "outputs": [],
   "source": []
  }
 ],
 "metadata": {
  "kernelspec": {
   "display_name": "Python 3.7.10 64-bit ('capstone': conda)",
   "name": "python3710jvsc74a57bd0407e9c27d0c9ec7efaa958bdf2ed052c986ab60a55ba4d9adbcf4b8da352d099"
  },
  "language_info": {
   "codemirror_mode": {
    "name": "ipython",
    "version": 3
   },
   "file_extension": ".py",
   "mimetype": "text/x-python",
   "name": "python",
   "nbconvert_exporter": "python",
   "pygments_lexer": "ipython3",
   "version": "3.7.10"
  },
  "orig_nbformat": 2
 },
 "nbformat": 4,
 "nbformat_minor": 2
}