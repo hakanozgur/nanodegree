{
 "cells": [
  {
   "cell_type": "code",
   "execution_count": 1,
   "metadata": {},
   "outputs": [],
   "source": [
    "import json"
   ]
  },
  {
   "cell_type": "code",
   "execution_count": 6,
   "metadata": {},
   "outputs": [],
   "source": [
    "with open('../../data/eksi_preprocessed/db_authors.json', 'w', encoding='utf-8') as write_file:\r\n",
    "    with open('../../data/eksi_raw/db_authors.json', 'r', encoding='utf-8') as read_file:\r\n",
    "        for item in read_file:\r\n",
    "            author = json.loads(item)\r\n",
    "            new_json = {\r\n",
    "                'author_id' : author['Id'],\r\n",
    "                'author_nick' : author['Nick'],\r\n",
    "            }\r\n",
    "            write_file.write(json.dumps(new_json, ensure_ascii=False) + \"\\n\")"
   ]
  },
  {
   "cell_type": "code",
   "execution_count": 19,
   "metadata": {},
   "outputs": [
    {
     "name": "stdout",
     "output_type": "stream",
     "text": [
      "{'_id': {'$oid': '6070a7ba3085963adb5604d2'}, 'TopicTitle': \"fransa'nın 27 aralık 2019'daki covid-19 vakası\", 'EntryCounts': 2, 'Slug': 'fransanin-27-aralik-2019daki-covid-19-vakasi', 'Created': '2020-05-05T12:04:05.46'}\n"
     ]
    }
   ],
   "source": [
    "with open('../../data/eksi_preprocessed/db_topics.json', 'w', encoding='utf-8') as write_file:\r\n",
    "    with open('../../data/eksi_raw/db_topics.json', 'r', encoding='utf-8') as read_file:\r\n",
    "        for item in read_file:\r\n",
    "            topics = json.loads(item)\r\n",
    "            if 'TopicId' not in topics:\r\n",
    "                continue\r\n",
    "            else:\r\n",
    "                new_json = {\r\n",
    "                'topic_id' : topics['TopicId'],\r\n",
    "                'topic_title' : topics['TopicTitle'],\r\n",
    "                'entry_count' : -1 if 'EntryCount' not in topics else topics['EntryCount'],\r\n",
    "                'created': '' if 'Created' not in topics else topics['Created'],\r\n",
    "                'slug': '' if 'Slug' not in topics else topics['Slug']\r\n",
    "                }\r\n",
    "                write_file.write(json.dumps(new_json, ensure_ascii=False) + \"\\n\")\r\n"
   ]
  },
  {
   "cell_type": "code",
   "execution_count": 58,
   "metadata": {},
   "outputs": [],
   "source": [
    "all_badges = {}\r\n",
    "with open('../../data/eksi_preprocessed/db_author_detail.json', 'w', encoding='utf-8') as write_file:\r\n",
    "    with open('../../data/eksi_raw/db_detail.json', 'r', encoding='utf-8') as read_file:\r\n",
    "        for item in read_file:\r\n",
    "            author = json.loads(item)\r\n",
    "\r\n",
    "            db_badges = None\r\n",
    "            if 'Badges' in author:\r\n",
    "                badges = author['Badges']\r\n",
    "                for badge in badges:\r\n",
    "                    # Add badge in global dictionary\r\n",
    "                    if 'Name' in badge and badge['Name'] not in all_badges:\r\n",
    "                        all_badges[badge['Name']] = badge['Description']\r\n",
    "                db_badges = \",\".join([item[\"Name\"] for item in author[\"Badges\"]])\r\n",
    "\r\n",
    "            karma_name, karma_value = None, -1\r\n",
    "            if  author['UserInfo']['Karma']:\r\n",
    "                karma_name = author['UserInfo']['Karma']['Name']\r\n",
    "                karma_value =  author['UserInfo']['Karma']['Value']\r\n",
    "\r\n",
    "            new_json = {\r\n",
    "                'author_id' : author['UserId'],\r\n",
    "                'author_nick' : author['UserInfo']['UserIdentifier']['Nick'],\r\n",
    "                'twitter_screen_name' : author['UserInfo']['TwitterScreenName'],\r\n",
    "                'facbook_profile_url' : author['UserInfo']['FacebookProfileUrl'],\r\n",
    "                'facebook_screen_name' : author['UserInfo']['FacebookScreenName'],\r\n",
    "                'instagram_screen_name' : author['UserInfo']['InstagramScreenName'],\r\n",
    "                'instagram_profile_url' : author['UserInfo']['InstagramProfileUrl'],\r\n",
    "                'karma_name' : karma_name,\r\n",
    "                'karma_value' : karma_value,\r\n",
    "                'entry_count' : author['UserInfo']['EntryCounts']['Total'],\r\n",
    "                'last_entry_date' : author['UserInfo']['LastEntryDate'],\r\n",
    "                'is_corporate' : author['UserInfo']['IsCorporate'],\r\n",
    "                'is_deactivated' : author['UserInfo']['IsDeactivated'],\r\n",
    "                'is_caylak' : author['UserInfo']['IsCaylak'],\r\n",
    "                'is_cursed' : author['UserInfo']['IsCursed'],\r\n",
    "                'follower_count' : author['FollowerCount'],\r\n",
    "                'followings_count' : author['FollowingsCount'],\r\n",
    "                'picture' : author['Picture'],\r\n",
    "                'has_entry_on_seyler' : author['HasEntryUsedOnSeyler'],\r\n",
    "                'badges' :  db_badges,\r\n",
    "                'favorite_entries': '' if 'FavoriteEntries' not in author else author['FavoriteEntries'], \r\n",
    "                'favorited_entries': '' if 'FavoritedEntries' not in author else author['FavoritedEntries'],\r\n",
    "            }\r\n",
    "            write_file.write(json.dumps(new_json, ensure_ascii=False) + \"\\n\")"
   ]
  },
  {
   "cell_type": "code",
   "execution_count": 65,
   "metadata": {},
   "outputs": [],
   "source": [
    "all_badges\r\n",
    "with open('../../data/eksi_preprocessed/db_badges.json', 'w', encoding='utf-8') as write_file:\r\n",
    "    for key in all_badges.keys():\r\n",
    "        if all_badges[key] == None:\r\n",
    "            all_badges[key] = \"\"\r\n",
    "        write_file.write(json.dumps({\"Name\":key, \"Description\": all_badges[key]}, ensure_ascii=False) +\"\\n\")"
   ]
  },
  {
   "cell_type": "code",
   "execution_count": 3,
   "metadata": {},
   "outputs": [],
   "source": [
    "# special newline character -> replaces \\r\\n\r\n",
    "special_nl = 'Ƕ'"
   ]
  },
  {
   "cell_type": "code",
   "execution_count": 25,
   "metadata": {},
   "outputs": [],
   "source": [
    "with open('../../data/eksi_preprocessed/db_entries.json', 'w', encoding='utf-8') as write_file:\r\n",
    "    with open('../../data/eksi_samples/entries.json', 'r', encoding='utf-8') as read_file:\r\n",
    "        for item in read_file:\r\n",
    "            entry = json.loads(item)\r\n",
    "\r\n",
    "            if entry['CommentSummary'] and 'Content' in entry['CommentSummary']:\r\n",
    "                entry['CommentSummary']['Content'] = entry['CommentSummary']['Content'].replace('\\r','').replace(\"\\n\",special_nl)\r\n",
    "\r\n",
    "            new_json = {\r\n",
    "                \"entry_id\" : entry['Id'],\r\n",
    "                \"author_nick\" : entry['Author']['Nick'],\r\n",
    "                \"author_id\" : entry['Author']['Id'],\r\n",
    "                \"created\" : entry['Created'],\r\n",
    "                \"last_updated\" : entry['LastUpdated'],\r\n",
    "                \"is_favorite\" : entry['IsFavorite'],\r\n",
    "                \"favorite_count\" : entry['FavoriteCount'],\r\n",
    "                \"hidden\" : entry['Hidden'],\r\n",
    "                \"active\" : entry['Active'],\r\n",
    "                \"comment_count\" : entry['CommentCount'],\r\n",
    "                \"comment_summary\" : entry['CommentSummary'],\r\n",
    "                \"avatar_url\" : entry['AvatarUrl'],\r\n",
    "                \"topic_id\" : entry['TopicId'],\r\n",
    "                \"topic_title\" : entry['TopicTitle'],\r\n",
    "                \"content\" : entry['Content'].replace('\\r','').replace(\"\\n\",special_nl),\r\n",
    "            }\r\n",
    "            write_file.write(json.dumps(new_json, ensure_ascii=False) + \"\\n\")\r\n"
   ]
  },
  {
   "cell_type": "code",
   "execution_count": null,
   "metadata": {},
   "outputs": [],
   "source": []
  }
 ],
 "metadata": {
  "kernelspec": {
   "display_name": "Python 3.8.5 64-bit (conda)",
   "name": "python385jvsc74a57bd0d3ff5a1ce451dfff603f0aeb2fe958ed2741cc1700d7ef242fbe9997037b9eb5"
  },
  "language_info": {
   "codemirror_mode": {
    "name": "ipython",
    "version": 3
   },
   "file_extension": ".py",
   "mimetype": "text/x-python",
   "name": "python",
   "nbconvert_exporter": "python",
   "pygments_lexer": "ipython3",
   "version": "3.8.5"
  },
  "orig_nbformat": 2
 },
 "nbformat": 4,
 "nbformat_minor": 2
}