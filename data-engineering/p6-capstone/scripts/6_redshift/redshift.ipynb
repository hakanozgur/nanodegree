{
 "cells": [
  {
   "cell_type": "code",
   "execution_count": 1,
   "metadata": {},
   "outputs": [],
   "source": [
    "import psycopg2\r\n",
    "import json\r\n",
    "import io\r\n",
    "import csv\r\n",
    "from all_sql_queries import create_table_queries, drop_table_queries, insert_table_queries\r\n"
   ]
  },
  {
   "cell_type": "code",
   "execution_count": 2,
   "metadata": {},
   "outputs": [],
   "source": [
    "connection = psycopg2.connect(\r\n",
    "    host=\"redshift-cluster-1------------om\", \r\n",
    "    port=5439,\r\n",
    "    database=\"dev\",\r\n",
    "    user=\"awsuser\",\r\n",
    "    password=\"-------------\") # todo remove on submit"
   ]
  },
  {
   "cell_type": "code",
   "execution_count": 3,
   "metadata": {},
   "outputs": [],
   "source": [
    "cursor = connection.cursor()\r\n",
    "\r\n",
    "for query in drop_table_queries:\r\n",
    "    cursor.execute(query)\r\n",
    "    connection.commit()\r\n",
    "\r\n",
    "for query in create_table_queries:\r\n",
    "    cursor.execute(query)\r\n",
    "    connection.commit()"
   ]
  }
 ],
 "metadata": {
  "kernelspec": {
   "display_name": "Python 3.7.10 64-bit ('capstone': conda)",
   "name": "python3710jvsc74a57bd0407e9c27d0c9ec7efaa958bdf2ed052c986ab60a55ba4d9adbcf4b8da352d099"
  },
  "language_info": {
   "name": "python",
   "version": ""
  },
  "orig_nbformat": 2
 },
 "nbformat": 4,
 "nbformat_minor": 2
}