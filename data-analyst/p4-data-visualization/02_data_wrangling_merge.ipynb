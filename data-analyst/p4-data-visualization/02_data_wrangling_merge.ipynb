{
 "cells": [
  {
   "cell_type": "code",
   "execution_count": 1,
   "metadata": {},
   "outputs": [],
   "source": [
    "import pandas as pd\r\n",
    "import numpy as np\r\n",
    "import json"
   ]
  },
  {
   "cell_type": "markdown",
   "metadata": {},
   "source": [
    "# Expore datasets"
   ]
  },
  {
   "cell_type": "markdown",
   "metadata": {},
   "source": [
    "## School and Teacher Questionnaires"
   ]
  },
  {
   "cell_type": "code",
   "execution_count": 2,
   "metadata": {},
   "outputs": [],
   "source": [
    "# columns I find interesting\r\n",
    "column_lookup = {}\r\n",
    "with open(\"./data/reference/column_lookup.txt\") as text_file:\r\n",
    "    for line in text_file:\r\n",
    "        item = json.loads(line)\r\n",
    "        column_lookup[item['column']] = item['meaning']"
   ]
  },
  {
   "cell_type": "markdown",
   "metadata": {},
   "source": [
    "### Load teacher dataset"
   ]
  },
  {
   "cell_type": "code",
   "execution_count": 3,
   "metadata": {},
   "outputs": [],
   "source": [
    "df_tch = pd.read_csv(\"./data/1_processed/teacher_questionnaire.csv\")"
   ]
  },
  {
   "cell_type": "code",
   "execution_count": 4,
   "metadata": {},
   "outputs": [
    {
     "data": {
      "text/html": "<div>\n<style scoped>\n    .dataframe tbody tr th:only-of-type {\n        vertical-align: middle;\n    }\n\n    .dataframe tbody tr th {\n        vertical-align: top;\n    }\n\n    .dataframe thead th {\n        text-align: right;\n    }\n</style>\n<table border=\"1\" class=\"dataframe\">\n  <thead>\n    <tr style=\"text-align: right;\">\n      <th></th>\n      <th>CNTRYID</th>\n      <th>CNT</th>\n      <th>CNTSCHID</th>\n      <th>CNTTCHID</th>\n      <th>TEACHERID</th>\n      <th>STRATUM</th>\n      <th>TC001Q01NA</th>\n      <th>TC002Q01NA</th>\n      <th>TC005Q01NA</th>\n      <th>TC007Q01NA</th>\n      <th>...</th>\n      <th>TC198Q07HA</th>\n      <th>TC198Q08HA</th>\n      <th>TC198Q09HA</th>\n      <th>TC198Q10HA</th>\n      <th>TC186Q01HA</th>\n      <th>TCSTAFFSHORT</th>\n      <th>TCEDUSHORT</th>\n      <th>SATJOB</th>\n      <th>SATTEACH</th>\n      <th>SEFFREL</th>\n    </tr>\n  </thead>\n  <tbody>\n    <tr>\n      <th>0</th>\n      <td>8.0</td>\n      <td>ALB</td>\n      <td>800057.0</td>\n      <td>800001.0</td>\n      <td>5.0</td>\n      <td>ALB0203</td>\n      <td>1.0</td>\n      <td>40.0</td>\n      <td>1.0</td>\n      <td>10.0</td>\n      <td>...</td>\n      <td>3.0</td>\n      <td>3.0</td>\n      <td>4.0</td>\n      <td>4.0</td>\n      <td>1.0</td>\n      <td>-0.0939</td>\n      <td>0.8218</td>\n      <td>0.4224</td>\n      <td>0.3534</td>\n      <td>NaN</td>\n    </tr>\n    <tr>\n      <th>1</th>\n      <td>8.0</td>\n      <td>ALB</td>\n      <td>800121.0</td>\n      <td>800002.0</td>\n      <td>5.0</td>\n      <td>ALB0107</td>\n      <td>2.0</td>\n      <td>26.0</td>\n      <td>1.0</td>\n      <td>5.0</td>\n      <td>...</td>\n      <td>3.0</td>\n      <td>3.0</td>\n      <td>3.0</td>\n      <td>3.0</td>\n      <td>1.0</td>\n      <td>-0.1418</td>\n      <td>-0.3556</td>\n      <td>-0.4864</td>\n      <td>-1.1557</td>\n      <td>NaN</td>\n    </tr>\n    <tr>\n      <th>2</th>\n      <td>8.0</td>\n      <td>ALB</td>\n      <td>800140.0</td>\n      <td>800003.0</td>\n      <td>5.0</td>\n      <td>ALB0101</td>\n      <td>2.0</td>\n      <td>38.0</td>\n      <td>1.0</td>\n      <td>11.0</td>\n      <td>...</td>\n      <td>3.0</td>\n      <td>3.0</td>\n      <td>4.0</td>\n      <td>4.0</td>\n      <td>1.0</td>\n      <td>-1.2438</td>\n      <td>0.1843</td>\n      <td>0.9035</td>\n      <td>0.2613</td>\n      <td>NaN</td>\n    </tr>\n  </tbody>\n</table>\n<p>3 rows × 24 columns</p>\n</div>",
      "text/plain": "   CNTRYID  CNT  CNTSCHID  CNTTCHID  TEACHERID  STRATUM  TC001Q01NA  \\\n0      8.0  ALB  800057.0  800001.0        5.0  ALB0203         1.0   \n1      8.0  ALB  800121.0  800002.0        5.0  ALB0107         2.0   \n2      8.0  ALB  800140.0  800003.0        5.0  ALB0101         2.0   \n\n   TC002Q01NA  TC005Q01NA  TC007Q01NA  ...  TC198Q07HA  TC198Q08HA  \\\n0        40.0         1.0        10.0  ...         3.0         3.0   \n1        26.0         1.0         5.0  ...         3.0         3.0   \n2        38.0         1.0        11.0  ...         3.0         3.0   \n\n   TC198Q09HA  TC198Q10HA  TC186Q01HA  TCSTAFFSHORT  TCEDUSHORT  SATJOB  \\\n0         4.0         4.0         1.0       -0.0939      0.8218  0.4224   \n1         3.0         3.0         1.0       -0.1418     -0.3556 -0.4864   \n2         4.0         4.0         1.0       -1.2438      0.1843  0.9035   \n\n   SATTEACH  SEFFREL  \n0    0.3534      NaN  \n1   -1.1557      NaN  \n2    0.2613      NaN  \n\n[3 rows x 24 columns]"
     },
     "execution_count": 4,
     "metadata": {},
     "output_type": "execute_result"
    }
   ],
   "source": [
    "df_tch.head(3)"
   ]
  },
  {
   "cell_type": "code",
   "execution_count": 5,
   "metadata": {},
   "outputs": [
    {
     "data": {
      "text/plain": "(107367, 24)"
     },
     "execution_count": 5,
     "metadata": {},
     "output_type": "execute_result"
    }
   ],
   "source": [
    "df_tch.shape"
   ]
  },
  {
   "cell_type": "code",
   "execution_count": 6,
   "metadata": {},
   "outputs": [
    {
     "name": "stdout",
     "output_type": "stream",
     "text": [
      "CNTRYID      -> Country Identifier\n",
      "CNT          -> Country code 3-character\n",
      "CNTSCHID     -> Intl. School ID\n",
      "CNTTCHID     -> Intl. Teacher ID\n",
      "TEACHERID    -> Teacher identification code\n",
      "STRATUM      -> Stratum ID 7-character (cnt + region ID + original stratum ID)\n",
      "TC001Q01NA   -> Are you female or male?\n",
      "TC002Q01NA   -> How old are you?\n",
      "TC005Q01NA   -> What is your current employment status as a teacher? My employment status at this school\n",
      "TC007Q01NA   -> How many years of work experience do you have? Year(s) working as a teacher at this school\n",
      "TC198Q03HA   -> Agree: I would like to change to another school if that were possible.\n",
      "TC198Q04HA   -> Agree: I regret that I decided to become a teacher.\n",
      "TC198Q05HA   -> Agree: I enjoy working at this school.\n",
      "TC198Q06HA   -> Agree: I wonder whether it would have been better to choose another profession.\n",
      "TC198Q07HA   -> Agree: I would recommend my school as a good place to work.\n",
      "TC198Q08HA   -> Agree: I think that the teaching profession is valued in society.\n",
      "TC198Q09HA   -> Agree: I am satisfied with my performance in this school.\n",
      "TC198Q10HA   -> Agree: All in all, I am satisfied with my job.\n",
      "TC186Q01HA   -> Country of birth\n",
      "TCSTAFFSHORT -> Teacher's view on staff shortage (WLE)\n",
      "TCEDUSHORT   -> Teacher's view on educational material shortage (WLE)\n",
      "SATJOB       -> Teacher's satisfaction with the current job environment (WLE)\n",
      "SATTEACH     -> Teacher's satisfaction with teaching profession (WLE)\n",
      "SEFFREL      -> Teacher's self-efficacy in maintaining positive relations with students (WLE)\n"
     ]
    }
   ],
   "source": [
    "for column in df_tch.columns:\r\n",
    "    print('{:<12} -> {}'.format(column, column_lookup[column]))"
   ]
  },
  {
   "cell_type": "markdown",
   "metadata": {},
   "source": [
    "#### Possible insights from teacher questionnaire\r\n",
    "\r\n",
    "- teacher age average of Stratum's\r\n",
    "  - gender\r\n",
    "  - employment status\r\n",
    "  - their years in teaching\r\n",
    "- among the teachers that satisfied with their job\r\n",
    "  - how many years do they worked\r\n",
    "  - do their school have staff/material shortage\r\n",
    "\r\n",
    "#### Combined features for teacher questionnaire\r\n",
    "\r\n",
    "- for a school \r\n",
    "  - we can create a mean teacher satisfaction score\r\n",
    "  - experiance in years / age score\r\n",
    "  - [-1,1] male / female"
   ]
  },
  {
   "cell_type": "code",
   "execution_count": 7,
   "metadata": {},
   "outputs": [],
   "source": [
    "def calc_tch_satisfied(x):\r\n",
    "    total_score = 0\r\n",
    "\r\n",
    "    # negative\r\n",
    "    # TC198Q03HA   -> Agree: I would like to change to another school if that were possible.\r\n",
    "    # TC198Q04HA   -> Agree: I regret that I decided to become a teacher.\r\n",
    "    # TC198Q06HA   -> Agree: I wonder whether it would have been better to choose another profession.\r\n",
    "\r\n",
    "    # positive\r\n",
    "    # TC198Q05HA   -> Agree: I enjoy working at this school.\r\n",
    "    # TC198Q07HA   -> Agree: I would recommend my school as a good place to work.\r\n",
    "    # TC198Q08HA   -> Agree: I think that the teaching profession is valued in society.\r\n",
    "    # TC198Q09HA   -> Agree: I am satisfied with my performance in this school.\r\n",
    "    # TC198Q10HA   -> Agree: All in all, I am satisfied with my job.\r\n",
    "\r\n",
    "    # these columns all range between 1-4 (1 strongly disagree, 2 disagree, 3 agree, 4 strongly agree)\r\n",
    "    # higher the total score worst the education is effected\r\n",
    "\r\n",
    "    total_score += x.TC198Q05HA + x.TC198Q07HA + x.TC198Q08HA + x.TC198Q09HA + x.TC198Q10HA\r\n",
    "\r\n",
    "    # 3 -> agree, removed 7 and get the minus to calc positives from neg questions\r\n",
    "    # min total score you could get is 0\r\n",
    "    neg_score = 0\r\n",
    "    neg_score += (x.TC198Q03HA + x.TC198Q04HA + x.TC198Q06HA -7) * -1\r\n",
    "\r\n",
    "    return total_score + neg_score"
   ]
  },
  {
   "cell_type": "code",
   "execution_count": 8,
   "metadata": {},
   "outputs": [],
   "source": [
    "df_tch['tch_satisfied'] = df_tch.apply(lambda x: calc_tch_satisfied(x), axis=1)"
   ]
  },
  {
   "cell_type": "code",
   "execution_count": 9,
   "metadata": {},
   "outputs": [
    {
     "data": {
      "text/plain": "count    87717.000000\nmean        16.775437\nstd          3.855377\nmin          0.000000\n25%         14.000000\n50%         17.000000\n75%         20.000000\nmax         24.000000\nName: tch_satisfied, dtype: float64"
     },
     "execution_count": 9,
     "metadata": {},
     "output_type": "execute_result"
    }
   ],
   "source": [
    "df_tch['tch_satisfied'].describe()"
   ]
  },
  {
   "cell_type": "code",
   "execution_count": 10,
   "metadata": {},
   "outputs": [
    {
     "data": {
      "text/plain": "(107367, 25)"
     },
     "execution_count": 10,
     "metadata": {},
     "output_type": "execute_result"
    }
   ],
   "source": [
    "df_tch.shape"
   ]
  },
  {
   "cell_type": "code",
   "execution_count": 11,
   "metadata": {},
   "outputs": [],
   "source": [
    "tch_columns_to_keep = [\"CNT\", \"CNTRYID\",\"CNTSCHID\",\"CNTTCHID\",\"TEACHERID\",\"STRATUM\",\"TC001Q01NA\",\"TC002Q01NA\",\"TC007Q01NA\",\"TC186Q01HA\",\"TC005Q01NA\",\"tch_satisfied\"]"
   ]
  },
  {
   "cell_type": "code",
   "execution_count": 12,
   "metadata": {},
   "outputs": [
    {
     "data": {
      "text/plain": "(107367, 12)"
     },
     "execution_count": 12,
     "metadata": {},
     "output_type": "execute_result"
    }
   ],
   "source": [
    "df_tch.drop(columns=df_tch.columns.difference(tch_columns_to_keep), inplace=True)\r\n",
    "df_tch.shape"
   ]
  },
  {
   "cell_type": "code",
   "execution_count": 13,
   "metadata": {},
   "outputs": [],
   "source": [
    "df_tch.to_csv(\"./data/2_merged/teacher.csv\",index=False)"
   ]
  },
  {
   "cell_type": "markdown",
   "metadata": {},
   "source": [
    "### Load school dataset"
   ]
  },
  {
   "cell_type": "code",
   "execution_count": 14,
   "metadata": {},
   "outputs": [],
   "source": [
    "df_sch = pd.read_csv(\"./data/1_processed/school_questionnaire.csv\")"
   ]
  },
  {
   "cell_type": "code",
   "execution_count": 15,
   "metadata": {},
   "outputs": [
    {
     "data": {
      "text/plain": "(21903, 34)"
     },
     "execution_count": 15,
     "metadata": {},
     "output_type": "execute_result"
    }
   ],
   "source": [
    "df_sch.shape"
   ]
  },
  {
   "cell_type": "code",
   "execution_count": 16,
   "metadata": {},
   "outputs": [
    {
     "name": "stdout",
     "output_type": "stream",
     "text": [
      "CNTRYID      -> Country Identifier\n",
      "CNT          -> Country code 3-character\n",
      "CNTSCHID     -> Intl. School ID\n",
      "CYC          -> PISA Assessment Cycle (2 digits + 2 character Assessment type - MS/FT)\n",
      "NatCen       -> National Centre 6-digit Code\n",
      "Region       -> Region\n",
      "STRATUM      -> Stratum ID 7-character (cnt + region ID + original stratum ID)\n",
      "SC001Q01TA   -> Which of the following definitions best describes the community in which your school is located?\n",
      "SC013Q01TA   -> Is your school a public or a private school?\n",
      "SC017Q01NA   -> Schools instruction hindered by: A lack of teaching staff.\n",
      "SC017Q02NA   -> Schools instruction hindered by: Inadequate or poorly qualified teaching staff.\n",
      "SC017Q05NA   -> Schools instruction hindered by: A lack of educational material [...]\n",
      "SC017Q07NA   -> Schools instruction hindered by: A lack of physical infrastructure [...]\n",
      "SC017Q08NA   -> Schools instruction hindered by: Inadequate or poor quality physical infrastructure [...]\n",
      "SC011Q01TA   -> Which of the following statements best describes the schooling available to students in your location?\n",
      "SC061Q01TA   -> Extent to which student learning is hindered by: Student truancy\n",
      "SC061Q02TA   -> Extent to which student learning is hindered by: Students skipping classes\n",
      "SC061Q03TA   -> Extent to which student learning is hindered by: Students lacking respect for teachers\n",
      "SC061Q04TA   -> Extent to which student learning is hindered by: Student use of alcohol or illegal drugs\n",
      "SC061Q05TA   -> Extent to which student learning is hindered by: Students intimidating or bullying other students\n",
      "SC061Q11HA   -> Extent to which student learning is hindered by: Students not being attentive\n",
      "SC002Q01TA   -> As of <February 1, 2018>, what was the total school enrolment (number of students)? Number of boys\n",
      "SC002Q02TA   -> As of <February 1, 2018>, what was the total school enrolment (number of students)? Number of girls\n",
      "SC018Q01TA01 -> Teachers in TOTAL: Full-time\n",
      "SC018Q01TA02 -> Teachers in TOTAL: Part-time\n",
      "SC018Q02TA01 -> Teachers <fully certified> by <the appropriate authority>: Full-time\n",
      "SC018Q02TA02 -> Teachers <fully certified> by <the appropriate authority>: Part-time\n",
      "SC018Q05NA01 -> Teachers with an <ISCED Level 5A Bachelor degree> qualification: Full-time\n",
      "SC018Q05NA02 -> Teachers with an <ISCED Level 5A Bachelor degree> qualification: Part-time\n",
      "SC018Q06NA01 -> Teachers with an <ISCED Level 5A Masters degree> qualification: Full-time\n",
      "SC018Q06NA02 -> Teachers with an <ISCED Level 5A Masters degree> qualification: Part-time\n",
      "SC018Q07NA01 -> Teachers with an <ISCED Level 6> qualification: Full-time\n",
      "SC018Q07NA02 -> Teachers with an <ISCED Level 6> qualification: Part-time\n",
      "SC003Q01TA   -> What is the average size of <test language> classes in <national modal grade for 15-year-olds> in your school?\n"
     ]
    }
   ],
   "source": [
    "for column in df_sch.columns:\r\n",
    "    print('{:<12} -> {}'.format(column, column_lookup[column]))"
   ]
  },
  {
   "cell_type": "markdown",
   "metadata": {},
   "source": [
    "#### Possible insights from school questionnaire\r\n",
    "\r\n",
    "- effect of \r\n",
    "  - student/teacher ratio\r\n",
    "  - teacher qualifications\r\n",
    "  - school problem score vs ovrall PISA score\r\n",
    "\r\n",
    "#### Combined features for teacher questionnaire\r\n",
    "\r\n",
    "- education obstacle score (resource problem)\r\n",
    "  - by lack of equipment, staff, material, intrastructure.. (combination of 5 columns)\r\n",
    "- student centered education hinderance score (student behaviour problem)\r\n",
    "  - absent, not attentive ...\r\n",
    "- qualified(master+phd) teacher avg to schools teacher count"
   ]
  },
  {
   "cell_type": "code",
   "execution_count": 17,
   "metadata": {},
   "outputs": [],
   "source": [
    "def calc_education_obstacle(x):\r\n",
    "    total_score = 0\r\n",
    "\r\n",
    "    # SC017Q01NA   -> Schools instruction hindered by: A lack of teaching staff.\r\n",
    "    # SC017Q02NA   -> Schools instruction hindered by: Inadequate or poorly qualified teaching staff.\r\n",
    "    # SC017Q05NA   -> Schools instruction hindered by: A lack of educational material [...]\r\n",
    "    # SC017Q07NA   -> Schools instruction hindered by: A lack of physical infrastructure [...]\r\n",
    "    # SC017Q08NA   -> Schools instruction hindered by: Inadequate or poor quality physical infrastructure [...]\r\n",
    "\r\n",
    "    # these columns all range between 1-4 (1 not at all, 2 little, 3 some extend, 4 alot)\r\n",
    "    # higher the total score worst the education is effected\r\n",
    "\r\n",
    "    total_score += x.SC017Q01NA + x.SC017Q02NA + x.SC017Q05NA + x.SC017Q07NA + x.SC017Q08NA\r\n",
    "\r\n",
    "    return total_score"
   ]
  },
  {
   "cell_type": "code",
   "execution_count": 18,
   "metadata": {},
   "outputs": [],
   "source": [
    "df_sch['education_obstacle'] = df_sch.apply(lambda x: calc_education_obstacle(x), axis=1)"
   ]
  },
  {
   "cell_type": "code",
   "execution_count": 19,
   "metadata": {},
   "outputs": [
    {
     "data": {
      "text/plain": "count    20620.000000\nmean         9.825606\nstd          3.482010\nmin          5.000000\n25%          7.000000\n50%         10.000000\n75%         12.000000\nmax         20.000000\nName: education_obstacle, dtype: float64"
     },
     "execution_count": 19,
     "metadata": {},
     "output_type": "execute_result"
    }
   ],
   "source": [
    "df_sch['education_obstacle'].describe()"
   ]
  },
  {
   "cell_type": "code",
   "execution_count": 20,
   "metadata": {},
   "outputs": [],
   "source": [
    "def calc_problematic_students(x):\r\n",
    "    total_score = 0\r\n",
    "\r\n",
    "    # SC061Q01TA   -> Extent to which student learning is hindered by: Student truancy\r\n",
    "    # SC061Q02TA   -> Extent to which student learning is hindered by: Students skipping classes\r\n",
    "    # SC061Q03TA   -> Extent to which student learning is hindered by: Students lacking respect for teachers\r\n",
    "    # SC061Q04TA   -> Extent to which student learning is hindered by: Student use of alcohol or illegal drugs\r\n",
    "    # SC061Q05TA   -> Extent to which student learning is hindered by: Students intimidating or bullying other students\r\n",
    "    # SC061Q11HA   -> Extent to which student learning is hindered by: Students not being attentive\r\n",
    "\r\n",
    "    # these columns all range between 1-4 (1 not at all, 2 little, 3 some extend, 4 alot)\r\n",
    "    # higher the total score worst the student is\r\n",
    "\r\n",
    "    total_score += x.SC061Q01TA + x.SC061Q02TA + x.SC061Q03TA + x.SC061Q04TA + x.SC061Q05TA + x.SC061Q11HA\r\n",
    "\r\n",
    "    return total_score"
   ]
  },
  {
   "cell_type": "code",
   "execution_count": 21,
   "metadata": {},
   "outputs": [],
   "source": [
    "df_sch['problematic_students'] = df_sch.apply(lambda x: calc_problematic_students(x), axis=1)"
   ]
  },
  {
   "cell_type": "code",
   "execution_count": 22,
   "metadata": {},
   "outputs": [
    {
     "data": {
      "text/plain": "count    20623.000000\nmean        12.911070\nstd          3.923851\nmin          6.000000\n25%         10.000000\n50%         12.000000\n75%         15.000000\nmax         24.000000\nName: problematic_students, dtype: float64"
     },
     "execution_count": 22,
     "metadata": {},
     "output_type": "execute_result"
    }
   ],
   "source": [
    "df_sch['problematic_students'].describe()"
   ]
  },
  {
   "cell_type": "code",
   "execution_count": 23,
   "metadata": {},
   "outputs": [],
   "source": [
    "def calc_degree_score_teachers(x):\r\n",
    "    # SC018Q05NA01 -> Teachers with an <ISCED Level 5A Bachelor degree> qualification: Full-time\r\n",
    "    # SC018Q05NA02 -> Teachers with an <ISCED Level 5A Bachelor degree> qualification: Part-time\r\n",
    "    # SC018Q06NA01 -> Teachers with an <ISCED Level 5A Masters degree> qualification: Full-time\r\n",
    "    # SC018Q06NA02 -> Teachers with an <ISCED Level 5A Masters degree> qualification: Part-time\r\n",
    "    # SC018Q07NA01 -> Teachers with an <ISCED Level 6> qualification: Full-time\r\n",
    "    # SC018Q07NA02 -> Teachers with an <ISCED Level 6> qualification: Part-time\r\n",
    "    # SC018Q01TA01 -> Teachers in TOTAL: Full-time\r\n",
    "    # SC018Q01TA02 -> Teachers in TOTAL: Part-time\r\n",
    "\r\n",
    "\r\n",
    "    total_teachers = x.SC018Q01TA01 + x.SC018Q01TA02\r\n",
    "\r\n",
    "    if total_teachers == 0:\r\n",
    "        return 0\r\n",
    "        \r\n",
    "    teachers_with_degree = (x.SC018Q05NA01+ x.SC018Q05NA02) + (x.SC018Q06NA01 + x.SC018Q06NA02) + (x.SC018Q07NA01 + x.SC018Q07NA02)\r\n",
    "    # fulltime x1.5, bachelor 1, master 3, phd 6\r\n",
    "    degree_score = (x.SC018Q05NA01*1.5 + x.SC018Q05NA02) + 3*(x.SC018Q06NA01*1.5 + x.SC018Q06NA02) + 6*(x.SC018Q07NA01*1.5 + x.SC018Q07NA02)\r\n",
    "\r\n",
    "    return degree_score/total_teachers"
   ]
  },
  {
   "cell_type": "code",
   "execution_count": 24,
   "metadata": {},
   "outputs": [],
   "source": [
    "df_sch['degree_score_teachers'] = df_sch.apply(lambda x: calc_degree_score_teachers(x), axis=1)"
   ]
  },
  {
   "cell_type": "code",
   "execution_count": 25,
   "metadata": {},
   "outputs": [
    {
     "data": {
      "text/plain": "count    12836.000000\nmean         2.511260\nstd          1.493949\nmin          0.000000\n25%          1.527683\n50%          2.136364\n75%          3.600000\nmax         14.890110\nName: degree_score_teachers, dtype: float64"
     },
     "execution_count": 25,
     "metadata": {},
     "output_type": "execute_result"
    }
   ],
   "source": [
    "df_sch['degree_score_teachers'].describe()"
   ]
  },
  {
   "cell_type": "code",
   "execution_count": 26,
   "metadata": {},
   "outputs": [
    {
     "data": {
      "text/html": "<div>\n<style scoped>\n    .dataframe tbody tr th:only-of-type {\n        vertical-align: middle;\n    }\n\n    .dataframe tbody tr th {\n        vertical-align: top;\n    }\n\n    .dataframe thead th {\n        text-align: right;\n    }\n</style>\n<table border=\"1\" class=\"dataframe\">\n  <thead>\n    <tr style=\"text-align: right;\">\n      <th></th>\n      <th>CNT</th>\n      <th>SC018Q01TA01</th>\n      <th>SC018Q01TA02</th>\n      <th>SC018Q05NA01</th>\n      <th>SC018Q06NA01</th>\n      <th>SC018Q07NA01</th>\n    </tr>\n  </thead>\n  <tbody>\n    <tr>\n      <th>6966</th>\n      <td>FRA</td>\n      <td>41.0</td>\n      <td>9.0</td>\n      <td>41.0</td>\n      <td>41.0</td>\n      <td>41.0</td>\n    </tr>\n    <tr>\n      <th>10436</th>\n      <td>KAZ</td>\n      <td>24.0</td>\n      <td>4.0</td>\n      <td>24.0</td>\n      <td>24.0</td>\n      <td>24.0</td>\n    </tr>\n    <tr>\n      <th>17841</th>\n      <td>ESP</td>\n      <td>89.0</td>\n      <td>2.0</td>\n      <td>89.0</td>\n      <td>89.0</td>\n      <td>89.0</td>\n    </tr>\n    <tr>\n      <th>21833</th>\n      <td>QRT</td>\n      <td>18.0</td>\n      <td>3.0</td>\n      <td>18.0</td>\n      <td>18.0</td>\n      <td>18.0</td>\n    </tr>\n  </tbody>\n</table>\n</div>",
      "text/plain": "       CNT  SC018Q01TA01  SC018Q01TA02  SC018Q05NA01  SC018Q06NA01  \\\n6966   FRA          41.0           9.0          41.0          41.0   \n10436  KAZ          24.0           4.0          24.0          24.0   \n17841  ESP          89.0           2.0          89.0          89.0   \n21833  QRT          18.0           3.0          18.0          18.0   \n\n       SC018Q07NA01  \n6966           41.0  \n10436          24.0  \n17841          89.0  \n21833          18.0  "
     },
     "execution_count": 26,
     "metadata": {},
     "output_type": "execute_result"
    }
   ],
   "source": [
    "df_sch[df_sch.degree_score_teachers > 14][['CNT','SC018Q01TA01', 'SC018Q01TA02', 'SC018Q05NA01', 'SC018Q06NA01', 'SC018Q07NA01']]"
   ]
  },
  {
   "cell_type": "code",
   "execution_count": 27,
   "metadata": {},
   "outputs": [
    {
     "data": {
      "text/plain": "(21903, 37)"
     },
     "execution_count": 27,
     "metadata": {},
     "output_type": "execute_result"
    }
   ],
   "source": [
    "df_sch.shape"
   ]
  },
  {
   "cell_type": "code",
   "execution_count": 28,
   "metadata": {},
   "outputs": [],
   "source": [
    "sch_final_columns = [\"CNT\", \"CNTRYID\",\"CNTSCHID\",\"CYC\",\"NatCen\",\"Region\",\"STRATUM\",\"SC001Q01TA\",\"SC013Q01TA\",\"SC011Q01TA\",\"SC002Q01TA\",\"SC002Q02TA\",\"SC003Q01TA\",\"degree_score_teachers\",\"problematic_students\",\"education_obstacle\"]"
   ]
  },
  {
   "cell_type": "code",
   "execution_count": 29,
   "metadata": {},
   "outputs": [
    {
     "data": {
      "text/plain": "(21903, 16)"
     },
     "execution_count": 29,
     "metadata": {},
     "output_type": "execute_result"
    }
   ],
   "source": [
    "df_sch.drop(columns=df_sch.columns.difference(sch_final_columns), inplace=True)\r\n",
    "df_sch.shape"
   ]
  },
  {
   "cell_type": "code",
   "execution_count": 30,
   "metadata": {},
   "outputs": [],
   "source": [
    "df_sch.to_csv(\"./data/2_merged/school.csv\",index=False)"
   ]
  },
  {
   "cell_type": "markdown",
   "metadata": {},
   "source": [
    "## Student cognitive tasks\r\n",
    "- includes reading, math and science\r\n",
    "- some questions has option to give partial credit\r\n",
    "- merged into the student csv"
   ]
  },
  {
   "cell_type": "code",
   "execution_count": 31,
   "metadata": {},
   "outputs": [],
   "source": [
    "df_cog = pd.read_csv(\"./data/1_processed/cognitive_scores.csv\")"
   ]
  },
  {
   "cell_type": "code",
   "execution_count": 32,
   "metadata": {},
   "outputs": [
    {
     "data": {
      "text/html": "<div>\n<style scoped>\n    .dataframe tbody tr th:only-of-type {\n        vertical-align: middle;\n    }\n\n    .dataframe tbody tr th {\n        vertical-align: top;\n    }\n\n    .dataframe thead th {\n        text-align: right;\n    }\n</style>\n<table border=\"1\" class=\"dataframe\">\n  <thead>\n    <tr style=\"text-align: right;\">\n      <th></th>\n      <th>CNTRYID</th>\n      <th>CNT</th>\n      <th>CNTSCHID</th>\n      <th>CNTSTUID</th>\n      <th>STRATUM</th>\n      <th>LANGTEST_COG</th>\n      <th>RCORE_PERF</th>\n      <th>RCO1S_PERF</th>\n      <th>math_score</th>\n      <th>math_answered</th>\n      <th>reading_score</th>\n      <th>reading_answered</th>\n      <th>science_score</th>\n      <th>science_answered</th>\n    </tr>\n  </thead>\n  <tbody>\n    <tr>\n      <th>0</th>\n      <td>8.0</td>\n      <td>ALB</td>\n      <td>800115.0</td>\n      <td>800001.0</td>\n      <td>ALB0107</td>\n      <td>140.0</td>\n      <td>1.0</td>\n      <td>1.0</td>\n      <td>100.0</td>\n      <td>22.0</td>\n      <td>320.0</td>\n      <td>52.0</td>\n      <td>0.0</td>\n      <td>0.0</td>\n    </tr>\n    <tr>\n      <th>1</th>\n      <td>8.0</td>\n      <td>ALB</td>\n      <td>800300.0</td>\n      <td>800002.0</td>\n      <td>ALB0105</td>\n      <td>140.0</td>\n      <td>1.0</td>\n      <td>1.0</td>\n      <td>40.0</td>\n      <td>23.0</td>\n      <td>270.0</td>\n      <td>53.0</td>\n      <td>0.0</td>\n      <td>0.0</td>\n    </tr>\n    <tr>\n      <th>2</th>\n      <td>8.0</td>\n      <td>ALB</td>\n      <td>800088.0</td>\n      <td>800003.0</td>\n      <td>ALB0101</td>\n      <td>140.0</td>\n      <td>2.0</td>\n      <td>2.0</td>\n      <td>0.0</td>\n      <td>0.0</td>\n      <td>250.0</td>\n      <td>52.0</td>\n      <td>80.0</td>\n      <td>34.0</td>\n    </tr>\n  </tbody>\n</table>\n</div>",
      "text/plain": "   CNTRYID  CNT  CNTSCHID  CNTSTUID  STRATUM  LANGTEST_COG  RCORE_PERF  \\\n0      8.0  ALB  800115.0  800001.0  ALB0107         140.0         1.0   \n1      8.0  ALB  800300.0  800002.0  ALB0105         140.0         1.0   \n2      8.0  ALB  800088.0  800003.0  ALB0101         140.0         2.0   \n\n   RCO1S_PERF  math_score  math_answered  reading_score  reading_answered  \\\n0         1.0       100.0           22.0          320.0              52.0   \n1         1.0        40.0           23.0          270.0              53.0   \n2         2.0         0.0            0.0          250.0              52.0   \n\n   science_score  science_answered  \n0            0.0               0.0  \n1            0.0               0.0  \n2           80.0              34.0  "
     },
     "execution_count": 32,
     "metadata": {},
     "output_type": "execute_result"
    }
   ],
   "source": [
    "df_cog.head(3)"
   ]
  },
  {
   "cell_type": "markdown",
   "metadata": {},
   "source": [
    "## Student Questionnaire\r\n",
    "- also includes financial questionnaire\r\n",
    "- original dataset is filtered for only columns I wanted to work with"
   ]
  },
  {
   "cell_type": "code",
   "execution_count": 33,
   "metadata": {},
   "outputs": [],
   "source": [
    "df_std = pd.read_csv(\"./data/1_processed/student_questionnaire.csv\")"
   ]
  },
  {
   "cell_type": "code",
   "execution_count": 34,
   "metadata": {},
   "outputs": [
    {
     "data": {
      "text/plain": "(612004, 215)"
     },
     "execution_count": 34,
     "metadata": {},
     "output_type": "execute_result"
    }
   ],
   "source": [
    "# Merge student questionnaire with cognative task dataframe above\r\n",
    "merge_on_common_cols = ['CNT','CNTRYID', 'CNTSCHID', 'CNTSTUID', 'STRATUM']\r\n",
    "df_student = df_std.merge(df_cog, left_on=merge_on_common_cols, right_on=merge_on_common_cols, how='outer')\r\n",
    "df_student.shape"
   ]
  },
  {
   "cell_type": "code",
   "execution_count": 35,
   "metadata": {},
   "outputs": [
    {
     "name": "stdout",
     "output_type": "stream",
     "text": [
      "CNTRYID      -> Country Identifier\n",
      "CNT          -> Country code 3-character\n",
      "CNTSCHID     -> Intl. School ID\n",
      "CNTSTUID     -> Intl. Student ID\n",
      "STRATUM      -> Stratum ID 7-character (cnt + region ID + original stratum ID)\n",
      "OECD         -> OECD country\n",
      "LANGTEST_QQQ -> Language of Questionnaire\n",
      "ST001D01T    -> Student International Grade (Derived)\n",
      "ST003D02T    -> Student (Standardized) Birth - Month\n",
      "ST003D03T    -> Student (Standardized) Birth -Year\n",
      "ST004D01T    -> Student (Standardized) Gender\n",
      "ST005Q01TA   -> What is the <highest level of schooling> completed by your mother?\n",
      "ST006Q01TA   -> Does your mother have this qualification? <ISCED level 6> (incl. higher qualifications at level 5A in some countries)\n",
      "ST006Q02TA   -> Does your mother have this qualification? <ISCED level 5A> (excl. higher qualifications at level 5A in some countries)\n",
      "ST006Q03TA   -> Does your mother have any of the following qualifications? <ISCED level 5B>\n",
      "ST006Q04TA   -> Does your mother have any of the following qualifications? <ISCED level 4>\n",
      "ST007Q01TA   -> What is the <highest level of schooling> completed by your father?\n",
      "ST008Q01TA   -> Does your father have this qualification? <ISCED level 6> (incl. higher qualifications at level 5A in some countries)\n",
      "ST008Q02TA   -> Does your father have this qualification? <ISCED level 5A> (excl. higher qualifications at level 5A in some countries)\n",
      "ST008Q03TA   -> Does your father have any of the following qualifications? <ISCED level 5B>\n",
      "ST008Q04TA   -> Does your father have any of the following qualifications? <ISCED level 4>\n",
      "ST011Q02TA   -> In your home: A room of your own\n",
      "ST011Q03TA   -> In your home: A quiet place to study\n",
      "ST011Q07TA   -> In your home: Classic literature (e.g. <Shakespeare>)\n",
      "ST011Q08TA   -> In your home: Books of poetry\n",
      "ST011Q09TA   -> In your home: Works of art (e.g. paintings)\n",
      "ST011Q16NA   -> In your home: Books on art, music, or design\n",
      "ST012Q01TA   -> How many in your home: Televisions\n",
      "ST012Q02TA   -> How many in your home: Cars\n",
      "ST012Q03TA   -> How many in your home: Rooms with a bath or shower\n",
      "ST012Q08NA   -> How many in your home: E-book readers (e.g. <Kindle>, <Kobo>, <Bookeen>)\n",
      "ST012Q09NA   -> How many in your home: Musical instruments (e.g. guitar, piano)\n",
      "ST013Q01TA   -> How many books are there in your home?\n",
      "ST019AQ01T   -> In what country were you and your parents born? You\n",
      "ST019BQ01T   -> In what country were you and your parents born? Mother\n",
      "ST019CQ01T   -> In what country were you and your parents born? Father\n",
      "ST021Q01TA   -> How old were you when you arrived in <country of test>?\n",
      "ST127Q01TA   -> Have you ever repeated a <grade>? At <ISCED 1>\n",
      "ST127Q02TA   -> Have you ever repeated a <grade>? At <ISCED 2>\n",
      "ST127Q03TA   -> Have you ever repeated a <grade>? At <ISCED 3>\n",
      "ST097Q01TA   -> How often during <test language lessons>: Students dont listen to what the teacher says.\n",
      "ST097Q02TA   -> How often during <test language lessons>: There is noise and disorder.\n",
      "ST097Q03TA   -> How often during <test language lessons>: The teacher waits long for students to quiet down.\n",
      "ST097Q04TA   -> How often during <test language lessons>: Students cannot work well.\n",
      "ST097Q05TA   -> How often during <test language lessons>: Students dont start working for a long time after the lesson begins.\n",
      "ST102Q03TA   -> How often during <test language lessons>: [...] the teacher presents a short summary of the previous lesson.\n",
      "ST213Q01HA   -> Thinking of past two <test language lessons>: It was clear to me that the teacher liked teaching us.\n",
      "ST213Q02HA   -> Thinking of past two <test language lessons>: The enthusiasm of the teacher inspired me.\n",
      "ST213Q03HA   -> Thinking of past two <test language lessons>: It was clear that the teacher likes to deal with the topic of the lesson.\n",
      "ST213Q04HA   -> Thinking of past two <test language lessons>: The teacher showed enjoyment in teaching.\n",
      "ST154Q01HA   -> <this academic year>, how many pages was the longest piece of text you had to read for your <test language lessons>?\n",
      "ST153Q03HA   -> When you have to read, does the teacher ask you to: Discuss in small groups with other students who read the same [...]\n",
      "ST153Q09HA   -> When you have to read, does the teacher ask you to: Select a passage you liked or disliked and explain why\n",
      "ST160Q02IA   -> How much do you agree or disagree? Reading is one of my favourite hobbies.\n",
      "ST160Q04IA   -> How much do you agree or disagree? For me, reading is a waste of time.\n",
      "ST160Q05IA   -> How much do you agree or disagree? I read only to get information that I need.\n",
      "ST168Q01HA   -> Which of the following statements best describes how you read books (on any topic)?\n",
      "ST175Q01IA   -> About how much time do you usually spend reading for enjoyment?\n",
      "ST161Q02HA   -> Agree: I am able to understand difficult texts.\n",
      "ST161Q06HA   -> Agree: I have always had difficulty with reading.\n",
      "ST161Q07HA   -> Agree: I have to read a text several times before completely understanding it.\n",
      "ST163Q02HA   -> In the PISA test, how do you feel about the reading tasks: There were many words I could not understand.\n",
      "ST163Q03HA   -> In the PISA test, how do you feel about the reading tasks: Many texts were too difficult for me.\n",
      "ST016Q01NA   -> Overall, how satisfied are you with your life as a whole these days?\n",
      "ST225Q01HA   -> Do you expect to complete? <ISCED level 2>\n",
      "ST225Q02HA   -> Do you expect to complete? <ISCED level 3B or C>\n",
      "ST225Q03HA   -> Do you expect to complete? <ISCED level 3A>\n",
      "ST225Q04HA   -> Do you expect to complete? <ISCED level 4>\n",
      "ST225Q05HA   -> Do you expect to complete? <ISCED level 5B>\n",
      "ST225Q06HA   -> Do you expect to complete? <ISCED level 5A or 6>\n",
      "ST183Q01HA   -> Agree: When I am failing, I worry about what others think of me.\n",
      "ST183Q02HA   -> Agree: When I am failing, I am afraid that I might not have enough talent.\n",
      "ST183Q03HA   -> Agree: When I am failing, this makes me doubt my plans for the future.\n",
      "ST184Q01HA   -> Agree: Your intelligence is something about you that you cant change very much.\n",
      "ST185Q01HA   -> Agree: My life has clear meaning or purpose.\n",
      "ST185Q02HA   -> Agree: I have discovered a satisfactory meaning in life.\n",
      "ST185Q03HA   -> Agree: I have a clear sense of what gives meaning to my life.\n",
      "ST186Q05HA   -> Thinking about yourself and how you normally feel: how often do you feel as described below? Happy\n",
      "ST186Q06HA   -> Thinking about yourself and how you normally feel: how often do you feel as described below? Scared\n",
      "ST186Q07HA   -> Thinking about yourself and how you normally feel: how often do you feel as described below? Lively\n",
      "ST186Q10HA   -> Thinking about yourself and how you normally feel: how often do you feel as described below? Miserable\n",
      "ST186Q09HA   -> Thinking about yourself and how you normally feel: how often do you feel as described below? Proud\n",
      "ST186Q02HA   -> Thinking about yourself and how you normally feel: how often do you feel as described below? Afraid\n",
      "ST186Q01HA   -> Thinking about yourself and how you normally feel: how often do you feel as described below? Joyful\n",
      "ST186Q08HA   -> Thinking about yourself and how you normally feel: how often do you feel as described below? Sad\n",
      "ST186Q03HA   -> Thinking about yourself and how you normally feel: how often do you feel as described below? Cheerful\n",
      "ST034Q02TA   -> Thinking about your school: I make friends easily at school.\n",
      "ST034Q03TA   -> Thinking about your school: I feel like I belong at school.\n",
      "ST034Q04TA   -> Thinking about your school: I feel awkward and out of place in my school.\n",
      "ST034Q05TA   -> Thinking about your school: Other students seem to like me.\n",
      "ST034Q06TA   -> Thinking about your school: I feel lonely at school.\n",
      "ST214Q03HA   -> How well does the following describe you: I am interested in how people from various cultures see the world.\n",
      "ST214Q06HA   -> How well does the following describe you: I am interested in finding out about the traditions of other cultures.\n",
      "ST177Q01HA   -> How many languages [...] do you and your parents speak well enough to converse with others? You\n",
      "ST177Q02HA   -> How many languages [...] do you and your parents speak well enough to converse with others? Your mother\n",
      "ST177Q03HA   -> How many languages [...] do you and your parents speak well enough to converse with others? Your father\n",
      "ST223Q04HA   -> Teachers in your school: They say negative things about people of some cultural groups.\n",
      "ST223Q05HA   -> Teachers inyour school: They blame people of some cultural groups for problems faced by <country of test>.\n",
      "ST062Q01TA   -> In the last two full weeks of school, how often: I <skipped> a whole school day.\n",
      "ST062Q02TA   -> In the last two full weeks of school, how often: I <skipped> some classes.\n",
      "ST062Q03TA   -> In the last two full weeks of school, how often: I arrived late for school.\n",
      "ST038Q03NA   -> During the past 12 months, how often: Other students left me out of things on purpose.\n",
      "ST038Q04NA   -> During the past 12 months, how often: Other students made fun of me.\n",
      "ST038Q05NA   -> During the past 12 months, how often: I was threatened by other students.\n",
      "ST038Q07NA   -> During the past 12 months, how often: I got hit or pushed around by other students.\n",
      "ST038Q08NA   -> During the past 12 months, how often: Other students spread nasty rumours about me.\n",
      "IC001Q01TA   -> Available for you to use at home: Desktop computer\n",
      "IC001Q02TA   -> Available for you to use at home: Portable laptop, or notebook\n",
      "IC004Q01HA   -> How old were you when you first accessed the Internet?\n",
      "PA042Q01TA   -> What is your annual household income?\n",
      "OCOD1        -> ISCO-08 Occupation code - Mother\n",
      "OCOD2        -> ISCO-08 Occupation code - Father\n",
      "ESCS         -> Index of economic, social and cultural status\n",
      "WEALTH       -> Wealth\n",
      "W_FSTUWT     -> Final trimmed nonresponse adjusted student weight\n",
      "PV1MATH      -> Plausible Value 1 in Mathematics\n",
      "PV2MATH      -> Plausible Value 2 in Mathematics\n",
      "PV3MATH      -> Plausible Value 3 in Mathematics\n",
      "PV4MATH      -> Plausible Value 4 in Mathematics\n",
      "PV5MATH      -> Plausible Value 5 in Mathematics\n",
      "PV6MATH      -> Plausible Value 6 in Mathematics\n",
      "PV7MATH      -> Plausible Value 7 in Mathematics\n",
      "PV8MATH      -> Plausible Value 8 in Mathematics\n",
      "PV9MATH      -> Plausible Value 9 in Mathematics\n",
      "PV10MATH     -> Plausible Value 10 in Mathematics\n",
      "PV1READ      -> Plausible Value 1 in Reading\n",
      "PV2READ      -> Plausible Value 2 in Reading\n",
      "PV3READ      -> Plausible Value 3 in Reading\n",
      "PV4READ      -> Plausible Value 4 in Reading\n",
      "PV5READ      -> Plausible Value 5 in Reading\n",
      "PV6READ      -> Plausible Value 6 in Reading\n",
      "PV7READ      -> Plausible Value 7 in Reading\n",
      "PV8READ      -> Plausible Value 8 in Reading\n",
      "PV9READ      -> Plausible Value 9 in Reading\n",
      "PV10READ     -> Plausible Value 10 in Reading\n",
      "PV1SCIE      -> Plausible Value 1 in Science\n",
      "PV2SCIE      -> Plausible Value 2 in Science\n",
      "PV3SCIE      -> Plausible Value 3 in Science\n",
      "PV4SCIE      -> Plausible Value 4 in Science\n",
      "PV5SCIE      -> Plausible Value 5 in Science\n",
      "PV6SCIE      -> Plausible Value 6 in Science\n",
      "PV7SCIE      -> Plausible Value 7 in Science\n",
      "PV8SCIE      -> Plausible Value 8 in Science\n",
      "PV9SCIE      -> Plausible Value 9 in Science\n",
      "PV10SCIE     -> Plausible Value 10 in Science\n",
      "PV1GLCM      -> Plausible Value 1 in Global Competency\n",
      "PV2GLCM      -> Plausible Value 2 in Global Competency\n",
      "PV3GLCM      -> Plausible Value 3 in Global Competency\n",
      "PV4GLCM      -> Plausible Value 4 in Global Competency\n",
      "PV5GLCM      -> Plausible Value 5 in Global Competency\n",
      "PV6GLCM      -> Plausible Value 6 in Global Competency\n",
      "PV7GLCM      -> Plausible Value 7 in Global Competency\n",
      "PV8GLCM      -> Plausible Value 8 in Global Competency\n",
      "PV9GLCM      -> Plausible Value 9 in Global Competency\n",
      "PV10GLCM     -> Plausible Value 10 in Global Competency\n",
      "PV1RCLI      -> Plausible Value 1 in Cognitive Process Subscale of Reading - Locate Information\n",
      "PV2RCLI      -> Plausible Value 2 in Cognitive Process Subscale of Reading - Locate Information\n",
      "PV3RCLI      -> Plausible Value 3 in Cognitive Process Subscale of Reading - Locate Information\n",
      "PV4RCLI      -> Plausible Value 4 in Cognitive Process Subscale of Reading - Locate Information\n",
      "PV5RCLI      -> Plausible Value 5 in Cognitive Process Subscale of Reading - Locate Information\n",
      "PV6RCLI      -> Plausible Value 6 in Cognitive Process Subscale of Reading - Locate Information\n",
      "PV7RCLI      -> Plausible Value 7 in Cognitive Process Subscale of Reading - Locate Information\n",
      "PV8RCLI      -> Plausible Value 8 in Cognitive Process Subscale of Reading - Locate Information\n",
      "PV9RCLI      -> Plausible Value 9 in Cognitive Process Subscale of Reading - Locate Information\n",
      "PV10RCLI     -> Plausible Value 10 in Cognitive Process Subscale of Reading - Locate Information\n",
      "PV1RCUN      -> Plausible Value 1 in Cognitive Process Subscale of Reading - Understand\n",
      "PV2RCUN      -> Plausible Value 2 in Cognitive Process Subscale of Reading - Understand\n",
      "PV3RCUN      -> Plausible Value 3 in Cognitive Process Subscale of Reading - Understand\n",
      "PV4RCUN      -> Plausible Value 4 in Cognitive Process Subscale of Reading - Understand\n",
      "PV5RCUN      -> Plausible Value 5 in Cognitive Process Subscale of Reading - Understand\n",
      "PV6RCUN      -> Plausible Value 6 in Cognitive Process Subscale of Reading - Understand\n",
      "PV7RCUN      -> Plausible Value 7 in Cognitive Process Subscale of Reading - Understand\n",
      "PV8RCUN      -> Plausible Value 8 in Cognitive Process Subscale of Reading - Understand\n",
      "PV9RCUN      -> Plausible Value 9 in Cognitive Process Subscale of Reading - Understand\n",
      "PV10RCUN     -> Plausible Value 10 in Cognitive Process Subscale of Reading - Understand\n",
      "PV1RCER      -> Plausible Value 1 in Cognitive Process Subscale of Reading - Evaluate and Reflect\n",
      "PV2RCER      -> Plausible Value 2 in Cognitive Process Subscale of Reading - Evaluate and Reflect\n",
      "PV3RCER      -> Plausible Value 3 in Cognitive Process Subscale of Reading - Evaluate and Reflect\n",
      "PV4RCER      -> Plausible Value 4 in Cognitive Process Subscale of Reading - Evaluate and Reflect\n",
      "PV5RCER      -> Plausible Value 5 in Cognitive Process Subscale of Reading - Evaluate and Reflect\n",
      "PV6RCER      -> Plausible Value 6 in Cognitive Process Subscale of Reading - Evaluate and Reflect\n",
      "PV7RCER      -> Plausible Value 7 in Cognitive Process Subscale of Reading - Evaluate and Reflect\n",
      "PV8RCER      -> Plausible Value 8 in Cognitive Process Subscale of Reading - Evaluate and Reflect\n",
      "PV9RCER      -> Plausible Value 9 in Cognitive Process Subscale of Reading - Evaluate and Reflect\n",
      "PV10RCER     -> Plausible Value 10 in Cognitive Process Subscale of Reading - Evaluate and Reflect\n",
      "PV1RTSN      -> Plausible Value 1 in Text Structure Subscale of Reading - Single\n",
      "PV2RTSN      -> Plausible Value 2 in Text Structure Subscale of Reading - Single\n",
      "PV3RTSN      -> Plausible Value 3 in Text Structure Subscale of Reading - Single\n",
      "PV4RTSN      -> Plausible Value 4 in Text Structure Subscale of Reading - Single\n",
      "PV5RTSN      -> Plausible Value 5 in Text Structure Subscale of Reading - Single\n",
      "PV6RTSN      -> Plausible Value 6 in Text Structure Subscale of Reading - Single\n",
      "PV7RTSN      -> Plausible Value 7 in Text Structure Subscale of Reading - Single\n",
      "PV8RTSN      -> Plausible Value 8 in Text Structure Subscale of Reading - Single\n",
      "PV9RTSN      -> Plausible Value 9 in Text Structure Subscale of Reading - Single\n",
      "PV10RTSN     -> Plausible Value 10 in Text Structure Subscale of Reading - Single\n",
      "PV1RTML      -> Plausible Value 1 in Text Structure Subscale of Reading - Multiple\n",
      "PV2RTML      -> Plausible Value 2 in Text Structure Subscale of Reading - Multiple\n",
      "PV3RTML      -> Plausible Value 3 in Text Structure Subscale of Reading - Multiple\n",
      "PV4RTML      -> Plausible Value 4 in Text Structure Subscale of Reading - Multiple\n",
      "PV5RTML      -> Plausible Value 5 in Text Structure Subscale of Reading - Multiple\n",
      "PV6RTML      -> Plausible Value 6 in Text Structure Subscale of Reading - Multiple\n",
      "PV7RTML      -> Plausible Value 7 in Text Structure Subscale of Reading - Multiple\n",
      "PV8RTML      -> Plausible Value 8 in Text Structure Subscale of Reading - Multiple\n",
      "PV9RTML      -> Plausible Value 9 in Text Structure Subscale of Reading - Multiple\n",
      "PV10RTML     -> Plausible Value 10 in Text Structure Subscale of Reading - Multiple\n",
      "SENWT        -> Senate Weight (sum of 5000 per country)\n",
      "LANGTEST_COG -> Language of Assessment\n",
      "RCORE_PERF   -> Reading Adaptive Performance: Core\n",
      "RCO1S_PERF   -> Reading Adaptive Performance:  Core + First Stage\n",
      "math_score   -> NEW: custom calcualated math score\n",
      "math_answered -> NEW: number of math questions answered\n",
      "reading_score -> NEW: custom calcualated reading score\n",
      "reading_answered -> NEW: number of reading questions answered\n",
      "science_score -> NEW:custom calcualated science score\n",
      "science_answered -> NEW: number of science questions answered\n"
     ]
    }
   ],
   "source": [
    "for column in df_student.columns:\r\n",
    "    if column in column_lookup:\r\n",
    "        print('{:<12} -> {}'.format(column, column_lookup[column]))\r\n",
    "    else:\r\n",
    "        print(column)"
   ]
  },
  {
   "cell_type": "markdown",
   "metadata": {},
   "source": [
    "### Combining, merging and reshaping"
   ]
  },
  {
   "cell_type": "markdown",
   "metadata": {},
   "source": [
    "- Using my intuition, I would like to combine some of the columns in the `df_student` dataframe.\r\n",
    "- Coefficient of each column in the combination will be arbitrary"
   ]
  },
  {
   "cell_type": "code",
   "execution_count": 36,
   "metadata": {},
   "outputs": [],
   "source": [
    "df_sample = df_student.sample(3000)"
   ]
  },
  {
   "cell_type": "markdown",
   "metadata": {},
   "source": [
    "#### column: home_art (high means more)\r\n",
    "\r\n"
   ]
  },
  {
   "cell_type": "code",
   "execution_count": 37,
   "metadata": {},
   "outputs": [],
   "source": [
    "def calc_home_art(x):\r\n",
    "    total_score = 0\r\n",
    "\r\n",
    "    # ST013Q01TA -> How many books are there in your home?  6 -> +3,  5 -> +2,  4 -> +1  \r\n",
    "    if(x.ST013Q01TA == 6):\r\n",
    "        total_score += 3\r\n",
    "    if (x.ST013Q01TA == 5):\r\n",
    "        total_score += 2\r\n",
    "    if (x.ST013Q01TA == 4):\r\n",
    "        total_score += 1\r\n",
    "\r\n",
    "    # ST012Q09NA   -> How many in your home: Musical instruments (e.g. guitar, piano) 4 -> +2, 3 -> +1  \r\n",
    "    if (x.ST012Q09NA == 4):\r\n",
    "        total_score += 2\r\n",
    "    if(x.ST012Q09NA == 3):\r\n",
    "        total_score += 1\r\n",
    "\r\n",
    "    # ST011Q07TA   -> In your home: Classic literature (e.g. <Shakespeare>) 1 -> +1 \r\n",
    "    # ST011Q08TA   -> In your home: Books of poetry 1 -> +1  \r\n",
    "    # ST011Q09TA   -> In your home: Works of art (e.g. paintings) 1 -> +1  \r\n",
    "    # ST011Q16NA   -> In your home: Books on art, music, or design 1 -> +1  \r\n",
    "    if (x.ST011Q07TA == 1):\r\n",
    "        total_score += 1\r\n",
    "    if (x.ST011Q08TA == 1):\r\n",
    "        total_score += 1\r\n",
    "    if (x.ST011Q09TA == 1):\r\n",
    "        total_score += 1\r\n",
    "    if (x.ST011Q16NA == 1):\r\n",
    "        total_score += 1\r\n",
    "    \r\n",
    "    return total_score"
   ]
  },
  {
   "cell_type": "code",
   "execution_count": 38,
   "metadata": {},
   "outputs": [],
   "source": [
    "df_sample['home_art'] = df_sample.apply(lambda x: calc_home_art(x), axis=1)"
   ]
  },
  {
   "cell_type": "code",
   "execution_count": 39,
   "metadata": {},
   "outputs": [
    {
     "data": {
      "text/plain": "2    509\n1    447\n0    443\n3    439\n4    401\n5    262\n6    203\n7    152\n8     98\n9     46\nName: home_art, dtype: int64"
     },
     "execution_count": 39,
     "metadata": {},
     "output_type": "execute_result"
    }
   ],
   "source": [
    "df_sample['home_art'].value_counts()"
   ]
  },
  {
   "cell_type": "markdown",
   "metadata": {},
   "source": [
    "#### column: bad_home_conditions (higher the worst)\r\n"
   ]
  },
  {
   "cell_type": "code",
   "execution_count": 40,
   "metadata": {},
   "outputs": [],
   "source": [
    "def calc_bad_home_conditions(x):\r\n",
    "    total_score = 0\r\n",
    "\r\n",
    "    # ST011Q02TA   -> In your home: A room of your own -> 2 (no) +1  \r\n",
    "    if(x.ST011Q02TA == 2):\r\n",
    "        total_score += 1\r\n",
    "\r\n",
    "    # ST011Q03TA   -> In your home: A quiet place to study -> 2 (no) +2  \r\n",
    "    if (x.ST011Q03TA == 2):\r\n",
    "        total_score += 2\r\n",
    "\r\n",
    "    # ST012Q03TA   -> How many in your home: Rooms with a bath or shower -> 1 (none) -> +2  \r\n",
    "    if (x.ST012Q03TA == 1):\r\n",
    "        total_score += 2\r\n",
    "\r\n",
    "    # IC001Q01TA   -> Available for you to use at home: Desktop computer -> 3 (no) -> +1  \r\n",
    "    if (x.IC001Q01TA == 3):\r\n",
    "        total_score += 1\r\n",
    "    \r\n",
    "    # IC001Q02TA   -> Available for you to use at home: Portable laptop, or notebook -> 3 (no) -> +1  \r\n",
    "    if (x.IC001Q02TA == 3):\r\n",
    "        total_score += 1\r\n",
    "    \r\n",
    "    return total_score"
   ]
  },
  {
   "cell_type": "code",
   "execution_count": 41,
   "metadata": {},
   "outputs": [],
   "source": [
    "df_sample['bad_home_conditions'] = df_sample.apply(lambda x: calc_bad_home_conditions(x), axis=1)"
   ]
  },
  {
   "cell_type": "code",
   "execution_count": 42,
   "metadata": {},
   "outputs": [
    {
     "data": {
      "text/plain": "0    1767\n1     603\n2     304\n3     188\n4      78\n5      42\n7      11\n6       7\nName: bad_home_conditions, dtype: int64"
     },
     "execution_count": 42,
     "metadata": {},
     "output_type": "execute_result"
    }
   ],
   "source": [
    "df_sample['bad_home_conditions'].value_counts()"
   ]
  },
  {
   "cell_type": "markdown",
   "metadata": {},
   "source": [
    "#### column: school_bad_time (higher the score worse the student feels at school)"
   ]
  },
  {
   "cell_type": "code",
   "execution_count": 43,
   "metadata": {},
   "outputs": [],
   "source": [
    "def calc_school_bad_time(x):\r\n",
    "    total_score = 0\r\n",
    "    \r\n",
    "    # ST038Q03NA   -> During the past 12 months, how often: Other students left me out of things on purpose.  3 -> +1 , 4 -> +2  \r\n",
    "    if(x.ST038Q03NA == 3):\r\n",
    "        total_score += 1\r\n",
    "    if(x.ST038Q03NA == 4):\r\n",
    "        total_score += 2\r\n",
    "\r\n",
    "    # ST034Q06TA   -> Thinking about your school: I feel lonely at school. 1-> +1  \r\n",
    "    if(x.ST034Q06TA == 1):\r\n",
    "        total_score += 1\r\n",
    "\r\n",
    "    # ST034Q05TA   -> Thinking about your school: Other students seem to like me. 4-> +2  \r\n",
    "    if(x.ST034Q05TA == 4):\r\n",
    "        total_score += 2\r\n",
    "\r\n",
    "    # ST034Q04TA   -> Thinking about your school: I feel awkward and out of place in my school. 1-> +1  \r\n",
    "    if(x.ST034Q04TA == 1):\r\n",
    "        total_score += 1\r\n",
    "\r\n",
    "    # ST034Q03TA   -> Thinking about your school: I feel like I belong at school. 4-> +1  \r\n",
    "    if(x.ST034Q03TA == 4):\r\n",
    "        total_score += 1\r\n",
    "\r\n",
    "    # ST034Q02TA   -> Thinking about your school: I make friends easily at school. 4-> +1  \r\n",
    "    if(x.ST034Q02TA == 4):\r\n",
    "        total_score += 1\r\n",
    "\r\n",
    "    # ST038Q08NA   -> During the past 12 months, how often: Other students spread nasty rumours about me. 3 -> +1 , 4 -> +2  \r\n",
    "    if(x.ST038Q08NA == 3):\r\n",
    "        total_score += 1\r\n",
    "    if(x.ST038Q08NA == 4):\r\n",
    "        total_score += 2\r\n",
    "\r\n",
    "    # ST038Q07NA   -> During the past 12 months, how often: I got hit or pushed around by other students. 2-> +2, 3 -> +3 , 4 -> +4  \r\n",
    "    if(x.ST038Q07NA == 2):\r\n",
    "        total_score += 2\r\n",
    "    if(x.ST038Q07NA == 3):\r\n",
    "        total_score += 3\r\n",
    "    if(x.ST038Q07NA == 4):\r\n",
    "        total_score += 4\r\n",
    "\r\n",
    "    # ST038Q05NA   -> During the past 12 months, how often: I was threatened by other students.  3 -> +2 , 4 -> +3  \r\n",
    "    if(x.ST038Q05NA == 3):\r\n",
    "        total_score += 2\r\n",
    "    if(x.ST038Q07NA == 4):\r\n",
    "        total_score += 3\r\n",
    "\r\n",
    "    # ST038Q04NA   -> During the past 12 months, how often: Other students made fun of me. 3 -> +1 , 4 -> +2  \r\n",
    "    if(x.ST038Q04NA == 3):\r\n",
    "        total_score += 1\r\n",
    "    if(x.ST038Q04NA == 4):\r\n",
    "        total_score += 2\r\n",
    "    \r\n",
    "    return total_score\r\n"
   ]
  },
  {
   "cell_type": "code",
   "execution_count": 44,
   "metadata": {},
   "outputs": [],
   "source": [
    "df_sample['school_bad_time'] = df_sample.apply(lambda x: calc_school_bad_time(x), axis=1)"
   ]
  },
  {
   "cell_type": "code",
   "execution_count": 45,
   "metadata": {},
   "outputs": [
    {
     "data": {
      "text/plain": "0     2000\n2      291\n1      230\n4      102\n3       84\n5       72\n6       64\n7       35\n8       34\n9       21\n10      15\n13      13\n11      13\n17       8\n12       7\n14       4\n15       4\n16       2\n19       1\nName: school_bad_time, dtype: int64"
     },
     "execution_count": 45,
     "metadata": {},
     "output_type": "execute_result"
    }
   ],
   "source": [
    "df_sample['school_bad_time'].value_counts()"
   ]
  },
  {
   "cell_type": "code",
   "execution_count": 46,
   "metadata": {},
   "outputs": [
    {
     "data": {
      "text/plain": "10.0    590\n8.0     414\n9.0     362\n7.0     295\n5.0     223\n6.0     186\n4.0     106\n3.0      77\n0.0      62\n2.0      53\n1.0      41\nName: ST016Q01NA, dtype: int64"
     },
     "execution_count": 46,
     "metadata": {},
     "output_type": "execute_result"
    }
   ],
   "source": [
    "df_sample.ST016Q01NA.value_counts()"
   ]
  },
  {
   "cell_type": "markdown",
   "metadata": {},
   "source": [
    "#### column: emotional_state (negative -1 bad, +1 is good)\r\n",
    "\r\n"
   ]
  },
  {
   "cell_type": "code",
   "execution_count": 47,
   "metadata": {},
   "outputs": [],
   "source": [
    "def calc_emotional_status(x):\r\n",
    "    total_score = 0\r\n",
    "    # I calculated absence of emotion as positive of counterpart emotion (emotions are not counterpart of each other but I am looking for an overall score)\r\n",
    "\r\n",
    "    # ST186Q05HA   -> Thinking about yourself and how you normally feel: how often do you feel as described below? Happy 1 -> -2 , 2 -> -1, 3 -> 1, 4-> 2  \r\n",
    "    # ST186Q07HA   -> Thinking about yourself and how you normally feel: how often do you feel as described below? Lively 1 -> -2 , 2 -> -1, 3 -> 1, 4-> 2  \r\n",
    "    # ST186Q09HA   -> Thinking about yourself and how you normally feel: how often do you feel as described below? Proud 1 -> -2 , 2 -> -1, 3 -> 1, 4-> 2  \r\n",
    "    # ST186Q01HA   -> Thinking about yourself and how you normally feel: how often do you feel as described below? Joyful 1 -> -2 , 2 -> -1, 3 -> 1, 4-> 2  \r\n",
    "    # ST186Q03HA   -> Thinking about yourself and how you normally feel: how often do you feel as described below? Cheerful 1 -> -2 , 2 -> -1, 3 -> 1, 4-> 2  \r\n",
    "\r\n",
    "\r\n",
    "    # ST186Q06HA   -> Thinking about yourself and how you normally feel: how often do you feel as described below? Scared 1 -> 2, 2 -> 1, 3-> -1, 4-> -2  \r\n",
    "    # ST186Q10HA   -> Thinking about yourself and how you normally feel: how often do you feel as described below? Miserable 1 -> 2, 2 -> 1, 3-> -1, 4-> -2  \r\n",
    "    # ST186Q02HA   -> Thinking about yourself and how you normally feel: how often do you feel as described below? Afraid 1 -> 2, 2 -> 1, 3-> -1, 4-> -2  \r\n",
    "    # ST186Q08HA   -> Thinking about yourself and how you normally feel: how often do you feel as described below? Sad 1 -> 2, 2 -> 1, 3-> -1, 4-> -2  \r\n",
    "\r\n",
    "    positives = ['ST186Q05HA', 'ST186Q07HA', 'ST186Q09HA', 'ST186Q01HA', 'ST186Q03HA']\r\n",
    "    negatives = ['ST186Q06HA', 'ST186Q10HA', 'ST186Q02HA', 'ST186Q08HA', ]\r\n",
    "\r\n",
    "    for item in positives:\r\n",
    "        if(x.item == 1):\r\n",
    "            total_score += -2\r\n",
    "        if(x.item == 2):\r\n",
    "            total_score += -1\r\n",
    "        if(x.item == 3):\r\n",
    "            total_score += 1\r\n",
    "        if(x.item == 4):\r\n",
    "            total_score += 2\r\n",
    "\r\n",
    "    for item in negatives:\r\n",
    "        if(x.item == 1):\r\n",
    "            total_score += 2\r\n",
    "        if(x.item == 2):\r\n",
    "            total_score += 1\r\n",
    "        if(x.item == 3):\r\n",
    "            total_score += -1\r\n",
    "        if(x.item == 4):\r\n",
    "            total_score += -2\r\n",
    "\r\n",
    "    # ST016Q01NA   -> Overall, how satisfied are you with your life as a whole these days? 0-10 -> 0.0 -> 1.0 * 3\r\n",
    "        total_score += x.ST016Q01NA - 5\r\n",
    "\r\n",
    "    # -23 is min number\r\n",
    "    # +23 is max number\r\n",
    "\r\n",
    "    return ((total_score + 23) / 46)\r\n"
   ]
  },
  {
   "cell_type": "code",
   "execution_count": 48,
   "metadata": {},
   "outputs": [],
   "source": [
    "df_sample['emotional_status'] = df_sample.apply(lambda x: calc_emotional_status(x), axis=1)"
   ]
  },
  {
   "cell_type": "code",
   "execution_count": 49,
   "metadata": {},
   "outputs": [
    {
     "data": {
      "text/plain": "count    2409.000000\nmean        0.699361\nstd         0.224628\nmin         0.065217\n25%         0.586957\n50%         0.760870\n75%         0.847826\nmax         0.934783\nName: emotional_status, dtype: float64"
     },
     "execution_count": 49,
     "metadata": {},
     "output_type": "execute_result"
    }
   ],
   "source": [
    "df_sample['emotional_status'].describe()"
   ]
  },
  {
   "cell_type": "markdown",
   "metadata": {},
   "source": [
    "#### column: family_hi_ed (higher number higher education)"
   ]
  },
  {
   "cell_type": "code",
   "execution_count": 50,
   "metadata": {},
   "outputs": [],
   "source": [
    "def calc_family_hi_ed(x):\r\n",
    "    total_score = 0\r\n",
    "\r\n",
    "    # ST177Q02HA   -> How many languages [...] do you and your parents speak well enough to converse with others? Your mother 3-> +1, 4->+2  \r\n",
    "    if(x.ST177Q02HA == 3):\r\n",
    "        total_score += 1\r\n",
    "    if(x.ST177Q02HA == 4):\r\n",
    "        total_score += 2\r\n",
    "\r\n",
    "    # ST177Q03HA   -> How many languages [...] do you and your parents speak well enough to converse with others? Your father 3-> +1, 4->+2  \r\n",
    "    if(x.ST177Q03HA == 3):\r\n",
    "        total_score += 1\r\n",
    "    if(x.ST177Q03HA == 4):\r\n",
    "        total_score += 2\r\n",
    "\r\n",
    "    # ST006Q01TA   -> Does your mother have this qualification? <ISCED level 6> (incl. higher qualifications at level 5A in some countries) -> 1-> +3  \r\n",
    "    if (x.ST006Q01TA == 1):\r\n",
    "        total_score += 3\r\n",
    "    \r\n",
    "    # ST006Q02TA   -> Does your mother have this qualification? <ISCED level 5A> (excl. higher qualifications at level 5A in some countries) -> 1-> +2  \r\n",
    "    if (x.ST006Q02TA == 1): \r\n",
    "        total_score += 2\r\n",
    "    \r\n",
    "    # ST006Q03TA   -> Does your mother have any of the following qualifications? <ISCED level 5B> 1-> +1  \r\n",
    "    if (x.ST006Q03TA == 1):\r\n",
    "        total_score += 1\r\n",
    "    \r\n",
    "    # ST008Q01TA   -> Does your father have this qualification? <ISCED level 6> (incl. higher qualifications at level 5A in some countries) -> 1->+3  \r\n",
    "    if (x.ST008Q01TA == 1):\r\n",
    "        total_score += 3\r\n",
    "\r\n",
    "    # ST008Q02TA   -> Does your father have this qualification? <ISCED level 5A> (excl. higher qualifications at level 5A in some countries) -> 1-> +2 \r\n",
    "    if (x.ST008Q02TA == 1):\r\n",
    "        total_score += 2\r\n",
    "\r\n",
    "    # ST008Q03TA   -> Does your father have any of the following qualifications? <ISCED level 5B> 1-> +1  \r\n",
    "    if (x.ST008Q03TA == 1):\r\n",
    "        total_score += 1\r\n",
    "\r\n",
    "    return total_score"
   ]
  },
  {
   "cell_type": "code",
   "execution_count": 51,
   "metadata": {},
   "outputs": [],
   "source": [
    "df_sample['family_hi_ed'] = df_sample.apply(lambda x: calc_family_hi_ed(x), axis=1)"
   ]
  },
  {
   "cell_type": "code",
   "execution_count": 52,
   "metadata": {},
   "outputs": [
    {
     "data": {
      "text/plain": "count    3000.000000\nmean        2.573333\nstd         2.888380\nmin         0.000000\n25%         0.000000\n50%         2.000000\n75%         4.000000\nmax        16.000000\nName: family_hi_ed, dtype: float64"
     },
     "execution_count": 52,
     "metadata": {},
     "output_type": "execute_result"
    }
   ],
   "source": [
    "df_sample['family_hi_ed'].describe()"
   ]
  },
  {
   "cell_type": "markdown",
   "metadata": {},
   "source": [
    "#### column: teacher_quality (higher the better)"
   ]
  },
  {
   "cell_type": "code",
   "execution_count": 53,
   "metadata": {},
   "outputs": [],
   "source": [
    "def calc_quality_tch(x):\r\n",
    "    total_score = 0\r\n",
    "\r\n",
    "    # ST213Q01HA   -> Thinking of past two <test language lessons>: It was clear to me that the teacher liked teaching us. -> 1->+2, 2->+1  \r\n",
    "    if(x.ST213Q01HA == 1):\r\n",
    "        total_score += 2\r\n",
    "    if(x.ST213Q01HA == 2):\r\n",
    "        total_score += 1\r\n",
    "\r\n",
    "    # ST213Q02HA   -> Thinking of past two <test language lessons>: The enthusiasm of the teacher inspired me. -> 1->+2, 2->+1  \r\n",
    "    if(x.ST213Q02HA == 1):\r\n",
    "        total_score += 2\r\n",
    "    if(x.ST213Q02HA == 2):\r\n",
    "        total_score += 1\r\n",
    "\r\n",
    "    # ST213Q03HA   -> Thinking of past two <test language lessons>: It was clear that the teacher likes to deal with the topic of the lesson. -> 1->+2, 2->+1  \r\n",
    "    if (x.ST213Q03HA == 1):\r\n",
    "        total_score += 2\r\n",
    "    if (x.ST213Q03HA == 2):\r\n",
    "        total_score += 1\r\n",
    "\r\n",
    "    # ST213Q04HA   -> Thinking of past two <test language lessons>: The teacher showed enjoyment in teaching. -> 1->+2, 2->+1   \r\n",
    "    if (x.ST213Q04HA == 1): \r\n",
    "        total_score += 2\r\n",
    "    if (x.ST213Q04HA == 2): \r\n",
    "        total_score += 1\r\n",
    "       \r\n",
    "    # ST102Q03TA   -> How often during <test language lessons>: [...] the teacher presents a short summary of the previous lesson. -> 1->+1  \r\n",
    "    if (x.ST102Q03TA == 1):\r\n",
    "        total_score += 1\r\n",
    "    \r\n",
    "    # ST097Q01TA   -> How often during <test language lessons>: Students dont listen to what the teacher says. -> 1->+1  \r\n",
    "    if (x.ST097Q01TA == 1):\r\n",
    "        total_score += 1\r\n",
    "\r\n",
    "    # ST097Q02TA   -> How often during <test language lessons>: There is noise and disorder. -> 4->+1  \r\n",
    "    if (x.ST097Q02TA == 4):\r\n",
    "        total_score += 1\r\n",
    "\r\n",
    "    # ST097Q03TA   -> How often during <test language lessons>: The teacher waits long for students to quiet down. -> 4->+1  \r\n",
    "    if (x.ST097Q03TA == 4):\r\n",
    "        total_score += 1\r\n",
    "\r\n",
    "    # ST097Q05TA   -> How often during <test language lessons>: Students dont start working for a long time after the lesson begins. -> 4->+1  \r\n",
    "    if (x.ST097Q05TA == 4):\r\n",
    "        total_score += 1\r\n",
    "\r\n",
    "    return total_score"
   ]
  },
  {
   "cell_type": "code",
   "execution_count": 54,
   "metadata": {},
   "outputs": [],
   "source": [
    "df_sample['quality_tch'] = df_sample.apply(lambda x: calc_quality_tch(x), axis=1)"
   ]
  },
  {
   "cell_type": "code",
   "execution_count": 55,
   "metadata": {},
   "outputs": [
    {
     "data": {
      "text/plain": "count    3000.000000\nmean        2.509000\nstd         2.205797\nmin         0.000000\n25%         1.000000\n50%         2.000000\n75%         4.000000\nmax        13.000000\nName: quality_tch, dtype: float64"
     },
     "execution_count": 55,
     "metadata": {},
     "output_type": "execute_result"
    }
   ],
   "source": [
    "df_sample['quality_tch'].describe()"
   ]
  },
  {
   "cell_type": "markdown",
   "metadata": {},
   "source": [
    "#### column: reading_not_easy (finds reading hard. higher the harder)\r\n"
   ]
  },
  {
   "cell_type": "code",
   "execution_count": 56,
   "metadata": {},
   "outputs": [],
   "source": [
    "def calc_reading_not_easy(x):\r\n",
    "    total_score = 0\r\n",
    "\r\n",
    "    # ST163Q02HA   -> In the PISA test, how do you feel about the reading tasks: There were many words I could not understand. -> 1->+2, 2->+1  \r\n",
    "    if(x.ST163Q02HA == 1):\r\n",
    "        total_score += 2\r\n",
    "    if(x.ST163Q02HA == 2):\r\n",
    "        total_score += 1\r\n",
    "\r\n",
    "    # ST163Q03HA   -> In the PISA test, how do you feel about the reading tasks: Many texts were too difficult for me. 1->+2, 2->+1  \r\n",
    "    if(x.ST163Q03HA == 1):\r\n",
    "        total_score += 2\r\n",
    "    if(x.ST163Q03HA == 2):\r\n",
    "        total_score += 1\r\n",
    "\r\n",
    "    # ST161Q02HA   -> Agree: I am able to understand difficult texts. 1->+2, 2->+1 (1 disagree, 4 agree)  \r\n",
    "    if (x.ST161Q02HA == 1):\r\n",
    "        total_score += 2\r\n",
    "    if (x.ST161Q02HA == 2):\r\n",
    "        total_score += 1\r\n",
    "\r\n",
    "    # ST161Q06HA   -> Agree: I have always had difficulty with reading. 4->+2, 3->+1  \r\n",
    "    if (x.ST161Q06HA == 4): \r\n",
    "        total_score += 2\r\n",
    "    if (x.ST161Q06HA == 3): \r\n",
    "        total_score += 1\r\n",
    "       \r\n",
    "    # ST161Q07HA   -> Agree: I have to read a text several times before completely understanding it. 4->+1  \r\n",
    "    if (x.ST161Q07HA == 4):\r\n",
    "        total_score += 1\r\n",
    "    \r\n",
    "    # ST160Q04IA   -> How much do you agree or disagree? For me, reading is a waste of time. 4->+2, 3->+1\r\n",
    "    if (x.ST160Q04IA == 3):\r\n",
    "        total_score += 1\r\n",
    "\r\n",
    "    # ST160Q02IA   -> How much do you agree or disagree? Reading is one of my favourite hobbies. 1->+1\r\n",
    "    if (x.ST160Q02IA == 1):\r\n",
    "        total_score += 1\r\n",
    "\r\n",
    "    return total_score"
   ]
  },
  {
   "cell_type": "code",
   "execution_count": 57,
   "metadata": {},
   "outputs": [],
   "source": [
    "df_sample['reading_not_easy'] = df_sample.apply(lambda x: calc_reading_not_easy(x), axis=1)"
   ]
  },
  {
   "cell_type": "code",
   "execution_count": 58,
   "metadata": {},
   "outputs": [
    {
     "data": {
      "text/plain": "count    3000.0000\nmean        2.9660\nstd         1.7268\nmin         0.0000\n25%         2.0000\n50%         3.0000\n75%         4.0000\nmax        10.0000\nName: reading_not_easy, dtype: float64"
     },
     "execution_count": 58,
     "metadata": {},
     "output_type": "execute_result"
    }
   ],
   "source": [
    "df_sample['reading_not_easy'].describe()"
   ]
  },
  {
   "cell_type": "code",
   "execution_count": 59,
   "metadata": {},
   "outputs": [],
   "source": [
    "def calculate_all(x):\r\n",
    "    home_art = calc_home_art(x)\r\n",
    "    bad_home_conditions = calc_bad_home_conditions(x)\r\n",
    "    school_bad_time = calc_school_bad_time(x)\r\n",
    "    emotional_status = calc_emotional_status(x)\r\n",
    "    family_hi_ed = calc_family_hi_ed(x)\r\n",
    "    quality_tch = calc_quality_tch(x)\r\n",
    "    reading_not_easy = calc_reading_not_easy(x)\r\n",
    "\r\n",
    "    return pd.Series([home_art, bad_home_conditions, school_bad_time, emotional_status, family_hi_ed, quality_tch, reading_not_easy])\r\n",
    "     "
   ]
  },
  {
   "cell_type": "code",
   "execution_count": 60,
   "metadata": {},
   "outputs": [],
   "source": [
    "df_student[['home_art', 'bad_home_conditions', 'school_bad_time', 'emotional_status', 'family_hi_ed', 'quality_tch', 'reading_not_easy']] = df_student.apply(lambda x: calculate_all(x), axis=1)"
   ]
  },
  {
   "cell_type": "markdown",
   "metadata": {},
   "source": [
    "### Drop columns"
   ]
  },
  {
   "cell_type": "code",
   "execution_count": 61,
   "metadata": {},
   "outputs": [],
   "source": [
    "final_columns = [\"CNT\", \"PV1MATH\",\"PV1READ\",\"PV1SCIE\",\"PV1RCLI\",\"PV1RCUN\",\"PV1RCER\",\"WEALTH\",\"ESCS\",\"PA042Q01TA\",\"CNTRYID\",\"CNTSCHID\",\r\n",
    "\"CNTSTUID\",\"STRATUM\",\"OECD\",\"ST001D01T\",\"ST003D02T\",\"ST003D03T\",\"ST004D01T\",\"reading_not_easy\",\"quality_tch\",\"family_hi_ed\",\r\n",
    "\"emotional_status\",\"school_bad_time\",\"bad_home_conditions\",\"home_art\",\"math_score\",\"math_answered\",\"reading_score\",\"reading_answered\",\"science_score\",\"science_answered\"]"
   ]
  },
  {
   "cell_type": "code",
   "execution_count": 62,
   "metadata": {},
   "outputs": [
    {
     "data": {
      "text/plain": "(612004, 222)"
     },
     "execution_count": 62,
     "metadata": {},
     "output_type": "execute_result"
    }
   ],
   "source": [
    "df_student.shape"
   ]
  },
  {
   "cell_type": "code",
   "execution_count": 63,
   "metadata": {},
   "outputs": [
    {
     "data": {
      "text/plain": "(612004, 32)"
     },
     "execution_count": 63,
     "metadata": {},
     "output_type": "execute_result"
    }
   ],
   "source": [
    "df_student.drop(columns=df_student.columns.difference(final_columns), inplace=True)\r\n",
    "df_student.shape"
   ]
  },
  {
   "cell_type": "code",
   "execution_count": 64,
   "metadata": {},
   "outputs": [
    {
     "data": {
      "text/html": "<div>\n<style scoped>\n    .dataframe tbody tr th:only-of-type {\n        vertical-align: middle;\n    }\n\n    .dataframe tbody tr th {\n        vertical-align: top;\n    }\n\n    .dataframe thead th {\n        text-align: right;\n    }\n</style>\n<table border=\"1\" class=\"dataframe\">\n  <thead>\n    <tr style=\"text-align: right;\">\n      <th></th>\n      <th>CNTRYID</th>\n      <th>CNT</th>\n      <th>CNTSCHID</th>\n      <th>CNTSTUID</th>\n      <th>STRATUM</th>\n      <th>OECD</th>\n      <th>ST001D01T</th>\n      <th>ST003D02T</th>\n      <th>ST003D03T</th>\n      <th>ST004D01T</th>\n      <th>...</th>\n      <th>reading_answered</th>\n      <th>science_score</th>\n      <th>science_answered</th>\n      <th>home_art</th>\n      <th>bad_home_conditions</th>\n      <th>school_bad_time</th>\n      <th>emotional_status</th>\n      <th>family_hi_ed</th>\n      <th>quality_tch</th>\n      <th>reading_not_easy</th>\n    </tr>\n  </thead>\n  <tbody>\n    <tr>\n      <th>0</th>\n      <td>8.0</td>\n      <td>ALB</td>\n      <td>800115.0</td>\n      <td>800001.0</td>\n      <td>ALB0107</td>\n      <td>0.0</td>\n      <td>10.0</td>\n      <td>10.0</td>\n      <td>2002.0</td>\n      <td>1.0</td>\n      <td>...</td>\n      <td>52.0</td>\n      <td>0.0</td>\n      <td>0.0</td>\n      <td>4.0</td>\n      <td>0.0</td>\n      <td>1.0</td>\n      <td>0.673913</td>\n      <td>6.0</td>\n      <td>3.0</td>\n      <td>4.0</td>\n    </tr>\n    <tr>\n      <th>1</th>\n      <td>8.0</td>\n      <td>ALB</td>\n      <td>800300.0</td>\n      <td>800002.0</td>\n      <td>ALB0105</td>\n      <td>0.0</td>\n      <td>10.0</td>\n      <td>6.0</td>\n      <td>2002.0</td>\n      <td>1.0</td>\n      <td>...</td>\n      <td>53.0</td>\n      <td>0.0</td>\n      <td>0.0</td>\n      <td>2.0</td>\n      <td>2.0</td>\n      <td>1.0</td>\n      <td>0.934783</td>\n      <td>0.0</td>\n      <td>1.0</td>\n      <td>2.0</td>\n    </tr>\n    <tr>\n      <th>2</th>\n      <td>8.0</td>\n      <td>ALB</td>\n      <td>800088.0</td>\n      <td>800003.0</td>\n      <td>ALB0101</td>\n      <td>0.0</td>\n      <td>9.0</td>\n      <td>4.0</td>\n      <td>2002.0</td>\n      <td>2.0</td>\n      <td>...</td>\n      <td>52.0</td>\n      <td>80.0</td>\n      <td>34.0</td>\n      <td>0.0</td>\n      <td>2.0</td>\n      <td>13.0</td>\n      <td>0.934783</td>\n      <td>5.0</td>\n      <td>3.0</td>\n      <td>2.0</td>\n    </tr>\n    <tr>\n      <th>3</th>\n      <td>8.0</td>\n      <td>ALB</td>\n      <td>800014.0</td>\n      <td>800004.0</td>\n      <td>ALB0109</td>\n      <td>0.0</td>\n      <td>10.0</td>\n      <td>3.0</td>\n      <td>2002.0</td>\n      <td>1.0</td>\n      <td>...</td>\n      <td>57.0</td>\n      <td>0.0</td>\n      <td>0.0</td>\n      <td>0.0</td>\n      <td>0.0</td>\n      <td>0.0</td>\n      <td>NaN</td>\n      <td>0.0</td>\n      <td>0.0</td>\n      <td>0.0</td>\n    </tr>\n    <tr>\n      <th>4</th>\n      <td>8.0</td>\n      <td>ALB</td>\n      <td>800294.0</td>\n      <td>800005.0</td>\n      <td>ALB0203</td>\n      <td>0.0</td>\n      <td>10.0</td>\n      <td>2.0</td>\n      <td>2002.0</td>\n      <td>1.0</td>\n      <td>...</td>\n      <td>57.0</td>\n      <td>170.0</td>\n      <td>39.0</td>\n      <td>2.0</td>\n      <td>1.0</td>\n      <td>0.0</td>\n      <td>0.500000</td>\n      <td>3.0</td>\n      <td>3.0</td>\n      <td>4.0</td>\n    </tr>\n  </tbody>\n</table>\n<p>5 rows × 32 columns</p>\n</div>",
      "text/plain": "   CNTRYID  CNT  CNTSCHID  CNTSTUID  STRATUM  OECD  ST001D01T  ST003D02T  \\\n0      8.0  ALB  800115.0  800001.0  ALB0107   0.0       10.0       10.0   \n1      8.0  ALB  800300.0  800002.0  ALB0105   0.0       10.0        6.0   \n2      8.0  ALB  800088.0  800003.0  ALB0101   0.0        9.0        4.0   \n3      8.0  ALB  800014.0  800004.0  ALB0109   0.0       10.0        3.0   \n4      8.0  ALB  800294.0  800005.0  ALB0203   0.0       10.0        2.0   \n\n   ST003D03T  ST004D01T  ...  reading_answered  science_score  \\\n0     2002.0        1.0  ...              52.0            0.0   \n1     2002.0        1.0  ...              53.0            0.0   \n2     2002.0        2.0  ...              52.0           80.0   \n3     2002.0        1.0  ...              57.0            0.0   \n4     2002.0        1.0  ...              57.0          170.0   \n\n   science_answered  home_art  bad_home_conditions  school_bad_time  \\\n0               0.0       4.0                  0.0              1.0   \n1               0.0       2.0                  2.0              1.0   \n2              34.0       0.0                  2.0             13.0   \n3               0.0       0.0                  0.0              0.0   \n4              39.0       2.0                  1.0              0.0   \n\n   emotional_status  family_hi_ed  quality_tch  reading_not_easy  \n0          0.673913           6.0          3.0               4.0  \n1          0.934783           0.0          1.0               2.0  \n2          0.934783           5.0          3.0               2.0  \n3               NaN           0.0          0.0               0.0  \n4          0.500000           3.0          3.0               4.0  \n\n[5 rows x 32 columns]"
     },
     "execution_count": 64,
     "metadata": {},
     "output_type": "execute_result"
    }
   ],
   "source": [
    "df_student.head()"
   ]
  },
  {
   "cell_type": "code",
   "execution_count": 65,
   "metadata": {},
   "outputs": [],
   "source": [
    "df_student.to_csv(\"./data/2_merged/student.csv\",index=False)"
   ]
  },
  {
   "cell_type": "code",
   "execution_count": null,
   "metadata": {},
   "outputs": [],
   "source": []
  }
 ],
 "metadata": {
  "kernelspec": {
   "display_name": "Python 3.8.5 64-bit (conda)",
   "metadata": {
    "interpreter": {
     "hash": "d3ff5a1ce451dfff603f0aeb2fe958ed2741cc1700d7ef242fbe9997037b9eb5"
    }
   },
   "name": "python3"
  },
  "language_info": {
   "codemirror_mode": {
    "name": "ipython",
    "version": 3
   },
   "file_extension": ".py",
   "mimetype": "text/x-python",
   "name": "python",
   "nbconvert_exporter": "python",
   "pygments_lexer": "ipython3",
   "version": "3.8.5"
  },
  "orig_nbformat": 2
 },
 "nbformat": 4,
 "nbformat_minor": 2
}