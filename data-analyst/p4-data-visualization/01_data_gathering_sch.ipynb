{
 "cells": [
  {
   "cell_type": "code",
   "execution_count": 1,
   "metadata": {},
   "outputs": [],
   "source": [
    "import pandas as pd"
   ]
  },
  {
   "cell_type": "code",
   "execution_count": 2,
   "metadata": {},
   "outputs": [],
   "source": [
    "df_sch = pd.read_csv(\"./data/0_raw/cy07_msu_sch_qqq.csv\")"
   ]
  },
  {
   "cell_type": "code",
   "execution_count": 6,
   "metadata": {},
   "outputs": [
    {
     "data": {
      "text/plain": "(21903, 199)"
     },
     "execution_count": 6,
     "metadata": {},
     "output_type": "execute_result"
    }
   ],
   "source": [
    "df_sch.shape"
   ]
  },
  {
   "cell_type": "code",
   "execution_count": 7,
   "metadata": {},
   "outputs": [],
   "source": [
    "# columns I find interesting\r\n",
    "columns_to_keep = []\r\n",
    "with open(\"./data/reference/columns_to_keep_sch_qqq.txt\") as text_file:\r\n",
    "    for line in text_file:        \r\n",
    "        columns_to_keep.append(line.strip())"
   ]
  },
  {
   "cell_type": "code",
   "execution_count": 8,
   "metadata": {},
   "outputs": [
    {
     "data": {
      "text/plain": "(21903, 34)"
     },
     "execution_count": 8,
     "metadata": {},
     "output_type": "execute_result"
    }
   ],
   "source": [
    "df_sch.drop(columns=df_sch.columns.difference(columns_to_keep), inplace=True)\r\n",
    "df_sch.shape"
   ]
  },
  {
   "cell_type": "code",
   "execution_count": 9,
   "metadata": {},
   "outputs": [
    {
     "data": {
      "text/html": "<div>\n<style scoped>\n    .dataframe tbody tr th:only-of-type {\n        vertical-align: middle;\n    }\n\n    .dataframe tbody tr th {\n        vertical-align: top;\n    }\n\n    .dataframe thead th {\n        text-align: right;\n    }\n</style>\n<table border=\"1\" class=\"dataframe\">\n  <thead>\n    <tr style=\"text-align: right;\">\n      <th></th>\n      <th>CNTRYID</th>\n      <th>CNT</th>\n      <th>CNTSCHID</th>\n      <th>CYC</th>\n      <th>NatCen</th>\n      <th>Region</th>\n      <th>STRATUM</th>\n      <th>SC001Q01TA</th>\n      <th>SC013Q01TA</th>\n      <th>SC017Q01NA</th>\n      <th>...</th>\n      <th>SC018Q01TA02</th>\n      <th>SC018Q02TA01</th>\n      <th>SC018Q02TA02</th>\n      <th>SC018Q05NA01</th>\n      <th>SC018Q05NA02</th>\n      <th>SC018Q06NA01</th>\n      <th>SC018Q06NA02</th>\n      <th>SC018Q07NA01</th>\n      <th>SC018Q07NA02</th>\n      <th>SC003Q01TA</th>\n    </tr>\n  </thead>\n  <tbody>\n    <tr>\n      <th>1402</th>\n      <td>36.0</td>\n      <td>AUS</td>\n      <td>3600430.0</td>\n      <td>07MS</td>\n      <td>3600</td>\n      <td>3600.0</td>\n      <td>AUS0515</td>\n      <td>5.0</td>\n      <td>2.0</td>\n      <td>1.0</td>\n      <td>...</td>\n      <td>40.0</td>\n      <td>90.0</td>\n      <td>40.0</td>\n      <td>90.0</td>\n      <td>40.0</td>\n      <td>40.0</td>\n      <td>20.0</td>\n      <td>4.0</td>\n      <td>NaN</td>\n      <td>2.0</td>\n    </tr>\n    <tr>\n      <th>1000</th>\n      <td>36.0</td>\n      <td>AUS</td>\n      <td>3600022.0</td>\n      <td>07MS</td>\n      <td>3600</td>\n      <td>3600.0</td>\n      <td>AUS0205</td>\n      <td>3.0</td>\n      <td>1.0</td>\n      <td>3.0</td>\n      <td>...</td>\n      <td>15.0</td>\n      <td>35.0</td>\n      <td>15.0</td>\n      <td>35.0</td>\n      <td>15.0</td>\n      <td>8.0</td>\n      <td>NaN</td>\n      <td>NaN</td>\n      <td>2.0</td>\n      <td>3.0</td>\n    </tr>\n    <tr>\n      <th>15786</th>\n      <td>643.0</td>\n      <td>RUS</td>\n      <td>64300677.0</td>\n      <td>07MS</td>\n      <td>64300</td>\n      <td>64300.0</td>\n      <td>RUS2222</td>\n      <td>1.0</td>\n      <td>1.0</td>\n      <td>3.0</td>\n      <td>...</td>\n      <td>1.0</td>\n      <td>30.0</td>\n      <td>1.0</td>\n      <td>1.0</td>\n      <td>0.0</td>\n      <td>0.0</td>\n      <td>0.0</td>\n      <td>0.0</td>\n      <td>0.0</td>\n      <td>2.0</td>\n    </tr>\n    <tr>\n      <th>6954</th>\n      <td>250.0</td>\n      <td>FRA</td>\n      <td>25000077.0</td>\n      <td>07MS</td>\n      <td>25000</td>\n      <td>25000.0</td>\n      <td>FRA0101</td>\n      <td>3.0</td>\n      <td>1.0</td>\n      <td>2.0</td>\n      <td>...</td>\n      <td>13.0</td>\n      <td>86.0</td>\n      <td>10.0</td>\n      <td>70.0</td>\n      <td>12.0</td>\n      <td>14.0</td>\n      <td>1.0</td>\n      <td>5.0</td>\n      <td>0.0</td>\n      <td>5.0</td>\n    </tr>\n    <tr>\n      <th>13034</th>\n      <td>498.0</td>\n      <td>MDA</td>\n      <td>49800206.0</td>\n      <td>07MS</td>\n      <td>49800</td>\n      <td>49800.0</td>\n      <td>MDA0008</td>\n      <td>1.0</td>\n      <td>1.0</td>\n      <td>3.0</td>\n      <td>...</td>\n      <td>11.0</td>\n      <td>12.0</td>\n      <td>11.0</td>\n      <td>12.0</td>\n      <td>11.0</td>\n      <td>0.0</td>\n      <td>0.0</td>\n      <td>0.0</td>\n      <td>0.0</td>\n      <td>3.0</td>\n    </tr>\n  </tbody>\n</table>\n<p>5 rows × 34 columns</p>\n</div>",
      "text/plain": "       CNTRYID  CNT    CNTSCHID   CYC  NatCen   Region  STRATUM  SC001Q01TA  \\\n1402      36.0  AUS   3600430.0  07MS    3600   3600.0  AUS0515         5.0   \n1000      36.0  AUS   3600022.0  07MS    3600   3600.0  AUS0205         3.0   \n15786    643.0  RUS  64300677.0  07MS   64300  64300.0  RUS2222         1.0   \n6954     250.0  FRA  25000077.0  07MS   25000  25000.0  FRA0101         3.0   \n13034    498.0  MDA  49800206.0  07MS   49800  49800.0  MDA0008         1.0   \n\n       SC013Q01TA  SC017Q01NA  ...  SC018Q01TA02  SC018Q02TA01  SC018Q02TA02  \\\n1402          2.0         1.0  ...          40.0          90.0          40.0   \n1000          1.0         3.0  ...          15.0          35.0          15.0   \n15786         1.0         3.0  ...           1.0          30.0           1.0   \n6954          1.0         2.0  ...          13.0          86.0          10.0   \n13034         1.0         3.0  ...          11.0          12.0          11.0   \n\n       SC018Q05NA01  SC018Q05NA02  SC018Q06NA01  SC018Q06NA02  SC018Q07NA01  \\\n1402           90.0          40.0          40.0          20.0           4.0   \n1000           35.0          15.0           8.0           NaN           NaN   \n15786           1.0           0.0           0.0           0.0           0.0   \n6954           70.0          12.0          14.0           1.0           5.0   \n13034          12.0          11.0           0.0           0.0           0.0   \n\n       SC018Q07NA02  SC003Q01TA  \n1402            NaN         2.0  \n1000            2.0         3.0  \n15786           0.0         2.0  \n6954            0.0         5.0  \n13034           0.0         3.0  \n\n[5 rows x 34 columns]"
     },
     "execution_count": 9,
     "metadata": {},
     "output_type": "execute_result"
    }
   ],
   "source": [
    "df_sch.sample(5)"
   ]
  },
  {
   "cell_type": "code",
   "execution_count": 10,
   "metadata": {},
   "outputs": [],
   "source": [
    "df_sch.to_csv(\"./data/1_processed/school_questionnaire.csv\",index=False)"
   ]
  },
  {
   "cell_type": "markdown",
   "metadata": {},
   "source": [
    "# Teacher questionnare\r\n"
   ]
  },
  {
   "cell_type": "code",
   "execution_count": 3,
   "metadata": {},
   "outputs": [],
   "source": [
    "df_tch = pd.read_csv(\"./data/0_raw/cy07_msu_tch_qqq.csv\")"
   ]
  },
  {
   "cell_type": "code",
   "execution_count": 4,
   "metadata": {},
   "outputs": [
    {
     "data": {
      "text/plain": "(107367, 351)"
     },
     "execution_count": 4,
     "metadata": {},
     "output_type": "execute_result"
    }
   ],
   "source": [
    "df_tch.shape"
   ]
  },
  {
   "cell_type": "code",
   "execution_count": 13,
   "metadata": {},
   "outputs": [],
   "source": [
    "# columns I find interesting\r\n",
    "columns_to_keep_tch = []\r\n",
    "with open(\"./data/reference/columns_to_keep_tch_qqq.txt\") as text_file:\r\n",
    "    for line in text_file:        \r\n",
    "        columns_to_keep_tch.append(line.strip())"
   ]
  },
  {
   "cell_type": "code",
   "execution_count": 15,
   "metadata": {},
   "outputs": [
    {
     "data": {
      "text/plain": "(107367, 24)"
     },
     "execution_count": 15,
     "metadata": {},
     "output_type": "execute_result"
    }
   ],
   "source": [
    "df_tch.drop(columns=df_tch.columns.difference(columns_to_keep_tch), inplace=True)\r\n",
    "df_tch.shape"
   ]
  },
  {
   "cell_type": "code",
   "execution_count": 16,
   "metadata": {},
   "outputs": [],
   "source": [
    "df_tch.to_csv(\"./data/1_processed/teacher_questionnaire.csv\",index=False)"
   ]
  },
  {
   "cell_type": "code",
   "execution_count": null,
   "metadata": {},
   "outputs": [],
   "source": []
  }
 ],
 "metadata": {
  "kernelspec": {
   "display_name": "Python 3.8.5 64-bit (conda)",
   "metadata": {
    "interpreter": {
     "hash": "d3ff5a1ce451dfff603f0aeb2fe958ed2741cc1700d7ef242fbe9997037b9eb5"
    }
   },
   "name": "python3"
  },
  "language_info": {
   "codemirror_mode": {
    "name": "ipython",
    "version": 3
   },
   "file_extension": ".py",
   "mimetype": "text/x-python",
   "name": "python",
   "nbconvert_exporter": "python",
   "pygments_lexer": "ipython3",
   "version": "3.8.5"
  },
  "orig_nbformat": 2
 },
 "nbformat": 4,
 "nbformat_minor": 2
}