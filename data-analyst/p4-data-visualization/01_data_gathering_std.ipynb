{
 "cells": [
  {
   "cell_type": "code",
   "execution_count": 1,
   "metadata": {},
   "outputs": [],
   "source": [
    "import pandas as pd\r\n",
    "import numpy as np"
   ]
  },
  {
   "cell_type": "code",
   "execution_count": 2,
   "metadata": {},
   "outputs": [],
   "source": [
    "df_stu = pd.read_csv(\"./data/0_raw/cy07_msu_stu_qqq.csv\")\r\n"
   ]
  },
  {
   "cell_type": "code",
   "execution_count": 3,
   "metadata": {},
   "outputs": [
    {
     "data": {
      "text/plain": "(612004, 1120)"
     },
     "execution_count": 3,
     "metadata": {},
     "output_type": "execute_result"
    }
   ],
   "source": [
    "df_stu.shape"
   ]
  },
  {
   "cell_type": "code",
   "execution_count": 4,
   "metadata": {},
   "outputs": [],
   "source": [
    "# columns I find interesting\r\n",
    "columns_to_keep = []\r\n",
    "with open(\"./data/reference/columns_to_keep_stu_qqq.txt\") as text_file:\r\n",
    "    for line in text_file:        \r\n",
    "        columns_to_keep.append(line.strip())"
   ]
  },
  {
   "cell_type": "code",
   "execution_count": 6,
   "metadata": {},
   "outputs": [
    {
     "data": {
      "text/plain": "(612004, 206)"
     },
     "execution_count": 6,
     "metadata": {},
     "output_type": "execute_result"
    }
   ],
   "source": [
    "df_stu.drop(columns=df_stu.columns.difference(columns_to_keep), inplace=True)\r\n",
    "df_stu.shape"
   ]
  },
  {
   "cell_type": "code",
   "execution_count": 7,
   "metadata": {},
   "outputs": [
    {
     "data": {
      "text/html": "<div>\n<style scoped>\n    .dataframe tbody tr th:only-of-type {\n        vertical-align: middle;\n    }\n\n    .dataframe tbody tr th {\n        vertical-align: top;\n    }\n\n    .dataframe thead th {\n        text-align: right;\n    }\n</style>\n<table border=\"1\" class=\"dataframe\">\n  <thead>\n    <tr style=\"text-align: right;\">\n      <th></th>\n      <th>CNTRYID</th>\n      <th>CNT</th>\n      <th>CNTSCHID</th>\n      <th>CNTSTUID</th>\n      <th>STRATUM</th>\n      <th>OECD</th>\n      <th>LANGTEST_QQQ</th>\n      <th>ST001D01T</th>\n      <th>ST003D02T</th>\n      <th>ST003D03T</th>\n      <th>...</th>\n      <th>PV2RTML</th>\n      <th>PV3RTML</th>\n      <th>PV4RTML</th>\n      <th>PV5RTML</th>\n      <th>PV6RTML</th>\n      <th>PV7RTML</th>\n      <th>PV8RTML</th>\n      <th>PV9RTML</th>\n      <th>PV10RTML</th>\n      <th>SENWT</th>\n    </tr>\n  </thead>\n  <tbody>\n    <tr>\n      <th>377368</th>\n      <td>578.0</td>\n      <td>NOR</td>\n      <td>57800164.0</td>\n      <td>57804115.0</td>\n      <td>NOR0001</td>\n      <td>1.0</td>\n      <td>998.0</td>\n      <td>10.0</td>\n      <td>NaN</td>\n      <td>2002.0</td>\n      <td>...</td>\n      <td>676.144</td>\n      <td>718.409</td>\n      <td>664.643</td>\n      <td>707.689</td>\n      <td>672.577</td>\n      <td>738.611</td>\n      <td>684.712</td>\n      <td>630.874</td>\n      <td>729.786</td>\n      <td>0.79935</td>\n    </tr>\n    <tr>\n      <th>324291</th>\n      <td>446.0</td>\n      <td>MAC</td>\n      <td>44600018.0</td>\n      <td>44600706.0</td>\n      <td>MAC0005</td>\n      <td>0.0</td>\n      <td>316.0</td>\n      <td>9.0</td>\n      <td>12.0</td>\n      <td>2002.0</td>\n      <td>...</td>\n      <td>542.855</td>\n      <td>596.759</td>\n      <td>566.915</td>\n      <td>598.811</td>\n      <td>552.625</td>\n      <td>540.559</td>\n      <td>574.869</td>\n      <td>558.178</td>\n      <td>621.089</td>\n      <td>1.31614</td>\n    </tr>\n    <tr>\n      <th>368237</th>\n      <td>554.0</td>\n      <td>NZL</td>\n      <td>55400087.0</td>\n      <td>55400661.0</td>\n      <td>NZL0003</td>\n      <td>1.0</td>\n      <td>313.0</td>\n      <td>11.0</td>\n      <td>2.0</td>\n      <td>2003.0</td>\n      <td>...</td>\n      <td>462.552</td>\n      <td>480.791</td>\n      <td>469.322</td>\n      <td>448.092</td>\n      <td>468.238</td>\n      <td>486.990</td>\n      <td>467.498</td>\n      <td>471.413</td>\n      <td>457.166</td>\n      <td>0.54058</td>\n    </tr>\n    <tr>\n      <th>12678</th>\n      <td>31.0</td>\n      <td>QAZ</td>\n      <td>3100017.0</td>\n      <td>3107130.0</td>\n      <td>QAZ0204</td>\n      <td>0.0</td>\n      <td>803.0</td>\n      <td>10.0</td>\n      <td>6.0</td>\n      <td>2002.0</td>\n      <td>...</td>\n      <td>383.631</td>\n      <td>354.801</td>\n      <td>331.506</td>\n      <td>295.048</td>\n      <td>315.133</td>\n      <td>304.218</td>\n      <td>306.501</td>\n      <td>327.343</td>\n      <td>353.205</td>\n      <td>0.60461</td>\n    </tr>\n    <tr>\n      <th>193087</th>\n      <td>276.0</td>\n      <td>DEU</td>\n      <td>27600222.0</td>\n      <td>27602418.0</td>\n      <td>DEU9797</td>\n      <td>1.0</td>\n      <td>148.0</td>\n      <td>8.0</td>\n      <td>8.0</td>\n      <td>2002.0</td>\n      <td>...</td>\n      <td>472.183</td>\n      <td>457.211</td>\n      <td>502.616</td>\n      <td>511.288</td>\n      <td>462.719</td>\n      <td>485.656</td>\n      <td>452.717</td>\n      <td>441.750</td>\n      <td>448.970</td>\n      <td>0.62563</td>\n    </tr>\n  </tbody>\n</table>\n<p>5 rows × 206 columns</p>\n</div>",
      "text/plain": "        CNTRYID  CNT    CNTSCHID    CNTSTUID  STRATUM  OECD  LANGTEST_QQQ  \\\n377368    578.0  NOR  57800164.0  57804115.0  NOR0001   1.0         998.0   \n324291    446.0  MAC  44600018.0  44600706.0  MAC0005   0.0         316.0   \n368237    554.0  NZL  55400087.0  55400661.0  NZL0003   1.0         313.0   \n12678      31.0  QAZ   3100017.0   3107130.0  QAZ0204   0.0         803.0   \n193087    276.0  DEU  27600222.0  27602418.0  DEU9797   1.0         148.0   \n\n        ST001D01T  ST003D02T  ST003D03T  ...  PV2RTML  PV3RTML  PV4RTML  \\\n377368       10.0        NaN     2002.0  ...  676.144  718.409  664.643   \n324291        9.0       12.0     2002.0  ...  542.855  596.759  566.915   \n368237       11.0        2.0     2003.0  ...  462.552  480.791  469.322   \n12678        10.0        6.0     2002.0  ...  383.631  354.801  331.506   \n193087        8.0        8.0     2002.0  ...  472.183  457.211  502.616   \n\n        PV5RTML  PV6RTML  PV7RTML  PV8RTML  PV9RTML  PV10RTML    SENWT  \n377368  707.689  672.577  738.611  684.712  630.874   729.786  0.79935  \n324291  598.811  552.625  540.559  574.869  558.178   621.089  1.31614  \n368237  448.092  468.238  486.990  467.498  471.413   457.166  0.54058  \n12678   295.048  315.133  304.218  306.501  327.343   353.205  0.60461  \n193087  511.288  462.719  485.656  452.717  441.750   448.970  0.62563  \n\n[5 rows x 206 columns]"
     },
     "execution_count": 7,
     "metadata": {},
     "output_type": "execute_result"
    }
   ],
   "source": [
    "df_stu.sample(5)"
   ]
  },
  {
   "cell_type": "code",
   "execution_count": 8,
   "metadata": {},
   "outputs": [],
   "source": [
    "df_stu.to_csv(\"./data/1_processed/student_questionnaire.csv\",index=False)"
   ]
  },
  {
   "cell_type": "code",
   "execution_count": null,
   "metadata": {},
   "outputs": [],
   "source": []
  }
 ],
 "metadata": {
  "kernelspec": {
   "display_name": "Python 3.8.5 64-bit (conda)",
   "metadata": {
    "interpreter": {
     "hash": "d3ff5a1ce451dfff603f0aeb2fe958ed2741cc1700d7ef242fbe9997037b9eb5"
    }
   },
   "name": "python3"
  },
  "language_info": {
   "codemirror_mode": {
    "name": "ipython",
    "version": 3
   },
   "file_extension": ".py",
   "mimetype": "text/x-python",
   "name": "python",
   "nbconvert_exporter": "python",
   "pygments_lexer": "ipython3",
   "version": "3.8.5"
  },
  "orig_nbformat": 2
 },
 "nbformat": 4,
 "nbformat_minor": 2
}