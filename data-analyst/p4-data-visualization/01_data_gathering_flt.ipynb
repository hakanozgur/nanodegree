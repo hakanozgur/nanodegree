{
 "cells": [
  {
   "cell_type": "code",
   "execution_count": 1,
   "metadata": {},
   "outputs": [],
   "source": [
    "import pandas as pd\r\n",
    "import numpy as np"
   ]
  },
  {
   "cell_type": "markdown",
   "metadata": {},
   "source": [
    "# Financial Cognative questions"
   ]
  },
  {
   "cell_type": "code",
   "execution_count": 2,
   "metadata": {},
   "outputs": [],
   "source": [
    "df_cog = pd.read_csv(\"./data/0_raw/cy07_msu_flt_cog.csv\")"
   ]
  },
  {
   "cell_type": "code",
   "execution_count": 3,
   "metadata": {},
   "outputs": [
    {
     "data": {
      "text/plain": "(107174, 2103)"
     },
     "execution_count": 3,
     "metadata": {},
     "output_type": "execute_result"
    }
   ],
   "source": [
    "df_cog.shape"
   ]
  },
  {
   "cell_type": "code",
   "execution_count": 4,
   "metadata": {},
   "outputs": [],
   "source": [
    "# Financial math questions\r\n",
    "fi_math_question_ids = []\r\n",
    "with open(\"./data/reference/finance_math_ids.txt\") as math_file:\r\n",
    "    for line in math_file:\r\n",
    "        fi_math_question_ids.append(line.strip())"
   ]
  },
  {
   "cell_type": "code",
   "execution_count": 5,
   "metadata": {},
   "outputs": [],
   "source": [
    "# Financial reading questions\r\n",
    "fi_reading_question_ids = []\r\n",
    "with open(\"./data/reference/finance_reading_ids.txt\") as reading_file:\r\n",
    "    for line in reading_file:\r\n",
    "        fi_reading_question_ids.append(line.strip())"
   ]
  },
  {
   "cell_type": "code",
   "execution_count": 6,
   "metadata": {},
   "outputs": [],
   "source": [
    "# Financial literacy and information technology questisons\r\n",
    "fi_it_question_ids = []\r\n",
    "with open(\"./data/reference/finance_it_ids.txt\") as fiit_file:\r\n",
    "    for line in fiit_file:\r\n",
    "        fi_it_question_ids.append(line.strip())"
   ]
  },
  {
   "cell_type": "code",
   "execution_count": 7,
   "metadata": {},
   "outputs": [
    {
     "data": {
      "text/plain": "(107174, 441)"
     },
     "execution_count": 7,
     "metadata": {},
     "output_type": "execute_result"
    }
   ],
   "source": [
    "# drop columns not planning to use to free memory\r\n",
    "cog_cols = fi_math_question_ids + fi_reading_question_ids + fi_it_question_ids\r\n",
    "useful_cols = ['CNT', 'CNTRYID', 'CNTSCHID', 'CNTSTUID', 'STRATUM', 'LANGTEST_COG']\r\n",
    "df_cog.drop(columns=df_cog.columns.difference(cog_cols + useful_cols), inplace=True)\r\n",
    "df_cog.shape"
   ]
  },
  {
   "cell_type": "code",
   "execution_count": 8,
   "metadata": {},
   "outputs": [],
   "source": [
    "# Given column ids as question_ids this method calculates score of a row\r\n",
    "# valid answers given 10 point, partial answers given5 points\r\n",
    "def calculate_score_for_columns(row, question_ids):\r\n",
    "    student_score = 0.0\r\n",
    "    student_answered_questions = 0\r\n",
    "\r\n",
    "    for question in question_ids:\r\n",
    "        score = row[question]\r\n",
    "        if not np.isnan(score):\r\n",
    "            score_str = str(int(score))\r\n",
    "            student_answered_questions += 1\r\n",
    "            if score_str == \"1\" or score_str.startswith(\"2\"):\r\n",
    "                student_score += 10\r\n",
    "            elif score_str.startswith(\"1\"):\r\n",
    "                student_score += 5 # partial answer, half point\r\n",
    "    return student_score, student_answered_questions"
   ]
  },
  {
   "cell_type": "code",
   "execution_count": 9,
   "metadata": {},
   "outputs": [],
   "source": [
    "def calculate_test_score(row):\r\n",
    "    m_score, m_count = calculate_score_for_columns(row, fi_math_question_ids)\r\n",
    "    r_score, r_count = calculate_score_for_columns(row, fi_reading_question_ids)\r\n",
    "    i_score, i_count = calculate_score_for_columns(row, fi_it_question_ids)\r\n",
    "    return pd.Series([m_score, m_count, r_score, r_count, i_score, i_count])"
   ]
  },
  {
   "cell_type": "code",
   "execution_count": 10,
   "metadata": {},
   "outputs": [],
   "source": [
    "# Calculate scores and answer counts\r\n",
    "score_columns = [\"fi_math_score\", \"fi_math_answered\", \"fi_reading_score\", \"fi_reading_answered\", \"fi_it_score\", \"fi_it_answered\"]\r\n",
    "df_cog[score_columns] = df_cog.apply(lambda row: calculate_test_score(row), axis=1)"
   ]
  },
  {
   "cell_type": "code",
   "execution_count": 11,
   "metadata": {},
   "outputs": [],
   "source": [
    "columns_to_keep = useful_cols + score_columns"
   ]
  },
  {
   "cell_type": "code",
   "execution_count": 12,
   "metadata": {},
   "outputs": [],
   "source": [
    "# drop unused columns\r\n",
    "df_cog.drop(columns=df_cog.columns.difference(columns_to_keep), inplace=True)"
   ]
  },
  {
   "cell_type": "code",
   "execution_count": 13,
   "metadata": {},
   "outputs": [
    {
     "data": {
      "text/html": "<div>\n<style scoped>\n    .dataframe tbody tr th:only-of-type {\n        vertical-align: middle;\n    }\n\n    .dataframe tbody tr th {\n        vertical-align: top;\n    }\n\n    .dataframe thead th {\n        text-align: right;\n    }\n</style>\n<table border=\"1\" class=\"dataframe\">\n  <thead>\n    <tr style=\"text-align: right;\">\n      <th></th>\n      <th>CNTRYID</th>\n      <th>CNT</th>\n      <th>CNTSCHID</th>\n      <th>CNTSTUID</th>\n      <th>STRATUM</th>\n      <th>LANGTEST_COG</th>\n      <th>fi_math_score</th>\n      <th>fi_math_answered</th>\n      <th>fi_reading_score</th>\n      <th>fi_reading_answered</th>\n      <th>fi_it_score</th>\n      <th>fi_it_answered</th>\n    </tr>\n  </thead>\n  <tbody>\n    <tr>\n      <th>63653</th>\n      <td>528.0</td>\n      <td>NLD</td>\n      <td>52800148.0</td>\n      <td>52856611.0</td>\n      <td>NLD0009</td>\n      <td>322.0</td>\n      <td>170.0</td>\n      <td>18.0</td>\n      <td>420.0</td>\n      <td>52.0</td>\n      <td>0.0</td>\n      <td>0.0</td>\n    </tr>\n    <tr>\n      <th>61724</th>\n      <td>528.0</td>\n      <td>NLD</td>\n      <td>52800096.0</td>\n      <td>52851755.0</td>\n      <td>NLD0003</td>\n      <td>322.0</td>\n      <td>150.0</td>\n      <td>24.0</td>\n      <td>320.0</td>\n      <td>59.0</td>\n      <td>0.0</td>\n      <td>0.0</td>\n    </tr>\n    <tr>\n      <th>67846</th>\n      <td>604.0</td>\n      <td>PER</td>\n      <td>60400117.0</td>\n      <td>60456890.0</td>\n      <td>PER0102</td>\n      <td>156.0</td>\n      <td>50.0</td>\n      <td>21.0</td>\n      <td>260.0</td>\n      <td>55.0</td>\n      <td>0.0</td>\n      <td>0.0</td>\n    </tr>\n    <tr>\n      <th>46373</th>\n      <td>380.0</td>\n      <td>ITA</td>\n      <td>38000285.0</td>\n      <td>38054268.0</td>\n      <td>ITA9797</td>\n      <td>200.0</td>\n      <td>20.0</td>\n      <td>16.0</td>\n      <td>260.0</td>\n      <td>48.0</td>\n      <td>0.0</td>\n      <td>0.0</td>\n    </tr>\n    <tr>\n      <th>99188</th>\n      <td>840.0</td>\n      <td>USA</td>\n      <td>84000093.0</td>\n      <td>84050811.0</td>\n      <td>USA0206</td>\n      <td>313.0</td>\n      <td>0.0</td>\n      <td>0.0</td>\n      <td>375.0</td>\n      <td>59.0</td>\n      <td>160.0</td>\n      <td>27.0</td>\n    </tr>\n  </tbody>\n</table>\n</div>",
      "text/plain": "       CNTRYID  CNT    CNTSCHID    CNTSTUID  STRATUM  LANGTEST_COG  \\\n63653    528.0  NLD  52800148.0  52856611.0  NLD0009         322.0   \n61724    528.0  NLD  52800096.0  52851755.0  NLD0003         322.0   \n67846    604.0  PER  60400117.0  60456890.0  PER0102         156.0   \n46373    380.0  ITA  38000285.0  38054268.0  ITA9797         200.0   \n99188    840.0  USA  84000093.0  84050811.0  USA0206         313.0   \n\n       fi_math_score  fi_math_answered  fi_reading_score  fi_reading_answered  \\\n63653          170.0              18.0             420.0                 52.0   \n61724          150.0              24.0             320.0                 59.0   \n67846           50.0              21.0             260.0                 55.0   \n46373           20.0              16.0             260.0                 48.0   \n99188            0.0               0.0             375.0                 59.0   \n\n       fi_it_score  fi_it_answered  \n63653          0.0             0.0  \n61724          0.0             0.0  \n67846          0.0             0.0  \n46373          0.0             0.0  \n99188        160.0            27.0  "
     },
     "execution_count": 13,
     "metadata": {},
     "output_type": "execute_result"
    }
   ],
   "source": [
    "df_cog.sample(5)"
   ]
  },
  {
   "cell_type": "code",
   "execution_count": 14,
   "metadata": {},
   "outputs": [],
   "source": [
    "df_cog.to_csv(\"./data/1_processed/financial_cognitive_scores.csv\",index=False)"
   ]
  },
  {
   "cell_type": "markdown",
   "metadata": {},
   "source": [
    "# Financial Questionnaire"
   ]
  },
  {
   "cell_type": "markdown",
   "metadata": {},
   "source": [
    "- It appears that financial questionnaire `cy07_msu_flt_qqq` is already included in student questionnaire `cy07_msu_stu_qqq` which is processed in `01_data_gathering_std`"
   ]
  }
 ],
 "metadata": {
  "kernelspec": {
   "display_name": "Python 3.8.5 64-bit (conda)",
   "metadata": {
    "interpreter": {
     "hash": "d3ff5a1ce451dfff603f0aeb2fe958ed2741cc1700d7ef242fbe9997037b9eb5"
    }
   },
   "name": "python3"
  },
  "language_info": {
   "codemirror_mode": {
    "name": "ipython",
    "version": 3
   },
   "file_extension": ".py",
   "mimetype": "text/x-python",
   "name": "python",
   "nbconvert_exporter": "python",
   "pygments_lexer": "ipython3",
   "version": "3.8.5-final"
  },
  "orig_nbformat": 2
 },
 "nbformat": 4,
 "nbformat_minor": 2
}