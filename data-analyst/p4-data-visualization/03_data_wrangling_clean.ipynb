{
 "cells": [
  {
   "cell_type": "code",
   "execution_count": 1,
   "metadata": {},
   "outputs": [],
   "source": [
    "import pandas as pd\r\n",
    "import numpy as np\r\n",
    "import json"
   ]
  },
  {
   "cell_type": "markdown",
   "metadata": {},
   "source": [
    "### Load Data"
   ]
  },
  {
   "cell_type": "code",
   "execution_count": 2,
   "metadata": {},
   "outputs": [],
   "source": [
    "column_lookup = {}\r\n",
    "with open(\"./data/reference/column_lookup.txt\") as text_file:\r\n",
    "    for line in text_file:\r\n",
    "        item = json.loads(line)\r\n",
    "        column_lookup[item['column']] = item['meaning']"
   ]
  },
  {
   "cell_type": "code",
   "execution_count": 3,
   "metadata": {},
   "outputs": [],
   "source": [
    "df_student = pd.read_csv(\"./data/2_merged/student.csv\")"
   ]
  },
  {
   "cell_type": "code",
   "execution_count": 4,
   "metadata": {},
   "outputs": [
    {
     "data": {
      "text/plain": "(612004, 32)"
     },
     "execution_count": 4,
     "metadata": {},
     "output_type": "execute_result"
    }
   ],
   "source": [
    "df_student.shape"
   ]
  },
  {
   "cell_type": "code",
   "execution_count": 5,
   "metadata": {},
   "outputs": [
    {
     "data": {
      "text/plain": "21903"
     },
     "execution_count": 5,
     "metadata": {},
     "output_type": "execute_result"
    }
   ],
   "source": [
    "df_student.CNTSCHID.nunique()"
   ]
  },
  {
   "cell_type": "code",
   "execution_count": 6,
   "metadata": {},
   "outputs": [],
   "source": [
    "df_school = pd.read_csv(\"./data/2_merged/school.csv\")"
   ]
  },
  {
   "cell_type": "code",
   "execution_count": 7,
   "metadata": {},
   "outputs": [],
   "source": [
    "df_teacher = pd.read_csv(\"./data/2_merged/teacher.csv\")"
   ]
  },
  {
   "cell_type": "markdown",
   "metadata": {},
   "source": [
    "### Teacher dataframe prepare for merge"
   ]
  },
  {
   "cell_type": "code",
   "execution_count": 8,
   "metadata": {},
   "outputs": [
    {
     "name": "stdout",
     "output_type": "stream",
     "text": [
      "CNTRYID        -> Country Identifier\n",
      "CNT            -> Country code 3-character\n",
      "CNTSCHID       -> Intl. School ID\n",
      "CNTTCHID       -> Intl. Teacher ID\n",
      "TEACHERID      -> Teacher identification code\n",
      "STRATUM        -> Stratum ID 7-character (cnt + region ID + original stratum ID)\n",
      "TC001Q01NA     -> Are you female or male?\n",
      "TC002Q01NA     -> How old are you?\n",
      "TC005Q01NA     -> What is your current employment status as a teacher? My employment status at this school\n",
      "TC007Q01NA     -> How many years of work experience do you have? Year(s) working as a teacher at this school\n",
      "TC186Q01HA     -> Country of birth\n",
      "tch_satisfied  -> NEW: Does teacher find the work meaningful (higher the better)\n"
     ]
    }
   ],
   "source": [
    "# Teacher columns\r\n",
    "for column in df_teacher.columns:\r\n",
    "    print('{:<14} -> {}'.format(column, column_lookup[column]))"
   ]
  },
  {
   "cell_type": "code",
   "execution_count": 9,
   "metadata": {},
   "outputs": [],
   "source": [
    "# satisfied, age, # years as teacher\r\n",
    "df_sum_teacher = df_teacher.groupby(['CNTSCHID','CNTRYID'])[['tch_satisfied', 'TC002Q01NA', 'TC007Q01NA']].mean().reset_index()"
   ]
  },
  {
   "cell_type": "code",
   "execution_count": 10,
   "metadata": {},
   "outputs": [],
   "source": [
    "df_sum_teacher = df_sum_teacher.rename(columns={\r\n",
    "    \"tch_satisfied\": \"mean_teacher_satisfied\",\r\n",
    "    \"TC002Q01NA\": \"mean_age_of_teachers\",\r\n",
    "    \"TC007Q01NA\": \"mean_yaer_experiance\"\r\n",
    "})"
   ]
  },
  {
   "cell_type": "code",
   "execution_count": 11,
   "metadata": {},
   "outputs": [
    {
     "data": {
      "text/html": "<div>\n<style scoped>\n    .dataframe tbody tr th:only-of-type {\n        vertical-align: middle;\n    }\n\n    .dataframe tbody tr th {\n        vertical-align: top;\n    }\n\n    .dataframe thead th {\n        text-align: right;\n    }\n</style>\n<table border=\"1\" class=\"dataframe\">\n  <thead>\n    <tr style=\"text-align: right;\">\n      <th></th>\n      <th>CNTSCHID</th>\n      <th>CNTRYID</th>\n      <th>mean_teacher_satisfied</th>\n      <th>mean_age_of_teachers</th>\n      <th>mean_yaer_experiance</th>\n    </tr>\n  </thead>\n  <tbody>\n    <tr>\n      <th>0</th>\n      <td>800002.0</td>\n      <td>8.0</td>\n      <td>18.000000</td>\n      <td>47.888889</td>\n      <td>7.888889</td>\n    </tr>\n    <tr>\n      <th>1</th>\n      <td>800003.0</td>\n      <td>8.0</td>\n      <td>15.200000</td>\n      <td>42.400000</td>\n      <td>9.200000</td>\n    </tr>\n    <tr>\n      <th>2</th>\n      <td>800004.0</td>\n      <td>8.0</td>\n      <td>16.111111</td>\n      <td>36.375000</td>\n      <td>5.555556</td>\n    </tr>\n    <tr>\n      <th>3</th>\n      <td>800005.0</td>\n      <td>8.0</td>\n      <td>18.800000</td>\n      <td>40.285714</td>\n      <td>14.428571</td>\n    </tr>\n    <tr>\n      <th>4</th>\n      <td>800006.0</td>\n      <td>8.0</td>\n      <td>18.625000</td>\n      <td>39.687500</td>\n      <td>12.937500</td>\n    </tr>\n  </tbody>\n</table>\n</div>",
      "text/plain": "   CNTSCHID  CNTRYID  mean_teacher_satisfied  mean_age_of_teachers  \\\n0  800002.0      8.0               18.000000             47.888889   \n1  800003.0      8.0               15.200000             42.400000   \n2  800004.0      8.0               16.111111             36.375000   \n3  800005.0      8.0               18.800000             40.285714   \n4  800006.0      8.0               18.625000             39.687500   \n\n   mean_yaer_experiance  \n0              7.888889  \n1              9.200000  \n2              5.555556  \n3             14.428571  \n4             12.937500  "
     },
     "execution_count": 11,
     "metadata": {},
     "output_type": "execute_result"
    }
   ],
   "source": [
    "df_sum_teacher.head()"
   ]
  },
  {
   "cell_type": "markdown",
   "metadata": {},
   "source": [
    "### School dataframe prepare for merge"
   ]
  },
  {
   "cell_type": "code",
   "execution_count": 12,
   "metadata": {},
   "outputs": [
    {
     "data": {
      "text/plain": "(21903, 16)"
     },
     "execution_count": 12,
     "metadata": {},
     "output_type": "execute_result"
    }
   ],
   "source": [
    "df_school.shape"
   ]
  },
  {
   "cell_type": "code",
   "execution_count": 13,
   "metadata": {},
   "outputs": [
    {
     "name": "stdout",
     "output_type": "stream",
     "text": [
      "CNTRYID                 -> Country Identifier\n",
      "CNT                     -> Country code 3-character\n",
      "CNTSCHID                -> Intl. School ID\n",
      "CYC                     -> PISA Assessment Cycle (2 digits + 2 character Assessment type - MS/FT)\n",
      "NatCen                  -> National Centre 6-digit Code\n",
      "Region                  -> Region\n",
      "STRATUM                 -> Stratum ID 7-character (cnt + region ID + original stratum ID)\n",
      "SC001Q01TA              -> Which of the following definitions best describes the community in which your school is located?\n",
      "SC013Q01TA              -> Is your school a public or a private school?\n",
      "SC011Q01TA              -> Which of the following statements best describes the schooling available to students in your location?\n",
      "SC002Q01TA              -> As of <February 1, 2018>, what was the total school enrolment (number of students)? Number of boys\n",
      "SC002Q02TA              -> As of <February 1, 2018>, what was the total school enrolment (number of students)? Number of girls\n",
      "SC003Q01TA              -> What is the average size of <test language> classes in <national modal grade for 15-year-olds> in your school?\n",
      "education_obstacle      -> NEW: Teaching is hindered by lack of resources (0 is not hindered, higher the worse)\n",
      "problematic_students    -> NEW: Teaching is hindered because of students (0 is not hindered, higher the worse)\n",
      "degree_score_teachers   -> NEW: Score of number of teachers with degree avg to all\n"
     ]
    }
   ],
   "source": [
    "# school columns\r\n",
    "for column in df_school.columns:\r\n",
    "    print('{:<23} -> {}'.format(column, column_lookup[column]))"
   ]
  },
  {
   "cell_type": "code",
   "execution_count": 14,
   "metadata": {},
   "outputs": [],
   "source": [
    "# schoolid, public/private, class size,\r\n",
    "df_sum_school = df_school[['CNTRYID', 'CNTSCHID', 'SC013Q01TA', 'SC003Q01TA', 'education_obstacle', 'problematic_students', 'degree_score_teachers']]"
   ]
  },
  {
   "cell_type": "code",
   "execution_count": 15,
   "metadata": {},
   "outputs": [
    {
     "data": {
      "text/html": "<div>\n<style scoped>\n    .dataframe tbody tr th:only-of-type {\n        vertical-align: middle;\n    }\n\n    .dataframe tbody tr th {\n        vertical-align: top;\n    }\n\n    .dataframe thead th {\n        text-align: right;\n    }\n</style>\n<table border=\"1\" class=\"dataframe\">\n  <thead>\n    <tr style=\"text-align: right;\">\n      <th></th>\n      <th>CNTRYID</th>\n      <th>CNTSCHID</th>\n      <th>SC013Q01TA</th>\n      <th>SC003Q01TA</th>\n      <th>education_obstacle</th>\n      <th>problematic_students</th>\n      <th>degree_score_teachers</th>\n    </tr>\n  </thead>\n  <tbody>\n    <tr>\n      <th>0</th>\n      <td>8.0</td>\n      <td>800002.0</td>\n      <td>1.0</td>\n      <td>2.0</td>\n      <td>11.0</td>\n      <td>8.0</td>\n      <td>0.519231</td>\n    </tr>\n    <tr>\n      <th>1</th>\n      <td>8.0</td>\n      <td>800003.0</td>\n      <td>1.0</td>\n      <td>1.0</td>\n      <td>9.0</td>\n      <td>21.0</td>\n      <td>NaN</td>\n    </tr>\n    <tr>\n      <th>2</th>\n      <td>8.0</td>\n      <td>800004.0</td>\n      <td>1.0</td>\n      <td>2.0</td>\n      <td>8.0</td>\n      <td>10.0</td>\n      <td>2.928571</td>\n    </tr>\n    <tr>\n      <th>3</th>\n      <td>8.0</td>\n      <td>800005.0</td>\n      <td>1.0</td>\n      <td>3.0</td>\n      <td>14.0</td>\n      <td>11.0</td>\n      <td>3.371429</td>\n    </tr>\n    <tr>\n      <th>4</th>\n      <td>8.0</td>\n      <td>800006.0</td>\n      <td>1.0</td>\n      <td>6.0</td>\n      <td>6.0</td>\n      <td>8.0</td>\n      <td>0.750000</td>\n    </tr>\n  </tbody>\n</table>\n</div>",
      "text/plain": "   CNTRYID  CNTSCHID  SC013Q01TA  SC003Q01TA  education_obstacle  \\\n0      8.0  800002.0         1.0         2.0                11.0   \n1      8.0  800003.0         1.0         1.0                 9.0   \n2      8.0  800004.0         1.0         2.0                 8.0   \n3      8.0  800005.0         1.0         3.0                14.0   \n4      8.0  800006.0         1.0         6.0                 6.0   \n\n   problematic_students  degree_score_teachers  \n0                   8.0               0.519231  \n1                  21.0                    NaN  \n2                  10.0               2.928571  \n3                  11.0               3.371429  \n4                   8.0               0.750000  "
     },
     "execution_count": 15,
     "metadata": {},
     "output_type": "execute_result"
    }
   ],
   "source": [
    "df_sum_school.head()"
   ]
  },
  {
   "cell_type": "markdown",
   "metadata": {},
   "source": [
    "### Student dataframe prepare for merge"
   ]
  },
  {
   "cell_type": "code",
   "execution_count": 16,
   "metadata": {},
   "outputs": [
    {
     "data": {
      "text/plain": "(612004, 30)"
     },
     "execution_count": 16,
     "metadata": {},
     "output_type": "execute_result"
    }
   ],
   "source": [
    "# dropping OECD contry and birth month columns\r\n",
    "df_student.drop(columns=['OECD', 'ST003D02T'], inplace=True, axis=1)\r\n",
    "df_student.shape"
   ]
  },
  {
   "cell_type": "code",
   "execution_count": 17,
   "metadata": {},
   "outputs": [
    {
     "name": "stdout",
     "output_type": "stream",
     "text": [
      "CNTRYID              -> Country Identifier\n",
      "CNT                  -> Country code 3-character\n",
      "CNTSCHID             -> Intl. School ID\n",
      "CNTSTUID             -> Intl. Student ID\n",
      "STRATUM              -> Stratum ID 7-character (cnt + region ID + original stratum ID)\n",
      "ST001D01T            -> Student International Grade (Derived)\n",
      "ST003D03T            -> Student (Standardized) Birth -Year\n",
      "ST004D01T            -> Student (Standardized) Gender\n",
      "PA042Q01TA           -> What is your annual household income?\n",
      "ESCS                 -> Index of economic, social and cultural status\n",
      "WEALTH               -> Wealth\n",
      "PV1MATH              -> Plausible Value 1 in Mathematics\n",
      "PV1READ              -> Plausible Value 1 in Reading\n",
      "PV1SCIE              -> Plausible Value 1 in Science\n",
      "PV1RCLI              -> Plausible Value 1 in Cognitive Process Subscale of Reading - Locate Information\n",
      "PV1RCUN              -> Plausible Value 1 in Cognitive Process Subscale of Reading - Understand\n",
      "PV1RCER              -> Plausible Value 1 in Cognitive Process Subscale of Reading - Evaluate and Reflect\n",
      "math_score           -> NEW: custom calcualated math score\n",
      "math_answered        -> NEW: number of math questions answered\n",
      "reading_score        -> NEW: custom calcualated reading score\n",
      "reading_answered     -> NEW: number of reading questions answered\n",
      "science_score        -> NEW:custom calcualated science score\n",
      "science_answered     -> NEW: number of science questions answered\n",
      "home_art             -> NEW: Art is important at home, higher the better\n",
      "bad_home_conditions  -> NEW: home is not suitable for studing, higher the worst \n",
      "school_bad_time      -> NEW: Student is having bad time at school (bullying, friendship) higher the worst\n",
      "emotional_status     -> NEW: Emotional status of student. higher the better\n",
      "family_hi_ed         -> NEW: high education in the family, higher the better\n",
      "quality_tch          -> NEW: Student believes teachers are professionals\n",
      "reading_not_easy     -> NEW: Student finds reading tasks hard, higher the harder \n"
     ]
    }
   ],
   "source": [
    "# Teacher columns\r\n",
    "for column in df_student.columns:\r\n",
    "    print('{:<20} -> {}'.format(column, column_lookup[column]))"
   ]
  },
  {
   "cell_type": "markdown",
   "metadata": {},
   "source": [
    "### Merge dataframes"
   ]
  },
  {
   "cell_type": "code",
   "execution_count": 18,
   "metadata": {},
   "outputs": [
    {
     "data": {
      "text/plain": "(612004, 30)"
     },
     "execution_count": 18,
     "metadata": {},
     "output_type": "execute_result"
    }
   ],
   "source": [
    "df_student.shape"
   ]
  },
  {
   "cell_type": "code",
   "execution_count": 19,
   "metadata": {},
   "outputs": [
    {
     "data": {
      "text/plain": "(21903, 7)"
     },
     "execution_count": 19,
     "metadata": {},
     "output_type": "execute_result"
    }
   ],
   "source": [
    "df_sum_school.shape"
   ]
  },
  {
   "cell_type": "code",
   "execution_count": 20,
   "metadata": {},
   "outputs": [
    {
     "data": {
      "text/plain": "(612004, 35)"
     },
     "execution_count": 20,
     "metadata": {},
     "output_type": "execute_result"
    }
   ],
   "source": [
    "df_final = pd.merge(df_student, df_sum_school, on=[\"CNTSCHID\",\"CNTRYID\"], how=\"outer\")\r\n",
    "df_final.shape"
   ]
  },
  {
   "cell_type": "code",
   "execution_count": 21,
   "metadata": {},
   "outputs": [
    {
     "data": {
      "text/plain": "(612004, 38)"
     },
     "execution_count": 21,
     "metadata": {},
     "output_type": "execute_result"
    }
   ],
   "source": [
    "df_final = pd.merge(df_final, df_sum_teacher, on=[\"CNTSCHID\",\"CNTRYID\"], how=\"outer\")\r\n",
    "df_final.shape"
   ]
  },
  {
   "cell_type": "code",
   "execution_count": 22,
   "metadata": {},
   "outputs": [
    {
     "data": {
      "text/plain": "20"
     },
     "execution_count": 22,
     "metadata": {},
     "output_type": "execute_result"
    }
   ],
   "source": [
    "pd.get_option(\"display.max_columns\")\r\n"
   ]
  },
  {
   "cell_type": "code",
   "execution_count": 23,
   "metadata": {},
   "outputs": [],
   "source": [
    "pd.set_option('display.max_columns', 40)\r\n",
    "pd.set_option('display.max_rows', 40)"
   ]
  },
  {
   "cell_type": "code",
   "execution_count": 24,
   "metadata": {},
   "outputs": [
    {
     "data": {
      "text/html": "<div>\n<style scoped>\n    .dataframe tbody tr th:only-of-type {\n        vertical-align: middle;\n    }\n\n    .dataframe tbody tr th {\n        vertical-align: top;\n    }\n\n    .dataframe thead th {\n        text-align: right;\n    }\n</style>\n<table border=\"1\" class=\"dataframe\">\n  <thead>\n    <tr style=\"text-align: right;\">\n      <th></th>\n      <th>CNTRYID</th>\n      <th>CNT</th>\n      <th>CNTSCHID</th>\n      <th>CNTSTUID</th>\n      <th>STRATUM</th>\n      <th>ST001D01T</th>\n      <th>ST003D03T</th>\n      <th>ST004D01T</th>\n      <th>PA042Q01TA</th>\n      <th>ESCS</th>\n      <th>WEALTH</th>\n      <th>PV1MATH</th>\n      <th>PV1READ</th>\n      <th>PV1SCIE</th>\n      <th>PV1RCLI</th>\n      <th>PV1RCUN</th>\n      <th>PV1RCER</th>\n      <th>math_score</th>\n      <th>math_answered</th>\n      <th>reading_score</th>\n      <th>reading_answered</th>\n      <th>science_score</th>\n      <th>science_answered</th>\n      <th>home_art</th>\n      <th>bad_home_conditions</th>\n      <th>school_bad_time</th>\n      <th>emotional_status</th>\n      <th>family_hi_ed</th>\n      <th>quality_tch</th>\n      <th>reading_not_easy</th>\n      <th>SC013Q01TA</th>\n      <th>SC003Q01TA</th>\n      <th>education_obstacle</th>\n      <th>problematic_students</th>\n      <th>degree_score_teachers</th>\n      <th>mean_teacher_satisfied</th>\n      <th>mean_age_of_teachers</th>\n      <th>mean_yaer_experiance</th>\n    </tr>\n  </thead>\n  <tbody>\n    <tr>\n      <th>319777</th>\n      <td>442.0</td>\n      <td>LUX</td>\n      <td>44200036.0</td>\n      <td>44205609.0</td>\n      <td>LUX0101</td>\n      <td>10.0</td>\n      <td>2002.0</td>\n      <td>1.0</td>\n      <td>6.0</td>\n      <td>1.0647</td>\n      <td>0.8925</td>\n      <td>576.317</td>\n      <td>740.079</td>\n      <td>668.413</td>\n      <td>629.114</td>\n      <td>639.622</td>\n      <td>646.659</td>\n      <td>110.0</td>\n      <td>24.0</td>\n      <td>530.0</td>\n      <td>56.0</td>\n      <td>0.0</td>\n      <td>0.0</td>\n      <td>9.0</td>\n      <td>0.0</td>\n      <td>0.0</td>\n      <td>0.326087</td>\n      <td>6.0</td>\n      <td>1.0</td>\n      <td>4.0</td>\n      <td>1.0</td>\n      <td>3.0</td>\n      <td>9.0</td>\n      <td>13.0</td>\n      <td>4.660000</td>\n      <td>NaN</td>\n      <td>NaN</td>\n      <td>NaN</td>\n    </tr>\n    <tr>\n      <th>203485</th>\n      <td>300.0</td>\n      <td>GRC</td>\n      <td>30000063.0</td>\n      <td>30004338.0</td>\n      <td>GRC0003</td>\n      <td>8.0</td>\n      <td>2002.0</td>\n      <td>2.0</td>\n      <td>NaN</td>\n      <td>-1.7070</td>\n      <td>-0.6586</td>\n      <td>340.295</td>\n      <td>235.675</td>\n      <td>324.431</td>\n      <td>260.513</td>\n      <td>231.278</td>\n      <td>248.723</td>\n      <td>0.0</td>\n      <td>0.0</td>\n      <td>200.0</td>\n      <td>53.0</td>\n      <td>0.0</td>\n      <td>0.0</td>\n      <td>4.0</td>\n      <td>2.0</td>\n      <td>1.0</td>\n      <td>0.847826</td>\n      <td>2.0</td>\n      <td>5.0</td>\n      <td>4.0</td>\n      <td>1.0</td>\n      <td>3.0</td>\n      <td>5.0</td>\n      <td>11.0</td>\n      <td>NaN</td>\n      <td>NaN</td>\n      <td>NaN</td>\n      <td>NaN</td>\n    </tr>\n    <tr>\n      <th>9039</th>\n      <td>31.0</td>\n      <td>QAZ</td>\n      <td>3100061.0</td>\n      <td>3101086.0</td>\n      <td>QAZ0204</td>\n      <td>9.0</td>\n      <td>2002.0</td>\n      <td>2.0</td>\n      <td>NaN</td>\n      <td>-1.5716</td>\n      <td>-1.6272</td>\n      <td>449.599</td>\n      <td>414.523</td>\n      <td>416.513</td>\n      <td>308.124</td>\n      <td>334.603</td>\n      <td>293.464</td>\n      <td>70.0</td>\n      <td>22.0</td>\n      <td>280.0</td>\n      <td>48.0</td>\n      <td>0.0</td>\n      <td>0.0</td>\n      <td>0.0</td>\n      <td>0.0</td>\n      <td>6.0</td>\n      <td>NaN</td>\n      <td>2.0</td>\n      <td>5.0</td>\n      <td>5.0</td>\n      <td>1.0</td>\n      <td>3.0</td>\n      <td>7.0</td>\n      <td>7.0</td>\n      <td>NaN</td>\n      <td>17.263158</td>\n      <td>35.238095</td>\n      <td>9.285714</td>\n    </tr>\n    <tr>\n      <th>496036</th>\n      <td>724.0</td>\n      <td>ESP</td>\n      <td>72400018.0</td>\n      <td>72401551.0</td>\n      <td>ESP0305</td>\n      <td>9.0</td>\n      <td>2002.0</td>\n      <td>1.0</td>\n      <td>NaN</td>\n      <td>-0.1921</td>\n      <td>-0.4487</td>\n      <td>304.428</td>\n      <td>350.919</td>\n      <td>348.570</td>\n      <td>365.829</td>\n      <td>338.628</td>\n      <td>303.047</td>\n      <td>20.0</td>\n      <td>8.0</td>\n      <td>300.0</td>\n      <td>49.0</td>\n      <td>60.0</td>\n      <td>15.0</td>\n      <td>2.0</td>\n      <td>1.0</td>\n      <td>0.0</td>\n      <td>0.673913</td>\n      <td>5.0</td>\n      <td>2.0</td>\n      <td>4.0</td>\n      <td>1.0</td>\n      <td>2.0</td>\n      <td>14.0</td>\n      <td>12.0</td>\n      <td>NaN</td>\n      <td>15.055556</td>\n      <td>48.333333</td>\n      <td>9.111111</td>\n    </tr>\n    <tr>\n      <th>224094</th>\n      <td>360.0</td>\n      <td>IDN</td>\n      <td>36000158.0</td>\n      <td>36012718.0</td>\n      <td>IDN0101</td>\n      <td>9.0</td>\n      <td>2002.0</td>\n      <td>1.0</td>\n      <td>NaN</td>\n      <td>-1.0856</td>\n      <td>-2.8136</td>\n      <td>380.090</td>\n      <td>293.733</td>\n      <td>401.881</td>\n      <td>299.146</td>\n      <td>295.758</td>\n      <td>302.770</td>\n      <td>0.0</td>\n      <td>0.0</td>\n      <td>240.0</td>\n      <td>56.0</td>\n      <td>0.0</td>\n      <td>0.0</td>\n      <td>4.0</td>\n      <td>2.0</td>\n      <td>0.0</td>\n      <td>0.934783</td>\n      <td>0.0</td>\n      <td>4.0</td>\n      <td>3.0</td>\n      <td>1.0</td>\n      <td>2.0</td>\n      <td>12.0</td>\n      <td>9.0</td>\n      <td>1.410256</td>\n      <td>NaN</td>\n      <td>NaN</td>\n      <td>NaN</td>\n    </tr>\n    <tr>\n      <th>537780</th>\n      <td>784.0</td>\n      <td>ARE</td>\n      <td>78400454.0</td>\n      <td>78414715.0</td>\n      <td>ARE0109</td>\n      <td>10.0</td>\n      <td>2002.0</td>\n      <td>1.0</td>\n      <td>NaN</td>\n      <td>1.2389</td>\n      <td>0.5604</td>\n      <td>448.906</td>\n      <td>425.784</td>\n      <td>393.940</td>\n      <td>415.947</td>\n      <td>329.447</td>\n      <td>422.554</td>\n      <td>60.0</td>\n      <td>22.0</td>\n      <td>310.0</td>\n      <td>56.0</td>\n      <td>0.0</td>\n      <td>0.0</td>\n      <td>4.0</td>\n      <td>0.0</td>\n      <td>0.0</td>\n      <td>NaN</td>\n      <td>13.0</td>\n      <td>4.0</td>\n      <td>2.0</td>\n      <td>2.0</td>\n      <td>4.0</td>\n      <td>6.0</td>\n      <td>8.0</td>\n      <td>3.285000</td>\n      <td>17.666667</td>\n      <td>45.400000</td>\n      <td>12.434783</td>\n    </tr>\n    <tr>\n      <th>378130</th>\n      <td>578.0</td>\n      <td>NOR</td>\n      <td>57800168.0</td>\n      <td>57806776.0</td>\n      <td>NOR0001</td>\n      <td>10.0</td>\n      <td>2002.0</td>\n      <td>1.0</td>\n      <td>NaN</td>\n      <td>NaN</td>\n      <td>NaN</td>\n      <td>442.211</td>\n      <td>457.235</td>\n      <td>365.098</td>\n      <td>515.598</td>\n      <td>475.602</td>\n      <td>474.949</td>\n      <td>50.0</td>\n      <td>24.0</td>\n      <td>390.0</td>\n      <td>57.0</td>\n      <td>0.0</td>\n      <td>0.0</td>\n      <td>0.0</td>\n      <td>0.0</td>\n      <td>0.0</td>\n      <td>NaN</td>\n      <td>0.0</td>\n      <td>0.0</td>\n      <td>0.0</td>\n      <td>NaN</td>\n      <td>3.0</td>\n      <td>6.0</td>\n      <td>12.0</td>\n      <td>NaN</td>\n      <td>NaN</td>\n      <td>NaN</td>\n      <td>NaN</td>\n    </tr>\n    <tr>\n      <th>203801</th>\n      <td>344.0</td>\n      <td>HKG</td>\n      <td>34400051.0</td>\n      <td>34400807.0</td>\n      <td>HKG0002</td>\n      <td>10.0</td>\n      <td>2002.0</td>\n      <td>1.0</td>\n      <td>6.0</td>\n      <td>0.1249</td>\n      <td>-0.8965</td>\n      <td>493.458</td>\n      <td>449.842</td>\n      <td>484.092</td>\n      <td>406.396</td>\n      <td>452.361</td>\n      <td>461.103</td>\n      <td>60.0</td>\n      <td>21.0</td>\n      <td>360.0</td>\n      <td>51.0</td>\n      <td>0.0</td>\n      <td>0.0</td>\n      <td>4.0</td>\n      <td>2.0</td>\n      <td>17.0</td>\n      <td>0.326087</td>\n      <td>4.0</td>\n      <td>1.0</td>\n      <td>3.0</td>\n      <td>2.0</td>\n      <td>4.0</td>\n      <td>11.0</td>\n      <td>9.0</td>\n      <td>4.000000</td>\n      <td>13.380952</td>\n      <td>36.095238</td>\n      <td>10.666667</td>\n    </tr>\n    <tr>\n      <th>185234</th>\n      <td>250.0</td>\n      <td>FRA</td>\n      <td>25000024.0</td>\n      <td>25003342.0</td>\n      <td>FRA0203</td>\n      <td>10.0</td>\n      <td>2002.0</td>\n      <td>2.0</td>\n      <td>NaN</td>\n      <td>-0.3899</td>\n      <td>0.7128</td>\n      <td>514.807</td>\n      <td>482.369</td>\n      <td>501.660</td>\n      <td>507.803</td>\n      <td>488.060</td>\n      <td>509.847</td>\n      <td>140.0</td>\n      <td>21.0</td>\n      <td>430.0</td>\n      <td>58.0</td>\n      <td>0.0</td>\n      <td>0.0</td>\n      <td>3.0</td>\n      <td>0.0</td>\n      <td>0.0</td>\n      <td>0.760870</td>\n      <td>0.0</td>\n      <td>5.0</td>\n      <td>5.0</td>\n      <td>1.0</td>\n      <td>3.0</td>\n      <td>13.0</td>\n      <td>17.0</td>\n      <td>NaN</td>\n      <td>NaN</td>\n      <td>NaN</td>\n      <td>NaN</td>\n    </tr>\n    <tr>\n      <th>359714</th>\n      <td>504.0</td>\n      <td>MAR</td>\n      <td>50400164.0</td>\n      <td>50405608.0</td>\n      <td>MAR0004</td>\n      <td>9.0</td>\n      <td>2002.0</td>\n      <td>2.0</td>\n      <td>NaN</td>\n      <td>-0.1405</td>\n      <td>0.2361</td>\n      <td>359.963</td>\n      <td>318.778</td>\n      <td>326.194</td>\n      <td>242.261</td>\n      <td>269.418</td>\n      <td>251.766</td>\n      <td>0.0</td>\n      <td>0.0</td>\n      <td>190.0</td>\n      <td>47.0</td>\n      <td>50.0</td>\n      <td>35.0</td>\n      <td>1.0</td>\n      <td>3.0</td>\n      <td>0.0</td>\n      <td>0.760870</td>\n      <td>5.0</td>\n      <td>4.0</td>\n      <td>4.0</td>\n      <td>1.0</td>\n      <td>6.0</td>\n      <td>14.0</td>\n      <td>21.0</td>\n      <td>0.230769</td>\n      <td>19.333333</td>\n      <td>51.187500</td>\n      <td>3.733333</td>\n    </tr>\n  </tbody>\n</table>\n</div>",
      "text/plain": "        CNTRYID  CNT    CNTSCHID    CNTSTUID  STRATUM  ST001D01T  ST003D03T  \\\n319777    442.0  LUX  44200036.0  44205609.0  LUX0101       10.0     2002.0   \n203485    300.0  GRC  30000063.0  30004338.0  GRC0003        8.0     2002.0   \n9039       31.0  QAZ   3100061.0   3101086.0  QAZ0204        9.0     2002.0   \n496036    724.0  ESP  72400018.0  72401551.0  ESP0305        9.0     2002.0   \n224094    360.0  IDN  36000158.0  36012718.0  IDN0101        9.0     2002.0   \n537780    784.0  ARE  78400454.0  78414715.0  ARE0109       10.0     2002.0   \n378130    578.0  NOR  57800168.0  57806776.0  NOR0001       10.0     2002.0   \n203801    344.0  HKG  34400051.0  34400807.0  HKG0002       10.0     2002.0   \n185234    250.0  FRA  25000024.0  25003342.0  FRA0203       10.0     2002.0   \n359714    504.0  MAR  50400164.0  50405608.0  MAR0004        9.0     2002.0   \n\n        ST004D01T  PA042Q01TA    ESCS  WEALTH  PV1MATH  PV1READ  PV1SCIE  \\\n319777        1.0         6.0  1.0647  0.8925  576.317  740.079  668.413   \n203485        2.0         NaN -1.7070 -0.6586  340.295  235.675  324.431   \n9039          2.0         NaN -1.5716 -1.6272  449.599  414.523  416.513   \n496036        1.0         NaN -0.1921 -0.4487  304.428  350.919  348.570   \n224094        1.0         NaN -1.0856 -2.8136  380.090  293.733  401.881   \n537780        1.0         NaN  1.2389  0.5604  448.906  425.784  393.940   \n378130        1.0         NaN     NaN     NaN  442.211  457.235  365.098   \n203801        1.0         6.0  0.1249 -0.8965  493.458  449.842  484.092   \n185234        2.0         NaN -0.3899  0.7128  514.807  482.369  501.660   \n359714        2.0         NaN -0.1405  0.2361  359.963  318.778  326.194   \n\n        PV1RCLI  PV1RCUN  PV1RCER  math_score  math_answered  reading_score  \\\n319777  629.114  639.622  646.659       110.0           24.0          530.0   \n203485  260.513  231.278  248.723         0.0            0.0          200.0   \n9039    308.124  334.603  293.464        70.0           22.0          280.0   \n496036  365.829  338.628  303.047        20.0            8.0          300.0   \n224094  299.146  295.758  302.770         0.0            0.0          240.0   \n537780  415.947  329.447  422.554        60.0           22.0          310.0   \n378130  515.598  475.602  474.949        50.0           24.0          390.0   \n203801  406.396  452.361  461.103        60.0           21.0          360.0   \n185234  507.803  488.060  509.847       140.0           21.0          430.0   \n359714  242.261  269.418  251.766         0.0            0.0          190.0   \n\n        reading_answered  science_score  science_answered  home_art  \\\n319777              56.0            0.0               0.0       9.0   \n203485              53.0            0.0               0.0       4.0   \n9039                48.0            0.0               0.0       0.0   \n496036              49.0           60.0              15.0       2.0   \n224094              56.0            0.0               0.0       4.0   \n537780              56.0            0.0               0.0       4.0   \n378130              57.0            0.0               0.0       0.0   \n203801              51.0            0.0               0.0       4.0   \n185234              58.0            0.0               0.0       3.0   \n359714              47.0           50.0              35.0       1.0   \n\n        bad_home_conditions  school_bad_time  emotional_status  family_hi_ed  \\\n319777                  0.0              0.0          0.326087           6.0   \n203485                  2.0              1.0          0.847826           2.0   \n9039                    0.0              6.0               NaN           2.0   \n496036                  1.0              0.0          0.673913           5.0   \n224094                  2.0              0.0          0.934783           0.0   \n537780                  0.0              0.0               NaN          13.0   \n378130                  0.0              0.0               NaN           0.0   \n203801                  2.0             17.0          0.326087           4.0   \n185234                  0.0              0.0          0.760870           0.0   \n359714                  3.0              0.0          0.760870           5.0   \n\n        quality_tch  reading_not_easy  SC013Q01TA  SC003Q01TA  \\\n319777          1.0               4.0         1.0         3.0   \n203485          5.0               4.0         1.0         3.0   \n9039            5.0               5.0         1.0         3.0   \n496036          2.0               4.0         1.0         2.0   \n224094          4.0               3.0         1.0         2.0   \n537780          4.0               2.0         2.0         4.0   \n378130          0.0               0.0         NaN         3.0   \n203801          1.0               3.0         2.0         4.0   \n185234          5.0               5.0         1.0         3.0   \n359714          4.0               4.0         1.0         6.0   \n\n        education_obstacle  problematic_students  degree_score_teachers  \\\n319777                 9.0                  13.0               4.660000   \n203485                 5.0                  11.0                    NaN   \n9039                   7.0                   7.0                    NaN   \n496036                14.0                  12.0                    NaN   \n224094                12.0                   9.0               1.410256   \n537780                 6.0                   8.0               3.285000   \n378130                 6.0                  12.0                    NaN   \n203801                11.0                   9.0               4.000000   \n185234                13.0                  17.0                    NaN   \n359714                14.0                  21.0               0.230769   \n\n        mean_teacher_satisfied  mean_age_of_teachers  mean_yaer_experiance  \n319777                     NaN                   NaN                   NaN  \n203485                     NaN                   NaN                   NaN  \n9039                 17.263158             35.238095              9.285714  \n496036               15.055556             48.333333              9.111111  \n224094                     NaN                   NaN                   NaN  \n537780               17.666667             45.400000             12.434783  \n378130                     NaN                   NaN                   NaN  \n203801               13.380952             36.095238             10.666667  \n185234                     NaN                   NaN                   NaN  \n359714               19.333333             51.187500              3.733333  "
     },
     "execution_count": 24,
     "metadata": {},
     "output_type": "execute_result"
    }
   ],
   "source": [
    "df_final.sample(10)"
   ]
  },
  {
   "cell_type": "markdown",
   "metadata": {},
   "source": [
    "### Explore"
   ]
  },
  {
   "cell_type": "code",
   "execution_count": 25,
   "metadata": {},
   "outputs": [
    {
     "name": "stdout",
     "output_type": "stream",
     "text": [
      "<class 'pandas.core.frame.DataFrame'>\n",
      "Int64Index: 612004 entries, 0 to 612003\n",
      "Data columns (total 38 columns):\n",
      " #   Column                  Non-Null Count   Dtype  \n",
      "---  ------                  --------------   -----  \n",
      " 0   CNTRYID                 612004 non-null  float64\n",
      " 1   CNT                     612004 non-null  object \n",
      " 2   CNTSCHID                612004 non-null  float64\n",
      " 3   CNTSTUID                612004 non-null  float64\n",
      " 4   STRATUM                 612004 non-null  object \n",
      " 5   ST001D01T               612004 non-null  float64\n",
      " 6   ST003D03T               612004 non-null  float64\n",
      " 7   ST004D01T               612002 non-null  float64\n",
      " 8   PA042Q01TA              67913 non-null   float64\n",
      " 9   ESCS                    597625 non-null  float64\n",
      " 10  WEALTH                  598267 non-null  float64\n",
      " 11  PV1MATH                 606627 non-null  float64\n",
      " 12  PV1READ                 606627 non-null  float64\n",
      " 13  PV1SCIE                 606627 non-null  float64\n",
      " 14  PV1RCLI                 551930 non-null  float64\n",
      " 15  PV1RCUN                 551930 non-null  float64\n",
      " 16  PV1RCER                 551930 non-null  float64\n",
      " 17  math_score              606627 non-null  float64\n",
      " 18  math_answered           606627 non-null  float64\n",
      " 19  reading_score           606627 non-null  float64\n",
      " 20  reading_answered        606627 non-null  float64\n",
      " 21  science_score           606627 non-null  float64\n",
      " 22  science_answered        606627 non-null  float64\n",
      " 23  home_art                612004 non-null  float64\n",
      " 24  bad_home_conditions     612004 non-null  float64\n",
      " 25  school_bad_time         612004 non-null  float64\n",
      " 26  emotional_status        493202 non-null  float64\n",
      " 27  family_hi_ed            612004 non-null  float64\n",
      " 28  quality_tch             612004 non-null  float64\n",
      " 29  reading_not_easy        612004 non-null  float64\n",
      " 30  SC013Q01TA              552772 non-null  float64\n",
      " 31  SC003Q01TA              547272 non-null  float64\n",
      " 32  education_obstacle      580015 non-null  float64\n",
      " 33  problematic_students    580082 non-null  float64\n",
      " 34  degree_score_teachers   367167 non-null  float64\n",
      " 35  mean_teacher_satisfied  154500 non-null  float64\n",
      " 36  mean_age_of_teachers    154519 non-null  float64\n",
      " 37  mean_yaer_experiance    154517 non-null  float64\n",
      "dtypes: float64(36), object(2)\n",
      "memory usage: 182.1+ MB\n"
     ]
    }
   ],
   "source": [
    "df_final.info()"
   ]
  },
  {
   "cell_type": "code",
   "execution_count": 26,
   "metadata": {},
   "outputs": [
    {
     "data": {
      "text/plain": "'What is your annual household income?'"
     },
     "execution_count": 26,
     "metadata": {},
     "output_type": "execute_result"
    }
   ],
   "source": [
    "column_lookup['PA042Q01TA']"
   ]
  },
  {
   "cell_type": "code",
   "execution_count": 27,
   "metadata": {},
   "outputs": [
    {
     "data": {
      "text/plain": "0"
     },
     "execution_count": 27,
     "metadata": {},
     "output_type": "execute_result"
    }
   ],
   "source": [
    "df_final.duplicated().sum()"
   ]
  },
  {
   "cell_type": "code",
   "execution_count": 28,
   "metadata": {},
   "outputs": [
    {
     "data": {
      "text/plain": "21903"
     },
     "execution_count": 28,
     "metadata": {},
     "output_type": "execute_result"
    }
   ],
   "source": [
    "df_final.CNTSCHID.nunique()"
   ]
  },
  {
   "cell_type": "markdown",
   "metadata": {},
   "source": [
    "- unique student id should be country + studentId"
   ]
  },
  {
   "cell_type": "code",
   "execution_count": 33,
   "metadata": {},
   "outputs": [
    {
     "data": {
      "text/html": "<div>\n<style scoped>\n    .dataframe tbody tr th:only-of-type {\n        vertical-align: middle;\n    }\n\n    .dataframe tbody tr th {\n        vertical-align: top;\n    }\n\n    .dataframe thead th {\n        text-align: right;\n    }\n</style>\n<table border=\"1\" class=\"dataframe\">\n  <thead>\n    <tr style=\"text-align: right;\">\n      <th></th>\n      <th>CNTRYID</th>\n      <th>CNTSCHID</th>\n      <th>CNTSTUID</th>\n      <th>ST001D01T</th>\n      <th>ST003D03T</th>\n      <th>ST004D01T</th>\n      <th>PA042Q01TA</th>\n      <th>ESCS</th>\n      <th>WEALTH</th>\n      <th>PV1MATH</th>\n      <th>PV1READ</th>\n      <th>PV1SCIE</th>\n      <th>PV1RCLI</th>\n      <th>PV1RCUN</th>\n      <th>PV1RCER</th>\n      <th>math_score</th>\n      <th>math_answered</th>\n      <th>reading_score</th>\n      <th>reading_answered</th>\n      <th>science_score</th>\n      <th>science_answered</th>\n      <th>home_art</th>\n      <th>bad_home_conditions</th>\n      <th>school_bad_time</th>\n      <th>emotional_status</th>\n      <th>family_hi_ed</th>\n      <th>quality_tch</th>\n      <th>reading_not_easy</th>\n      <th>SC013Q01TA</th>\n      <th>SC003Q01TA</th>\n      <th>education_obstacle</th>\n      <th>problematic_students</th>\n      <th>degree_score_teachers</th>\n      <th>mean_teacher_satisfied</th>\n      <th>mean_age_of_teachers</th>\n      <th>mean_yaer_experiance</th>\n    </tr>\n  </thead>\n  <tbody>\n    <tr>\n      <th>count</th>\n      <td>612004.000000</td>\n      <td>6.120040e+05</td>\n      <td>6.120040e+05</td>\n      <td>612004.000000</td>\n      <td>612004.000000</td>\n      <td>612002.000000</td>\n      <td>67913.000000</td>\n      <td>597625.000000</td>\n      <td>598267.000000</td>\n      <td>606627.000000</td>\n      <td>606627.000000</td>\n      <td>606627.000000</td>\n      <td>551930.000000</td>\n      <td>551930.000000</td>\n      <td>551930.000000</td>\n      <td>606627.000000</td>\n      <td>606627.000000</td>\n      <td>606627.000000</td>\n      <td>606627.00000</td>\n      <td>606627.000000</td>\n      <td>606627.000000</td>\n      <td>612004.000000</td>\n      <td>612004.000000</td>\n      <td>612004.000000</td>\n      <td>493202.000000</td>\n      <td>612004.000000</td>\n      <td>612004.000000</td>\n      <td>612004.000000</td>\n      <td>552772.000000</td>\n      <td>547272.000000</td>\n      <td>580015.000000</td>\n      <td>580082.000000</td>\n      <td>367167.000000</td>\n      <td>154500.000000</td>\n      <td>154519.000000</td>\n      <td>154517.000000</td>\n    </tr>\n    <tr>\n      <th>mean</th>\n      <td>448.931030</td>\n      <td>4.489354e+07</td>\n      <td>4.490023e+07</td>\n      <td>11.077864</td>\n      <td>2002.065446</td>\n      <td>1.501704</td>\n      <td>3.136130</td>\n      <td>-0.280831</td>\n      <td>-0.431981</td>\n      <td>461.220395</td>\n      <td>456.123004</td>\n      <td>460.694397</td>\n      <td>459.682556</td>\n      <td>460.561792</td>\n      <td>463.577117</td>\n      <td>41.706535</td>\n      <td>9.306081</td>\n      <td>353.154410</td>\n      <td>50.96847</td>\n      <td>71.515338</td>\n      <td>14.902154</td>\n      <td>3.006786</td>\n      <td>0.842957</td>\n      <td>1.284756</td>\n      <td>0.694637</td>\n      <td>2.551103</td>\n      <td>2.486846</td>\n      <td>2.943095</td>\n      <td>1.196631</td>\n      <td>4.155212</td>\n      <td>9.755382</td>\n      <td>12.908263</td>\n      <td>2.561386</td>\n      <td>16.848956</td>\n      <td>43.249365</td>\n      <td>9.620907</td>\n    </tr>\n    <tr>\n      <th>std</th>\n      <td>269.865482</td>\n      <td>2.698691e+07</td>\n      <td>2.698768e+07</td>\n      <td>11.046151</td>\n      <td>0.247740</td>\n      <td>0.499998</td>\n      <td>1.925627</td>\n      <td>1.115985</td>\n      <td>1.240680</td>\n      <td>104.359230</td>\n      <td>108.047528</td>\n      <td>102.664640</td>\n      <td>113.182050</td>\n      <td>110.357085</td>\n      <td>113.436604</td>\n      <td>56.118004</td>\n      <td>10.213900</td>\n      <td>122.518369</td>\n      <td>11.11526</td>\n      <td>93.849470</td>\n      <td>16.490148</td>\n      <td>2.270446</td>\n      <td>1.264016</td>\n      <td>2.617000</td>\n      <td>0.225618</td>\n      <td>2.918103</td>\n      <td>2.194162</td>\n      <td>1.679572</td>\n      <td>0.397451</td>\n      <td>1.982413</td>\n      <td>3.487602</td>\n      <td>3.920094</td>\n      <td>1.500569</td>\n      <td>1.889475</td>\n      <td>4.951974</td>\n      <td>4.735149</td>\n    </tr>\n    <tr>\n      <th>min</th>\n      <td>8.000000</td>\n      <td>8.000020e+05</td>\n      <td>8.000010e+05</td>\n      <td>7.000000</td>\n      <td>2001.000000</td>\n      <td>1.000000</td>\n      <td>1.000000</td>\n      <td>-8.173400</td>\n      <td>-7.546500</td>\n      <td>24.743000</td>\n      <td>0.000000</td>\n      <td>58.736000</td>\n      <td>0.000000</td>\n      <td>43.117000</td>\n      <td>24.794000</td>\n      <td>0.000000</td>\n      <td>0.000000</td>\n      <td>0.000000</td>\n      <td>0.00000</td>\n      <td>0.000000</td>\n      <td>0.000000</td>\n      <td>0.000000</td>\n      <td>0.000000</td>\n      <td>0.000000</td>\n      <td>0.065217</td>\n      <td>0.000000</td>\n      <td>0.000000</td>\n      <td>0.000000</td>\n      <td>1.000000</td>\n      <td>1.000000</td>\n      <td>5.000000</td>\n      <td>6.000000</td>\n      <td>0.000000</td>\n      <td>8.000000</td>\n      <td>26.000000</td>\n      <td>0.000000</td>\n    </tr>\n    <tr>\n      <th>25%</th>\n      <td>203.000000</td>\n      <td>2.030021e+07</td>\n      <td>2.030481e+07</td>\n      <td>9.000000</td>\n      <td>2002.000000</td>\n      <td>1.000000</td>\n      <td>1.000000</td>\n      <td>-1.009500</td>\n      <td>-1.135300</td>\n      <td>386.656000</td>\n      <td>378.104500</td>\n      <td>385.602000</td>\n      <td>379.255000</td>\n      <td>380.577000</td>\n      <td>380.328000</td>\n      <td>0.000000</td>\n      <td>0.000000</td>\n      <td>280.000000</td>\n      <td>49.00000</td>\n      <td>0.000000</td>\n      <td>0.000000</td>\n      <td>1.000000</td>\n      <td>0.000000</td>\n      <td>0.000000</td>\n      <td>0.586957</td>\n      <td>0.000000</td>\n      <td>1.000000</td>\n      <td>2.000000</td>\n      <td>1.000000</td>\n      <td>3.000000</td>\n      <td>7.000000</td>\n      <td>10.000000</td>\n      <td>1.596154</td>\n      <td>15.608696</td>\n      <td>39.941176</td>\n      <td>6.090909</td>\n    </tr>\n    <tr>\n      <th>50%</th>\n      <td>422.000000</td>\n      <td>4.220031e+07</td>\n      <td>4.220616e+07</td>\n      <td>10.000000</td>\n      <td>2002.000000</td>\n      <td>2.000000</td>\n      <td>3.000000</td>\n      <td>-0.187600</td>\n      <td>-0.370800</td>\n      <td>460.659000</td>\n      <td>455.658000</td>\n      <td>458.200000</td>\n      <td>462.020000</td>\n      <td>460.642000</td>\n      <td>462.760500</td>\n      <td>0.000000</td>\n      <td>0.000000</td>\n      <td>370.000000</td>\n      <td>55.00000</td>\n      <td>0.000000</td>\n      <td>0.000000</td>\n      <td>3.000000</td>\n      <td>0.000000</td>\n      <td>0.000000</td>\n      <td>0.760870</td>\n      <td>2.000000</td>\n      <td>2.000000</td>\n      <td>3.000000</td>\n      <td>1.000000</td>\n      <td>4.000000</td>\n      <td>9.000000</td>\n      <td>12.000000</td>\n      <td>2.152174</td>\n      <td>16.833333</td>\n      <td>43.285714</td>\n      <td>9.000000</td>\n    </tr>\n    <tr>\n      <th>75%</th>\n      <td>703.000000</td>\n      <td>7.030015e+07</td>\n      <td>7.030307e+07</td>\n      <td>10.000000</td>\n      <td>2002.000000</td>\n      <td>2.000000</td>\n      <td>5.000000</td>\n      <td>0.594000</td>\n      <td>0.322200</td>\n      <td>535.285000</td>\n      <td>533.452000</td>\n      <td>533.442000</td>\n      <td>541.175500</td>\n      <td>540.299000</td>\n      <td>545.167750</td>\n      <td>75.000000</td>\n      <td>21.000000</td>\n      <td>450.000000</td>\n      <td>58.00000</td>\n      <td>130.000000</td>\n      <td>34.000000</td>\n      <td>4.000000</td>\n      <td>1.000000</td>\n      <td>2.000000</td>\n      <td>0.847826</td>\n      <td>4.000000</td>\n      <td>4.000000</td>\n      <td>4.000000</td>\n      <td>1.000000</td>\n      <td>5.000000</td>\n      <td>12.000000</td>\n      <td>15.000000</td>\n      <td>3.582418</td>\n      <td>18.055556</td>\n      <td>46.550000</td>\n      <td>12.523810</td>\n    </tr>\n    <tr>\n      <th>max</th>\n      <td>983.000000</td>\n      <td>9.830081e+07</td>\n      <td>9.832912e+07</td>\n      <td>98.000000</td>\n      <td>2003.000000</td>\n      <td>2.000000</td>\n      <td>6.000000</td>\n      <td>4.205100</td>\n      <td>4.753400</td>\n      <td>888.064000</td>\n      <td>887.692000</td>\n      <td>886.081000</td>\n      <td>889.585000</td>\n      <td>882.849000</td>\n      <td>962.138000</td>\n      <td>240.000000</td>\n      <td>28.000000</td>\n      <td>720.000000</td>\n      <td>97.00000</td>\n      <td>400.000000</td>\n      <td>47.000000</td>\n      <td>9.000000</td>\n      <td>7.000000</td>\n      <td>21.000000</td>\n      <td>0.934783</td>\n      <td>16.000000</td>\n      <td>13.000000</td>\n      <td>11.000000</td>\n      <td>2.000000</td>\n      <td>9.000000</td>\n      <td>20.000000</td>\n      <td>24.000000</td>\n      <td>14.890110</td>\n      <td>23.777778</td>\n      <td>70.000000</td>\n      <td>50.000000</td>\n    </tr>\n  </tbody>\n</table>\n</div>",
      "text/plain": "             CNTRYID      CNTSCHID      CNTSTUID      ST001D01T  \\\ncount  612004.000000  6.120040e+05  6.120040e+05  612004.000000   \nmean      448.931030  4.489354e+07  4.490023e+07      11.077864   \nstd       269.865482  2.698691e+07  2.698768e+07      11.046151   \nmin         8.000000  8.000020e+05  8.000010e+05       7.000000   \n25%       203.000000  2.030021e+07  2.030481e+07       9.000000   \n50%       422.000000  4.220031e+07  4.220616e+07      10.000000   \n75%       703.000000  7.030015e+07  7.030307e+07      10.000000   \nmax       983.000000  9.830081e+07  9.832912e+07      98.000000   \n\n           ST003D03T      ST004D01T    PA042Q01TA           ESCS  \\\ncount  612004.000000  612002.000000  67913.000000  597625.000000   \nmean     2002.065446       1.501704      3.136130      -0.280831   \nstd         0.247740       0.499998      1.925627       1.115985   \nmin      2001.000000       1.000000      1.000000      -8.173400   \n25%      2002.000000       1.000000      1.000000      -1.009500   \n50%      2002.000000       2.000000      3.000000      -0.187600   \n75%      2002.000000       2.000000      5.000000       0.594000   \nmax      2003.000000       2.000000      6.000000       4.205100   \n\n              WEALTH        PV1MATH        PV1READ        PV1SCIE  \\\ncount  598267.000000  606627.000000  606627.000000  606627.000000   \nmean       -0.431981     461.220395     456.123004     460.694397   \nstd         1.240680     104.359230     108.047528     102.664640   \nmin        -7.546500      24.743000       0.000000      58.736000   \n25%        -1.135300     386.656000     378.104500     385.602000   \n50%        -0.370800     460.659000     455.658000     458.200000   \n75%         0.322200     535.285000     533.452000     533.442000   \nmax         4.753400     888.064000     887.692000     886.081000   \n\n             PV1RCLI        PV1RCUN        PV1RCER     math_score  \\\ncount  551930.000000  551930.000000  551930.000000  606627.000000   \nmean      459.682556     460.561792     463.577117      41.706535   \nstd       113.182050     110.357085     113.436604      56.118004   \nmin         0.000000      43.117000      24.794000       0.000000   \n25%       379.255000     380.577000     380.328000       0.000000   \n50%       462.020000     460.642000     462.760500       0.000000   \n75%       541.175500     540.299000     545.167750      75.000000   \nmax       889.585000     882.849000     962.138000     240.000000   \n\n       math_answered  reading_score  reading_answered  science_score  \\\ncount  606627.000000  606627.000000      606627.00000  606627.000000   \nmean        9.306081     353.154410          50.96847      71.515338   \nstd        10.213900     122.518369          11.11526      93.849470   \nmin         0.000000       0.000000           0.00000       0.000000   \n25%         0.000000     280.000000          49.00000       0.000000   \n50%         0.000000     370.000000          55.00000       0.000000   \n75%        21.000000     450.000000          58.00000     130.000000   \nmax        28.000000     720.000000          97.00000     400.000000   \n\n       science_answered       home_art  bad_home_conditions  school_bad_time  \\\ncount     606627.000000  612004.000000        612004.000000    612004.000000   \nmean          14.902154       3.006786             0.842957         1.284756   \nstd           16.490148       2.270446             1.264016         2.617000   \nmin            0.000000       0.000000             0.000000         0.000000   \n25%            0.000000       1.000000             0.000000         0.000000   \n50%            0.000000       3.000000             0.000000         0.000000   \n75%           34.000000       4.000000             1.000000         2.000000   \nmax           47.000000       9.000000             7.000000        21.000000   \n\n       emotional_status   family_hi_ed    quality_tch  reading_not_easy  \\\ncount     493202.000000  612004.000000  612004.000000     612004.000000   \nmean           0.694637       2.551103       2.486846          2.943095   \nstd            0.225618       2.918103       2.194162          1.679572   \nmin            0.065217       0.000000       0.000000          0.000000   \n25%            0.586957       0.000000       1.000000          2.000000   \n50%            0.760870       2.000000       2.000000          3.000000   \n75%            0.847826       4.000000       4.000000          4.000000   \nmax            0.934783      16.000000      13.000000         11.000000   \n\n          SC013Q01TA     SC003Q01TA  education_obstacle  problematic_students  \\\ncount  552772.000000  547272.000000       580015.000000         580082.000000   \nmean        1.196631       4.155212            9.755382             12.908263   \nstd         0.397451       1.982413            3.487602              3.920094   \nmin         1.000000       1.000000            5.000000              6.000000   \n25%         1.000000       3.000000            7.000000             10.000000   \n50%         1.000000       4.000000            9.000000             12.000000   \n75%         1.000000       5.000000           12.000000             15.000000   \nmax         2.000000       9.000000           20.000000             24.000000   \n\n       degree_score_teachers  mean_teacher_satisfied  mean_age_of_teachers  \\\ncount          367167.000000           154500.000000         154519.000000   \nmean                2.561386               16.848956             43.249365   \nstd                 1.500569                1.889475              4.951974   \nmin                 0.000000                8.000000             26.000000   \n25%                 1.596154               15.608696             39.941176   \n50%                 2.152174               16.833333             43.285714   \n75%                 3.582418               18.055556             46.550000   \nmax                14.890110               23.777778             70.000000   \n\n       mean_yaer_experiance  \ncount         154517.000000  \nmean               9.620907  \nstd                4.735149  \nmin                0.000000  \n25%                6.090909  \n50%                9.000000  \n75%               12.523810  \nmax               50.000000  "
     },
     "execution_count": 33,
     "metadata": {},
     "output_type": "execute_result"
    }
   ],
   "source": [
    "df_final.describe()"
   ]
  },
  {
   "cell_type": "code",
   "execution_count": 34,
   "metadata": {},
   "outputs": [
    {
     "name": "stdout",
     "output_type": "stream",
     "text": [
      "CNTRYID                  -> Country Identifier\n",
      "CNT                      -> Country code 3-character\n",
      "CNTSCHID                 -> Intl. School ID\n",
      "CNTSTUID                 -> Intl. Student ID\n",
      "STRATUM                  -> Stratum ID 7-character (cnt + region ID + original stratum ID)\n",
      "ST001D01T                -> Student International Grade (Derived)\n",
      "ST003D03T                -> Student (Standardized) Birth -Year\n",
      "ST004D01T                -> Student (Standardized) Gender\n",
      "PA042Q01TA               -> What is your annual household income?\n",
      "ESCS                     -> Index of economic, social and cultural status\n",
      "WEALTH                   -> Wealth\n",
      "PV1MATH                  -> Plausible Value 1 in Mathematics\n",
      "PV1READ                  -> Plausible Value 1 in Reading\n",
      "PV1SCIE                  -> Plausible Value 1 in Science\n",
      "PV1RCLI                  -> Plausible Value 1 in Cognitive Process Subscale of Reading - Locate Information\n",
      "PV1RCUN                  -> Plausible Value 1 in Cognitive Process Subscale of Reading - Understand\n",
      "PV1RCER                  -> Plausible Value 1 in Cognitive Process Subscale of Reading - Evaluate and Reflect\n",
      "math_score               -> NEW: custom calcualated math score\n",
      "math_answered            -> NEW: number of math questions answered\n",
      "reading_score            -> NEW: custom calcualated reading score\n",
      "reading_answered         -> NEW: number of reading questions answered\n",
      "science_score            -> NEW:custom calcualated science score\n",
      "science_answered         -> NEW: number of science questions answered\n",
      "home_art                 -> NEW: Art is important at home, higher the better\n",
      "bad_home_conditions      -> NEW: home is not suitable for studing, higher the worst \n",
      "school_bad_time          -> NEW: Student is having bad time at school (bullying, friendship) higher the worst\n",
      "emotional_status         -> NEW: Emotional status of student. higher the better\n",
      "family_hi_ed             -> NEW: high education in the family, higher the better\n",
      "quality_tch              -> NEW: Student believes teachers are professionals\n",
      "reading_not_easy         -> NEW: Student finds reading tasks hard, higher the harder \n",
      "SC013Q01TA               -> Is your school a public or a private school?\n",
      "SC003Q01TA               -> What is the average size of <test language> classes in <national modal grade for 15-year-olds> in your school?\n",
      "education_obstacle       -> NEW: Teaching is hindered by lack of resources (0 is not hindered, higher the worse)\n",
      "problematic_students     -> NEW: Teaching is hindered because of students (0 is not hindered, higher the worse)\n",
      "degree_score_teachers    -> NEW: Score of number of teachers with degree avg to all\n",
      "mean_teacher_satisfied   -> NEW: Does teacher find the work meaningful (higher the better) mean of all teachers in school \n",
      "mean_age_of_teachers     -> NEW: mean age of all teachers in school\n",
      "mean_yaer_experiance     -> NEW: mean year of experiance of all teachers in school\n"
     ]
    }
   ],
   "source": [
    "# Teacher columns\r\n",
    "for column in df_final.columns:\r\n",
    "    print('{:<24} -> {}'.format(column, column_lookup[column]))"
   ]
  },
  {
   "cell_type": "code",
   "execution_count": 35,
   "metadata": {},
   "outputs": [],
   "source": [
    "df_final= df_final.rename(columns={\r\n",
    "\"CNTRYID\": \"country_id\",\r\n",
    "\"CNT\":\"country_code\",\r\n",
    "\"CNTSCHID\": \"school_id\",\r\n",
    "\"CNTSTUID\": \"student_id\",\r\n",
    "\"STRATUM\": \"social_level_id\",\r\n",
    "\"ST001D01T\": \"grade\",\r\n",
    "\"ST003D03T\": \"birth_year\",\r\n",
    "\"ST004D01T\": \"gender\",\r\n",
    "\"PA042Q01TA\": \"income\",\r\n",
    "\"ESCS\": \"socio_economic_index\",\r\n",
    "\"WEALTH\": \"wealth\",\r\n",
    "\"PV1MATH\": \"score_math\",\r\n",
    "\"PV1READ\": \"score_reading\",\r\n",
    "\"PV1SCIE\": \"score_science\",\r\n",
    "\"PV1RCLI\": \"score_find_info\",\r\n",
    "\"PV1RCUN\": \"score_understand\",\r\n",
    "\"PV1RCER\": \"score_evaluate\",\r\n",
    "\"home_art\": \"home_art_score\",\r\n",
    "\"bad_home_conditions\": \"bad_home_conditions\",\r\n",
    "\"school_bad_time\": \"bullied_at_school\",\r\n",
    "\"emotional_status\": \"emotional_status\",\r\n",
    "\"family_hi_ed\": \"family_high_edu\",\r\n",
    "\"quality_tch\": \"teacher_quality_stu\",\r\n",
    "\"reading_not_easy\": \"reading_not_easy\",\r\n",
    "\"SC013Q01TA\": \"school_type\",\r\n",
    "\"SC003Q01TA\": \"class_size\",\r\n",
    "\"math_score\": \"cust_math_score\",\r\n",
    "\"math_answered\": \"num_math_answered\",\r\n",
    "\"reading_score\": \"cust_reading_score\",\r\n",
    "\"reading_answered\": \"num_reading_answered\",\r\n",
    "\"science_score\": \"cust_science_score\",\r\n",
    "\"science_answered\": \"num_science_answered\",\r\n",
    "})"
   ]
  },
  {
   "cell_type": "code",
   "execution_count": 36,
   "metadata": {},
   "outputs": [
    {
     "data": {
      "text/html": "<div>\n<style scoped>\n    .dataframe tbody tr th:only-of-type {\n        vertical-align: middle;\n    }\n\n    .dataframe tbody tr th {\n        vertical-align: top;\n    }\n\n    .dataframe thead th {\n        text-align: right;\n    }\n</style>\n<table border=\"1\" class=\"dataframe\">\n  <thead>\n    <tr style=\"text-align: right;\">\n      <th></th>\n      <th>country_id</th>\n      <th>country_code</th>\n      <th>school_id</th>\n      <th>student_id</th>\n      <th>social_level_id</th>\n      <th>grade</th>\n      <th>birth_year</th>\n      <th>gender</th>\n      <th>income</th>\n      <th>socio_economic_index</th>\n      <th>wealth</th>\n      <th>score_math</th>\n      <th>score_reading</th>\n      <th>score_science</th>\n      <th>score_find_info</th>\n      <th>score_understand</th>\n      <th>score_evaluate</th>\n      <th>cust_math_score</th>\n      <th>num_math_answered</th>\n      <th>cust_reading_score</th>\n      <th>num_reading_answered</th>\n      <th>cust_science_score</th>\n      <th>num_science_answered</th>\n      <th>home_art_score</th>\n      <th>bad_home_conditions</th>\n      <th>bullied_at_school</th>\n      <th>emotional_status</th>\n      <th>family_high_edu</th>\n      <th>teacher_quality_stu</th>\n      <th>reading_not_easy</th>\n      <th>school_type</th>\n      <th>class_size</th>\n      <th>education_obstacle</th>\n      <th>problematic_students</th>\n      <th>degree_score_teachers</th>\n      <th>mean_teacher_satisfied</th>\n      <th>mean_age_of_teachers</th>\n      <th>mean_yaer_experiance</th>\n    </tr>\n  </thead>\n  <tbody>\n    <tr>\n      <th>0</th>\n      <td>8.0</td>\n      <td>ALB</td>\n      <td>800115.0</td>\n      <td>800001.0</td>\n      <td>ALB0107</td>\n      <td>10.0</td>\n      <td>2002.0</td>\n      <td>1.0</td>\n      <td>NaN</td>\n      <td>-0.2154</td>\n      <td>-0.5795</td>\n      <td>432.285</td>\n      <td>341.838</td>\n      <td>390.471</td>\n      <td>354.662</td>\n      <td>370.396</td>\n      <td>395.945</td>\n      <td>100.0</td>\n      <td>22.0</td>\n      <td>320.0</td>\n      <td>52.0</td>\n      <td>0.0</td>\n      <td>0.0</td>\n      <td>4.0</td>\n      <td>0.0</td>\n      <td>1.0</td>\n      <td>0.673913</td>\n      <td>6.0</td>\n      <td>3.0</td>\n      <td>4.0</td>\n      <td>1.0</td>\n      <td>4.0</td>\n      <td>8.0</td>\n      <td>10.0</td>\n      <td>1.0</td>\n      <td>19.533333</td>\n      <td>32.8</td>\n      <td>6.466667</td>\n    </tr>\n    <tr>\n      <th>1</th>\n      <td>8.0</td>\n      <td>ALB</td>\n      <td>800115.0</td>\n      <td>800028.0</td>\n      <td>ALB0107</td>\n      <td>10.0</td>\n      <td>2002.0</td>\n      <td>2.0</td>\n      <td>NaN</td>\n      <td>-1.9261</td>\n      <td>-2.5475</td>\n      <td>489.429</td>\n      <td>366.323</td>\n      <td>410.723</td>\n      <td>310.592</td>\n      <td>369.251</td>\n      <td>351.639</td>\n      <td>35.0</td>\n      <td>11.0</td>\n      <td>300.0</td>\n      <td>55.0</td>\n      <td>0.0</td>\n      <td>0.0</td>\n      <td>1.0</td>\n      <td>0.0</td>\n      <td>2.0</td>\n      <td>0.760870</td>\n      <td>1.0</td>\n      <td>4.0</td>\n      <td>2.0</td>\n      <td>1.0</td>\n      <td>4.0</td>\n      <td>8.0</td>\n      <td>10.0</td>\n      <td>1.0</td>\n      <td>19.533333</td>\n      <td>32.8</td>\n      <td>6.466667</td>\n    </tr>\n    <tr>\n      <th>2</th>\n      <td>8.0</td>\n      <td>ALB</td>\n      <td>800115.0</td>\n      <td>800042.0</td>\n      <td>ALB0107</td>\n      <td>10.0</td>\n      <td>2002.0</td>\n      <td>1.0</td>\n      <td>NaN</td>\n      <td>-0.9100</td>\n      <td>-1.1279</td>\n      <td>440.172</td>\n      <td>389.501</td>\n      <td>460.947</td>\n      <td>354.064</td>\n      <td>367.586</td>\n      <td>389.140</td>\n      <td>0.0</td>\n      <td>0.0</td>\n      <td>390.0</td>\n      <td>55.0</td>\n      <td>0.0</td>\n      <td>0.0</td>\n      <td>0.0</td>\n      <td>0.0</td>\n      <td>1.0</td>\n      <td>0.934783</td>\n      <td>1.0</td>\n      <td>4.0</td>\n      <td>2.0</td>\n      <td>1.0</td>\n      <td>4.0</td>\n      <td>8.0</td>\n      <td>10.0</td>\n      <td>1.0</td>\n      <td>19.533333</td>\n      <td>32.8</td>\n      <td>6.466667</td>\n    </tr>\n    <tr>\n      <th>3</th>\n      <td>8.0</td>\n      <td>ALB</td>\n      <td>800115.0</td>\n      <td>800170.0</td>\n      <td>ALB0107</td>\n      <td>10.0</td>\n      <td>2002.0</td>\n      <td>1.0</td>\n      <td>NaN</td>\n      <td>-0.7399</td>\n      <td>-1.7221</td>\n      <td>498.720</td>\n      <td>290.116</td>\n      <td>362.285</td>\n      <td>214.095</td>\n      <td>230.932</td>\n      <td>278.721</td>\n      <td>0.0</td>\n      <td>0.0</td>\n      <td>190.0</td>\n      <td>47.0</td>\n      <td>40.0</td>\n      <td>15.0</td>\n      <td>2.0</td>\n      <td>1.0</td>\n      <td>2.0</td>\n      <td>0.934783</td>\n      <td>4.0</td>\n      <td>2.0</td>\n      <td>2.0</td>\n      <td>1.0</td>\n      <td>4.0</td>\n      <td>8.0</td>\n      <td>10.0</td>\n      <td>1.0</td>\n      <td>19.533333</td>\n      <td>32.8</td>\n      <td>6.466667</td>\n    </tr>\n    <tr>\n      <th>4</th>\n      <td>8.0</td>\n      <td>ALB</td>\n      <td>800115.0</td>\n      <td>800189.0</td>\n      <td>ALB0107</td>\n      <td>10.0</td>\n      <td>2002.0</td>\n      <td>1.0</td>\n      <td>NaN</td>\n      <td>-1.8613</td>\n      <td>-1.2863</td>\n      <td>340.907</td>\n      <td>394.439</td>\n      <td>346.622</td>\n      <td>367.276</td>\n      <td>379.533</td>\n      <td>387.001</td>\n      <td>0.0</td>\n      <td>0.0</td>\n      <td>310.0</td>\n      <td>51.0</td>\n      <td>100.0</td>\n      <td>37.0</td>\n      <td>4.0</td>\n      <td>2.0</td>\n      <td>1.0</td>\n      <td>0.760870</td>\n      <td>0.0</td>\n      <td>1.0</td>\n      <td>2.0</td>\n      <td>1.0</td>\n      <td>4.0</td>\n      <td>8.0</td>\n      <td>10.0</td>\n      <td>1.0</td>\n      <td>19.533333</td>\n      <td>32.8</td>\n      <td>6.466667</td>\n    </tr>\n  </tbody>\n</table>\n</div>",
      "text/plain": "   country_id country_code  school_id  student_id social_level_id  grade  \\\n0         8.0          ALB   800115.0    800001.0         ALB0107   10.0   \n1         8.0          ALB   800115.0    800028.0         ALB0107   10.0   \n2         8.0          ALB   800115.0    800042.0         ALB0107   10.0   \n3         8.0          ALB   800115.0    800170.0         ALB0107   10.0   \n4         8.0          ALB   800115.0    800189.0         ALB0107   10.0   \n\n   birth_year  gender  income  socio_economic_index  wealth  score_math  \\\n0      2002.0     1.0     NaN               -0.2154 -0.5795     432.285   \n1      2002.0     2.0     NaN               -1.9261 -2.5475     489.429   \n2      2002.0     1.0     NaN               -0.9100 -1.1279     440.172   \n3      2002.0     1.0     NaN               -0.7399 -1.7221     498.720   \n4      2002.0     1.0     NaN               -1.8613 -1.2863     340.907   \n\n   score_reading  score_science  score_find_info  score_understand  \\\n0        341.838        390.471          354.662           370.396   \n1        366.323        410.723          310.592           369.251   \n2        389.501        460.947          354.064           367.586   \n3        290.116        362.285          214.095           230.932   \n4        394.439        346.622          367.276           379.533   \n\n   score_evaluate  cust_math_score  num_math_answered  cust_reading_score  \\\n0         395.945            100.0               22.0               320.0   \n1         351.639             35.0               11.0               300.0   \n2         389.140              0.0                0.0               390.0   \n3         278.721              0.0                0.0               190.0   \n4         387.001              0.0                0.0               310.0   \n\n   num_reading_answered  cust_science_score  num_science_answered  \\\n0                  52.0                 0.0                   0.0   \n1                  55.0                 0.0                   0.0   \n2                  55.0                 0.0                   0.0   \n3                  47.0                40.0                  15.0   \n4                  51.0               100.0                  37.0   \n\n   home_art_score  bad_home_conditions  bullied_at_school  emotional_status  \\\n0             4.0                  0.0                1.0          0.673913   \n1             1.0                  0.0                2.0          0.760870   \n2             0.0                  0.0                1.0          0.934783   \n3             2.0                  1.0                2.0          0.934783   \n4             4.0                  2.0                1.0          0.760870   \n\n   family_high_edu  teacher_quality_stu  reading_not_easy  school_type  \\\n0              6.0                  3.0               4.0          1.0   \n1              1.0                  4.0               2.0          1.0   \n2              1.0                  4.0               2.0          1.0   \n3              4.0                  2.0               2.0          1.0   \n4              0.0                  1.0               2.0          1.0   \n\n   class_size  education_obstacle  problematic_students  \\\n0         4.0                 8.0                  10.0   \n1         4.0                 8.0                  10.0   \n2         4.0                 8.0                  10.0   \n3         4.0                 8.0                  10.0   \n4         4.0                 8.0                  10.0   \n\n   degree_score_teachers  mean_teacher_satisfied  mean_age_of_teachers  \\\n0                    1.0               19.533333                  32.8   \n1                    1.0               19.533333                  32.8   \n2                    1.0               19.533333                  32.8   \n3                    1.0               19.533333                  32.8   \n4                    1.0               19.533333                  32.8   \n\n   mean_yaer_experiance  \n0              6.466667  \n1              6.466667  \n2              6.466667  \n3              6.466667  \n4              6.466667  "
     },
     "execution_count": 36,
     "metadata": {},
     "output_type": "execute_result"
    }
   ],
   "source": [
    "df_final.head()"
   ]
  },
  {
   "cell_type": "code",
   "execution_count": 40,
   "metadata": {},
   "outputs": [],
   "source": [
    "int_columns = [\"country_id\",\"school_id\",\"student_id\",\"grade\",\"birth_year\",\"home_art_score\",\"bad_home_conditions\",\"bullied_at_school\",\"family_high_edu\",\"teacher_quality_stu\",\"reading_not_easy\",\"class_size\",\"education_obstacle\",\"school_type\",\"gender\", \"cust_math_score\",\"num_math_answered\",\"cust_reading_score\",\"num_reading_answered\",\"cust_science_score\",\"num_science_answered\", \"problematic_students\"]\r\n",
    "type_dict = {}\r\n",
    "for item in int_columns:\r\n",
    "    type_dict[item] = \"Int64\""
   ]
  },
  {
   "cell_type": "code",
   "execution_count": 41,
   "metadata": {},
   "outputs": [],
   "source": [
    "df_final = df_final.astype(type_dict)"
   ]
  },
  {
   "cell_type": "code",
   "execution_count": 51,
   "metadata": {},
   "outputs": [],
   "source": [
    "# Round test score values\r\n",
    "round_columns = [\"score_math\",\"score_reading\",\"score_science\",\"score_find_info\",\"score_understand\",\"score_evaluate\"]\r\n",
    "df_final[round_columns] = df_final[round_columns].round(decimals=0).astype(\"Int64\")"
   ]
  },
  {
   "cell_type": "code",
   "execution_count": 52,
   "metadata": {},
   "outputs": [
    {
     "data": {
      "text/html": "<div>\n<style scoped>\n    .dataframe tbody tr th:only-of-type {\n        vertical-align: middle;\n    }\n\n    .dataframe tbody tr th {\n        vertical-align: top;\n    }\n\n    .dataframe thead th {\n        text-align: right;\n    }\n</style>\n<table border=\"1\" class=\"dataframe\">\n  <thead>\n    <tr style=\"text-align: right;\">\n      <th></th>\n      <th>country_id</th>\n      <th>country_code</th>\n      <th>school_id</th>\n      <th>student_id</th>\n      <th>social_level_id</th>\n      <th>grade</th>\n      <th>birth_year</th>\n      <th>gender</th>\n      <th>income</th>\n      <th>socio_economic_index</th>\n      <th>wealth</th>\n      <th>score_math</th>\n      <th>score_reading</th>\n      <th>score_science</th>\n      <th>score_find_info</th>\n      <th>score_understand</th>\n      <th>score_evaluate</th>\n      <th>cust_math_score</th>\n      <th>num_math_answered</th>\n      <th>cust_reading_score</th>\n      <th>num_reading_answered</th>\n      <th>cust_science_score</th>\n      <th>num_science_answered</th>\n      <th>home_art_score</th>\n      <th>bad_home_conditions</th>\n      <th>bullied_at_school</th>\n      <th>emotional_status</th>\n      <th>family_high_edu</th>\n      <th>teacher_quality_stu</th>\n      <th>reading_not_easy</th>\n      <th>school_type</th>\n      <th>class_size</th>\n      <th>education_obstacle</th>\n      <th>problematic_students</th>\n      <th>degree_score_teachers</th>\n      <th>mean_teacher_satisfied</th>\n      <th>mean_age_of_teachers</th>\n      <th>mean_yaer_experiance</th>\n    </tr>\n  </thead>\n  <tbody>\n    <tr>\n      <th>0</th>\n      <td>8</td>\n      <td>ALB</td>\n      <td>800115</td>\n      <td>800001</td>\n      <td>ALB0107</td>\n      <td>10</td>\n      <td>2002</td>\n      <td>1</td>\n      <td>NaN</td>\n      <td>-0.2154</td>\n      <td>-0.5795</td>\n      <td>432</td>\n      <td>342</td>\n      <td>390</td>\n      <td>355</td>\n      <td>370</td>\n      <td>396</td>\n      <td>100</td>\n      <td>22</td>\n      <td>320</td>\n      <td>52</td>\n      <td>0</td>\n      <td>0</td>\n      <td>4</td>\n      <td>0</td>\n      <td>1</td>\n      <td>0.673913</td>\n      <td>6</td>\n      <td>3</td>\n      <td>4</td>\n      <td>1</td>\n      <td>4</td>\n      <td>8</td>\n      <td>10</td>\n      <td>1.0</td>\n      <td>19.533333</td>\n      <td>32.8</td>\n      <td>6.466667</td>\n    </tr>\n    <tr>\n      <th>1</th>\n      <td>8</td>\n      <td>ALB</td>\n      <td>800115</td>\n      <td>800028</td>\n      <td>ALB0107</td>\n      <td>10</td>\n      <td>2002</td>\n      <td>2</td>\n      <td>NaN</td>\n      <td>-1.9261</td>\n      <td>-2.5475</td>\n      <td>489</td>\n      <td>366</td>\n      <td>411</td>\n      <td>311</td>\n      <td>369</td>\n      <td>352</td>\n      <td>35</td>\n      <td>11</td>\n      <td>300</td>\n      <td>55</td>\n      <td>0</td>\n      <td>0</td>\n      <td>1</td>\n      <td>0</td>\n      <td>2</td>\n      <td>0.760870</td>\n      <td>1</td>\n      <td>4</td>\n      <td>2</td>\n      <td>1</td>\n      <td>4</td>\n      <td>8</td>\n      <td>10</td>\n      <td>1.0</td>\n      <td>19.533333</td>\n      <td>32.8</td>\n      <td>6.466667</td>\n    </tr>\n    <tr>\n      <th>2</th>\n      <td>8</td>\n      <td>ALB</td>\n      <td>800115</td>\n      <td>800042</td>\n      <td>ALB0107</td>\n      <td>10</td>\n      <td>2002</td>\n      <td>1</td>\n      <td>NaN</td>\n      <td>-0.9100</td>\n      <td>-1.1279</td>\n      <td>440</td>\n      <td>390</td>\n      <td>461</td>\n      <td>354</td>\n      <td>368</td>\n      <td>389</td>\n      <td>0</td>\n      <td>0</td>\n      <td>390</td>\n      <td>55</td>\n      <td>0</td>\n      <td>0</td>\n      <td>0</td>\n      <td>0</td>\n      <td>1</td>\n      <td>0.934783</td>\n      <td>1</td>\n      <td>4</td>\n      <td>2</td>\n      <td>1</td>\n      <td>4</td>\n      <td>8</td>\n      <td>10</td>\n      <td>1.0</td>\n      <td>19.533333</td>\n      <td>32.8</td>\n      <td>6.466667</td>\n    </tr>\n    <tr>\n      <th>3</th>\n      <td>8</td>\n      <td>ALB</td>\n      <td>800115</td>\n      <td>800170</td>\n      <td>ALB0107</td>\n      <td>10</td>\n      <td>2002</td>\n      <td>1</td>\n      <td>NaN</td>\n      <td>-0.7399</td>\n      <td>-1.7221</td>\n      <td>499</td>\n      <td>290</td>\n      <td>362</td>\n      <td>214</td>\n      <td>231</td>\n      <td>279</td>\n      <td>0</td>\n      <td>0</td>\n      <td>190</td>\n      <td>47</td>\n      <td>40</td>\n      <td>15</td>\n      <td>2</td>\n      <td>1</td>\n      <td>2</td>\n      <td>0.934783</td>\n      <td>4</td>\n      <td>2</td>\n      <td>2</td>\n      <td>1</td>\n      <td>4</td>\n      <td>8</td>\n      <td>10</td>\n      <td>1.0</td>\n      <td>19.533333</td>\n      <td>32.8</td>\n      <td>6.466667</td>\n    </tr>\n    <tr>\n      <th>4</th>\n      <td>8</td>\n      <td>ALB</td>\n      <td>800115</td>\n      <td>800189</td>\n      <td>ALB0107</td>\n      <td>10</td>\n      <td>2002</td>\n      <td>1</td>\n      <td>NaN</td>\n      <td>-1.8613</td>\n      <td>-1.2863</td>\n      <td>341</td>\n      <td>394</td>\n      <td>347</td>\n      <td>367</td>\n      <td>380</td>\n      <td>387</td>\n      <td>0</td>\n      <td>0</td>\n      <td>310</td>\n      <td>51</td>\n      <td>100</td>\n      <td>37</td>\n      <td>4</td>\n      <td>2</td>\n      <td>1</td>\n      <td>0.760870</td>\n      <td>0</td>\n      <td>1</td>\n      <td>2</td>\n      <td>1</td>\n      <td>4</td>\n      <td>8</td>\n      <td>10</td>\n      <td>1.0</td>\n      <td>19.533333</td>\n      <td>32.8</td>\n      <td>6.466667</td>\n    </tr>\n  </tbody>\n</table>\n</div>",
      "text/plain": "   country_id country_code  school_id  student_id social_level_id  grade  \\\n0           8          ALB     800115      800001         ALB0107     10   \n1           8          ALB     800115      800028         ALB0107     10   \n2           8          ALB     800115      800042         ALB0107     10   \n3           8          ALB     800115      800170         ALB0107     10   \n4           8          ALB     800115      800189         ALB0107     10   \n\n   birth_year  gender  income  socio_economic_index  wealth  score_math  \\\n0        2002       1     NaN               -0.2154 -0.5795         432   \n1        2002       2     NaN               -1.9261 -2.5475         489   \n2        2002       1     NaN               -0.9100 -1.1279         440   \n3        2002       1     NaN               -0.7399 -1.7221         499   \n4        2002       1     NaN               -1.8613 -1.2863         341   \n\n   score_reading  score_science  score_find_info  score_understand  \\\n0            342            390              355               370   \n1            366            411              311               369   \n2            390            461              354               368   \n3            290            362              214               231   \n4            394            347              367               380   \n\n   score_evaluate  cust_math_score  num_math_answered  cust_reading_score  \\\n0             396              100                 22                 320   \n1             352               35                 11                 300   \n2             389                0                  0                 390   \n3             279                0                  0                 190   \n4             387                0                  0                 310   \n\n   num_reading_answered  cust_science_score  num_science_answered  \\\n0                    52                   0                     0   \n1                    55                   0                     0   \n2                    55                   0                     0   \n3                    47                  40                    15   \n4                    51                 100                    37   \n\n   home_art_score  bad_home_conditions  bullied_at_school  emotional_status  \\\n0               4                    0                  1          0.673913   \n1               1                    0                  2          0.760870   \n2               0                    0                  1          0.934783   \n3               2                    1                  2          0.934783   \n4               4                    2                  1          0.760870   \n\n   family_high_edu  teacher_quality_stu  reading_not_easy  school_type  \\\n0                6                    3                 4            1   \n1                1                    4                 2            1   \n2                1                    4                 2            1   \n3                4                    2                 2            1   \n4                0                    1                 2            1   \n\n   class_size  education_obstacle  problematic_students  \\\n0           4                   8                    10   \n1           4                   8                    10   \n2           4                   8                    10   \n3           4                   8                    10   \n4           4                   8                    10   \n\n   degree_score_teachers  mean_teacher_satisfied  mean_age_of_teachers  \\\n0                    1.0               19.533333                  32.8   \n1                    1.0               19.533333                  32.8   \n2                    1.0               19.533333                  32.8   \n3                    1.0               19.533333                  32.8   \n4                    1.0               19.533333                  32.8   \n\n   mean_yaer_experiance  \n0              6.466667  \n1              6.466667  \n2              6.466667  \n3              6.466667  \n4              6.466667  "
     },
     "execution_count": 52,
     "metadata": {},
     "output_type": "execute_result"
    }
   ],
   "source": [
    "df_final.head()"
   ]
  },
  {
   "cell_type": "code",
   "execution_count": 53,
   "metadata": {},
   "outputs": [],
   "source": [
    "df_final.to_csv(\"./data/3_cleaned/students.csv\",index=False)"
   ]
  },
  {
   "cell_type": "code",
   "execution_count": null,
   "metadata": {},
   "outputs": [],
   "source": []
  }
 ],
 "metadata": {
  "kernelspec": {
   "display_name": "Python 3.8.5 64-bit (conda)",
   "metadata": {
    "interpreter": {
     "hash": "d3ff5a1ce451dfff603f0aeb2fe958ed2741cc1700d7ef242fbe9997037b9eb5"
    }
   },
   "name": "python3"
  },
  "language_info": {
   "codemirror_mode": {
    "name": "ipython",
    "version": 3
   },
   "file_extension": ".py",
   "mimetype": "text/x-python",
   "name": "python",
   "nbconvert_exporter": "python",
   "pygments_lexer": "ipython3",
   "version": "3.8.5"
  },
  "orig_nbformat": 2
 },
 "nbformat": 4,
 "nbformat_minor": 2
}