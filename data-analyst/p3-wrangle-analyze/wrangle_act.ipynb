{
 "cells": [
  {
   "cell_type": "markdown",
   "metadata": {},
   "source": [
    "# Wrangle\r\n",
    "\r\n",
    "- This project focuses on data wrangling.\r\n",
    "- The data provided for this project is from the Udacity Data Analyst Nanodegree program 4th project\r\n",
    "- Task is to focus on quality and tidiness issuessues"
   ]
  },
  {
   "cell_type": "code",
   "execution_count": 1,
   "metadata": {},
   "outputs": [],
   "source": [
    "import pandas as pd\r\n",
    "import numpy as np\r\n",
    "import matplotlib.pyplot as plt\r\n",
    "%matplotlib inline"
   ]
  },
  {
   "cell_type": "markdown",
   "metadata": {},
   "source": [
    "## Data Gathering"
   ]
  },
  {
   "cell_type": "markdown",
   "metadata": {},
   "source": [
    "### Twitter archive"
   ]
  },
  {
   "cell_type": "code",
   "execution_count": 2,
   "metadata": {},
   "outputs": [
    {
     "data": {
      "text/html": "<div>\n<style scoped>\n    .dataframe tbody tr th:only-of-type {\n        vertical-align: middle;\n    }\n\n    .dataframe tbody tr th {\n        vertical-align: top;\n    }\n\n    .dataframe thead th {\n        text-align: right;\n    }\n</style>\n<table border=\"1\" class=\"dataframe\">\n  <thead>\n    <tr style=\"text-align: right;\">\n      <th></th>\n      <th>tweet_id</th>\n      <th>in_reply_to_status_id</th>\n      <th>in_reply_to_user_id</th>\n      <th>timestamp</th>\n      <th>source</th>\n      <th>text</th>\n      <th>retweeted_status_id</th>\n      <th>retweeted_status_user_id</th>\n      <th>retweeted_status_timestamp</th>\n      <th>expanded_urls</th>\n      <th>rating_numerator</th>\n      <th>rating_denominator</th>\n      <th>name</th>\n      <th>doggo</th>\n      <th>floofer</th>\n      <th>pupper</th>\n      <th>puppo</th>\n    </tr>\n  </thead>\n  <tbody>\n    <tr>\n      <th>0</th>\n      <td>892420643555336193</td>\n      <td>NaN</td>\n      <td>NaN</td>\n      <td>2017-08-01 16:23:56 +0000</td>\n      <td>&lt;a href=\"http://twitter.com/download/iphone\" r...</td>\n      <td>This is Phineas. He's a mystical boy. Only eve...</td>\n      <td>NaN</td>\n      <td>NaN</td>\n      <td>NaN</td>\n      <td>https://twitter.com/dog_rates/status/892420643...</td>\n      <td>13</td>\n      <td>10</td>\n      <td>Phineas</td>\n      <td>None</td>\n      <td>None</td>\n      <td>None</td>\n      <td>None</td>\n    </tr>\n    <tr>\n      <th>1</th>\n      <td>892177421306343426</td>\n      <td>NaN</td>\n      <td>NaN</td>\n      <td>2017-08-01 00:17:27 +0000</td>\n      <td>&lt;a href=\"http://twitter.com/download/iphone\" r...</td>\n      <td>This is Tilly. She's just checking pup on you....</td>\n      <td>NaN</td>\n      <td>NaN</td>\n      <td>NaN</td>\n      <td>https://twitter.com/dog_rates/status/892177421...</td>\n      <td>13</td>\n      <td>10</td>\n      <td>Tilly</td>\n      <td>None</td>\n      <td>None</td>\n      <td>None</td>\n      <td>None</td>\n    </tr>\n  </tbody>\n</table>\n</div>",
      "text/plain": "             tweet_id  in_reply_to_status_id  in_reply_to_user_id  \\\n0  892420643555336193                    NaN                  NaN   \n1  892177421306343426                    NaN                  NaN   \n\n                   timestamp  \\\n0  2017-08-01 16:23:56 +0000   \n1  2017-08-01 00:17:27 +0000   \n\n                                              source  \\\n0  <a href=\"http://twitter.com/download/iphone\" r...   \n1  <a href=\"http://twitter.com/download/iphone\" r...   \n\n                                                text  retweeted_status_id  \\\n0  This is Phineas. He's a mystical boy. Only eve...                  NaN   \n1  This is Tilly. She's just checking pup on you....                  NaN   \n\n   retweeted_status_user_id retweeted_status_timestamp  \\\n0                       NaN                        NaN   \n1                       NaN                        NaN   \n\n                                       expanded_urls  rating_numerator  \\\n0  https://twitter.com/dog_rates/status/892420643...                13   \n1  https://twitter.com/dog_rates/status/892177421...                13   \n\n   rating_denominator     name doggo floofer pupper puppo  \n0                  10  Phineas  None    None   None  None  \n1                  10    Tilly  None    None   None  None  "
     },
     "execution_count": 2,
     "metadata": {},
     "output_type": "execute_result"
    }
   ],
   "source": [
    "df_twitter_archive = pd.read_csv('./data/twitter-archive-enhanced.csv')\r\n",
    "df_twitter_archive.head(2)"
   ]
  },
  {
   "cell_type": "code",
   "execution_count": 3,
   "metadata": {},
   "outputs": [
    {
     "data": {
      "text/plain": "(2356, 17)"
     },
     "execution_count": 3,
     "metadata": {},
     "output_type": "execute_result"
    }
   ],
   "source": [
    "df_twitter_archive.shape"
   ]
  },
  {
   "cell_type": "markdown",
   "metadata": {},
   "source": [
    "### Image Predictions"
   ]
  },
  {
   "cell_type": "code",
   "execution_count": 4,
   "metadata": {},
   "outputs": [],
   "source": [
    "import requests"
   ]
  },
  {
   "cell_type": "code",
   "execution_count": 5,
   "metadata": {},
   "outputs": [],
   "source": [
    "url_image_predictions = \"https://d17h27t6h515a5.cloudfront.net/topher/2017/August/599fd2ad_image-predictions/image-predictions.tsv\"\r\n",
    "response = requests.get(url_image_predictions)\r\n",
    "file = open(\"./data/image-predictions.tsv\", \"wb\")\r\n",
    "file.write(response.content)\r\n",
    "file.close()"
   ]
  },
  {
   "cell_type": "code",
   "execution_count": 6,
   "metadata": {},
   "outputs": [
    {
     "data": {
      "text/html": "<div>\n<style scoped>\n    .dataframe tbody tr th:only-of-type {\n        vertical-align: middle;\n    }\n\n    .dataframe tbody tr th {\n        vertical-align: top;\n    }\n\n    .dataframe thead th {\n        text-align: right;\n    }\n</style>\n<table border=\"1\" class=\"dataframe\">\n  <thead>\n    <tr style=\"text-align: right;\">\n      <th></th>\n      <th>tweet_id</th>\n      <th>jpg_url</th>\n      <th>img_num</th>\n      <th>p1</th>\n      <th>p1_conf</th>\n      <th>p1_dog</th>\n      <th>p2</th>\n      <th>p2_conf</th>\n      <th>p2_dog</th>\n      <th>p3</th>\n      <th>p3_conf</th>\n      <th>p3_dog</th>\n    </tr>\n  </thead>\n  <tbody>\n    <tr>\n      <th>0</th>\n      <td>666020888022790149</td>\n      <td>https://pbs.twimg.com/media/CT4udn0WwAA0aMy.jpg</td>\n      <td>1</td>\n      <td>Welsh_springer_spaniel</td>\n      <td>0.465074</td>\n      <td>True</td>\n      <td>collie</td>\n      <td>0.156665</td>\n      <td>True</td>\n      <td>Shetland_sheepdog</td>\n      <td>0.061428</td>\n      <td>True</td>\n    </tr>\n    <tr>\n      <th>1</th>\n      <td>666029285002620928</td>\n      <td>https://pbs.twimg.com/media/CT42GRgUYAA5iDo.jpg</td>\n      <td>1</td>\n      <td>redbone</td>\n      <td>0.506826</td>\n      <td>True</td>\n      <td>miniature_pinscher</td>\n      <td>0.074192</td>\n      <td>True</td>\n      <td>Rhodesian_ridgeback</td>\n      <td>0.072010</td>\n      <td>True</td>\n    </tr>\n  </tbody>\n</table>\n</div>",
      "text/plain": "             tweet_id                                          jpg_url  \\\n0  666020888022790149  https://pbs.twimg.com/media/CT4udn0WwAA0aMy.jpg   \n1  666029285002620928  https://pbs.twimg.com/media/CT42GRgUYAA5iDo.jpg   \n\n   img_num                      p1   p1_conf  p1_dog                  p2  \\\n0        1  Welsh_springer_spaniel  0.465074    True              collie   \n1        1                 redbone  0.506826    True  miniature_pinscher   \n\n    p2_conf  p2_dog                   p3   p3_conf  p3_dog  \n0  0.156665    True    Shetland_sheepdog  0.061428    True  \n1  0.074192    True  Rhodesian_ridgeback  0.072010    True  "
     },
     "execution_count": 6,
     "metadata": {},
     "output_type": "execute_result"
    }
   ],
   "source": [
    "df_image_predictions = pd.read_csv('./data/image-predictions.tsv', sep='\\t')\r\n",
    "df_image_predictions.head(2)"
   ]
  },
  {
   "cell_type": "markdown",
   "metadata": {},
   "source": [
    "### Tweets json from udacity"
   ]
  },
  {
   "cell_type": "code",
   "execution_count": 7,
   "metadata": {},
   "outputs": [],
   "source": [
    "import json"
   ]
  },
  {
   "cell_type": "code",
   "execution_count": 8,
   "metadata": {},
   "outputs": [],
   "source": [
    "tweet_json_info = []\r\n",
    "\r\n",
    "with open('./data/tweet-json.jsonl', 'r',encoding = 'utf-8') as json_file:\r\n",
    "    line = json_file.readline()\r\n",
    "    for line in json_file:\r\n",
    "        json_data = json.loads(line)\r\n",
    "\r\n",
    "        json_data_add = {'tweet_id':json_data['id'],\r\n",
    "                         'favourites':json_data['favorite_count'],\r\n",
    "                         'retweets':json_data['retweet_count']}\r\n",
    "                          \r\n",
    "        tweet_json_info.append(json_data_add)"
   ]
  },
  {
   "cell_type": "code",
   "execution_count": 9,
   "metadata": {},
   "outputs": [
    {
     "data": {
      "text/plain": "{'tweet_id': 892177421306343426, 'favourites': 33819, 'retweets': 6514}"
     },
     "execution_count": 9,
     "metadata": {},
     "output_type": "execute_result"
    }
   ],
   "source": [
    "tweet_json_info[0]"
   ]
  },
  {
   "cell_type": "code",
   "execution_count": 10,
   "metadata": {},
   "outputs": [],
   "source": [
    "df_tweets = pd.DataFrame(tweet_json_info,columns = ['tweet_id','favourites','retweets'])"
   ]
  },
  {
   "cell_type": "code",
   "execution_count": 11,
   "metadata": {},
   "outputs": [
    {
     "data": {
      "text/html": "<div>\n<style scoped>\n    .dataframe tbody tr th:only-of-type {\n        vertical-align: middle;\n    }\n\n    .dataframe tbody tr th {\n        vertical-align: top;\n    }\n\n    .dataframe thead th {\n        text-align: right;\n    }\n</style>\n<table border=\"1\" class=\"dataframe\">\n  <thead>\n    <tr style=\"text-align: right;\">\n      <th></th>\n      <th>tweet_id</th>\n      <th>favourites</th>\n      <th>retweets</th>\n    </tr>\n  </thead>\n  <tbody>\n    <tr>\n      <th>0</th>\n      <td>892177421306343426</td>\n      <td>33819</td>\n      <td>6514</td>\n    </tr>\n    <tr>\n      <th>1</th>\n      <td>891815181378084864</td>\n      <td>25461</td>\n      <td>4328</td>\n    </tr>\n    <tr>\n      <th>2</th>\n      <td>891689557279858688</td>\n      <td>42908</td>\n      <td>8964</td>\n    </tr>\n    <tr>\n      <th>3</th>\n      <td>891327558926688256</td>\n      <td>41048</td>\n      <td>9774</td>\n    </tr>\n    <tr>\n      <th>4</th>\n      <td>891087950875897856</td>\n      <td>20562</td>\n      <td>3261</td>\n    </tr>\n  </tbody>\n</table>\n</div>",
      "text/plain": "             tweet_id  favourites  retweets\n0  892177421306343426       33819      6514\n1  891815181378084864       25461      4328\n2  891689557279858688       42908      8964\n3  891327558926688256       41048      9774\n4  891087950875897856       20562      3261"
     },
     "execution_count": 11,
     "metadata": {},
     "output_type": "execute_result"
    }
   ],
   "source": [
    "df_tweets.head()"
   ]
  },
  {
   "cell_type": "markdown",
   "metadata": {},
   "source": [
    "## Data Examination"
   ]
  },
  {
   "cell_type": "code",
   "execution_count": 12,
   "metadata": {},
   "outputs": [
    {
     "data": {
      "text/html": "<div>\n<style scoped>\n    .dataframe tbody tr th:only-of-type {\n        vertical-align: middle;\n    }\n\n    .dataframe tbody tr th {\n        vertical-align: top;\n    }\n\n    .dataframe thead th {\n        text-align: right;\n    }\n</style>\n<table border=\"1\" class=\"dataframe\">\n  <thead>\n    <tr style=\"text-align: right;\">\n      <th></th>\n      <th>tweet_id</th>\n      <th>in_reply_to_status_id</th>\n      <th>in_reply_to_user_id</th>\n      <th>timestamp</th>\n      <th>source</th>\n      <th>text</th>\n      <th>retweeted_status_id</th>\n      <th>retweeted_status_user_id</th>\n      <th>retweeted_status_timestamp</th>\n      <th>expanded_urls</th>\n      <th>rating_numerator</th>\n      <th>rating_denominator</th>\n      <th>name</th>\n      <th>doggo</th>\n      <th>floofer</th>\n      <th>pupper</th>\n      <th>puppo</th>\n    </tr>\n  </thead>\n  <tbody>\n    <tr>\n      <th>0</th>\n      <td>892420643555336193</td>\n      <td>NaN</td>\n      <td>NaN</td>\n      <td>2017-08-01 16:23:56 +0000</td>\n      <td>&lt;a href=\"http://twitter.com/download/iphone\" r...</td>\n      <td>This is Phineas. He's a mystical boy. Only eve...</td>\n      <td>NaN</td>\n      <td>NaN</td>\n      <td>NaN</td>\n      <td>https://twitter.com/dog_rates/status/892420643...</td>\n      <td>13</td>\n      <td>10</td>\n      <td>Phineas</td>\n      <td>None</td>\n      <td>None</td>\n      <td>None</td>\n      <td>None</td>\n    </tr>\n    <tr>\n      <th>1</th>\n      <td>892177421306343426</td>\n      <td>NaN</td>\n      <td>NaN</td>\n      <td>2017-08-01 00:17:27 +0000</td>\n      <td>&lt;a href=\"http://twitter.com/download/iphone\" r...</td>\n      <td>This is Tilly. She's just checking pup on you....</td>\n      <td>NaN</td>\n      <td>NaN</td>\n      <td>NaN</td>\n      <td>https://twitter.com/dog_rates/status/892177421...</td>\n      <td>13</td>\n      <td>10</td>\n      <td>Tilly</td>\n      <td>None</td>\n      <td>None</td>\n      <td>None</td>\n      <td>None</td>\n    </tr>\n  </tbody>\n</table>\n</div>",
      "text/plain": "             tweet_id  in_reply_to_status_id  in_reply_to_user_id  \\\n0  892420643555336193                    NaN                  NaN   \n1  892177421306343426                    NaN                  NaN   \n\n                   timestamp  \\\n0  2017-08-01 16:23:56 +0000   \n1  2017-08-01 00:17:27 +0000   \n\n                                              source  \\\n0  <a href=\"http://twitter.com/download/iphone\" r...   \n1  <a href=\"http://twitter.com/download/iphone\" r...   \n\n                                                text  retweeted_status_id  \\\n0  This is Phineas. He's a mystical boy. Only eve...                  NaN   \n1  This is Tilly. She's just checking pup on you....                  NaN   \n\n   retweeted_status_user_id retweeted_status_timestamp  \\\n0                       NaN                        NaN   \n1                       NaN                        NaN   \n\n                                       expanded_urls  rating_numerator  \\\n0  https://twitter.com/dog_rates/status/892420643...                13   \n1  https://twitter.com/dog_rates/status/892177421...                13   \n\n   rating_denominator     name doggo floofer pupper puppo  \n0                  10  Phineas  None    None   None  None  \n1                  10    Tilly  None    None   None  None  "
     },
     "execution_count": 12,
     "metadata": {},
     "output_type": "execute_result"
    }
   ],
   "source": [
    "df_twitter_archive.head(2)"
   ]
  },
  {
   "cell_type": "markdown",
   "metadata": {},
   "source": [
    "- date format is not DateTime \n",
    "- empty values sometimes NaN, sometimes None\n",
    "- dog types could be in one columnmn"
   ]
  },
  {
   "cell_type": "code",
   "execution_count": 13,
   "metadata": {},
   "outputs": [
    {
     "data": {
      "text/plain": "<a href=\"http://twitter.com/download/iphone\" rel=\"nofollow\">Twitter for iPhone</a>     2221\n<a href=\"http://vine.co\" rel=\"nofollow\">Vine - Make a Scene</a>                          91\n<a href=\"http://twitter.com\" rel=\"nofollow\">Twitter Web Client</a>                       33\n<a href=\"https://about.twitter.com/products/tweetdeck\" rel=\"nofollow\">TweetDeck</a>      11\nName: source, dtype: int64"
     },
     "execution_count": 13,
     "metadata": {},
     "output_type": "execute_result"
    }
   ],
   "source": [
    "df_twitter_archive.source.value_counts()"
   ]
  },
  {
   "cell_type": "markdown",
   "metadata": {},
   "source": [
    "- source could be categorical and links could be removed"
   ]
  },
  {
   "cell_type": "code",
   "execution_count": 14,
   "metadata": {},
   "outputs": [
    {
     "data": {
      "text/plain": "'https://twitter.com/dog_rates/status/890729181411237888/photo/1,https://twitter.com/dog_rates/status/890729181411237888/photo/1'"
     },
     "execution_count": 14,
     "metadata": {},
     "output_type": "execute_result"
    }
   ],
   "source": [
    "df_twitter_archive.expanded_urls[7]"
   ]
  },
  {
   "cell_type": "code",
   "execution_count": 15,
   "metadata": {},
   "outputs": [
    {
     "data": {
      "text/plain": "59"
     },
     "execution_count": 15,
     "metadata": {},
     "output_type": "execute_result"
    }
   ],
   "source": [
    "df_twitter_archive.expanded_urls.isnull().sum()"
   ]
  },
  {
   "cell_type": "code",
   "execution_count": 16,
   "metadata": {},
   "outputs": [
    {
     "data": {
      "text/plain": "Series([], Name: expanded_urls, dtype: object)"
     },
     "execution_count": 16,
     "metadata": {},
     "output_type": "execute_result"
    }
   ],
   "source": [
    "# for na valuse added na=False\r\n",
    "df_twitter_archive[df_twitter_archive.expanded_urls.str.contains(\"photo/2\", na=False)]['expanded_urls']"
   ]
  },
  {
   "cell_type": "markdown",
   "metadata": {},
   "source": [
    "- expanded_urls should have been /photo/1  and  /photo/2  since on the Twitter page there are two photos with different links\n",
    "- if they are all the same we could remove URLs and just keep count and generate the link using twit_idd"
   ]
  },
  {
   "cell_type": "code",
   "execution_count": 17,
   "metadata": {},
   "outputs": [
    {
     "name": "stdout",
     "output_type": "stream",
     "text": [
      "<class 'pandas.core.frame.DataFrame'>\n",
      "RangeIndex: 2356 entries, 0 to 2355\n",
      "Data columns (total 17 columns):\n",
      " #   Column                      Non-Null Count  Dtype  \n",
      "---  ------                      --------------  -----  \n",
      " 0   tweet_id                    2356 non-null   int64  \n",
      " 1   in_reply_to_status_id       78 non-null     float64\n",
      " 2   in_reply_to_user_id         78 non-null     float64\n",
      " 3   timestamp                   2356 non-null   object \n",
      " 4   source                      2356 non-null   object \n",
      " 5   text                        2356 non-null   object \n",
      " 6   retweeted_status_id         181 non-null    float64\n",
      " 7   retweeted_status_user_id    181 non-null    float64\n",
      " 8   retweeted_status_timestamp  181 non-null    object \n",
      " 9   expanded_urls               2297 non-null   object \n",
      " 10  rating_numerator            2356 non-null   int64  \n",
      " 11  rating_denominator          2356 non-null   int64  \n",
      " 12  name                        2356 non-null   object \n",
      " 13  doggo                       2356 non-null   object \n",
      " 14  floofer                     2356 non-null   object \n",
      " 15  pupper                      2356 non-null   object \n",
      " 16  puppo                       2356 non-null   object \n",
      "dtypes: float64(4), int64(3), object(10)\n",
      "memory usage: 313.0+ KB\n"
     ]
    }
   ],
   "source": [
    "df_twitter_archive.info()"
   ]
  },
  {
   "cell_type": "markdown",
   "metadata": {},
   "source": [
    "- ids could be string, instead of float"
   ]
  },
  {
   "cell_type": "code",
   "execution_count": 18,
   "metadata": {},
   "outputs": [
    {
     "data": {
      "text/plain": "0"
     },
     "execution_count": 18,
     "metadata": {},
     "output_type": "execute_result"
    }
   ],
   "source": [
    "df_twitter_archive.duplicated().sum()"
   ]
  },
  {
   "cell_type": "code",
   "execution_count": 19,
   "metadata": {},
   "outputs": [
    {
     "data": {
      "text/plain": "27     1\n45     1\n99     1\n121    1\n204    1\nName: rating_numerator, dtype: int64"
     },
     "execution_count": 19,
     "metadata": {},
     "output_type": "execute_result"
    }
   ],
   "source": [
    "# uncommon numerators \r\n",
    "df_twitter_archive.rating_numerator.value_counts()[-5:]"
   ]
  },
  {
   "cell_type": "code",
   "execution_count": 20,
   "metadata": {},
   "outputs": [
    {
     "data": {
      "text/plain": "130    1\n150    1\n170    1\n7      1\n0      1\nName: rating_denominator, dtype: int64"
     },
     "execution_count": 20,
     "metadata": {},
     "output_type": "execute_result"
    }
   ],
   "source": [
    "# uncommon denominators\r\n",
    "df_twitter_archive.rating_denominator.value_counts()[-5:]"
   ]
  },
  {
   "cell_type": "code",
   "execution_count": 21,
   "metadata": {},
   "outputs": [
    {
     "data": {
      "text/html": "<div>\n<style scoped>\n    .dataframe tbody tr th:only-of-type {\n        vertical-align: middle;\n    }\n\n    .dataframe tbody tr th {\n        vertical-align: top;\n    }\n\n    .dataframe thead th {\n        text-align: right;\n    }\n</style>\n<table border=\"1\" class=\"dataframe\">\n  <thead>\n    <tr style=\"text-align: right;\">\n      <th></th>\n      <th>text</th>\n      <th>tweet_id</th>\n    </tr>\n  </thead>\n  <tbody>\n    <tr>\n      <th>313</th>\n      <td>@jonnysun @Lin_Manuel ok jomny I know you're e...</td>\n      <td>835246439529840640</td>\n    </tr>\n    <tr>\n      <th>342</th>\n      <td>@docmisterio account started on 11/15/15</td>\n      <td>832088576586297345</td>\n    </tr>\n    <tr>\n      <th>433</th>\n      <td>The floofs have been released I repeat the flo...</td>\n      <td>820690176645140481</td>\n    </tr>\n    <tr>\n      <th>516</th>\n      <td>Meet Sam. She smiles 24/7 &amp;amp; secretly aspir...</td>\n      <td>810984652412424192</td>\n    </tr>\n    <tr>\n      <th>784</th>\n      <td>RT @dog_rates: After so many requests, this is...</td>\n      <td>775096608509886464</td>\n    </tr>\n    <tr>\n      <th>902</th>\n      <td>Why does this never happen at my front door......</td>\n      <td>758467244762497024</td>\n    </tr>\n    <tr>\n      <th>1068</th>\n      <td>After so many requests, this is Bretagne. She ...</td>\n      <td>740373189193256964</td>\n    </tr>\n    <tr>\n      <th>1120</th>\n      <td>Say hello to this unbelievably well behaved sq...</td>\n      <td>731156023742988288</td>\n    </tr>\n    <tr>\n      <th>1165</th>\n      <td>Happy 4/20 from the squad! 13/10 for all https...</td>\n      <td>722974582966214656</td>\n    </tr>\n    <tr>\n      <th>1202</th>\n      <td>This is Bluebert. He just saw that both #Final...</td>\n      <td>716439118184652801</td>\n    </tr>\n    <tr>\n      <th>1228</th>\n      <td>Happy Saturday here's 9 puppers on a bench. 99...</td>\n      <td>713900603437621249</td>\n    </tr>\n    <tr>\n      <th>1254</th>\n      <td>Here's a brigade of puppers. All look very pre...</td>\n      <td>710658690886586372</td>\n    </tr>\n    <tr>\n      <th>1274</th>\n      <td>From left to right:\\nCletus, Jerome, Alejandro...</td>\n      <td>709198395643068416</td>\n    </tr>\n    <tr>\n      <th>1351</th>\n      <td>Here is a whole flock of puppers.  60/50 I'll ...</td>\n      <td>704054845121142784</td>\n    </tr>\n    <tr>\n      <th>1433</th>\n      <td>Happy Wednesday here's a bucket of pups. 44/40...</td>\n      <td>697463031882764288</td>\n    </tr>\n  </tbody>\n</table>\n</div>",
      "text/plain": "                                                   text            tweet_id\n313   @jonnysun @Lin_Manuel ok jomny I know you're e...  835246439529840640\n342            @docmisterio account started on 11/15/15  832088576586297345\n433   The floofs have been released I repeat the flo...  820690176645140481\n516   Meet Sam. She smiles 24/7 &amp; secretly aspir...  810984652412424192\n784   RT @dog_rates: After so many requests, this is...  775096608509886464\n902   Why does this never happen at my front door......  758467244762497024\n1068  After so many requests, this is Bretagne. She ...  740373189193256964\n1120  Say hello to this unbelievably well behaved sq...  731156023742988288\n1165  Happy 4/20 from the squad! 13/10 for all https...  722974582966214656\n1202  This is Bluebert. He just saw that both #Final...  716439118184652801\n1228  Happy Saturday here's 9 puppers on a bench. 99...  713900603437621249\n1254  Here's a brigade of puppers. All look very pre...  710658690886586372\n1274  From left to right:\\nCletus, Jerome, Alejandro...  709198395643068416\n1351  Here is a whole flock of puppers.  60/50 I'll ...  704054845121142784\n1433  Happy Wednesday here's a bucket of pups. 44/40...  697463031882764288"
     },
     "execution_count": 21,
     "metadata": {},
     "output_type": "execute_result"
    }
   ],
   "source": [
    "# dog_rates known to use 10 as denominator even the numerator is more than 10\r\n",
    "# there might be a parsing issue if it the denominator is different than 10\r\n",
    "df_twitter_archive[df_twitter_archive.rating_denominator != 10][['text','tweet_id']][:15]"
   ]
  },
  {
   "cell_type": "markdown",
   "metadata": {},
   "source": [
    "- multiple dogs, multiplies the denominator like so; 5 dogs -> 50, 12 dogs -> 120\r\n",
    "- dates mixed in as ratings, time (24/7)\r\n",
    "- 7/11 shop "
   ]
  },
  {
   "cell_type": "code",
   "execution_count": 22,
   "metadata": {},
   "outputs": [
    {
     "data": {
      "text/plain": "None       745\na           55\nCharlie     12\nLucy        11\nOliver      11\nCooper      11\nTucker      10\nLola        10\nPenny       10\nWinston      9\nBo           9\nthe          8\nSadie        8\nBuddy        7\nan           7\nName: name, dtype: int64"
     },
     "execution_count": 22,
     "metadata": {},
     "output_type": "execute_result"
    }
   ],
   "source": [
    "# most common names\r\n",
    "df_twitter_archive.name.value_counts()[:15]"
   ]
  },
  {
   "cell_type": "code",
   "execution_count": 23,
   "metadata": {},
   "outputs": [
    {
     "data": {
      "text/plain": "a     55\nBo     9\nan     7\nAl     1\nmy     1\nEd     1\nO      1\nJD     1\nJo     1\nby     1\nMo     1\nName: name, dtype: int64"
     },
     "execution_count": 23,
     "metadata": {},
     "output_type": "execute_result"
    }
   ],
   "source": [
    "df_twitter_archive[df_twitter_archive.name.str.len() < 3]['name'].value_counts()"
   ]
  },
  {
   "cell_type": "code",
   "execution_count": 24,
   "metadata": {},
   "outputs": [
    {
     "data": {
      "text/plain": "957"
     },
     "execution_count": 24,
     "metadata": {},
     "output_type": "execute_result"
    }
   ],
   "source": [
    "# Unique dog names\r\n",
    "df_twitter_archive.name.nunique()"
   ]
  },
  {
   "cell_type": "code",
   "execution_count": 25,
   "metadata": {},
   "outputs": [
    {
     "data": {
      "text/html": "<div>\n<style scoped>\n    .dataframe tbody tr th:only-of-type {\n        vertical-align: middle;\n    }\n\n    .dataframe tbody tr th {\n        vertical-align: top;\n    }\n\n    .dataframe thead th {\n        text-align: right;\n    }\n</style>\n<table border=\"1\" class=\"dataframe\">\n  <thead>\n    <tr style=\"text-align: right;\">\n      <th></th>\n      <th>text</th>\n      <th>tweet_id</th>\n    </tr>\n  </thead>\n  <tbody>\n    <tr>\n      <th>56</th>\n      <td>Here is a pupper approaching maximum borkdrive...</td>\n      <td>881536004380872706</td>\n    </tr>\n    <tr>\n      <th>649</th>\n      <td>Here is a perfect example of someone who has t...</td>\n      <td>792913359805018113</td>\n    </tr>\n    <tr>\n      <th>801</th>\n      <td>Guys this is getting so out of hand. We only r...</td>\n      <td>772581559778025472</td>\n    </tr>\n    <tr>\n      <th>1002</th>\n      <td>This is a mighty rare blue-tailed hammer sherk...</td>\n      <td>747885874273214464</td>\n    </tr>\n    <tr>\n      <th>1004</th>\n      <td>Viewer discretion is advised. This is a terrib...</td>\n      <td>747816857231626240</td>\n    </tr>\n  </tbody>\n</table>\n</div>",
      "text/plain": "                                                   text            tweet_id\n56    Here is a pupper approaching maximum borkdrive...  881536004380872706\n649   Here is a perfect example of someone who has t...  792913359805018113\n801   Guys this is getting so out of hand. We only r...  772581559778025472\n1002  This is a mighty rare blue-tailed hammer sherk...  747885874273214464\n1004  Viewer discretion is advised. This is a terrib...  747816857231626240"
     },
     "execution_count": 25,
     "metadata": {},
     "output_type": "execute_result"
    }
   ],
   "source": [
    "# tweet ids of wrong named tweets\r\n",
    "df_twitter_archive[df_twitter_archive.name == 'a'][['text','tweet_id']][:5]"
   ]
  },
  {
   "cell_type": "code",
   "execution_count": 26,
   "metadata": {},
   "outputs": [
    {
     "data": {
      "text/html": "<div>\n<style scoped>\n    .dataframe tbody tr th:only-of-type {\n        vertical-align: middle;\n    }\n\n    .dataframe tbody tr th {\n        vertical-align: top;\n    }\n\n    .dataframe thead th {\n        text-align: right;\n    }\n</style>\n<table border=\"1\" class=\"dataframe\">\n  <thead>\n    <tr style=\"text-align: right;\">\n      <th></th>\n      <th>text</th>\n      <th>tweet_id</th>\n    </tr>\n  </thead>\n  <tbody>\n    <tr>\n      <th>1527</th>\n      <td>Stop sending in lobsters. This is the final wa...</td>\n      <td>690360449368465409</td>\n    </tr>\n    <tr>\n      <th>1603</th>\n      <td>This is the newly formed pupper a capella grou...</td>\n      <td>685943807276412928</td>\n    </tr>\n    <tr>\n      <th>1797</th>\n      <td>This is the happiest pupper I've ever seen. 10...</td>\n      <td>677269281705472000</td>\n    </tr>\n    <tr>\n      <th>1815</th>\n      <td>This is the saddest/sweetest/best picture I've...</td>\n      <td>676613908052996102</td>\n    </tr>\n    <tr>\n      <th>2037</th>\n      <td>This is the best thing I've ever seen so sprea...</td>\n      <td>671561002136281088</td>\n    </tr>\n  </tbody>\n</table>\n</div>",
      "text/plain": "                                                   text            tweet_id\n1527  Stop sending in lobsters. This is the final wa...  690360449368465409\n1603  This is the newly formed pupper a capella grou...  685943807276412928\n1797  This is the happiest pupper I've ever seen. 10...  677269281705472000\n1815  This is the saddest/sweetest/best picture I've...  676613908052996102\n2037  This is the best thing I've ever seen so sprea...  671561002136281088"
     },
     "execution_count": 26,
     "metadata": {},
     "output_type": "execute_result"
    }
   ],
   "source": [
    "df_twitter_archive[df_twitter_archive.name == 'the'][['text','tweet_id']][:5]"
   ]
  },
  {
   "cell_type": "code",
   "execution_count": 27,
   "metadata": {},
   "outputs": [
    {
     "data": {
      "text/html": "<div>\n<style scoped>\n    .dataframe tbody tr th:only-of-type {\n        vertical-align: middle;\n    }\n\n    .dataframe tbody tr th {\n        vertical-align: top;\n    }\n\n    .dataframe thead th {\n        text-align: right;\n    }\n</style>\n<table border=\"1\" class=\"dataframe\">\n  <thead>\n    <tr style=\"text-align: right;\">\n      <th></th>\n      <th>text</th>\n      <th>tweet_id</th>\n    </tr>\n  </thead>\n  <tbody>\n    <tr>\n      <th>230</th>\n      <td>RT @dog_rates: This is Charlie. He fell asleep...</td>\n      <td>847978865427394560</td>\n    </tr>\n    <tr>\n      <th>254</th>\n      <td>This is Charlie. He wants to know if you have ...</td>\n      <td>844580511645339650</td>\n    </tr>\n    <tr>\n      <th>261</th>\n      <td>This is Charlie. He's wishing you a very fun a...</td>\n      <td>842846295480000512</td>\n    </tr>\n    <tr>\n      <th>326</th>\n      <td>Meet Charlie. She asked u to change the channe...</td>\n      <td>833826103416520705</td>\n    </tr>\n    <tr>\n      <th>338</th>\n      <td>This is Charlie. He fell asleep on a heating v...</td>\n      <td>832369877331693569</td>\n    </tr>\n  </tbody>\n</table>\n</div>",
      "text/plain": "                                                  text            tweet_id\n230  RT @dog_rates: This is Charlie. He fell asleep...  847978865427394560\n254  This is Charlie. He wants to know if you have ...  844580511645339650\n261  This is Charlie. He's wishing you a very fun a...  842846295480000512\n326  Meet Charlie. She asked u to change the channe...  833826103416520705\n338  This is Charlie. He fell asleep on a heating v...  832369877331693569"
     },
     "execution_count": 27,
     "metadata": {},
     "output_type": "execute_result"
    }
   ],
   "source": [
    "# tweet ids of correctly named dogs\r\n",
    "df_twitter_archive[df_twitter_archive.name == 'Charlie'][['text','tweet_id']][:5]"
   ]
  },
  {
   "cell_type": "markdown",
   "metadata": {},
   "source": [
    "- it looks like the regex parse expects a name after some defined strings like \"this is.., here is..., Meet ..\"\n",
    "- we could use a dog name dictionary and look for those names in the tweet\n",
    "- alternative is to use the NER model to get the person names from the tweet (I am not a native English speaker so I don't know if dogs are often named after objects or human names)s)"
   ]
  },
  {
   "cell_type": "code",
   "execution_count": 28,
   "metadata": {},
   "outputs": [
    {
     "name": "stdout",
     "output_type": "stream",
     "text": [
      "<class 'pandas.core.frame.DataFrame'>\n",
      "RangeIndex: 2075 entries, 0 to 2074\n",
      "Data columns (total 12 columns):\n",
      " #   Column    Non-Null Count  Dtype  \n",
      "---  ------    --------------  -----  \n",
      " 0   tweet_id  2075 non-null   int64  \n",
      " 1   jpg_url   2075 non-null   object \n",
      " 2   img_num   2075 non-null   int64  \n",
      " 3   p1        2075 non-null   object \n",
      " 4   p1_conf   2075 non-null   float64\n",
      " 5   p1_dog    2075 non-null   bool   \n",
      " 6   p2        2075 non-null   object \n",
      " 7   p2_conf   2075 non-null   float64\n",
      " 8   p2_dog    2075 non-null   bool   \n",
      " 9   p3        2075 non-null   object \n",
      " 10  p3_conf   2075 non-null   float64\n",
      " 11  p3_dog    2075 non-null   bool   \n",
      "dtypes: bool(3), float64(3), int64(2), object(4)\n",
      "memory usage: 152.1+ KB\n"
     ]
    }
   ],
   "source": [
    "df_image_predictions.info()"
   ]
  },
  {
   "cell_type": "code",
   "execution_count": 29,
   "metadata": {},
   "outputs": [
    {
     "data": {
      "text/plain": "count    2075.000000\nmean        0.594548\nstd         0.271174\nmin         0.044333\n25%         0.364412\n50%         0.588230\n75%         0.843855\nmax         1.000000\nName: p1_conf, dtype: float64"
     },
     "execution_count": 29,
     "metadata": {},
     "output_type": "execute_result"
    }
   ],
   "source": [
    "# how certain is the model\r\n",
    "df_image_predictions.p1_conf.describe()"
   ]
  },
  {
   "cell_type": "markdown",
   "metadata": {},
   "source": [
    "## Iterating on Data Gathering"
   ]
  },
  {
   "cell_type": "markdown",
   "metadata": {},
   "source": [
    "Although the purpose of the project is to identify quality and tidiness issues and fixing them, at this point, I wanted to not just work on the existing dataset but iterate on the data-gathering phase again.\n",
    "\n",
    "The reason behind this is:\n",
    "- I enjoy data gathering :)\n",
    "- data available here is only until 2017\n",
    "- since breed classification won't be available for the new data I might also work on the image classification problem. learn from it\n",
    "- there could be a better model which could give more than %60 avg accuracy\n",
    "- multiple images could be used for categorization also for videos thumbnail image could provide dog breed info\n",
    "- names could come from a dog name dictionary or NER\n",
    "- I found out about twint project and want to try ito try it\n"
   ]
  },
  {
   "cell_type": "markdown",
   "metadata": {},
   "source": [
    "### Gathering twitter data"
   ]
  },
  {
   "cell_type": "markdown",
   "metadata": {},
   "source": [
    "- There is a osint project called twint. which avoids API usage and its limits by scrapping tweets https://github.com/twintproject/twint\n",
    "- Seeing how cool their charts are I followed their wiki to setup elasticsearch and kibana on docker\n",
    "- There were some issue and quick fixes to be made https://github.com/twintproject/twint/issues/1040#issuecomment-737359393\n",
    "  - Also the strptime function of datetime didn't work as intended with collected data (\"%Z\" part didn't catch EEST and only worked for PST and EST) I patched the code locally, I was going to create a PR but found out that someone already issued it\n",
    "- After running the script I was able to get 11MB worth of jsonl tweets which contained the entire timeline of dog_rates\n",
    "- I used kibana for some cool filters and visualizations on the data set. As a first-time user, I am impressed by the elasticsearch ecosystem.stem."
   ]
  },
  {
   "cell_type": "markdown",
   "metadata": {},
   "source": [
    "![kibana](images/kibana.png)"
   ]
  },
  {
   "cell_type": "markdown",
   "metadata": {},
   "source": [
    "this is how twint downloads data to both electicsearch and stores as python\r\n",
    "\r\n",
    "requires twint library to run\r\n",
    "```\r\n",
    "import twint\r\n",
    "\r\n",
    "# Configure\r\n",
    "c = twint.Config()\r\n",
    "c.Username = \"dog_rates\"\r\n",
    "c.Elasticsearch = \"http://localhost:9200\"\r\n",
    "c.Store_json = True\r\n",
    "c.Output = \"dog_rates.json\"\r\n",
    "\r\n",
    "# Run\r\n",
    "twint.run.Search(c)\r\n",
    "```"
   ]
  },
  {
   "cell_type": "markdown",
   "metadata": {},
   "source": [
    "## Load new data"
   ]
  },
  {
   "cell_type": "code",
   "execution_count": 30,
   "metadata": {},
   "outputs": [],
   "source": [
    "df_tweets = pd.read_json('./data/dog_rates.json', lines=True)"
   ]
  },
  {
   "cell_type": "code",
   "execution_count": 31,
   "metadata": {},
   "outputs": [
    {
     "data": {
      "text/html": "<div>\n<style scoped>\n    .dataframe tbody tr th:only-of-type {\n        vertical-align: middle;\n    }\n\n    .dataframe tbody tr th {\n        vertical-align: top;\n    }\n\n    .dataframe thead th {\n        text-align: right;\n    }\n</style>\n<table border=\"1\" class=\"dataframe\">\n  <thead>\n    <tr style=\"text-align: right;\">\n      <th></th>\n      <th>id</th>\n      <th>conversation_id</th>\n      <th>created_at</th>\n      <th>date</th>\n      <th>time</th>\n      <th>timezone</th>\n      <th>user_id</th>\n      <th>username</th>\n      <th>name</th>\n      <th>place</th>\n      <th>...</th>\n      <th>geo</th>\n      <th>source</th>\n      <th>user_rt_id</th>\n      <th>user_rt</th>\n      <th>retweet_id</th>\n      <th>reply_to</th>\n      <th>retweet_date</th>\n      <th>translate</th>\n      <th>trans_src</th>\n      <th>trans_dest</th>\n    </tr>\n  </thead>\n  <tbody>\n    <tr>\n      <th>0</th>\n      <td>1367986147473858564</td>\n      <td>1367160218337959936</td>\n      <td>2021-03-06 02:51:28 Turkey Standard Time</td>\n      <td>2021-03-06</td>\n      <td>02:51:28</td>\n      <td>300</td>\n      <td>4196983835</td>\n      <td>dog_rates</td>\n      <td>WeRateDogs®</td>\n      <td></td>\n      <td>...</td>\n      <td></td>\n      <td></td>\n      <td></td>\n      <td></td>\n      <td></td>\n      <td>[{'screen_name': 'brainyisnewsexy', 'name': '😷...</td>\n      <td></td>\n      <td></td>\n      <td></td>\n      <td></td>\n    </tr>\n  </tbody>\n</table>\n<p>1 rows × 36 columns</p>\n</div>",
      "text/plain": "                    id      conversation_id  \\\n0  1367986147473858564  1367160218337959936   \n\n                                 created_at       date      time  timezone  \\\n0  2021-03-06 02:51:28 Turkey Standard Time 2021-03-06  02:51:28       300   \n\n      user_id   username         name place  ... geo source user_rt_id  \\\n0  4196983835  dog_rates  WeRateDogs®        ...                         \n\n  user_rt retweet_id                                           reply_to  \\\n0                     [{'screen_name': 'brainyisnewsexy', 'name': '😷...   \n\n   retweet_date  translate trans_src trans_dest  \n0                                                \n\n[1 rows x 36 columns]"
     },
     "execution_count": 31,
     "metadata": {},
     "output_type": "execute_result"
    }
   ],
   "source": [
    "df_tweets.head(1)"
   ]
  },
  {
   "cell_type": "code",
   "execution_count": 32,
   "metadata": {},
   "outputs": [
    {
     "data": {
      "text/plain": "Index(['id', 'conversation_id', 'created_at', 'date', 'time', 'timezone',\n       'user_id', 'username', 'name', 'place', 'tweet', 'language', 'mentions',\n       'urls', 'photos', 'replies_count', 'retweets_count', 'likes_count',\n       'hashtags', 'cashtags', 'link', 'retweet', 'quote_url', 'video',\n       'thumbnail', 'near', 'geo', 'source', 'user_rt_id', 'user_rt',\n       'retweet_id', 'reply_to', 'retweet_date', 'translate', 'trans_src',\n       'trans_dest'],\n      dtype='object')"
     },
     "execution_count": 32,
     "metadata": {},
     "output_type": "execute_result"
    }
   ],
   "source": [
    "df_tweets.columns"
   ]
  },
  {
   "cell_type": "code",
   "execution_count": 33,
   "metadata": {},
   "outputs": [
    {
     "name": "stdout",
     "output_type": "stream",
     "text": [
      "<class 'pandas.core.frame.DataFrame'>\n",
      "RangeIndex: 12491 entries, 0 to 12490\n",
      "Data columns (total 36 columns):\n",
      " #   Column           Non-Null Count  Dtype         \n",
      "---  ------           --------------  -----         \n",
      " 0   id               12491 non-null  int64         \n",
      " 1   conversation_id  12491 non-null  int64         \n",
      " 2   created_at       12491 non-null  object        \n",
      " 3   date             12491 non-null  datetime64[ns]\n",
      " 4   time             12491 non-null  object        \n",
      " 5   timezone         12491 non-null  int64         \n",
      " 6   user_id          12491 non-null  int64         \n",
      " 7   username         12491 non-null  object        \n",
      " 8   name             12491 non-null  object        \n",
      " 9   place            12491 non-null  object        \n",
      " 10  tweet            12491 non-null  object        \n",
      " 11  language         12491 non-null  object        \n",
      " 12  mentions         12491 non-null  object        \n",
      " 13  urls             12491 non-null  object        \n",
      " 14  photos           12491 non-null  object        \n",
      " 15  replies_count    12491 non-null  int64         \n",
      " 16  retweets_count   12491 non-null  int64         \n",
      " 17  likes_count      12491 non-null  int64         \n",
      " 18  hashtags         12491 non-null  object        \n",
      " 19  cashtags         12491 non-null  object        \n",
      " 20  link             12491 non-null  object        \n",
      " 21  retweet          12491 non-null  bool          \n",
      " 22  quote_url        12491 non-null  object        \n",
      " 23  video            12491 non-null  int64         \n",
      " 24  thumbnail        12491 non-null  object        \n",
      " 25  near             12491 non-null  object        \n",
      " 26  geo              12491 non-null  object        \n",
      " 27  source           12491 non-null  object        \n",
      " 28  user_rt_id       12491 non-null  object        \n",
      " 29  user_rt          12491 non-null  object        \n",
      " 30  retweet_id       12491 non-null  object        \n",
      " 31  reply_to         12491 non-null  object        \n",
      " 32  retweet_date     12491 non-null  object        \n",
      " 33  translate        12491 non-null  object        \n",
      " 34  trans_src        12491 non-null  object        \n",
      " 35  trans_dest       12491 non-null  object        \n",
      "dtypes: bool(1), datetime64[ns](1), int64(8), object(26)\n",
      "memory usage: 3.3+ MB\n"
     ]
    }
   ],
   "source": [
    "df_tweets.info()"
   ]
  },
  {
   "cell_type": "markdown",
   "metadata": {},
   "source": [
    "- ids are int64\r\n",
    "- date is converted to datetime\r\n",
    "- however there are no null values (pd.read_json might added them with default values)"
   ]
  },
  {
   "cell_type": "code",
   "execution_count": 34,
   "metadata": {},
   "outputs": [
    {
     "data": {
      "text/plain": "0                                                   []\n1                                                   []\n2    [https://pbs.twimg.com/media/EvwLbfhVcAA6gfo.jpg]\n3                                                   []\n4    [https://pbs.twimg.com/media/Evvo-82UUAUrVk_.j...\nName: photos, dtype: object"
     },
     "execution_count": 34,
     "metadata": {},
     "output_type": "execute_result"
    }
   ],
   "source": [
    "df_tweets.photos[:5]"
   ]
  },
  {
   "cell_type": "code",
   "execution_count": 35,
   "metadata": {},
   "outputs": [
    {
     "data": {
      "text/plain": "0    \n1    \n2    \n3    \n4    \nName: translate, dtype: object"
     },
     "execution_count": 35,
     "metadata": {},
     "output_type": "execute_result"
    }
   ],
   "source": [
    "df_tweets.translate[:5]"
   ]
  },
  {
   "cell_type": "markdown",
   "metadata": {},
   "source": [
    "- we need to remove empty lines, empty arrays and None values"
   ]
  },
  {
   "cell_type": "code",
   "execution_count": 36,
   "metadata": {},
   "outputs": [
    {
     "data": {
      "text/plain": "['https://pbs.twimg.com/media/EvfXQ-JUUAUMbxy.jpg',\n 'https://pbs.twimg.com/media/EvfXQ-LVkAkWVfa.jpg',\n 'https://pbs.twimg.com/media/EvfXQ-KUUAIJCn0.jpg',\n 'https://pbs.twimg.com/media/EvfXQ-KVgAEUhdx.jpg']"
     },
     "execution_count": 36,
     "metadata": {},
     "output_type": "execute_result"
    }
   ],
   "source": [
    "df_tweets.photos[26]"
   ]
  },
  {
   "cell_type": "markdown",
   "metadata": {},
   "source": [
    "- unlike before photos now have direct image and not twitter link like https://twitter.com/dog_rates/status/890729181411237888/photo/1"
   ]
  },
  {
   "cell_type": "code",
   "execution_count": 37,
   "metadata": {},
   "outputs": [
    {
     "data": {
      "text/html": "<div>\n<style scoped>\n    .dataframe tbody tr th:only-of-type {\n        vertical-align: middle;\n    }\n\n    .dataframe tbody tr th {\n        vertical-align: top;\n    }\n\n    .dataframe thead th {\n        text-align: right;\n    }\n</style>\n<table border=\"1\" class=\"dataframe\">\n  <thead>\n    <tr style=\"text-align: right;\">\n      <th></th>\n      <th>created_at</th>\n      <th>date</th>\n      <th>time</th>\n      <th>timezone</th>\n    </tr>\n  </thead>\n  <tbody>\n    <tr>\n      <th>0</th>\n      <td>2021-03-06 02:51:28 Turkey Standard Time</td>\n      <td>2021-03-06</td>\n      <td>02:51:28</td>\n      <td>300</td>\n    </tr>\n  </tbody>\n</table>\n</div>",
      "text/plain": "                                 created_at       date      time  timezone\n0  2021-03-06 02:51:28 Turkey Standard Time 2021-03-06  02:51:28       300"
     },
     "execution_count": 37,
     "metadata": {},
     "output_type": "execute_result"
    }
   ],
   "source": [
    "df_tweets[['created_at', 'date', 'time', 'timezone']].head(1)"
   ]
  },
  {
   "cell_type": "markdown",
   "metadata": {},
   "source": [
    "- date, time, and timezone can be combined into one datetime format. created_at is a string that represents this combined value. removing all 4 to create one tidies the data"
   ]
  },
  {
   "cell_type": "code",
   "execution_count": 38,
   "metadata": {},
   "outputs": [
    {
     "data": {
      "text/html": "<div>\n<style scoped>\n    .dataframe tbody tr th:only-of-type {\n        vertical-align: middle;\n    }\n\n    .dataframe tbody tr th {\n        vertical-align: top;\n    }\n\n    .dataframe thead th {\n        text-align: right;\n    }\n</style>\n<table border=\"1\" class=\"dataframe\">\n  <thead>\n    <tr style=\"text-align: right;\">\n      <th></th>\n      <th>id</th>\n      <th>conversation_id</th>\n      <th>created_at</th>\n      <th>date</th>\n      <th>time</th>\n      <th>timezone</th>\n      <th>user_id</th>\n      <th>username</th>\n      <th>name</th>\n      <th>place</th>\n      <th>...</th>\n      <th>geo</th>\n      <th>source</th>\n      <th>user_rt_id</th>\n      <th>user_rt</th>\n      <th>retweet_id</th>\n      <th>reply_to</th>\n      <th>retweet_date</th>\n      <th>translate</th>\n      <th>trans_src</th>\n      <th>trans_dest</th>\n    </tr>\n  </thead>\n  <tbody>\n  </tbody>\n</table>\n<p>0 rows × 36 columns</p>\n</div>",
      "text/plain": "Empty DataFrame\nColumns: [id, conversation_id, created_at, date, time, timezone, user_id, username, name, place, tweet, language, mentions, urls, photos, replies_count, retweets_count, likes_count, hashtags, cashtags, link, retweet, quote_url, video, thumbnail, near, geo, source, user_rt_id, user_rt, retweet_id, reply_to, retweet_date, translate, trans_src, trans_dest]\nIndex: []\n\n[0 rows x 36 columns]"
     },
     "execution_count": 38,
     "metadata": {},
     "output_type": "execute_result"
    }
   ],
   "source": [
    "df_tweets[df_tweets.retweet]"
   ]
  },
  {
   "cell_type": "markdown",
   "metadata": {},
   "source": [
    "- retweets already filtered and all values are false, could remove this column"
   ]
  },
  {
   "cell_type": "code",
   "execution_count": 39,
   "metadata": {},
   "outputs": [
    {
     "data": {
      "text/html": "<div>\n<style scoped>\n    .dataframe tbody tr th:only-of-type {\n        vertical-align: middle;\n    }\n\n    .dataframe tbody tr th {\n        vertical-align: top;\n    }\n\n    .dataframe thead th {\n        text-align: right;\n    }\n</style>\n<table border=\"1\" class=\"dataframe\">\n  <thead>\n    <tr style=\"text-align: right;\">\n      <th></th>\n      <th>user_id</th>\n      <th>username</th>\n      <th>name</th>\n    </tr>\n  </thead>\n  <tbody>\n    <tr>\n      <th>0</th>\n      <td>4196983835</td>\n      <td>dog_rates</td>\n      <td>WeRateDogs®</td>\n    </tr>\n  </tbody>\n</table>\n</div>",
      "text/plain": "      user_id   username         name\n0  4196983835  dog_rates  WeRateDogs®"
     },
     "execution_count": 39,
     "metadata": {},
     "output_type": "execute_result"
    }
   ],
   "source": [
    "df_tweets[['user_id', 'username', 'name']].head(1)"
   ]
  },
  {
   "cell_type": "markdown",
   "metadata": {},
   "source": [
    "- these 3 also point to the same thing. user_id is enough to represent them all"
   ]
  },
  {
   "cell_type": "code",
   "execution_count": 40,
   "metadata": {},
   "outputs": [
    {
     "data": {
      "text/plain": "0                     @brainyisnewsexy @DisneyRaya 😂😂😂\n1                    @Tasaraus @DisneyRaya it’s okay 😌\n2    Officially, Tuk Tuk is 50% armadillo, 50% roly...\n3                                @PickledPlatypuz lmao\n4    This is Otis. He broke his femur jumping out o...\nName: tweet, dtype: object"
     },
     "execution_count": 40,
     "metadata": {},
     "output_type": "execute_result"
    }
   ],
   "source": [
    "df_tweets[df_tweets.reply_to.notnull()].tweet.head(5)"
   ]
  },
  {
   "cell_type": "code",
   "execution_count": 41,
   "metadata": {},
   "outputs": [
    {
     "data": {
      "text/plain": "0    [{'screen_name': 'brainyisnewsexy', 'name': '😷...\n1    [{'screen_name': 'Tasaraus', 'name': 'Tas', 'i...\n2                                                   []\n3    [{'screen_name': 'PickledPlatypuz', 'name': '💯...\n4                                                   []\nName: reply_to, dtype: object"
     },
     "execution_count": 41,
     "metadata": {},
     "output_type": "execute_result"
    }
   ],
   "source": [
    "df_tweets[df_tweets.quote_url.notnull()].reply_to.head(5)"
   ]
  },
  {
   "cell_type": "markdown",
   "metadata": {},
   "source": [
    "- so reply to is used to reply to someone and includes \"Replying to @...\" in the title however you don't need to reply to someone using Twitter as it is meant to (you could also just say @... and mention them)\n",
    "- there is also a quote option. not all quotes are replied to that person. you can quote and share it on your timeline\n",
    "- these two are not something we are looking for we can filter tweets with a quote and replyly"
   ]
  },
  {
   "cell_type": "code",
   "execution_count": 42,
   "metadata": {},
   "outputs": [
    {
     "data": {
      "text/plain": "0                  []\n1                  []\n2    [disneyraya, ad]\n3                  []\n4                  []\nName: hashtags, dtype: object"
     },
     "execution_count": 42,
     "metadata": {},
     "output_type": "execute_result"
    }
   ],
   "source": [
    "df_tweets[df_tweets.hashtags.notnull()].hashtags.head(5)"
   ]
  },
  {
   "cell_type": "code",
   "execution_count": 43,
   "metadata": {},
   "outputs": [
    {
     "data": {
      "text/plain": "0    []\n1    []\n2    []\n3    []\n4    []\nName: mentions, dtype: object"
     },
     "execution_count": 43,
     "metadata": {},
     "output_type": "execute_result"
    }
   ],
   "source": [
    "df_tweets[df_tweets.mentions.notnull()].mentions.head(5)"
   ]
  },
  {
   "cell_type": "code",
   "execution_count": 44,
   "metadata": {},
   "outputs": [
    {
     "data": {
      "text/plain": "0                          []\n1                          []\n2    [http://Disney.com/raya]\n3                          []\n4                          []\nName: urls, dtype: object"
     },
     "execution_count": 44,
     "metadata": {},
     "output_type": "execute_result"
    }
   ],
   "source": [
    "df_tweets[df_tweets.urls.notnull()].urls.head(5)"
   ]
  },
  {
   "cell_type": "markdown",
   "metadata": {},
   "source": [
    "- we can also remove these columns \"link\",\"hastags\",\"language\",\"mentions\",\"conversation_id\", \"urls\""
   ]
  },
  {
   "cell_type": "markdown",
   "metadata": {},
   "source": [
    "## Cleaning"
   ]
  },
  {
   "cell_type": "code",
   "execution_count": 45,
   "metadata": {},
   "outputs": [],
   "source": [
    "# make a copy of the original dataframe\r\n",
    "df_tweets_original = df_tweets.copy()"
   ]
  },
  {
   "cell_type": "markdown",
   "metadata": {},
   "source": [
    "### Define\r\n",
    "\r\n",
    "The twint project doesn't put nulls when scraping tweets. It uses empty strings, arrays. This is a problem when we want to clean the dataset"
   ]
  },
  {
   "cell_type": "code",
   "execution_count": 46,
   "metadata": {},
   "outputs": [
    {
     "data": {
      "text/plain": "0                                                   []\n1                                                   []\n2    [https://pbs.twimg.com/media/EvwLbfhVcAA6gfo.jpg]\n3                                                   []\n4    [https://pbs.twimg.com/media/Evvo-82UUAUrVk_.j...\nName: photos, dtype: object"
     },
     "execution_count": 46,
     "metadata": {},
     "output_type": "execute_result"
    }
   ],
   "source": [
    "df_tweets_original.photos[:5]"
   ]
  },
  {
   "cell_type": "markdown",
   "metadata": {},
   "source": [
    "### Code"
   ]
  },
  {
   "cell_type": "code",
   "execution_count": 47,
   "metadata": {},
   "outputs": [],
   "source": [
    "# remove empty arrays, None values and empty strings so they can be seen as Nan\r\n",
    "df_tweets = df_tweets.where(~df_tweets.applymap(lambda x: x == [] or x is None or x == \"\"))"
   ]
  },
  {
   "cell_type": "markdown",
   "metadata": {},
   "source": [
    "### Test"
   ]
  },
  {
   "cell_type": "code",
   "execution_count": 48,
   "metadata": {},
   "outputs": [
    {
     "name": "stdout",
     "output_type": "stream",
     "text": [
      "<class 'pandas.core.frame.DataFrame'>\n",
      "RangeIndex: 12491 entries, 0 to 12490\n",
      "Data columns (total 36 columns):\n",
      " #   Column           Non-Null Count  Dtype         \n",
      "---  ------           --------------  -----         \n",
      " 0   id               12491 non-null  int64         \n",
      " 1   conversation_id  12491 non-null  int64         \n",
      " 2   created_at       12491 non-null  object        \n",
      " 3   date             12491 non-null  datetime64[ns]\n",
      " 4   time             12491 non-null  object        \n",
      " 5   timezone         12491 non-null  int64         \n",
      " 6   user_id          12491 non-null  int64         \n",
      " 7   username         12491 non-null  object        \n",
      " 8   name             12491 non-null  object        \n",
      " 9   place            0 non-null      object        \n",
      " 10  tweet            12491 non-null  object        \n",
      " 11  language         12491 non-null  object        \n",
      " 12  mentions         301 non-null    object        \n",
      " 13  urls             1912 non-null   object        \n",
      " 14  photos           3449 non-null   object        \n",
      " 15  replies_count    12491 non-null  int64         \n",
      " 16  retweets_count   12491 non-null  int64         \n",
      " 17  likes_count      12491 non-null  int64         \n",
      " 18  hashtags         347 non-null    object        \n",
      " 19  cashtags         0 non-null      object        \n",
      " 20  link             12491 non-null  object        \n",
      " 21  retweet          12491 non-null  bool          \n",
      " 22  quote_url        250 non-null    object        \n",
      " 23  video            12491 non-null  int64         \n",
      " 24  thumbnail        3703 non-null   object        \n",
      " 25  near             0 non-null      object        \n",
      " 26  geo              0 non-null      object        \n",
      " 27  source           0 non-null      object        \n",
      " 28  user_rt_id       0 non-null      object        \n",
      " 29  user_rt          0 non-null      object        \n",
      " 30  retweet_id       0 non-null      object        \n",
      " 31  reply_to         7050 non-null   object        \n",
      " 32  retweet_date     0 non-null      object        \n",
      " 33  translate        0 non-null      object        \n",
      " 34  trans_src        0 non-null      object        \n",
      " 35  trans_dest       0 non-null      object        \n",
      "dtypes: bool(1), datetime64[ns](1), int64(8), object(26)\n",
      "memory usage: 3.3+ MB\n"
     ]
    }
   ],
   "source": [
    "df_tweets.info()"
   ]
  },
  {
   "cell_type": "markdown",
   "metadata": {},
   "source": [
    "### Define\r\n",
    "\r\n",
    "- cleaning empty strings and array revealed that there are empty columns\r\n",
    "- we should drop them"
   ]
  },
  {
   "cell_type": "code",
   "execution_count": 49,
   "metadata": {},
   "outputs": [
    {
     "data": {
      "text/plain": "(12491, 36)"
     },
     "execution_count": 49,
     "metadata": {},
     "output_type": "execute_result"
    }
   ],
   "source": [
    "df_tweets.shape"
   ]
  },
  {
   "cell_type": "markdown",
   "metadata": {},
   "source": [
    "### Code"
   ]
  },
  {
   "cell_type": "code",
   "execution_count": 50,
   "metadata": {},
   "outputs": [],
   "source": [
    "# drop empty columns\r\n",
    "empty_columns = []\r\n",
    "for column in  df_tweets.columns:\r\n",
    "    if df_tweets[column].isnull().all():\r\n",
    "        empty_columns.append(column)\r\n",
    "\r\n",
    "df_tweets.drop(empty_columns, axis=1, inplace=True)"
   ]
  },
  {
   "cell_type": "markdown",
   "metadata": {},
   "source": [
    "### Test"
   ]
  },
  {
   "cell_type": "code",
   "execution_count": 51,
   "metadata": {},
   "outputs": [
    {
     "data": {
      "text/plain": "(12491, 24)"
     },
     "execution_count": 51,
     "metadata": {},
     "output_type": "execute_result"
    }
   ],
   "source": [
    "df_tweets.shape"
   ]
  },
  {
   "cell_type": "markdown",
   "metadata": {},
   "source": [
    "### Define\r\n",
    "There are other columns I am not planning to use. They should be dropped"
   ]
  },
  {
   "cell_type": "code",
   "execution_count": 52,
   "metadata": {},
   "outputs": [
    {
     "data": {
      "text/plain": "(12491, 24)"
     },
     "execution_count": 52,
     "metadata": {},
     "output_type": "execute_result"
    }
   ],
   "source": [
    "df_tweets.shape"
   ]
  },
  {
   "cell_type": "markdown",
   "metadata": {},
   "source": [
    "### Code"
   ]
  },
  {
   "cell_type": "code",
   "execution_count": 53,
   "metadata": {},
   "outputs": [],
   "source": [
    "unused_columns = [\"link\",\"hashtags\",\"language\",\"mentions\",\"conversation_id\", \"urls\", \"retweet\"]\r\n",
    "df_tweets.drop(unused_columns, axis=1, inplace=True)"
   ]
  },
  {
   "cell_type": "code",
   "execution_count": 54,
   "metadata": {},
   "outputs": [
    {
     "data": {
      "text/plain": "50     [{'screen_name': 'clintisawesome', 'name': 'Cl...\n188    [{'screen_name': 'Candace_Dx', 'name': 'Candac...\n202                                                  NaN\n228                                                  NaN\n249                                                  NaN\nName: reply_to, dtype: object"
     },
     "execution_count": 54,
     "metadata": {},
     "output_type": "execute_result"
    }
   ],
   "source": [
    "df_tweets[df_tweets.reply_to.notnull()].tweet.head(5)\r\n",
    "df_tweets[df_tweets.quote_url.notnull()].reply_to.head(5)"
   ]
  },
  {
   "cell_type": "code",
   "execution_count": 55,
   "metadata": {},
   "outputs": [],
   "source": [
    "# remove tweets with quote since they are not dog ratings\r\n",
    "df_tweets = df_tweets[~df_tweets.quote_url.notnull()]"
   ]
  },
  {
   "cell_type": "code",
   "execution_count": 56,
   "metadata": {},
   "outputs": [],
   "source": [
    "# remove replies \r\n",
    "df_tweets = df_tweets[~df_tweets.reply_to.notnull()]"
   ]
  },
  {
   "cell_type": "code",
   "execution_count": 57,
   "metadata": {},
   "outputs": [],
   "source": [
    "# and drop quote_url and reply_to\r\n",
    "df_tweets.drop(['quote_url', 'reply_to'], axis=1, inplace=True)"
   ]
  },
  {
   "cell_type": "code",
   "execution_count": 58,
   "metadata": {},
   "outputs": [],
   "source": [
    "# we can keep only user_id and drop username and name since they point to the same value. however I am also going to drop user_id since the project is only focused on dog_rates\r\n",
    "df_tweets.drop(['user_id', 'username', 'name'], axis=1, inplace=True)"
   ]
  },
  {
   "cell_type": "markdown",
   "metadata": {},
   "source": [
    "### Test"
   ]
  },
  {
   "cell_type": "code",
   "execution_count": 59,
   "metadata": {},
   "outputs": [
    {
     "data": {
      "text/plain": "(5227, 12)"
     },
     "execution_count": 59,
     "metadata": {},
     "output_type": "execute_result"
    }
   ],
   "source": [
    "df_tweets.shape"
   ]
  },
  {
   "cell_type": "code",
   "execution_count": 60,
   "metadata": {},
   "outputs": [
    {
     "name": "stdout",
     "output_type": "stream",
     "text": [
      "<class 'pandas.core.frame.DataFrame'>\n",
      "Int64Index: 5227 entries, 2 to 12490\n",
      "Data columns (total 12 columns):\n",
      " #   Column          Non-Null Count  Dtype         \n",
      "---  ------          --------------  -----         \n",
      " 0   id              5227 non-null   int64         \n",
      " 1   created_at      5227 non-null   object        \n",
      " 2   date            5227 non-null   datetime64[ns]\n",
      " 3   time            5227 non-null   object        \n",
      " 4   timezone        5227 non-null   int64         \n",
      " 5   tweet           5227 non-null   object        \n",
      " 6   photos          3307 non-null   object        \n",
      " 7   replies_count   5227 non-null   int64         \n",
      " 8   retweets_count  5227 non-null   int64         \n",
      " 9   likes_count     5227 non-null   int64         \n",
      " 10  video           5227 non-null   int64         \n",
      " 11  thumbnail       3552 non-null   object        \n",
      "dtypes: datetime64[ns](1), int64(6), object(5)\n",
      "memory usage: 530.9+ KB\n"
     ]
    }
   ],
   "source": [
    "df_tweets.info()"
   ]
  },
  {
   "cell_type": "markdown",
   "metadata": {},
   "source": [
    "### Define\r\n",
    "\r\n",
    "There are 4 columns for showing date information. We could combine them and increase the tidiness"
   ]
  },
  {
   "cell_type": "markdown",
   "metadata": {},
   "source": [
    "### Code"
   ]
  },
  {
   "cell_type": "code",
   "execution_count": 61,
   "metadata": {},
   "outputs": [
    {
     "data": {
      "text/plain": "300    5227\nName: timezone, dtype: int64"
     },
     "execution_count": 61,
     "metadata": {},
     "output_type": "execute_result"
    }
   ],
   "source": [
    "df_tweets.timezone.value_counts()"
   ]
  },
  {
   "cell_type": "markdown",
   "metadata": {},
   "source": [
    "- only timezone iz 0300\r\n"
   ]
  },
  {
   "cell_type": "code",
   "execution_count": 62,
   "metadata": {},
   "outputs": [],
   "source": [
    "import datetime"
   ]
  },
  {
   "cell_type": "code",
   "execution_count": 63,
   "metadata": {},
   "outputs": [],
   "source": [
    "def combine_date_time(df_date, df_time):\r\n",
    "    # 300 is the only timezone used in the dataset\r\n",
    "    return pd.to_datetime(str(df_date.date()) + \" \" + df_time + \"-0300\")"
   ]
  },
  {
   "cell_type": "code",
   "execution_count": 64,
   "metadata": {},
   "outputs": [],
   "source": [
    "df_tweets['datetime'] = df_tweets.apply(lambda x: combine_date_time(x.date, x.time), axis=1)"
   ]
  },
  {
   "cell_type": "code",
   "execution_count": 65,
   "metadata": {},
   "outputs": [],
   "source": [
    "# drop old time related columns\r\n",
    "df_tweets.drop(['date', 'created_at', 'time', 'timezone'], axis=1, inplace=True)"
   ]
  },
  {
   "cell_type": "markdown",
   "metadata": {},
   "source": [
    "### Test"
   ]
  },
  {
   "cell_type": "code",
   "execution_count": 66,
   "metadata": {},
   "outputs": [
    {
     "data": {
      "text/html": "<div>\n<style scoped>\n    .dataframe tbody tr th:only-of-type {\n        vertical-align: middle;\n    }\n\n    .dataframe tbody tr th {\n        vertical-align: top;\n    }\n\n    .dataframe thead th {\n        text-align: right;\n    }\n</style>\n<table border=\"1\" class=\"dataframe\">\n  <thead>\n    <tr style=\"text-align: right;\">\n      <th></th>\n      <th>id</th>\n      <th>tweet</th>\n      <th>photos</th>\n      <th>replies_count</th>\n      <th>retweets_count</th>\n      <th>likes_count</th>\n      <th>video</th>\n      <th>thumbnail</th>\n      <th>datetime</th>\n    </tr>\n  </thead>\n  <tbody>\n    <tr>\n      <th>2</th>\n      <td>1367980957563645955</td>\n      <td>Officially, Tuk Tuk is 50% armadillo, 50% roly...</td>\n      <td>[https://pbs.twimg.com/media/EvwLbfhVcAA6gfo.jpg]</td>\n      <td>22</td>\n      <td>101</td>\n      <td>3464</td>\n      <td>1</td>\n      <td>https://pbs.twimg.com/media/EvwLbfhVcAA6gfo.jpg</td>\n      <td>2021-03-06 02:30:50-03:00</td>\n    </tr>\n    <tr>\n      <th>4</th>\n      <td>1367943120906686466</td>\n      <td>This is Otis. He broke his femur jumping out o...</td>\n      <td>[https://pbs.twimg.com/media/Evvo-82UUAUrVk_.j...</td>\n      <td>148</td>\n      <td>1672</td>\n      <td>27796</td>\n      <td>1</td>\n      <td>https://pbs.twimg.com/media/Evvo-82UUAUrVk_.jpg</td>\n      <td>2021-03-06 00:00:29-03:00</td>\n    </tr>\n    <tr>\n      <th>8</th>\n      <td>1367882960406421507</td>\n      <td>This is King. He’s been living on the streets ...</td>\n      <td>[https://pbs.twimg.com/media/EvuyTV3UcAQXdYN.j...</td>\n      <td>99</td>\n      <td>2224</td>\n      <td>22729</td>\n      <td>1</td>\n      <td>https://pbs.twimg.com/media/EvuyTV3UcAQXdYN.jpg</td>\n      <td>2021-03-05 20:01:26-03:00</td>\n    </tr>\n    <tr>\n      <th>13</th>\n      <td>1367216213915443201</td>\n      <td>This is Minnie. She’s the Executive Pen Transp...</td>\n      <td>NaN</td>\n      <td>1256</td>\n      <td>29356</td>\n      <td>195085</td>\n      <td>1</td>\n      <td>https://pbs.twimg.com/ext_tw_video_thumb/13672...</td>\n      <td>2021-03-03 23:52:01-03:00</td>\n    </tr>\n    <tr>\n      <th>17</th>\n      <td>1367160218337959941</td>\n      <td>This is Tuk Tuk. He’s the cutest travel compan...</td>\n      <td>NaN</td>\n      <td>199</td>\n      <td>1043</td>\n      <td>18565</td>\n      <td>1</td>\n      <td>https://pbs.twimg.com/media/EvkWUcyVEAIA8Y0.jpg</td>\n      <td>2021-03-03 20:09:31-03:00</td>\n    </tr>\n  </tbody>\n</table>\n</div>",
      "text/plain": "                     id                                              tweet  \\\n2   1367980957563645955  Officially, Tuk Tuk is 50% armadillo, 50% roly...   \n4   1367943120906686466  This is Otis. He broke his femur jumping out o...   \n8   1367882960406421507  This is King. He’s been living on the streets ...   \n13  1367216213915443201  This is Minnie. She’s the Executive Pen Transp...   \n17  1367160218337959941  This is Tuk Tuk. He’s the cutest travel compan...   \n\n                                               photos  replies_count  \\\n2   [https://pbs.twimg.com/media/EvwLbfhVcAA6gfo.jpg]             22   \n4   [https://pbs.twimg.com/media/Evvo-82UUAUrVk_.j...            148   \n8   [https://pbs.twimg.com/media/EvuyTV3UcAQXdYN.j...             99   \n13                                                NaN           1256   \n17                                                NaN            199   \n\n    retweets_count  likes_count  video  \\\n2              101         3464      1   \n4             1672        27796      1   \n8             2224        22729      1   \n13           29356       195085      1   \n17            1043        18565      1   \n\n                                            thumbnail  \\\n2     https://pbs.twimg.com/media/EvwLbfhVcAA6gfo.jpg   \n4     https://pbs.twimg.com/media/Evvo-82UUAUrVk_.jpg   \n8     https://pbs.twimg.com/media/EvuyTV3UcAQXdYN.jpg   \n13  https://pbs.twimg.com/ext_tw_video_thumb/13672...   \n17    https://pbs.twimg.com/media/EvkWUcyVEAIA8Y0.jpg   \n\n                    datetime  \n2  2021-03-06 02:30:50-03:00  \n4  2021-03-06 00:00:29-03:00  \n8  2021-03-05 20:01:26-03:00  \n13 2021-03-03 23:52:01-03:00  \n17 2021-03-03 20:09:31-03:00  "
     },
     "execution_count": 66,
     "metadata": {},
     "output_type": "execute_result"
    }
   ],
   "source": [
    "df_tweets.head()"
   ]
  },
  {
   "cell_type": "markdown",
   "metadata": {},
   "source": [
    "- first photo of the photos and thumbnail sometimes have the same URL. however, it is not an exact duplication issue\n",
    "- sometimes the twit has a video and thumbnail of that video but no image so we should keep thumbnail  "
   ]
  },
  {
   "cell_type": "markdown",
   "metadata": {},
   "source": [
    "## Dog names"
   ]
  },
  {
   "cell_type": "markdown",
   "metadata": {},
   "source": [
    "- I am going to combine several resources\n",
    "- I will first test then create a function to get the name from a tweett"
   ]
  },
  {
   "cell_type": "code",
   "execution_count": 67,
   "metadata": {},
   "outputs": [],
   "source": [
    "test_data = df_tweets.head(50).tweet.to_numpy()"
   ]
  },
  {
   "cell_type": "code",
   "execution_count": 68,
   "metadata": {},
   "outputs": [],
   "source": [
    "import re\r\n",
    "\r\n",
    "cleaned_test_data = []\r\n",
    "for item in test_data:\r\n",
    "    # remove url, @mentions, #hastagas\r\n",
    "    clened_item = re.sub(r'https?:\\/\\/.*[\\r\\n]*|(@[A-Za-z0-9]+)|(#[A-Za-z0-9]+)', ' ', item, flags=re.MULTILINE)\r\n",
    "    cleaned_test_data.append(clened_item)\r\n",
    "\r\n",
    "test_data = cleaned_test_data"
   ]
  },
  {
   "cell_type": "code",
   "execution_count": 69,
   "metadata": {},
   "outputs": [
    {
     "name": "stdout",
     "output_type": "stream",
     "text": [
      "[Otis]\n",
      "[Gussie]\n",
      "[Rhett, Rhett]\n",
      "[Mya]\n",
      "[Wrigley]\n",
      "[Calvin]\n",
      "[Kip]\n",
      "[Jay]\n",
      "[Mario Brothers, Snowelle]\n",
      "[Queenie, Queenie]\n",
      "[Sheba]\n",
      "[Stan, Stan]\n",
      "[Lola]\n",
      "[Shanel]\n",
      "[Fanny]\n",
      "[Lewis]\n",
      "[Grendel]\n",
      "[Koda]\n",
      "[Laryngeal Paralysis Polyneuropothy]\n",
      "[Lucy Lu]\n",
      "[Pearl]\n",
      "[Gen]\n",
      "[Stella]\n"
     ]
    }
   ],
   "source": [
    "# nlp library\r\n",
    "import spacy\r\n",
    "\r\n",
    "# sample data\r\n",
    "nlp = spacy.load(\"en_core_web_sm\")\r\n",
    "\r\n",
    "for item in test_data:\r\n",
    "    doc = nlp(item)\r\n",
    "\r\n",
    "    possible_names = []\r\n",
    "    # ner for person and product tags (tested predefined tags and quite a lot of dog names seen as product)\r\n",
    "    for ent in doc.ents:\r\n",
    "        if ent.label_ == \"PRODUCT\":\r\n",
    "            possible_names.append(ent)\r\n",
    "        if ent.label_ == \"PERSON\":\r\n",
    "            possible_names.append(ent)\r\n",
    "    if len(possible_names) > 0:\r\n",
    "        print(possible_names)\r\n"
   ]
  },
  {
   "cell_type": "markdown",
   "metadata": {},
   "source": [
    "- looks promising but has false positives like \"Mario Brothers\""
   ]
  },
  {
   "cell_type": "code",
   "execution_count": 70,
   "metadata": {},
   "outputs": [],
   "source": [
    "# 500 popular dog names gathered from internet\r\n",
    "popular_dog_names = []\r\n",
    "with open(\"./data/popular_dog_names.txt\",\"r\") as file_dognames:\r\n",
    "    for line in file_dognames:\r\n",
    "        popular_dog_names.append(line.strip())"
   ]
  },
  {
   "cell_type": "code",
   "execution_count": 71,
   "metadata": {},
   "outputs": [
    {
     "name": "stdout",
     "output_type": "stream",
     "text": [
      "Otis\n",
      "King\n",
      "Minnie\n",
      "Gus\n",
      "Betty\n",
      "Mya\n",
      "Star\n",
      "Wrigley\n",
      "Hope\n",
      "Ava\n",
      "Bean\n",
      "Champ\n",
      "Sheba\n",
      "Lola\n",
      "Sky\n",
      "Ellie\n",
      "Sugar\n",
      "Fanny\n",
      "Lewis\n",
      "Koda\n",
      "Chloe\n",
      "Lucy\n",
      "Pearl\n",
      "Stella\n"
     ]
    }
   ],
   "source": [
    "for item in test_data:\r\n",
    "    for dog_name in popular_dog_names:\r\n",
    "        if dog_name in item:\r\n",
    "            print(dog_name)"
   ]
  },
  {
   "cell_type": "markdown",
   "metadata": {},
   "source": [
    "- finally the regex method\n",
    "- unfortunately, I couldn't get spacy rule-based matching to work, will use vanilla regexx"
   ]
  },
  {
   "cell_type": "code",
   "execution_count": 72,
   "metadata": {},
   "outputs": [
    {
     "name": "stdout",
     "output_type": "stream",
     "text": [
      "Otis\n",
      "King\n",
      "Minnie\n",
      "Tuk Tuk\n",
      "Gussie\n",
      "Rivers\n",
      "Kovu\n",
      "Jiho\n",
      "Betty and Rhett\n",
      "Mya\n",
      "Wrigley\n",
      "Burger\n",
      "Tonkey\n",
      "Calvin\n",
      "Kip\n",
      "Jay\n",
      "Peyton\n",
      "Snowelle\n",
      "Mint\n",
      "Mogwai\n",
      "Beans\n",
      "Aubrey\n",
      "Champ\n",
      "Queenie\n",
      "Sheba\n",
      "Daenerys\n",
      "Doc\n",
      "Stan\n",
      "Lola\n",
      "Shanel\n",
      "Sky\n",
      "Sugar and Ellie\n",
      "Fanny\n",
      "Lewis\n",
      "Grendel\n",
      "Koda\n",
      "Chloe\n",
      "Paul\n",
      "Lucy Lu\n",
      "Pearl\n",
      "Gen\n",
      "Kiba\n",
      "Wilber\n",
      "Stella\n"
     ]
    }
   ],
   "source": [
    "for item in test_data:\r\n",
    "    regexp = re.compile(\"This is ([A-Za-z ]*)|Meet ([A-Za-z ]*)\")\r\n",
    "    result = regexp.search(item)\r\n",
    "    if result:\r\n",
    "        dog_name = result.group(1)\r\n",
    "        if not dog_name:\r\n",
    "            dog_name = result.group(2)\r\n",
    "        print(dog_name)"
   ]
  },
  {
   "cell_type": "markdown",
   "metadata": {},
   "source": [
    "- combining all solutions"
   ]
  },
  {
   "cell_type": "code",
   "execution_count": 73,
   "metadata": {},
   "outputs": [],
   "source": [
    "import spacy\r\n",
    "from collections import Counter\r\n",
    "nlp = spacy.load(\"en_core_web_sm\")\r\n",
    "intro_regex = re.compile(\"This is ([A-Za-z ]*)|Meet ([A-Za-z ]*)\")\r\n",
    "\r\n",
    "def get_dog_name(item):\r\n",
    "    # remove url, @mentions, #hastagas\r\n",
    "    item = re.sub(r'https?:\\/\\/.*[\\r\\n]*|(@[A-Za-z0-9]+)|(#[A-Za-z0-9]+)', ' ', item, flags=re.MULTILINE)\r\n",
    "\r\n",
    "    doc = nlp(item)\r\n",
    "    # search with NER\r\n",
    "    possible_names = []\r\n",
    "    for ent in doc.ents:\r\n",
    "        if ent.label_ == \"PRODUCT\":\r\n",
    "            possible_names.append(str(ent))\r\n",
    "        if ent.label_ == \"PERSON\":\r\n",
    "            possible_names.append(str(ent))\r\n",
    "\r\n",
    "    # search among popular dog names\r\n",
    "    for dog_name in popular_dog_names:\r\n",
    "        if dog_name in item:\r\n",
    "            possible_names.append(dog_name.strip())\r\n",
    "\r\n",
    "    # search with regex\r\n",
    "    result = intro_regex.search(item)\r\n",
    "    if result:\r\n",
    "        dog_name = result.group(1)\r\n",
    "        if not dog_name:\r\n",
    "            dog_name = result.group(2)\r\n",
    "        possible_names.append(dog_name.strip())\r\n",
    "    \r\n",
    "    if len(possible_names) > 0:\r\n",
    "        c = Counter(possible_names)\r\n",
    "        selected_name = c.most_common(1)[0][0]\r\n",
    "\r\n",
    "        # if name is too long it is probably not right\r\n",
    "        if len(selected_name) < 15:\r\n",
    "            return selected_name\r\n",
    "    return np.nan"
   ]
  },
  {
   "cell_type": "code",
   "execution_count": 74,
   "metadata": {},
   "outputs": [],
   "source": [
    "df_tweets['dog_name'] = df_tweets.apply(lambda x: get_dog_name(x.tweet), axis=1)"
   ]
  },
  {
   "cell_type": "code",
   "execution_count": 75,
   "metadata": {},
   "outputs": [
    {
     "data": {
      "text/plain": "(2862, 10)"
     },
     "execution_count": 75,
     "metadata": {},
     "output_type": "execute_result"
    }
   ],
   "source": [
    "df_tweets[df_tweets.dog_name.notna()].shape"
   ]
  },
  {
   "cell_type": "markdown",
   "metadata": {},
   "source": [
    "- 2862 rows with dog names"
   ]
  },
  {
   "cell_type": "code",
   "execution_count": 76,
   "metadata": {},
   "outputs": [
    {
     "data": {
      "text/plain": "Bo         65\nCharlie    31\nBear       20\nCooper     18\nOliver     18\nMoose      16\nMilo       16\nLucy       16\nToby       16\nHope       14\nTucker     14\nBella      13\nWinston    13\nAva        13\nMaggie     13\nRemi       12\nPenny      12\nDaisy      12\nMax        11\nLola       11\nJax        11\nArchie     11\nJack       11\nBailey     10\nSam        10\nOllie      10\nLeo        10\nDave       10\nBentley     9\nStanley     9\nSadie       9\nKoda        9\nFinn        9\nBeau        9\nZoey        9\nAtlas       9\nLuna        9\nPipsy       9\nRuby        9\nDuke        8\nName: dog_name, dtype: int64"
     },
     "execution_count": 76,
     "metadata": {},
     "output_type": "execute_result"
    }
   ],
   "source": [
    "df_tweets[df_tweets.dog_name.notna()].dog_name.value_counts()[:40]"
   ]
  },
  {
   "cell_type": "markdown",
   "metadata": {},
   "source": [
    "## Dog scores"
   ]
  },
  {
   "cell_type": "code",
   "execution_count": 77,
   "metadata": {},
   "outputs": [],
   "source": [
    "test_string = 'dog score  15/10 is but not 10/10/50 and 15/ 52 or 14 /20 it'"
   ]
  },
  {
   "cell_type": "code",
   "execution_count": 78,
   "metadata": {},
   "outputs": [
    {
     "name": "stdout",
     "output_type": "stream",
     "text": [
      "[' 15', '10']\n"
     ]
    }
   ],
   "source": [
    "# negatif lookahead to omit dates\r\n",
    "score_regex = re.compile(\"\\s([\\d]{1,3}\\/[\\d]{2,3})(?!\\/)\")\r\n",
    "result = score_regex.search(test_string)\r\n",
    "if result:\r\n",
    "    print(result.group().split('/'))"
   ]
  },
  {
   "cell_type": "code",
   "execution_count": 79,
   "metadata": {},
   "outputs": [],
   "source": [
    "# returns pandas series first item is numerator, second denominator\r\n",
    "def get_dog_score(item):\r\n",
    "    # remove url, @mentions, #hastagas\r\n",
    "    item = re.sub(r'https?:\\/\\/.*[\\r\\n]*|(@[A-Za-z0-9]+)|(#[A-Za-z0-9]+)', ' ', item, flags=re.MULTILINE)\r\n",
    "    \r\n",
    "    result = score_regex.search(item)\r\n",
    "    if result:\r\n",
    "        rating_parts = result.group(1).split('/')\r\n",
    "        return pd.Series([rating_parts[0],rating_parts[1]])\r\n",
    "    return pd.Series([np.nan,np.nan])"
   ]
  },
  {
   "cell_type": "code",
   "execution_count": 80,
   "metadata": {},
   "outputs": [],
   "source": [
    "df_tweets[['rating_numerator','rating_denominator']] = df_tweets.apply(lambda x: get_dog_score(x.tweet), axis=1)"
   ]
  },
  {
   "cell_type": "code",
   "execution_count": 81,
   "metadata": {},
   "outputs": [
    {
     "data": {
      "text/html": "<div>\n<style scoped>\n    .dataframe tbody tr th:only-of-type {\n        vertical-align: middle;\n    }\n\n    .dataframe tbody tr th {\n        vertical-align: top;\n    }\n\n    .dataframe thead th {\n        text-align: right;\n    }\n</style>\n<table border=\"1\" class=\"dataframe\">\n  <thead>\n    <tr style=\"text-align: right;\">\n      <th></th>\n      <th>rating_numerator</th>\n      <th>rating_denominator</th>\n    </tr>\n  </thead>\n  <tbody>\n    <tr>\n      <th>2</th>\n      <td>NaN</td>\n      <td>NaN</td>\n    </tr>\n    <tr>\n      <th>4</th>\n      <td>13</td>\n      <td>10</td>\n    </tr>\n    <tr>\n      <th>8</th>\n      <td>13</td>\n      <td>10</td>\n    </tr>\n    <tr>\n      <th>13</th>\n      <td>13</td>\n      <td>10</td>\n    </tr>\n    <tr>\n      <th>17</th>\n      <td>14</td>\n      <td>10</td>\n    </tr>\n  </tbody>\n</table>\n</div>",
      "text/plain": "   rating_numerator rating_denominator\n2               NaN                NaN\n4                13                 10\n8                13                 10\n13               13                 10\n17               14                 10"
     },
     "execution_count": 81,
     "metadata": {},
     "output_type": "execute_result"
    }
   ],
   "source": [
    "df_tweets[['rating_numerator','rating_denominator']].head()"
   ]
  },
  {
   "cell_type": "markdown",
   "metadata": {},
   "source": [
    "## Dog stages"
   ]
  },
  {
   "cell_type": "code",
   "execution_count": 82,
   "metadata": {},
   "outputs": [],
   "source": [
    "dog_stages = ['floofer', 'pupper', 'puppo', 'poggo', 'doggo']"
   ]
  },
  {
   "cell_type": "code",
   "execution_count": 83,
   "metadata": {},
   "outputs": [],
   "source": [
    "def find_dog_stage(item: str):\r\n",
    "    # remove url, @mentions, #hastagas\r\n",
    "    item = re.sub(r'https?:\\/\\/.*[\\r\\n]*|(@[A-Za-z0-9]+)|(#[A-Za-z0-9]+)', ' ', item, flags=re.MULTILINE)\r\n",
    "\r\n",
    "    # ignore case\r\n",
    "    found_dog_stages = re.findall(r\"(?=(\"+'|'.join(dog_stages)+r\"))\", item, flags=re.IGNORECASE)\r\n",
    "\r\n",
    "    # if we match multiple dog stages, there could be multiple dogs in the image\r\n",
    "    if len(found_dog_stages) == 1:\r\n",
    "        dog_stage = found_dog_stages[0].lower()\r\n",
    "        return dog_stage\r\n",
    "    return np.nan"
   ]
  },
  {
   "cell_type": "code",
   "execution_count": 84,
   "metadata": {},
   "outputs": [],
   "source": [
    "df_tweets['dog_stage'] = df_tweets.apply(lambda x: find_dog_stage(x.tweet), axis=1)"
   ]
  },
  {
   "cell_type": "code",
   "execution_count": 85,
   "metadata": {},
   "outputs": [
    {
     "data": {
      "text/plain": "pupper     266\ndoggo      110\npuppo       51\nfloofer      8\nName: dog_stage, dtype: int64"
     },
     "execution_count": 85,
     "metadata": {},
     "output_type": "execute_result"
    }
   ],
   "source": [
    "df_tweets.dog_stage.value_counts()"
   ]
  },
  {
   "cell_type": "markdown",
   "metadata": {},
   "source": [
    "## Dog image prediction"
   ]
  },
  {
   "cell_type": "markdown",
   "metadata": {},
   "source": [
    "Intro\r\n",
    "\r\n",
    "- I thought my google skills were enough to find a dog breed classifier model and quickly use it. it was going to be a 20-minute adventure, in and out, simple. However, it took 5 days\r\n",
    "- I made it complex and overestimated my mnist experience\r\n",
    "\r\n",
    "\r\n",
    "Efficientnet - Standford dogs\r\n",
    "\r\n",
    "- Started here https://www.kaggle.com/c/dog-breed-identification\r\n",
    "- Then used transfer learning on efficientnetb7 with Standford dogs dataset with the help of this repo https://github.com/agg-shambhavi/Stanford-Dogs-\r\n",
    "- Somehow wrote the labels in the wrong order and after training reverse-engineered the labels using train data\r\n",
    "- although acc was around %80, with dog_rates images it didn't give good results due to (I am guessing) low resolution (244px) and scaling\r\n",
    "\r\n",
    "\r\n",
    "![enetb7](images/efficientnet.png)\r\n",
    "\r\n",
    "API-Net\r\n",
    "\r\n",
    "- After that, I found a benchmark here -> https://paperswithcode.com/sota/fine-grained-image-classification-on-stanford-1 \r\n",
    "- Tried using the top model (%90 acc - API-Net). It was built on python2.7 and PyTorch 0.4.1 which I spend a day to make work in venv with the code in the repo. \r\n",
    "- After so many compatibility issues and patches and hardcoded values that only existed in the creator's environment, I gave up\r\n",
    "- At this time I started testing various paid API services and generic image classification models.\r\n",
    "- Google lens on my phone was working so good at classifying dog breeds it gave me the motivation to continue :) \r\n",
    "\r\n",
    "\r\n",
    "Resnet - Tsinghua Dogs\r\n",
    "\r\n",
    "- Started from the beginning again. Searched for a larger dataset. I found Tsinghua dogs https://doi.org/10.1007/s41095-020-0184-6\r\n",
    "- https://cg.cs.tsinghua.edu.cn/ThuDogs/ and without realizing downloaded the default dataset (high-resolution images) ~40GB\r\n",
    "- Here I shouldn't have got greedy and instead used low-res images. Because I couldn't train high res dataset on my setup, couldn't configure it to run on gcloud. even spent time on tpus\r\n",
    "- Using this repo I trained a model (resnet50 with proxy-nca loss) -> https://github.com/QuocThangNguyen/deep-metric-learning-tsinghua-dogs\r\n",
    "- It was going to take ~80hours to train 100 epocs. 50 epocs later a runtime Cuda error halt the process. (when MAP was %70 and hit in top5 was around %90)\r\n",
    "\r\n",
    "![enetb7](images/cuda_err.png)\r\n",
    "\r\n",
    "- I think the setup got heated and It restarted the GPU interface. I fall back to using 1 GPU to test if this was the issue\r\n",
    "- unfortunately, this opensource project did not configure itself to continue over checkpoints\r\n",
    "- luckily after some trial and error I was able to patch it to continue from the latest checkpoint with epocs and itters intact\r\n",
    "- when the Mean average precision was around %70 i stopped the model. after 50 hours\r\n",
    "- the model I got performed horribly. had a top1 accuracy of 5.62%  I guess while patching the checkpoints I made a mistake.\r\n",
    "\r\n",
    "![fail](images/tsne_fail.png)\r\n",
    "\r\n",
    "- on the bright side I got some understanding from the code. learned quite a lot about PyTorch, datasets, loaders, and overall train/eval/test steps\r\n",
    "- Unlike a model with a prediction head like mnist, this one encodes the input image. the output we get is a 128 size embedding. regardless of its shape, class, or the class size of our training data.\r\n",
    "- looks similar to how transformers like BERT embeds a word. \r\n",
    "- since we don't have a class as an output, in this project prediction is done using nearest neighbors.\r\n",
    "- labeled training data (60k images) is embedded and indexed using https://github.com/facebookresearch/faiss\r\n",
    "- when you want to make a prediction you crate an embedding of the image and look for the nearest neighbor in this index.\r\n",
    "- after finding the index backtracking your steps leads to the training file and the label from it. I also created a class mapper script for this.\r\n",
    "- since this method doesn't give probabilities to each class that sums up to 1, I don't have the p1_conf field the original table had.\r\n",
    "- in this setup to get something like that I could increase the search parameter in faiss. meaning looking for more nearest neighbors and getting their mode could lead to the most common one. also dividing top-class # by the k might give a confidence percentage.\r\n",
    "- but let's say if k is 100 and there aren't 100 images of that dog breed then this would lead to the wrong accuracy. this is something I made up, there probably is a better way to get the probability\r\n",
    "\r\n",
    "\r\n",
    "- at this point decided to train one more model and give up if it doesn't work. \r\n",
    "- this time I used triplet loss. it took about two days to get to epoch 100.\r\n",
    "- model performed quite well so I decided to use it.\r\n",
    "\r\n",
    "\r\n",
    "![fail](images/training_done.png)\r\n",
    "\r\n"
   ]
  },
  {
   "cell_type": "markdown",
   "metadata": {},
   "source": [
    "Similarity matrix of some images in the dataset set\r\n",
    "- the more bule the cell the more similar the images\r\n",
    "\r\n",
    "![similarity](images/similarity.jpg)\r\n",
    "\r\n",
    "T-SNE on WeRateDogs data\r\n",
    "\r\n",
    "![tsne](images/tsne_images.jpg)\r\n"
   ]
  },
  {
   "cell_type": "markdown",
   "metadata": {},
   "source": [
    "## Importing predictions"
   ]
  },
  {
   "cell_type": "code",
   "execution_count": 86,
   "metadata": {},
   "outputs": [],
   "source": [
    "df_predictions = pd.read_csv('./data/predictions.tsv', sep='\\t', names=[\"breed_prediction\", \"twitter_id\", \"image_index\"])\r\n"
   ]
  },
  {
   "cell_type": "code",
   "execution_count": 87,
   "metadata": {},
   "outputs": [
    {
     "data": {
      "text/html": "<div>\n<style scoped>\n    .dataframe tbody tr th:only-of-type {\n        vertical-align: middle;\n    }\n\n    .dataframe tbody tr th {\n        vertical-align: top;\n    }\n\n    .dataframe thead th {\n        text-align: right;\n    }\n</style>\n<table border=\"1\" class=\"dataframe\">\n  <thead>\n    <tr style=\"text-align: right;\">\n      <th></th>\n      <th>breed_prediction</th>\n      <th>twitter_id</th>\n      <th>image_index</th>\n    </tr>\n  </thead>\n  <tbody>\n    <tr>\n      <th>0</th>\n      <td>Siberian_husky</td>\n      <td>1000048866169950208</td>\n      <td>0</td>\n    </tr>\n    <tr>\n      <th>1</th>\n      <td>Siberian_husky</td>\n      <td>1000048866169950208</td>\n      <td>1</td>\n    </tr>\n    <tr>\n      <th>2</th>\n      <td>Siberian_husky</td>\n      <td>1000048866169950208</td>\n      <td>2</td>\n    </tr>\n    <tr>\n      <th>3</th>\n      <td>Pomeranian</td>\n      <td>1000048866169950208</td>\n      <td>3</td>\n    </tr>\n    <tr>\n      <th>4</th>\n      <td>teddy</td>\n      <td>1000524870239817728</td>\n      <td>0</td>\n    </tr>\n  </tbody>\n</table>\n</div>",
      "text/plain": "  breed_prediction           twitter_id image_index\n0   Siberian_husky  1000048866169950208           0\n1   Siberian_husky  1000048866169950208           1\n2   Siberian_husky  1000048866169950208           2\n3       Pomeranian  1000048866169950208           3\n4            teddy  1000524870239817728           0"
     },
     "execution_count": 87,
     "metadata": {},
     "output_type": "execute_result"
    }
   ],
   "source": [
    "df_predictions.head()"
   ]
  },
  {
   "cell_type": "code",
   "execution_count": 88,
   "metadata": {},
   "outputs": [
    {
     "data": {
      "text/plain": "T    3452\n0    3448\n1    1343\n2     570\n3     388\nt       1\nName: image_index, dtype: int64"
     },
     "execution_count": 88,
     "metadata": {},
     "output_type": "execute_result"
    }
   ],
   "source": [
    "df_predictions.image_index.value_counts()\r\n"
   ]
  },
  {
   "cell_type": "markdown",
   "metadata": {},
   "source": [
    "- here T means thumbnail, 0 first image, 1 second and so on"
   ]
  },
  {
   "cell_type": "code",
   "execution_count": 89,
   "metadata": {},
   "outputs": [
    {
     "data": {
      "text/plain": "golden_retriever        1623\nLabrador_retriever      1132\nchinese_rural_dog        903\nCardigan                 557\nteddy                    527\n                        ... \nbriard                     2\nBouvier_des_Flandres       2\nIrish_setter               1\nIrish_wolfhound            1\ncairn                      1\nName: breed_prediction, Length: 120, dtype: int64"
     },
     "execution_count": 89,
     "metadata": {},
     "output_type": "execute_result"
    }
   ],
   "source": [
    "df_predictions.breed_prediction.value_counts()\r\n"
   ]
  },
  {
   "cell_type": "markdown",
   "metadata": {},
   "source": [
    "## Cleaning predictions dataset"
   ]
  },
  {
   "cell_type": "code",
   "execution_count": 90,
   "metadata": {},
   "outputs": [],
   "source": [
    "df_predictions_original = df_predictions.copy()"
   ]
  },
  {
   "cell_type": "markdown",
   "metadata": {},
   "source": [
    "### Define\r\n",
    "For some tweets we have multiple breed prediction. This happens when tweet contains multiple images. \r\n",
    "\r\n",
    "For those tweets we should get the most common prediction and use it as tweet's dog breed"
   ]
  },
  {
   "cell_type": "code",
   "execution_count": 91,
   "metadata": {},
   "outputs": [
    {
     "data": {
      "text/html": "<div>\n<style scoped>\n    .dataframe tbody tr th:only-of-type {\n        vertical-align: middle;\n    }\n\n    .dataframe tbody tr th {\n        vertical-align: top;\n    }\n\n    .dataframe thead th {\n        text-align: right;\n    }\n</style>\n<table border=\"1\" class=\"dataframe\">\n  <thead>\n    <tr style=\"text-align: right;\">\n      <th></th>\n      <th>breed_prediction</th>\n      <th>twitter_id</th>\n      <th>image_index</th>\n    </tr>\n  </thead>\n  <tbody>\n    <tr>\n      <th>0</th>\n      <td>Siberian_husky</td>\n      <td>1000048866169950208</td>\n      <td>0</td>\n    </tr>\n    <tr>\n      <th>1</th>\n      <td>Siberian_husky</td>\n      <td>1000048866169950208</td>\n      <td>1</td>\n    </tr>\n    <tr>\n      <th>2</th>\n      <td>Siberian_husky</td>\n      <td>1000048866169950208</td>\n      <td>2</td>\n    </tr>\n    <tr>\n      <th>3</th>\n      <td>Pomeranian</td>\n      <td>1000048866169950208</td>\n      <td>3</td>\n    </tr>\n    <tr>\n      <th>4</th>\n      <td>teddy</td>\n      <td>1000524870239817728</td>\n      <td>0</td>\n    </tr>\n    <tr>\n      <th>...</th>\n      <td>...</td>\n      <td>...</td>\n      <td>...</td>\n    </tr>\n    <tr>\n      <th>9197</th>\n      <td>Labrador_retriever</td>\n      <td>/998712473707536384</td>\n      <td>T</td>\n    </tr>\n    <tr>\n      <th>9198</th>\n      <td>miniature_pinscher</td>\n      <td>/999080471047888896</td>\n      <td>T</td>\n    </tr>\n    <tr>\n      <th>9199</th>\n      <td>golden_retriever</td>\n      <td>/999321385729224704</td>\n      <td>T</td>\n    </tr>\n    <tr>\n      <th>9200</th>\n      <td>chinese_rural_dog</td>\n      <td>/999439888381595648</td>\n      <td>T</td>\n    </tr>\n    <tr>\n      <th>9201</th>\n      <td>Cardigan</td>\n      <td>/999821025503260673</td>\n      <td>T</td>\n    </tr>\n  </tbody>\n</table>\n<p>9202 rows × 3 columns</p>\n</div>",
      "text/plain": "        breed_prediction           twitter_id image_index\n0         Siberian_husky  1000048866169950208           0\n1         Siberian_husky  1000048866169950208           1\n2         Siberian_husky  1000048866169950208           2\n3             Pomeranian  1000048866169950208           3\n4                  teddy  1000524870239817728           0\n...                  ...                  ...         ...\n9197  Labrador_retriever  /998712473707536384           T\n9198  miniature_pinscher  /999080471047888896           T\n9199    golden_retriever  /999321385729224704           T\n9200   chinese_rural_dog  /999439888381595648           T\n9201            Cardigan  /999821025503260673           T\n\n[9202 rows x 3 columns]"
     },
     "execution_count": 91,
     "metadata": {},
     "output_type": "execute_result"
    }
   ],
   "source": [
    "df_predictions.groupby(['twitter_id']).head()"
   ]
  },
  {
   "cell_type": "markdown",
   "metadata": {},
   "source": [
    "### Code"
   ]
  },
  {
   "cell_type": "markdown",
   "metadata": {},
   "source": [
    "- twitter id is not parsed right, fixing it as sub task"
   ]
  },
  {
   "cell_type": "code",
   "execution_count": 92,
   "metadata": {},
   "outputs": [],
   "source": [
    "df_predictions['twitter_id'] = df_predictions['twitter_id'].str.replace('[^0-9]' ,'')"
   ]
  },
  {
   "cell_type": "markdown",
   "metadata": {},
   "source": [
    "- for a tweet this gets most common breed identified"
   ]
  },
  {
   "cell_type": "code",
   "execution_count": 93,
   "metadata": {},
   "outputs": [],
   "source": [
    "df_predictions = df_predictions.groupby(['twitter_id'])['breed_prediction'].agg(lambda x:x.value_counts().index[0]).to_frame().reset_index()"
   ]
  },
  {
   "cell_type": "markdown",
   "metadata": {},
   "source": [
    "### Test"
   ]
  },
  {
   "cell_type": "code",
   "execution_count": 94,
   "metadata": {},
   "outputs": [
    {
     "data": {
      "text/html": "<div>\n<style scoped>\n    .dataframe tbody tr th:only-of-type {\n        vertical-align: middle;\n    }\n\n    .dataframe tbody tr th {\n        vertical-align: top;\n    }\n\n    .dataframe thead th {\n        text-align: right;\n    }\n</style>\n<table border=\"1\" class=\"dataframe\">\n  <thead>\n    <tr style=\"text-align: right;\">\n      <th></th>\n      <th>twitter_id</th>\n      <th>breed_prediction</th>\n    </tr>\n  </thead>\n  <tbody>\n    <tr>\n      <th>0</th>\n      <td>1000048866169950208</td>\n      <td>Siberian_husky</td>\n    </tr>\n    <tr>\n      <th>1</th>\n      <td>1000524870239817728</td>\n      <td>miniature_schnauzer</td>\n    </tr>\n    <tr>\n      <th>2</th>\n      <td>1000890686697365504</td>\n      <td>Border_collie</td>\n    </tr>\n    <tr>\n      <th>3</th>\n      <td>1001150535272198144</td>\n      <td>Samoyed</td>\n    </tr>\n    <tr>\n      <th>4</th>\n      <td>1001170590038970371</td>\n      <td>golden_retriever</td>\n    </tr>\n  </tbody>\n</table>\n</div>",
      "text/plain": "            twitter_id     breed_prediction\n0  1000048866169950208       Siberian_husky\n1  1000524870239817728  miniature_schnauzer\n2  1000890686697365504        Border_collie\n3  1001150535272198144              Samoyed\n4  1001170590038970371     golden_retriever"
     },
     "execution_count": 94,
     "metadata": {},
     "output_type": "execute_result"
    }
   ],
   "source": [
    "df_predictions.head()"
   ]
  },
  {
   "cell_type": "code",
   "execution_count": 95,
   "metadata": {},
   "outputs": [
    {
     "data": {
      "text/plain": "golden_retriever              610\nLabrador_retriever            414\nchinese_rural_dog             331\nCardigan                      205\nteddy                         198\n                             ... \nbloodhound                      1\nkeeshond                        1\nGreater_Swiss_Mountain_dog      1\nBrabancon_griffo                1\nbriard                          1\nName: breed_prediction, Length: 116, dtype: int64"
     },
     "execution_count": 95,
     "metadata": {},
     "output_type": "execute_result"
    }
   ],
   "source": [
    "df_predictions.breed_prediction.value_counts()"
   ]
  },
  {
   "cell_type": "code",
   "execution_count": 96,
   "metadata": {},
   "outputs": [
    {
     "data": {
      "text/plain": "3453"
     },
     "execution_count": 96,
     "metadata": {},
     "output_type": "execute_result"
    }
   ],
   "source": [
    "df_predictions.twitter_id.nunique()"
   ]
  },
  {
   "cell_type": "code",
   "execution_count": 97,
   "metadata": {},
   "outputs": [],
   "source": [
    "# convert id to string inorder to merge two dataframes\r\n",
    "df_tweets.id = df_tweets.id.astype(str)"
   ]
  },
  {
   "cell_type": "code",
   "execution_count": 98,
   "metadata": {},
   "outputs": [
    {
     "data": {
      "text/html": "<div>\n<style scoped>\n    .dataframe tbody tr th:only-of-type {\n        vertical-align: middle;\n    }\n\n    .dataframe tbody tr th {\n        vertical-align: top;\n    }\n\n    .dataframe thead th {\n        text-align: right;\n    }\n</style>\n<table border=\"1\" class=\"dataframe\">\n  <thead>\n    <tr style=\"text-align: right;\">\n      <th></th>\n      <th>id</th>\n      <th>tweet</th>\n      <th>photos</th>\n      <th>replies_count</th>\n      <th>retweets_count</th>\n      <th>likes_count</th>\n      <th>video</th>\n      <th>thumbnail</th>\n      <th>datetime</th>\n      <th>dog_name</th>\n      <th>rating_numerator</th>\n      <th>rating_denominator</th>\n      <th>dog_stage</th>\n    </tr>\n  </thead>\n  <tbody>\n    <tr>\n      <th>2</th>\n      <td>1367980957563645955</td>\n      <td>Officially, Tuk Tuk is 50% armadillo, 50% roly...</td>\n      <td>[https://pbs.twimg.com/media/EvwLbfhVcAA6gfo.jpg]</td>\n      <td>22</td>\n      <td>101</td>\n      <td>3464</td>\n      <td>1</td>\n      <td>https://pbs.twimg.com/media/EvwLbfhVcAA6gfo.jpg</td>\n      <td>2021-03-06 02:30:50-03:00</td>\n      <td>NaN</td>\n      <td>NaN</td>\n      <td>NaN</td>\n      <td>NaN</td>\n    </tr>\n    <tr>\n      <th>4</th>\n      <td>1367943120906686466</td>\n      <td>This is Otis. He broke his femur jumping out o...</td>\n      <td>[https://pbs.twimg.com/media/Evvo-82UUAUrVk_.j...</td>\n      <td>148</td>\n      <td>1672</td>\n      <td>27796</td>\n      <td>1</td>\n      <td>https://pbs.twimg.com/media/Evvo-82UUAUrVk_.jpg</td>\n      <td>2021-03-06 00:00:29-03:00</td>\n      <td>Otis</td>\n      <td>13</td>\n      <td>10</td>\n      <td>NaN</td>\n    </tr>\n    <tr>\n      <th>8</th>\n      <td>1367882960406421507</td>\n      <td>This is King. He’s been living on the streets ...</td>\n      <td>[https://pbs.twimg.com/media/EvuyTV3UcAQXdYN.j...</td>\n      <td>99</td>\n      <td>2224</td>\n      <td>22729</td>\n      <td>1</td>\n      <td>https://pbs.twimg.com/media/EvuyTV3UcAQXdYN.jpg</td>\n      <td>2021-03-05 20:01:26-03:00</td>\n      <td>King</td>\n      <td>13</td>\n      <td>10</td>\n      <td>NaN</td>\n    </tr>\n    <tr>\n      <th>13</th>\n      <td>1367216213915443201</td>\n      <td>This is Minnie. She’s the Executive Pen Transp...</td>\n      <td>NaN</td>\n      <td>1256</td>\n      <td>29356</td>\n      <td>195085</td>\n      <td>1</td>\n      <td>https://pbs.twimg.com/ext_tw_video_thumb/13672...</td>\n      <td>2021-03-03 23:52:01-03:00</td>\n      <td>Minnie</td>\n      <td>13</td>\n      <td>10</td>\n      <td>NaN</td>\n    </tr>\n    <tr>\n      <th>17</th>\n      <td>1367160218337959941</td>\n      <td>This is Tuk Tuk. He’s the cutest travel compan...</td>\n      <td>NaN</td>\n      <td>199</td>\n      <td>1043</td>\n      <td>18565</td>\n      <td>1</td>\n      <td>https://pbs.twimg.com/media/EvkWUcyVEAIA8Y0.jpg</td>\n      <td>2021-03-03 20:09:31-03:00</td>\n      <td>Tuk Tuk</td>\n      <td>14</td>\n      <td>10</td>\n      <td>NaN</td>\n    </tr>\n  </tbody>\n</table>\n</div>",
      "text/plain": "                     id                                              tweet  \\\n2   1367980957563645955  Officially, Tuk Tuk is 50% armadillo, 50% roly...   \n4   1367943120906686466  This is Otis. He broke his femur jumping out o...   \n8   1367882960406421507  This is King. He’s been living on the streets ...   \n13  1367216213915443201  This is Minnie. She’s the Executive Pen Transp...   \n17  1367160218337959941  This is Tuk Tuk. He’s the cutest travel compan...   \n\n                                               photos  replies_count  \\\n2   [https://pbs.twimg.com/media/EvwLbfhVcAA6gfo.jpg]             22   \n4   [https://pbs.twimg.com/media/Evvo-82UUAUrVk_.j...            148   \n8   [https://pbs.twimg.com/media/EvuyTV3UcAQXdYN.j...             99   \n13                                                NaN           1256   \n17                                                NaN            199   \n\n    retweets_count  likes_count  video  \\\n2              101         3464      1   \n4             1672        27796      1   \n8             2224        22729      1   \n13           29356       195085      1   \n17            1043        18565      1   \n\n                                            thumbnail  \\\n2     https://pbs.twimg.com/media/EvwLbfhVcAA6gfo.jpg   \n4     https://pbs.twimg.com/media/Evvo-82UUAUrVk_.jpg   \n8     https://pbs.twimg.com/media/EvuyTV3UcAQXdYN.jpg   \n13  https://pbs.twimg.com/ext_tw_video_thumb/13672...   \n17    https://pbs.twimg.com/media/EvkWUcyVEAIA8Y0.jpg   \n\n                    datetime dog_name rating_numerator rating_denominator  \\\n2  2021-03-06 02:30:50-03:00      NaN              NaN                NaN   \n4  2021-03-06 00:00:29-03:00     Otis               13                 10   \n8  2021-03-05 20:01:26-03:00     King               13                 10   \n13 2021-03-03 23:52:01-03:00   Minnie               13                 10   \n17 2021-03-03 20:09:31-03:00  Tuk Tuk               14                 10   \n\n   dog_stage  \n2        NaN  \n4        NaN  \n8        NaN  \n13       NaN  \n17       NaN  "
     },
     "execution_count": 98,
     "metadata": {},
     "output_type": "execute_result"
    }
   ],
   "source": [
    "df_tweets.head()"
   ]
  },
  {
   "cell_type": "code",
   "execution_count": 99,
   "metadata": {},
   "outputs": [],
   "source": [
    "df_tweets = pd.merge(df_tweets, df_predictions, left_on='id', right_on='twitter_id', how='left').drop('twitter_id', axis=1)"
   ]
  },
  {
   "cell_type": "markdown",
   "metadata": {},
   "source": [
    "### Define\r\n",
    "\r\n",
    "- now we could also drop thumbnail, photos and video"
   ]
  },
  {
   "cell_type": "code",
   "execution_count": 100,
   "metadata": {},
   "outputs": [
    {
     "data": {
      "text/html": "<div>\n<style scoped>\n    .dataframe tbody tr th:only-of-type {\n        vertical-align: middle;\n    }\n\n    .dataframe tbody tr th {\n        vertical-align: top;\n    }\n\n    .dataframe thead th {\n        text-align: right;\n    }\n</style>\n<table border=\"1\" class=\"dataframe\">\n  <thead>\n    <tr style=\"text-align: right;\">\n      <th></th>\n      <th>id</th>\n      <th>tweet</th>\n      <th>photos</th>\n      <th>replies_count</th>\n      <th>retweets_count</th>\n      <th>likes_count</th>\n      <th>video</th>\n      <th>thumbnail</th>\n      <th>datetime</th>\n      <th>dog_name</th>\n      <th>rating_numerator</th>\n      <th>rating_denominator</th>\n      <th>dog_stage</th>\n      <th>breed_prediction</th>\n    </tr>\n  </thead>\n  <tbody>\n    <tr>\n      <th>5226</th>\n      <td>666020888022790149</td>\n      <td>Here we have a Japanese Irish Setter. Lost eye...</td>\n      <td>[https://pbs.twimg.com/media/CT4udn0WwAA0aMy.jpg]</td>\n      <td>22</td>\n      <td>443</td>\n      <td>2344</td>\n      <td>1</td>\n      <td>https://pbs.twimg.com/media/CT4udn0WwAA0aMy.jpg</td>\n      <td>2015-11-16 01:32:08-03:00</td>\n      <td>NaN</td>\n      <td>8</td>\n      <td>10</td>\n      <td>NaN</td>\n      <td>Border_collie</td>\n    </tr>\n  </tbody>\n</table>\n</div>",
      "text/plain": "                      id                                              tweet  \\\n5226  666020888022790149  Here we have a Japanese Irish Setter. Lost eye...   \n\n                                                 photos  replies_count  \\\n5226  [https://pbs.twimg.com/media/CT4udn0WwAA0aMy.jpg]             22   \n\n      retweets_count  likes_count  video  \\\n5226             443         2344      1   \n\n                                            thumbnail  \\\n5226  https://pbs.twimg.com/media/CT4udn0WwAA0aMy.jpg   \n\n                      datetime dog_name rating_numerator rating_denominator  \\\n5226 2015-11-16 01:32:08-03:00      NaN                8                 10   \n\n     dog_stage breed_prediction  \n5226       NaN    Border_collie  "
     },
     "execution_count": 100,
     "metadata": {},
     "output_type": "execute_result"
    }
   ],
   "source": [
    "df_tweets.tail(1)"
   ]
  },
  {
   "cell_type": "markdown",
   "metadata": {},
   "source": [
    "### Code"
   ]
  },
  {
   "cell_type": "code",
   "execution_count": 101,
   "metadata": {},
   "outputs": [],
   "source": [
    "df_tweets.drop(['photos', 'thumbnail', 'video'], axis=1, inplace=True)\r\n"
   ]
  },
  {
   "cell_type": "markdown",
   "metadata": {},
   "source": [
    "### Test"
   ]
  },
  {
   "cell_type": "code",
   "execution_count": 102,
   "metadata": {},
   "outputs": [
    {
     "data": {
      "text/html": "<div>\n<style scoped>\n    .dataframe tbody tr th:only-of-type {\n        vertical-align: middle;\n    }\n\n    .dataframe tbody tr th {\n        vertical-align: top;\n    }\n\n    .dataframe thead th {\n        text-align: right;\n    }\n</style>\n<table border=\"1\" class=\"dataframe\">\n  <thead>\n    <tr style=\"text-align: right;\">\n      <th></th>\n      <th>id</th>\n      <th>tweet</th>\n      <th>replies_count</th>\n      <th>retweets_count</th>\n      <th>likes_count</th>\n      <th>datetime</th>\n      <th>dog_name</th>\n      <th>rating_numerator</th>\n      <th>rating_denominator</th>\n      <th>dog_stage</th>\n      <th>breed_prediction</th>\n    </tr>\n  </thead>\n  <tbody>\n    <tr>\n      <th>5226</th>\n      <td>666020888022790149</td>\n      <td>Here we have a Japanese Irish Setter. Lost eye...</td>\n      <td>22</td>\n      <td>443</td>\n      <td>2344</td>\n      <td>2015-11-16 01:32:08-03:00</td>\n      <td>NaN</td>\n      <td>8</td>\n      <td>10</td>\n      <td>NaN</td>\n      <td>Border_collie</td>\n    </tr>\n  </tbody>\n</table>\n</div>",
      "text/plain": "                      id                                              tweet  \\\n5226  666020888022790149  Here we have a Japanese Irish Setter. Lost eye...   \n\n      replies_count  retweets_count  likes_count                  datetime  \\\n5226             22             443         2344 2015-11-16 01:32:08-03:00   \n\n     dog_name rating_numerator rating_denominator dog_stage breed_prediction  \n5226      NaN                8                 10       NaN    Border_collie  "
     },
     "execution_count": 102,
     "metadata": {},
     "output_type": "execute_result"
    }
   ],
   "source": [
    "df_tweets.tail(1)"
   ]
  },
  {
   "cell_type": "markdown",
   "metadata": {},
   "source": [
    "### Define\r\n",
    "\r\n",
    "- we could also remove rows that doesn't have rating numerator. since this analysis focuses on dog ratings"
   ]
  },
  {
   "cell_type": "markdown",
   "metadata": {},
   "source": [
    "### Code"
   ]
  },
  {
   "cell_type": "code",
   "execution_count": 103,
   "metadata": {},
   "outputs": [],
   "source": [
    "df_tweets = df_tweets[df_tweets.rating_numerator.notna()]"
   ]
  },
  {
   "cell_type": "markdown",
   "metadata": {},
   "source": [
    "### Test"
   ]
  },
  {
   "cell_type": "code",
   "execution_count": 104,
   "metadata": {},
   "outputs": [
    {
     "name": "stdout",
     "output_type": "stream",
     "text": [
      "<class 'pandas.core.frame.DataFrame'>\n",
      "Int64Index: 3273 entries, 1 to 5226\n",
      "Data columns (total 11 columns):\n",
      " #   Column              Non-Null Count  Dtype                                 \n",
      "---  ------              --------------  -----                                 \n",
      " 0   id                  3273 non-null   object                                \n",
      " 1   tweet               3273 non-null   object                                \n",
      " 2   replies_count       3273 non-null   int64                                 \n",
      " 3   retweets_count      3273 non-null   int64                                 \n",
      " 4   likes_count         3273 non-null   int64                                 \n",
      " 5   datetime            3273 non-null   datetime64[ns, pytz.FixedOffset(-180)]\n",
      " 6   dog_name            2593 non-null   object                                \n",
      " 7   rating_numerator    3273 non-null   object                                \n",
      " 8   rating_denominator  3273 non-null   object                                \n",
      " 9   dog_stage           375 non-null    object                                \n",
      " 10  breed_prediction    2938 non-null   object                                \n",
      "dtypes: datetime64[ns, pytz.FixedOffset(-180)](1), int64(3), object(7)\n",
      "memory usage: 306.8+ KB\n"
     ]
    }
   ],
   "source": [
    "df_tweets.info()"
   ]
  },
  {
   "cell_type": "code",
   "execution_count": 105,
   "metadata": {},
   "outputs": [
    {
     "data": {
      "text/html": "<div>\n<style scoped>\n    .dataframe tbody tr th:only-of-type {\n        vertical-align: middle;\n    }\n\n    .dataframe tbody tr th {\n        vertical-align: top;\n    }\n\n    .dataframe thead th {\n        text-align: right;\n    }\n</style>\n<table border=\"1\" class=\"dataframe\">\n  <thead>\n    <tr style=\"text-align: right;\">\n      <th></th>\n      <th>id</th>\n      <th>tweet</th>\n      <th>replies_count</th>\n      <th>retweets_count</th>\n      <th>likes_count</th>\n      <th>datetime</th>\n      <th>dog_name</th>\n      <th>rating_numerator</th>\n      <th>rating_denominator</th>\n      <th>dog_stage</th>\n      <th>breed_prediction</th>\n    </tr>\n  </thead>\n  <tbody>\n    <tr>\n      <th>4662</th>\n      <td>675853064436391936</td>\n      <td>Here we have an entire platoon of puppers. Tot...</td>\n      <td>16</td>\n      <td>1196</td>\n      <td>2531</td>\n      <td>2015-12-13 04:41:41-03:00</td>\n      <td>NaN</td>\n      <td>88</td>\n      <td>80</td>\n      <td>pupper</td>\n      <td>chinese_rural_dog</td>\n    </tr>\n    <tr>\n      <th>5206</th>\n      <td>666287406224695296</td>\n      <td>This is an Albanian 3 1/2 legged  Episcopalian...</td>\n      <td>1</td>\n      <td>57</td>\n      <td>131</td>\n      <td>2015-11-16 19:11:11-03:00</td>\n      <td>an Albanian</td>\n      <td>9</td>\n      <td>10</td>\n      <td>NaN</td>\n      <td>Bichon_Frise</td>\n    </tr>\n    <tr>\n      <th>5098</th>\n      <td>668221241640230912</td>\n      <td>These two dogs are Bo &amp;amp; Smittens. Smittens...</td>\n      <td>1</td>\n      <td>179</td>\n      <td>474</td>\n      <td>2015-11-22 03:15:33-03:00</td>\n      <td>Bo</td>\n      <td>10</td>\n      <td>10</td>\n      <td>NaN</td>\n      <td>golden_retriever</td>\n    </tr>\n    <tr>\n      <th>3994</th>\n      <td>707297311098011648</td>\n      <td>This is Cassie. She can go from sweet to scary...</td>\n      <td>20</td>\n      <td>746</td>\n      <td>2680</td>\n      <td>2016-03-08 23:09:54-03:00</td>\n      <td>Cassie</td>\n      <td>10</td>\n      <td>10</td>\n      <td>NaN</td>\n      <td>Border_collie</td>\n    </tr>\n    <tr>\n      <th>4255</th>\n      <td>691675652215414786</td>\n      <td>This is Richie and Plip. They are the best of ...</td>\n      <td>9</td>\n      <td>486</td>\n      <td>1883</td>\n      <td>2016-01-25 20:35:00-03:00</td>\n      <td>Richie</td>\n      <td>10</td>\n      <td>10</td>\n      <td>NaN</td>\n      <td>French_bulldog</td>\n    </tr>\n  </tbody>\n</table>\n</div>",
      "text/plain": "                      id                                              tweet  \\\n4662  675853064436391936  Here we have an entire platoon of puppers. Tot...   \n5206  666287406224695296  This is an Albanian 3 1/2 legged  Episcopalian...   \n5098  668221241640230912  These two dogs are Bo &amp; Smittens. Smittens...   \n3994  707297311098011648  This is Cassie. She can go from sweet to scary...   \n4255  691675652215414786  This is Richie and Plip. They are the best of ...   \n\n      replies_count  retweets_count  likes_count                  datetime  \\\n4662             16            1196         2531 2015-12-13 04:41:41-03:00   \n5206              1              57          131 2015-11-16 19:11:11-03:00   \n5098              1             179          474 2015-11-22 03:15:33-03:00   \n3994             20             746         2680 2016-03-08 23:09:54-03:00   \n4255              9             486         1883 2016-01-25 20:35:00-03:00   \n\n         dog_name rating_numerator rating_denominator dog_stage  \\\n4662          NaN               88                 80    pupper   \n5206  an Albanian                9                 10       NaN   \n5098           Bo               10                 10       NaN   \n3994       Cassie               10                 10       NaN   \n4255       Richie               10                 10       NaN   \n\n       breed_prediction  \n4662  chinese_rural_dog  \n5206       Bichon_Frise  \n5098   golden_retriever  \n3994      Border_collie  \n4255     French_bulldog  "
     },
     "execution_count": 105,
     "metadata": {},
     "output_type": "execute_result"
    }
   ],
   "source": [
    "df_tweets.sample(5)"
   ]
  },
  {
   "cell_type": "markdown",
   "metadata": {},
   "source": [
    "- much more compact dataset\r\n",
    "- has focused information about dog ratings and their analytics\r\n",
    "- has a way to refer back to original tweet\r\n",
    "- looks more tidy\r\n",
    "\r\n",
    "now we can continue with analysis"
   ]
  },
  {
   "cell_type": "markdown",
   "metadata": {},
   "source": [
    "## Analysis"
   ]
  },
  {
   "cell_type": "code",
   "execution_count": 106,
   "metadata": {},
   "outputs": [],
   "source": [
    "import seaborn as sns"
   ]
  },
  {
   "cell_type": "code",
   "execution_count": 107,
   "metadata": {},
   "outputs": [],
   "source": [
    "primary_chart_color = '#00ccee'\r\n",
    "sns_palette = 'Greens_d'"
   ]
  },
  {
   "cell_type": "code",
   "execution_count": 108,
   "metadata": {},
   "outputs": [
    {
     "data": {
      "image/png": "[encoded data removed]",
      "text/plain": "<Figure size 432x288 with 1 Axes>"
     },
     "metadata": {
      "needs_background": "light"
     },
     "output_type": "display_data"
    }
   ],
   "source": [
    "sns.countplot(y='dog_stage', data=df_tweets, palette=sns_palette)\r\n",
    "plt.title('Dog stages mentioned in a tweet')\r\n",
    "plt.ylabel('Dog stages')\r\n",
    "plt.xlabel('Number of tweets');"
   ]
  },
  {
   "cell_type": "code",
   "execution_count": 109,
   "metadata": {},
   "outputs": [
    {
     "data": {
      "text/plain": "pupper     238\ndoggo       85\npuppo       44\nfloofer      8\nName: dog_stage, dtype: int64"
     },
     "execution_count": 109,
     "metadata": {},
     "output_type": "execute_result"
    }
   ],
   "source": [
    "stages = df_tweets.dog_stage.value_counts()\r\n",
    "stages"
   ]
  },
  {
   "cell_type": "code",
   "execution_count": 110,
   "metadata": {},
   "outputs": [
    {
     "data": {
      "image/png": "[encoded data removed]",
      "text/plain": "<Figure size 432x288 with 1 Axes>"
     },
     "metadata": {
      "needs_background": "light"
     },
     "output_type": "display_data"
    }
   ],
   "source": [
    "sns.countplot(y='breed_prediction', data=df_tweets, palette=sns_palette, order=df_tweets.breed_prediction.value_counts().iloc[:15].index)\r\n",
    "plt.title('Dog breed predictions')\r\n",
    "plt.ylabel('Dog breeds')\r\n",
    "plt.xlabel('Number of tweets');"
   ]
  },
  {
   "cell_type": "markdown",
   "metadata": {},
   "source": [
    "- retriever type is the most rated dog"
   ]
  },
  {
   "cell_type": "code",
   "execution_count": 111,
   "metadata": {},
   "outputs": [],
   "source": [
    "# dog breeds that are posted atleast 50 times\r\n",
    "df_top_predicted_dogs = df_tweets.groupby(\"breed_prediction\").filter(lambda x: len(x) > 50)"
   ]
  },
  {
   "cell_type": "code",
   "execution_count": 112,
   "metadata": {},
   "outputs": [
    {
     "data": {
      "text/html": "<div>\n<style scoped>\n    .dataframe tbody tr th:only-of-type {\n        vertical-align: middle;\n    }\n\n    .dataframe tbody tr th {\n        vertical-align: top;\n    }\n\n    .dataframe thead th {\n        text-align: right;\n    }\n</style>\n<table border=\"1\" class=\"dataframe\">\n  <thead>\n    <tr style=\"text-align: right;\">\n      <th></th>\n      <th>breed_prediction</th>\n      <th>likes_count</th>\n    </tr>\n  </thead>\n  <tbody>\n    <tr>\n      <th>9</th>\n      <td>pug</td>\n      <td>18288.296296</td>\n    </tr>\n    <tr>\n      <th>10</th>\n      <td>teddy</td>\n      <td>20857.568345</td>\n    </tr>\n    <tr>\n      <th>2</th>\n      <td>Chihuahua</td>\n      <td>23786.545455</td>\n    </tr>\n    <tr>\n      <th>7</th>\n      <td>chinese_rural_dog</td>\n      <td>24057.187075</td>\n    </tr>\n    <tr>\n      <th>11</th>\n      <td>toy_poodle</td>\n      <td>26204.327586</td>\n    </tr>\n    <tr>\n      <th>6</th>\n      <td>Siberian_husky</td>\n      <td>26555.137931</td>\n    </tr>\n    <tr>\n      <th>1</th>\n      <td>Cardigan</td>\n      <td>31056.735955</td>\n    </tr>\n    <tr>\n      <th>5</th>\n      <td>Samoyed</td>\n      <td>35503.450000</td>\n    </tr>\n    <tr>\n      <th>0</th>\n      <td>Border_collie</td>\n      <td>38309.365217</td>\n    </tr>\n    <tr>\n      <th>4</th>\n      <td>Labrador_retriever</td>\n      <td>40751.505556</td>\n    </tr>\n    <tr>\n      <th>3</th>\n      <td>French_bulldog</td>\n      <td>43542.761062</td>\n    </tr>\n    <tr>\n      <th>8</th>\n      <td>golden_retriever</td>\n      <td>46055.091248</td>\n    </tr>\n  </tbody>\n</table>\n</div>",
      "text/plain": "      breed_prediction   likes_count\n9                  pug  18288.296296\n10               teddy  20857.568345\n2            Chihuahua  23786.545455\n7    chinese_rural_dog  24057.187075\n11          toy_poodle  26204.327586\n6       Siberian_husky  26555.137931\n1             Cardigan  31056.735955\n5              Samoyed  35503.450000\n0        Border_collie  38309.365217\n4   Labrador_retriever  40751.505556\n3       French_bulldog  43542.761062\n8     golden_retriever  46055.091248"
     },
     "execution_count": 112,
     "metadata": {},
     "output_type": "execute_result"
    }
   ],
   "source": [
    "mean_like_of_breed = df_top_predicted_dogs.groupby(['breed_prediction'])['likes_count'].mean().reset_index().sort_values(by=['likes_count'])\r\n",
    "mean_like_of_breed"
   ]
  },
  {
   "cell_type": "code",
   "execution_count": 113,
   "metadata": {},
   "outputs": [
    {
     "data": {
      "image/png": "[encoded data removed]",
      "text/plain": "<Figure size 432x288 with 1 Axes>"
     },
     "metadata": {
      "needs_background": "light"
     },
     "output_type": "display_data"
    }
   ],
   "source": [
    "sns.barplot(y='breed_prediction', x='likes_count', data=mean_like_of_breed, palette=sns_palette)\r\n",
    "plt.title('Average like a dog breed got from the dog_rates tweets')\r\n",
    "plt.ylabel('Dog breeds')\r\n",
    "plt.xlabel('Average like count');"
   ]
  },
  {
   "cell_type": "markdown",
   "metadata": {},
   "source": [
    "- to get most likes one might select a retriever, bulldog or a border collie"
   ]
  },
  {
   "cell_type": "code",
   "execution_count": 114,
   "metadata": {},
   "outputs": [],
   "source": [
    "df_monthly_likes =  df_tweets.groupby(pd.Grouper(key='datetime',freq='M'))['likes_count'].sum().reset_index()"
   ]
  },
  {
   "cell_type": "code",
   "execution_count": 115,
   "metadata": {},
   "outputs": [
    {
     "data": {
      "text/plain": "(0.5496501345636294, 0.8032449058054595, 0.565044213763937)"
     },
     "execution_count": 115,
     "metadata": {},
     "output_type": "execute_result"
    }
   ],
   "source": [
    "sns.color_palette(sns_palette)[0]"
   ]
  },
  {
   "cell_type": "code",
   "execution_count": 116,
   "metadata": {},
   "outputs": [
    {
     "data": {
      "image/png": "[encoded data removed]",
      "text/plain": "<Figure size 432x288 with 1 Axes>"
     },
     "metadata": {
      "needs_background": "light"
     },
     "output_type": "display_data"
    }
   ],
   "source": [
    "sns.lineplot(data=df_monthly_likes, x=\"datetime\", y=\"likes_count\",  color=sns.color_palette(sns_palette)[1])\r\n",
    "plt.title('Monthly cumulative like count')\r\n",
    "plt.ylabel('Like count in millions')\r\n",
    "plt.xlabel('Time');"
   ]
  },
  {
   "cell_type": "markdown",
   "metadata": {},
   "source": [
    "- in 2019 channel was in its prime"
   ]
  },
  {
   "cell_type": "code",
   "execution_count": 117,
   "metadata": {},
   "outputs": [
    {
     "data": {
      "text/plain": "golden_retriever      38\nLabrador_retriever    16\nchinese_rural_dog      6\nFrench_bulldog         3\nBorder_collie          1\ndingo                  1\nName: breed_prediction, dtype: int64"
     },
     "execution_count": 117,
     "metadata": {},
     "output_type": "execute_result"
    }
   ],
   "source": [
    "df_tweets.groupby(pd.Grouper(key='datetime',freq='M'))['breed_prediction'].agg(lambda x: x.value_counts().index[0]).reset_index()[\"breed_prediction\"].value_counts()"
   ]
  },
  {
   "cell_type": "markdown",
   "metadata": {},
   "source": [
    "- golden retreiver is the most popular post in 42 months. not very useful info to be insight"
   ]
  },
  {
   "cell_type": "code",
   "execution_count": 118,
   "metadata": {},
   "outputs": [],
   "source": [
    "# type conversion to sort for numerator\r\n",
    "df_tweets.rating_numerator = df_tweets.rating_numerator.astype(int)"
   ]
  },
  {
   "cell_type": "code",
   "execution_count": 119,
   "metadata": {},
   "outputs": [
    {
     "data": {
      "text/plain": "13    922\n12    720\n10    420\n11    410\n14    341\n9     151\n8      95\n7      55\n5      34\nName: rating_numerator, dtype: int64"
     },
     "execution_count": 119,
     "metadata": {},
     "output_type": "execute_result"
    }
   ],
   "source": [
    "df_common_rated_values = df_tweets.groupby(\"rating_numerator\").filter(lambda x: len(x) > 30).sort_values(by=[\"rating_numerator\"], ascending=False)\r\n",
    "df_common_rated_values.rating_numerator.value_counts()"
   ]
  },
  {
   "cell_type": "code",
   "execution_count": 120,
   "metadata": {},
   "outputs": [],
   "source": [
    "df_common_rated_values['has_name'] = ~df_common_rated_values.dog_name.isna()"
   ]
  },
  {
   "cell_type": "code",
   "execution_count": 121,
   "metadata": {},
   "outputs": [
    {
     "data": {
      "image/png": "[encoded data removed]",
      "text/plain": "<Figure size 432x720 with 1 Axes>"
     },
     "metadata": {
      "needs_background": "light"
     },
     "output_type": "display_data"
    }
   ],
   "source": [
    "plt.figure(figsize=(6, 10))\r\n",
    "sns.scatterplot(data=df_common_rated_values, x=\"rating_numerator\", y=\"likes_count\", hue=\"has_name\")\r\n",
    "plt.title('Most common rating numerators and their likes')\r\n",
    "plt.ylabel('Like count')\r\n",
    "plt.xlabel('Rating numerator');"
   ]
  },
  {
   "cell_type": "markdown",
   "metadata": {},
   "source": [
    "- most liked tweets has high numerator rating and has a dog with a name in the tweet.\r\n",
    "- there doesn't seem te be a high correlation with dog_rates's rating and the amount of like a tweet gets."
   ]
  },
  {
   "cell_type": "markdown",
   "metadata": {},
   "source": [
    "From the original dataframe I will try to get discarded columns"
   ]
  },
  {
   "cell_type": "code",
   "execution_count": 122,
   "metadata": {},
   "outputs": [],
   "source": [
    "df_original_id_updated = df_tweets_original.copy()"
   ]
  },
  {
   "cell_type": "code",
   "execution_count": 123,
   "metadata": {},
   "outputs": [],
   "source": [
    "df_original_id_updated.id = df_original_id_updated.id.astype(str)"
   ]
  },
  {
   "cell_type": "code",
   "execution_count": 124,
   "metadata": {},
   "outputs": [],
   "source": [
    "df_tweets_enhanced = pd.merge(df_original_id_updated[[\"id\", \"video\", \"photos\",\"thumbnail\"]], df_tweets, how=\"inner\", on=[\"id\"])"
   ]
  },
  {
   "cell_type": "code",
   "execution_count": 125,
   "metadata": {},
   "outputs": [
    {
     "data": {
      "text/html": "<div>\n<style scoped>\n    .dataframe tbody tr th:only-of-type {\n        vertical-align: middle;\n    }\n\n    .dataframe tbody tr th {\n        vertical-align: top;\n    }\n\n    .dataframe thead th {\n        text-align: right;\n    }\n</style>\n<table border=\"1\" class=\"dataframe\">\n  <thead>\n    <tr style=\"text-align: right;\">\n      <th></th>\n      <th>id</th>\n      <th>video</th>\n      <th>photos</th>\n      <th>thumbnail</th>\n      <th>tweet</th>\n      <th>replies_count</th>\n      <th>retweets_count</th>\n      <th>likes_count</th>\n      <th>datetime</th>\n      <th>dog_name</th>\n      <th>rating_numerator</th>\n      <th>rating_denominator</th>\n      <th>dog_stage</th>\n      <th>breed_prediction</th>\n    </tr>\n  </thead>\n  <tbody>\n    <tr>\n      <th>0</th>\n      <td>1367943120906686466</td>\n      <td>1</td>\n      <td>[https://pbs.twimg.com/media/Evvo-82UUAUrVk_.j...</td>\n      <td>https://pbs.twimg.com/media/Evvo-82UUAUrVk_.jpg</td>\n      <td>This is Otis. He broke his femur jumping out o...</td>\n      <td>148</td>\n      <td>1672</td>\n      <td>27796</td>\n      <td>2021-03-06 00:00:29-03:00</td>\n      <td>Otis</td>\n      <td>13</td>\n      <td>10</td>\n      <td>NaN</td>\n      <td>kelpie</td>\n    </tr>\n    <tr>\n      <th>1</th>\n      <td>1367882960406421507</td>\n      <td>1</td>\n      <td>[https://pbs.twimg.com/media/EvuyTV3UcAQXdYN.j...</td>\n      <td>https://pbs.twimg.com/media/EvuyTV3UcAQXdYN.jpg</td>\n      <td>This is King. He’s been living on the streets ...</td>\n      <td>99</td>\n      <td>2224</td>\n      <td>22729</td>\n      <td>2021-03-05 20:01:26-03:00</td>\n      <td>King</td>\n      <td>13</td>\n      <td>10</td>\n      <td>NaN</td>\n      <td>dingo</td>\n    </tr>\n  </tbody>\n</table>\n</div>",
      "text/plain": "                    id  video  \\\n0  1367943120906686466      1   \n1  1367882960406421507      1   \n\n                                              photos  \\\n0  [https://pbs.twimg.com/media/Evvo-82UUAUrVk_.j...   \n1  [https://pbs.twimg.com/media/EvuyTV3UcAQXdYN.j...   \n\n                                         thumbnail  \\\n0  https://pbs.twimg.com/media/Evvo-82UUAUrVk_.jpg   \n1  https://pbs.twimg.com/media/EvuyTV3UcAQXdYN.jpg   \n\n                                               tweet  replies_count  \\\n0  This is Otis. He broke his femur jumping out o...            148   \n1  This is King. He’s been living on the streets ...             99   \n\n   retweets_count  likes_count                  datetime dog_name  \\\n0            1672        27796 2021-03-06 00:00:29-03:00     Otis   \n1            2224        22729 2021-03-05 20:01:26-03:00     King   \n\n   rating_numerator rating_denominator dog_stage breed_prediction  \n0                13                 10       NaN           kelpie  \n1                13                 10       NaN            dingo  "
     },
     "execution_count": 125,
     "metadata": {},
     "output_type": "execute_result"
    }
   ],
   "source": [
    "df_tweets_enhanced.head(2)"
   ]
  },
  {
   "cell_type": "code",
   "execution_count": 126,
   "metadata": {},
   "outputs": [],
   "source": [
    "df_tweets_enhanced['photo_count'] = df_tweets_enhanced.apply(lambda x: len(x.photos), axis=1)"
   ]
  },
  {
   "cell_type": "code",
   "execution_count": 127,
   "metadata": {},
   "outputs": [],
   "source": [
    "df_tweets_enhanced['photo_exists'] = df_tweets_enhanced['photo_count'] > 0"
   ]
  },
  {
   "cell_type": "code",
   "execution_count": 128,
   "metadata": {},
   "outputs": [
    {
     "data": {
      "text/plain": "1    3152\n0     121\nName: video, dtype: int64"
     },
     "execution_count": 128,
     "metadata": {},
     "output_type": "execute_result"
    }
   ],
   "source": [
    "df_tweets_enhanced.video.value_counts()"
   ]
  },
  {
   "cell_type": "code",
   "execution_count": 129,
   "metadata": {},
   "outputs": [
    {
     "data": {
      "text/html": "<div>\n<style scoped>\n    .dataframe tbody tr th:only-of-type {\n        vertical-align: middle;\n    }\n\n    .dataframe tbody tr th {\n        vertical-align: top;\n    }\n\n    .dataframe thead th {\n        text-align: right;\n    }\n</style>\n<table border=\"1\" class=\"dataframe\">\n  <thead>\n    <tr style=\"text-align: right;\">\n      <th></th>\n      <th>id</th>\n      <th>video</th>\n      <th>photos</th>\n      <th>thumbnail</th>\n      <th>tweet</th>\n      <th>replies_count</th>\n      <th>retweets_count</th>\n      <th>likes_count</th>\n      <th>datetime</th>\n      <th>dog_name</th>\n      <th>rating_numerator</th>\n      <th>rating_denominator</th>\n      <th>dog_stage</th>\n      <th>breed_prediction</th>\n      <th>photo_count</th>\n      <th>photo_exists</th>\n    </tr>\n  </thead>\n  <tbody>\n    <tr>\n      <th>0</th>\n      <td>1367943120906686466</td>\n      <td>1</td>\n      <td>[https://pbs.twimg.com/media/Evvo-82UUAUrVk_.j...</td>\n      <td>https://pbs.twimg.com/media/Evvo-82UUAUrVk_.jpg</td>\n      <td>This is Otis. He broke his femur jumping out o...</td>\n      <td>148</td>\n      <td>1672</td>\n      <td>27796</td>\n      <td>2021-03-06 00:00:29-03:00</td>\n      <td>Otis</td>\n      <td>13</td>\n      <td>10</td>\n      <td>NaN</td>\n      <td>kelpie</td>\n      <td>4</td>\n      <td>True</td>\n    </tr>\n    <tr>\n      <th>1</th>\n      <td>1367882960406421507</td>\n      <td>1</td>\n      <td>[https://pbs.twimg.com/media/EvuyTV3UcAQXdYN.j...</td>\n      <td>https://pbs.twimg.com/media/EvuyTV3UcAQXdYN.jpg</td>\n      <td>This is King. He’s been living on the streets ...</td>\n      <td>99</td>\n      <td>2224</td>\n      <td>22729</td>\n      <td>2021-03-05 20:01:26-03:00</td>\n      <td>King</td>\n      <td>13</td>\n      <td>10</td>\n      <td>NaN</td>\n      <td>dingo</td>\n      <td>2</td>\n      <td>True</td>\n    </tr>\n    <tr>\n      <th>2</th>\n      <td>1367216213915443201</td>\n      <td>1</td>\n      <td>[]</td>\n      <td>https://pbs.twimg.com/ext_tw_video_thumb/13672...</td>\n      <td>This is Minnie. She’s the Executive Pen Transp...</td>\n      <td>1256</td>\n      <td>29356</td>\n      <td>195085</td>\n      <td>2021-03-03 23:52:01-03:00</td>\n      <td>Minnie</td>\n      <td>13</td>\n      <td>10</td>\n      <td>NaN</td>\n      <td>dingo</td>\n      <td>0</td>\n      <td>False</td>\n    </tr>\n    <tr>\n      <th>3</th>\n      <td>1367160218337959941</td>\n      <td>1</td>\n      <td>[]</td>\n      <td>https://pbs.twimg.com/media/EvkWUcyVEAIA8Y0.jpg</td>\n      <td>This is Tuk Tuk. He’s the cutest travel compan...</td>\n      <td>199</td>\n      <td>1043</td>\n      <td>18565</td>\n      <td>2021-03-03 20:09:31-03:00</td>\n      <td>Tuk Tuk</td>\n      <td>14</td>\n      <td>10</td>\n      <td>NaN</td>\n      <td>dingo</td>\n      <td>0</td>\n      <td>False</td>\n    </tr>\n    <tr>\n      <th>4</th>\n      <td>1366831649690816513</td>\n      <td>1</td>\n      <td>[https://pbs.twimg.com/media/Evf2I9oVIAIN24G.jpg]</td>\n      <td>https://pbs.twimg.com/media/Evf2I9oVIAIN24G.jpg</td>\n      <td>This is Gussie. She took over your Zoom call w...</td>\n      <td>426</td>\n      <td>7777</td>\n      <td>105478</td>\n      <td>2021-03-02 22:23:54-03:00</td>\n      <td>Gussie</td>\n      <td>12</td>\n      <td>10</td>\n      <td>NaN</td>\n      <td>Labrador_retriever</td>\n      <td>1</td>\n      <td>True</td>\n    </tr>\n  </tbody>\n</table>\n</div>",
      "text/plain": "                    id  video  \\\n0  1367943120906686466      1   \n1  1367882960406421507      1   \n2  1367216213915443201      1   \n3  1367160218337959941      1   \n4  1366831649690816513      1   \n\n                                              photos  \\\n0  [https://pbs.twimg.com/media/Evvo-82UUAUrVk_.j...   \n1  [https://pbs.twimg.com/media/EvuyTV3UcAQXdYN.j...   \n2                                                 []   \n3                                                 []   \n4  [https://pbs.twimg.com/media/Evf2I9oVIAIN24G.jpg]   \n\n                                           thumbnail  \\\n0    https://pbs.twimg.com/media/Evvo-82UUAUrVk_.jpg   \n1    https://pbs.twimg.com/media/EvuyTV3UcAQXdYN.jpg   \n2  https://pbs.twimg.com/ext_tw_video_thumb/13672...   \n3    https://pbs.twimg.com/media/EvkWUcyVEAIA8Y0.jpg   \n4    https://pbs.twimg.com/media/Evf2I9oVIAIN24G.jpg   \n\n                                               tweet  replies_count  \\\n0  This is Otis. He broke his femur jumping out o...            148   \n1  This is King. He’s been living on the streets ...             99   \n2  This is Minnie. She’s the Executive Pen Transp...           1256   \n3  This is Tuk Tuk. He’s the cutest travel compan...            199   \n4  This is Gussie. She took over your Zoom call w...            426   \n\n   retweets_count  likes_count                  datetime dog_name  \\\n0            1672        27796 2021-03-06 00:00:29-03:00     Otis   \n1            2224        22729 2021-03-05 20:01:26-03:00     King   \n2           29356       195085 2021-03-03 23:52:01-03:00   Minnie   \n3            1043        18565 2021-03-03 20:09:31-03:00  Tuk Tuk   \n4            7777       105478 2021-03-02 22:23:54-03:00   Gussie   \n\n   rating_numerator rating_denominator dog_stage    breed_prediction  \\\n0                13                 10       NaN              kelpie   \n1                13                 10       NaN               dingo   \n2                13                 10       NaN               dingo   \n3                14                 10       NaN               dingo   \n4                12                 10       NaN  Labrador_retriever   \n\n   photo_count  photo_exists  \n0            4          True  \n1            2          True  \n2            0         False  \n3            0         False  \n4            1          True  "
     },
     "execution_count": 129,
     "metadata": {},
     "output_type": "execute_result"
    }
   ],
   "source": [
    "df_tweets_enhanced.head()"
   ]
  },
  {
   "cell_type": "code",
   "execution_count": 130,
   "metadata": {},
   "outputs": [
    {
     "data": {
      "text/plain": "3152"
     },
     "execution_count": 130,
     "metadata": {},
     "output_type": "execute_result"
    }
   ],
   "source": [
    "df_tweets_enhanced.video.sum()"
   ]
  },
  {
   "cell_type": "code",
   "execution_count": 131,
   "metadata": {},
   "outputs": [
    {
     "data": {
      "text/plain": "4822"
     },
     "execution_count": 131,
     "metadata": {},
     "output_type": "execute_result"
    }
   ],
   "source": [
    "df_tweets_enhanced.photo_count.sum()"
   ]
  },
  {
   "cell_type": "code",
   "execution_count": 132,
   "metadata": {},
   "outputs": [],
   "source": [
    "df_monthly_media =  df_tweets_enhanced.groupby(pd.Grouper(key='datetime',freq='M'))[['photo_count','video', 'photo_exists']].sum().reset_index()"
   ]
  },
  {
   "cell_type": "code",
   "execution_count": 133,
   "metadata": {},
   "outputs": [
    {
     "data": {
      "text/html": "<div>\n<style scoped>\n    .dataframe tbody tr th:only-of-type {\n        vertical-align: middle;\n    }\n\n    .dataframe tbody tr th {\n        vertical-align: top;\n    }\n\n    .dataframe thead th {\n        text-align: right;\n    }\n</style>\n<table border=\"1\" class=\"dataframe\">\n  <thead>\n    <tr style=\"text-align: right;\">\n      <th></th>\n      <th>datetime</th>\n      <th>photo_count</th>\n      <th>video</th>\n      <th>photo_exists</th>\n    </tr>\n  </thead>\n  <tbody>\n    <tr>\n      <th>0</th>\n      <td>2015-11-30 00:00:00-03:00</td>\n      <td>304</td>\n      <td>292</td>\n      <td>292</td>\n    </tr>\n    <tr>\n      <th>1</th>\n      <td>2015-12-31 00:00:00-03:00</td>\n      <td>412</td>\n      <td>362</td>\n      <td>354</td>\n    </tr>\n    <tr>\n      <th>2</th>\n      <td>2016-01-31 00:00:00-03:00</td>\n      <td>200</td>\n      <td>164</td>\n      <td>156</td>\n    </tr>\n    <tr>\n      <th>3</th>\n      <td>2016-02-29 00:00:00-03:00</td>\n      <td>137</td>\n      <td>102</td>\n      <td>99</td>\n    </tr>\n    <tr>\n      <th>4</th>\n      <td>2016-03-31 00:00:00-03:00</td>\n      <td>148</td>\n      <td>108</td>\n      <td>107</td>\n    </tr>\n  </tbody>\n</table>\n</div>",
      "text/plain": "                   datetime  photo_count  video  photo_exists\n0 2015-11-30 00:00:00-03:00          304    292           292\n1 2015-12-31 00:00:00-03:00          412    362           354\n2 2016-01-31 00:00:00-03:00          200    164           156\n3 2016-02-29 00:00:00-03:00          137    102            99\n4 2016-03-31 00:00:00-03:00          148    108           107"
     },
     "execution_count": 133,
     "metadata": {},
     "output_type": "execute_result"
    }
   ],
   "source": [
    "df_monthly_media.head()"
   ]
  },
  {
   "cell_type": "code",
   "execution_count": 134,
   "metadata": {},
   "outputs": [
    {
     "data": {
      "image/png": "[encoded data removed]",
      "text/plain": "<Figure size 432x288 with 3 Axes>"
     },
     "metadata": {
      "needs_background": "light"
     },
     "output_type": "display_data"
    }
   ],
   "source": [
    "# https://stackoverflow.com/questions/47591650/second-y-axis-time-series-seaborn\r\n",
    "# If I leave seaborn alone it does great job displaying the dataframe, but I can't change the x access and have the two plot lines with the consistant legend.\r\n",
    "\r\n",
    "ax = df_monthly_media.plot(x=\"datetime\", y=\"photo_count\", legend=False)\r\n",
    "plt.xlabel('Time');\r\n",
    "plt.ylabel('media count')\r\n",
    "ax2 = ax.twinx()\r\n",
    "df_monthly_media.plot(x=\"datetime\", y=\"video\", ax=ax2, legend=False, color=\"r\")\r\n",
    "ax3 = ax.twinx()\r\n",
    "df_monthly_media.plot(x=\"datetime\", y=\"photo_exists\", ax=ax3, legend=False, color=\"g\")\r\n",
    "ax.figure.legend()\r\n",
    "plt.axis('off')\r\n",
    "plt.title('Monthly cumulative media count')\r\n",
    "plt.show()"
   ]
  },
  {
   "cell_type": "markdown",
   "metadata": {},
   "source": [
    "- there can only be one video in a tweet\r\n",
    "- there could be multiple images in one tweet\r\n",
    "- if we look at the tweets with an image or a video, (green and red lines) they are quite similar.\r\n",
    "- when green and blue line have distance between them, those are the months with multiple images in one tweet. if the distance is as high as the green line, that means on average there are two images in one tweet. however looking at the chart we can see there isn't a month that has more than ~1.5 images per tweet"
   ]
  },
  {
   "cell_type": "code",
   "execution_count": 135,
   "metadata": {},
   "outputs": [
    {
     "data": {
      "text/html": "\n    <style>\n        #ipyplot-html-viewer-toggle-iaWxNSJiLCNfraVLeVCtqB {\n            position: absolute;\n            top: -9999px;\n            left: -9999px;\n            visibility: hidden;\n        }\n\n        #ipyplot-html-viewer-label-iaWxNSJiLCNfraVLeVCtqB { \n            position: relative;\n            display: inline-block;\n            cursor: pointer;\n            color: blue;\n            text-decoration: underline;\n        }\n\n        #ipyplot-html-viewer-textarea-iaWxNSJiLCNfraVLeVCtqB {\n            background: lightgrey;\n            width: 100%;\n            height: 0px;\n            display: none;\n        }\n\n        #ipyplot-html-viewer-toggle-iaWxNSJiLCNfraVLeVCtqB:checked ~ #ipyplot-html-viewer-textarea-iaWxNSJiLCNfraVLeVCtqB {\n            height: 200px;\n            display: block;\n        }\n\n        #ipyplot-html-viewer-toggle-iaWxNSJiLCNfraVLeVCtqB:checked + #ipyplot-html-viewer-label-iaWxNSJiLCNfraVLeVCtqB:after {\n            content: \"hide html\";\n            position: absolute;\n            top: 0;\n            left: 0;\n            right: 0;\n            bottom: 0;\n            background: white;\n            cursor: pointer;\n            color: blue;\n            text-decoration: underline;\n        }\n    </style>\n    <div>\n        <input type=\"checkbox\" id=\"ipyplot-html-viewer-toggle-iaWxNSJiLCNfraVLeVCtqB\">\n        <label id=\"ipyplot-html-viewer-label-iaWxNSJiLCNfraVLeVCtqB\" for=\"ipyplot-html-viewer-toggle-iaWxNSJiLCNfraVLeVCtqB\">show html</label>\n        <textarea id=\"ipyplot-html-viewer-textarea-iaWxNSJiLCNfraVLeVCtqB\" readonly>\n            \n        <style>\n        #ipyplot-imgs-container-div-2LZYDAZAvsB8heRu5D62d2 {\n            width: 100%;\n            height: 100%;\n            margin: 0%;\n            overflow: auto;\n            position: relative;\n            overflow-y: scroll;\n        }\n\n        div.ipyplot-placeholder-div-2LZYDAZAvsB8heRu5D62d2 {\n            width: 150px;\n            display: inline-block;\n            margin: 3px;\n            position: relative;\n        }\n\n        div.ipyplot-content-div-2LZYDAZAvsB8heRu5D62d2 {\n            width: 150px;\n            background: white;\n            display: inline-block;\n            vertical-align: top;\n            text-align: center;\n            position: relative;\n            border: 2px solid #ddd;\n            top: 0;\n            left: 0;\n        }\n\n        div.ipyplot-content-div-2LZYDAZAvsB8heRu5D62d2 span.ipyplot-img-close {\n            display: none;\n        }\n\n        div.ipyplot-content-div-2LZYDAZAvsB8heRu5D62d2 span {\n            width: 100%;\n            height: 100%;\n            position: absolute;\n            top: 0;\n            left: 0;\n        }\n\n        div.ipyplot-content-div-2LZYDAZAvsB8heRu5D62d2 img {\n            width: 150px;\n        }\n\n        div.ipyplot-content-div-2LZYDAZAvsB8heRu5D62d2 span.ipyplot-img-close:hover {\n            cursor: zoom-out;\n        }\n        div.ipyplot-content-div-2LZYDAZAvsB8heRu5D62d2 span.ipyplot-img-expand:hover {\n            cursor: zoom-in;\n        }\n\n        div[id^=ipyplot-content-div-2LZYDAZAvsB8heRu5D62d2]:target {\n            transform: scale(2.5);\n            transform-origin: left top;\n            z-index: 5000;\n            top: 0;\n            left: 0;\n            position: absolute;\n        }\n\n        div[id^=ipyplot-content-div-2LZYDAZAvsB8heRu5D62d2]:target span.ipyplot-img-close {\n            display: block;\n        }\n\n        div[id^=ipyplot-content-div-2LZYDAZAvsB8heRu5D62d2]:target span.ipyplot-img-expand {\n            display: none;\n        }\n        </style>\n    <div id=\"ipyplot-imgs-container-div-2LZYDAZAvsB8heRu5D62d2\">\n    <div class=\"ipyplot-placeholder-div-2LZYDAZAvsB8heRu5D62d2\">\n        <div id=\"ipyplot-content-div-2LZYDAZAvsB8heRu5D62d2-DsmyncguPUVcPSoyBfs8cZ\" class=\"ipyplot-content-div-2LZYDAZAvsB8heRu5D62d2\">\n            <h4 style=\"font-size: 12px; word-wrap: break-word;\">0</h4>\n            <h4 style=\"font-size: 9px; padding-left: 10px; padding-right: 10px; width: 95%; word-wrap: break-word; white-space: normal;\">https://pbs.twimg.com/ext_tw_video_thumb/1186432008060194816/pu/img/TLZWY2MOlZWz0dYV.jpg</h4><img src=\"https://pbs.twimg.com/ext_tw_video_thumb/1186432008060194816/pu/img/TLZWY2MOlZWz0dYV.jpg\"/>\n            <a href=\"#!\">\n                <span class=\"ipyplot-img-close\"/>\n            </a>\n            <a href=\"#ipyplot-content-div-2LZYDAZAvsB8heRu5D62d2-DsmyncguPUVcPSoyBfs8cZ\">\n                <span class=\"ipyplot-img-expand\"/>\n            </a>\n        </div>\n    </div>\n    \n    <div class=\"ipyplot-placeholder-div-2LZYDAZAvsB8heRu5D62d2\">\n        <div id=\"ipyplot-content-div-2LZYDAZAvsB8heRu5D62d2-8wRDMUpNspYHBgLWsDHrvk\" class=\"ipyplot-content-div-2LZYDAZAvsB8heRu5D62d2\">\n            <h4 style=\"font-size: 12px; word-wrap: break-word;\">1</h4>\n            <h4 style=\"font-size: 9px; padding-left: 10px; padding-right: 10px; width: 95%; word-wrap: break-word; white-space: normal;\">https://pbs.twimg.com/ext_tw_video_thumb/1054404013653942272/pu/img/pmfAvhsIyj84pqY6.jpg</h4><img src=\"https://pbs.twimg.com/ext_tw_video_thumb/1054404013653942272/pu/img/pmfAvhsIyj84pqY6.jpg\"/>\n            <a href=\"#!\">\n                <span class=\"ipyplot-img-close\"/>\n            </a>\n            <a href=\"#ipyplot-content-div-2LZYDAZAvsB8heRu5D62d2-8wRDMUpNspYHBgLWsDHrvk\">\n                <span class=\"ipyplot-img-expand\"/>\n            </a>\n        </div>\n    </div>\n    \n    <div class=\"ipyplot-placeholder-div-2LZYDAZAvsB8heRu5D62d2\">\n        <div id=\"ipyplot-content-div-2LZYDAZAvsB8heRu5D62d2-V6HenKCMsGgy5nfV9Br9W4\" class=\"ipyplot-content-div-2LZYDAZAvsB8heRu5D62d2\">\n            <h4 style=\"font-size: 12px; word-wrap: break-word;\">2</h4>\n            <h4 style=\"font-size: 9px; padding-left: 10px; padding-right: 10px; width: 95%; word-wrap: break-word; white-space: normal;\">https://pbs.twimg.com/media/EJRFrA2U0AA-Kt2.jpg</h4><img src=\"https://pbs.twimg.com/media/EJRFrA2U0AA-Kt2.jpg\"/>\n            <a href=\"#!\">\n                <span class=\"ipyplot-img-close\"/>\n            </a>\n            <a href=\"#ipyplot-content-div-2LZYDAZAvsB8heRu5D62d2-V6HenKCMsGgy5nfV9Br9W4\">\n                <span class=\"ipyplot-img-expand\"/>\n            </a>\n        </div>\n    </div>\n    \n    <div class=\"ipyplot-placeholder-div-2LZYDAZAvsB8heRu5D62d2\">\n        <div id=\"ipyplot-content-div-2LZYDAZAvsB8heRu5D62d2-UkxKQZeEzJYd6UihGrW3a4\" class=\"ipyplot-content-div-2LZYDAZAvsB8heRu5D62d2\">\n            <h4 style=\"font-size: 12px; word-wrap: break-word;\">3</h4>\n            <h4 style=\"font-size: 9px; padding-left: 10px; padding-right: 10px; width: 95%; word-wrap: break-word; white-space: normal;\">https://pbs.twimg.com/media/DhCmQKMU8AARv0_.jpg</h4><img src=\"https://pbs.twimg.com/media/DhCmQKMU8AARv0_.jpg\"/>\n            <a href=\"#!\">\n                <span class=\"ipyplot-img-close\"/>\n            </a>\n            <a href=\"#ipyplot-content-div-2LZYDAZAvsB8heRu5D62d2-UkxKQZeEzJYd6UihGrW3a4\">\n                <span class=\"ipyplot-img-expand\"/>\n            </a>\n        </div>\n    </div>\n    \n    <div class=\"ipyplot-placeholder-div-2LZYDAZAvsB8heRu5D62d2\">\n        <div id=\"ipyplot-content-div-2LZYDAZAvsB8heRu5D62d2-c9HJmqxRb8xAde6K2avT4t\" class=\"ipyplot-content-div-2LZYDAZAvsB8heRu5D62d2\">\n            <h4 style=\"font-size: 12px; word-wrap: break-word;\">4</h4>\n            <h4 style=\"font-size: 9px; padding-left: 10px; padding-right: 10px; width: 95%; word-wrap: break-word; white-space: normal;\">https://pbs.twimg.com/ext_tw_video_thumb/1189953627345084417/pu/img/UK9dkrofIXBLMcdg.jpg</h4><img src=\"https://pbs.twimg.com/ext_tw_video_thumb/1189953627345084417/pu/img/UK9dkrofIXBLMcdg.jpg\"/>\n            <a href=\"#!\">\n                <span class=\"ipyplot-img-close\"/>\n            </a>\n            <a href=\"#ipyplot-content-div-2LZYDAZAvsB8heRu5D62d2-c9HJmqxRb8xAde6K2avT4t\">\n                <span class=\"ipyplot-img-expand\"/>\n            </a>\n        </div>\n    </div>\n    \n    <div class=\"ipyplot-placeholder-div-2LZYDAZAvsB8heRu5D62d2\">\n        <div id=\"ipyplot-content-div-2LZYDAZAvsB8heRu5D62d2-fzo73xCDvT9ee6iy3CVYcQ\" class=\"ipyplot-content-div-2LZYDAZAvsB8heRu5D62d2\">\n            <h4 style=\"font-size: 12px; word-wrap: break-word;\">5</h4>\n            <h4 style=\"font-size: 9px; padding-left: 10px; padding-right: 10px; width: 95%; word-wrap: break-word; white-space: normal;\">https://pbs.twimg.com/ext_tw_video_thumb/1083092398669029376/pu/img/lXynkoHY-rgbGzhu.jpg</h4><img src=\"https://pbs.twimg.com/ext_tw_video_thumb/1083092398669029376/pu/img/lXynkoHY-rgbGzhu.jpg\"/>\n            <a href=\"#!\">\n                <span class=\"ipyplot-img-close\"/>\n            </a>\n            <a href=\"#ipyplot-content-div-2LZYDAZAvsB8heRu5D62d2-fzo73xCDvT9ee6iy3CVYcQ\">\n                <span class=\"ipyplot-img-expand\"/>\n            </a>\n        </div>\n    </div>\n    \n    <div class=\"ipyplot-placeholder-div-2LZYDAZAvsB8heRu5D62d2\">\n        <div id=\"ipyplot-content-div-2LZYDAZAvsB8heRu5D62d2-4TtZNR2BwTiPmVLEAwb5Hw\" class=\"ipyplot-content-div-2LZYDAZAvsB8heRu5D62d2\">\n            <h4 style=\"font-size: 12px; word-wrap: break-word;\">6</h4>\n            <h4 style=\"font-size: 9px; padding-left: 10px; padding-right: 10px; width: 95%; word-wrap: break-word; white-space: normal;\">https://pbs.twimg.com/ext_tw_video_thumb/1245045727140679680/pu/img/z9yPJ2vO092RwgWk.jpg</h4><img src=\"https://pbs.twimg.com/ext_tw_video_thumb/1245045727140679680/pu/img/z9yPJ2vO092RwgWk.jpg\"/>\n            <a href=\"#!\">\n                <span class=\"ipyplot-img-close\"/>\n            </a>\n            <a href=\"#ipyplot-content-div-2LZYDAZAvsB8heRu5D62d2-4TtZNR2BwTiPmVLEAwb5Hw\">\n                <span class=\"ipyplot-img-expand\"/>\n            </a>\n        </div>\n    </div>\n    \n    <div class=\"ipyplot-placeholder-div-2LZYDAZAvsB8heRu5D62d2\">\n        <div id=\"ipyplot-content-div-2LZYDAZAvsB8heRu5D62d2-4CGxbm298HagJKJPeJu49K\" class=\"ipyplot-content-div-2LZYDAZAvsB8heRu5D62d2\">\n            <h4 style=\"font-size: 12px; word-wrap: break-word;\">7</h4>\n            <h4 style=\"font-size: 9px; padding-left: 10px; padding-right: 10px; width: 95%; word-wrap: break-word; white-space: normal;\">https://pbs.twimg.com/ext_tw_video_thumb/1125193875260227584/pu/img/7pJgkcAmcgGwkyb3.jpg</h4><img src=\"https://pbs.twimg.com/ext_tw_video_thumb/1125193875260227584/pu/img/7pJgkcAmcgGwkyb3.jpg\"/>\n            <a href=\"#!\">\n                <span class=\"ipyplot-img-close\"/>\n            </a>\n            <a href=\"#ipyplot-content-div-2LZYDAZAvsB8heRu5D62d2-4CGxbm298HagJKJPeJu49K\">\n                <span class=\"ipyplot-img-expand\"/>\n            </a>\n        </div>\n    </div>\n    \n    <div class=\"ipyplot-placeholder-div-2LZYDAZAvsB8heRu5D62d2\">\n        <div id=\"ipyplot-content-div-2LZYDAZAvsB8heRu5D62d2-JcCqgUqqmPZTyEfRNjX3Fy\" class=\"ipyplot-content-div-2LZYDAZAvsB8heRu5D62d2\">\n            <h4 style=\"font-size: 12px; word-wrap: break-word;\">8</h4>\n            <h4 style=\"font-size: 9px; padding-left: 10px; padding-right: 10px; width: 95%; word-wrap: break-word; white-space: normal;\">https://pbs.twimg.com/ext_tw_video_thumb/1113473214280134656/pu/img/kEvIycg78Bd1R21l.jpg</h4><img src=\"https://pbs.twimg.com/ext_tw_video_thumb/1113473214280134656/pu/img/kEvIycg78Bd1R21l.jpg\"/>\n            <a href=\"#!\">\n                <span class=\"ipyplot-img-close\"/>\n            </a>\n            <a href=\"#ipyplot-content-div-2LZYDAZAvsB8heRu5D62d2-JcCqgUqqmPZTyEfRNjX3Fy\">\n                <span class=\"ipyplot-img-expand\"/>\n            </a>\n        </div>\n    </div>\n    \n    <div class=\"ipyplot-placeholder-div-2LZYDAZAvsB8heRu5D62d2\">\n        <div id=\"ipyplot-content-div-2LZYDAZAvsB8heRu5D62d2-VePkvtcqbBg6TTx52w8ywr\" class=\"ipyplot-content-div-2LZYDAZAvsB8heRu5D62d2\">\n            <h4 style=\"font-size: 12px; word-wrap: break-word;\">9</h4>\n            <h4 style=\"font-size: 9px; padding-left: 10px; padding-right: 10px; width: 95%; word-wrap: break-word; white-space: normal;\">https://pbs.twimg.com/media/DkrihlIWsAAacgr.jpg</h4><img src=\"https://pbs.twimg.com/media/DkrihlIWsAAacgr.jpg\"/>\n            <a href=\"#!\">\n                <span class=\"ipyplot-img-close\"/>\n            </a>\n            <a href=\"#ipyplot-content-div-2LZYDAZAvsB8heRu5D62d2-VePkvtcqbBg6TTx52w8ywr\">\n                <span class=\"ipyplot-img-expand\"/>\n            </a>\n        </div>\n    </div>\n    \n    <div class=\"ipyplot-placeholder-div-2LZYDAZAvsB8heRu5D62d2\">\n        <div id=\"ipyplot-content-div-2LZYDAZAvsB8heRu5D62d2-Kkkmef59ELyHvnE5VehRwr\" class=\"ipyplot-content-div-2LZYDAZAvsB8heRu5D62d2\">\n            <h4 style=\"font-size: 12px; word-wrap: break-word;\">10</h4>\n            <h4 style=\"font-size: 9px; padding-left: 10px; padding-right: 10px; width: 95%; word-wrap: break-word; white-space: normal;\">https://pbs.twimg.com/ext_tw_video_thumb/1032724980188897280/pu/img/jEHQqCiuFZApSLAC.jpg</h4><img src=\"https://pbs.twimg.com/ext_tw_video_thumb/1032724980188897280/pu/img/jEHQqCiuFZApSLAC.jpg\"/>\n            <a href=\"#!\">\n                <span class=\"ipyplot-img-close\"/>\n            </a>\n            <a href=\"#ipyplot-content-div-2LZYDAZAvsB8heRu5D62d2-Kkkmef59ELyHvnE5VehRwr\">\n                <span class=\"ipyplot-img-expand\"/>\n            </a>\n        </div>\n    </div>\n    \n    <div class=\"ipyplot-placeholder-div-2LZYDAZAvsB8heRu5D62d2\">\n        <div id=\"ipyplot-content-div-2LZYDAZAvsB8heRu5D62d2-DpfJh57oJRF5jghqy7h55C\" class=\"ipyplot-content-div-2LZYDAZAvsB8heRu5D62d2\">\n            <h4 style=\"font-size: 12px; word-wrap: break-word;\">11</h4>\n            <h4 style=\"font-size: 9px; padding-left: 10px; padding-right: 10px; width: 95%; word-wrap: break-word; white-space: normal;\">https://pbs.twimg.com/media/Edka7WaVAAAIKih.jpg</h4><img src=\"https://pbs.twimg.com/media/Edka7WaVAAAIKih.jpg\"/>\n            <a href=\"#!\">\n                <span class=\"ipyplot-img-close\"/>\n            </a>\n            <a href=\"#ipyplot-content-div-2LZYDAZAvsB8heRu5D62d2-DpfJh57oJRF5jghqy7h55C\">\n                <span class=\"ipyplot-img-expand\"/>\n            </a>\n        </div>\n    </div>\n    \n    <div class=\"ipyplot-placeholder-div-2LZYDAZAvsB8heRu5D62d2\">\n        <div id=\"ipyplot-content-div-2LZYDAZAvsB8heRu5D62d2-ZyTbMozJzobBr4qqY3oKj3\" class=\"ipyplot-content-div-2LZYDAZAvsB8heRu5D62d2\">\n            <h4 style=\"font-size: 12px; word-wrap: break-word;\">12</h4>\n            <h4 style=\"font-size: 9px; padding-left: 10px; padding-right: 10px; width: 95%; word-wrap: break-word; white-space: normal;\">https://pbs.twimg.com/ext_tw_video_thumb/1074723495664328705/pu/img/qkM6Jb5r-sq1z8SI.jpg</h4><img src=\"https://pbs.twimg.com/ext_tw_video_thumb/1074723495664328705/pu/img/qkM6Jb5r-sq1z8SI.jpg\"/>\n            <a href=\"#!\">\n                <span class=\"ipyplot-img-close\"/>\n            </a>\n            <a href=\"#ipyplot-content-div-2LZYDAZAvsB8heRu5D62d2-ZyTbMozJzobBr4qqY3oKj3\">\n                <span class=\"ipyplot-img-expand\"/>\n            </a>\n        </div>\n    </div>\n    \n    <div class=\"ipyplot-placeholder-div-2LZYDAZAvsB8heRu5D62d2\">\n        <div id=\"ipyplot-content-div-2LZYDAZAvsB8heRu5D62d2-irYr8KqvLtWWjHkfrGYNSq\" class=\"ipyplot-content-div-2LZYDAZAvsB8heRu5D62d2\">\n            <h4 style=\"font-size: 12px; word-wrap: break-word;\">13</h4>\n            <h4 style=\"font-size: 9px; padding-left: 10px; padding-right: 10px; width: 95%; word-wrap: break-word; white-space: normal;\">https://pbs.twimg.com/ext_tw_video_thumb/1111059087645724673/pu/img/wu3NwWZGM5PXwMmZ.jpg</h4><img src=\"https://pbs.twimg.com/ext_tw_video_thumb/1111059087645724673/pu/img/wu3NwWZGM5PXwMmZ.jpg\"/>\n            <a href=\"#!\">\n                <span class=\"ipyplot-img-close\"/>\n            </a>\n            <a href=\"#ipyplot-content-div-2LZYDAZAvsB8heRu5D62d2-irYr8KqvLtWWjHkfrGYNSq\">\n                <span class=\"ipyplot-img-expand\"/>\n            </a>\n        </div>\n    </div>\n    \n    <div class=\"ipyplot-placeholder-div-2LZYDAZAvsB8heRu5D62d2\">\n        <div id=\"ipyplot-content-div-2LZYDAZAvsB8heRu5D62d2-TbM2ZyjNB4teVmWRdreVNh\" class=\"ipyplot-content-div-2LZYDAZAvsB8heRu5D62d2\">\n            <h4 style=\"font-size: 12px; word-wrap: break-word;\">14</h4>\n            <h4 style=\"font-size: 9px; padding-left: 10px; padding-right: 10px; width: 95%; word-wrap: break-word; white-space: normal;\">https://pbs.twimg.com/ext_tw_video_thumb/1108166186557034496/pu/img/BsRfFq5qoN39Mtnx.jpg</h4><img src=\"https://pbs.twimg.com/ext_tw_video_thumb/1108166186557034496/pu/img/BsRfFq5qoN39Mtnx.jpg\"/>\n            <a href=\"#!\">\n                <span class=\"ipyplot-img-close\"/>\n            </a>\n            <a href=\"#ipyplot-content-div-2LZYDAZAvsB8heRu5D62d2-TbM2ZyjNB4teVmWRdreVNh\">\n                <span class=\"ipyplot-img-expand\"/>\n            </a>\n        </div>\n    </div>\n    \n    <div class=\"ipyplot-placeholder-div-2LZYDAZAvsB8heRu5D62d2\">\n        <div id=\"ipyplot-content-div-2LZYDAZAvsB8heRu5D62d2-BLtU28RmzbvUnfaKdAMs7J\" class=\"ipyplot-content-div-2LZYDAZAvsB8heRu5D62d2\">\n            <h4 style=\"font-size: 12px; word-wrap: break-word;\">15</h4>\n            <h4 style=\"font-size: 9px; padding-left: 10px; padding-right: 10px; width: 95%; word-wrap: break-word; white-space: normal;\">https://pbs.twimg.com/media/D18_YgHUYAIMOlj.jpg</h4><img src=\"https://pbs.twimg.com/media/D18_YgHUYAIMOlj.jpg\"/>\n            <a href=\"#!\">\n                <span class=\"ipyplot-img-close\"/>\n            </a>\n            <a href=\"#ipyplot-content-div-2LZYDAZAvsB8heRu5D62d2-BLtU28RmzbvUnfaKdAMs7J\">\n                <span class=\"ipyplot-img-expand\"/>\n            </a>\n        </div>\n    </div>\n    \n    <div class=\"ipyplot-placeholder-div-2LZYDAZAvsB8heRu5D62d2\">\n        <div id=\"ipyplot-content-div-2LZYDAZAvsB8heRu5D62d2-Jca4WCbzefgretmNBnub5N\" class=\"ipyplot-content-div-2LZYDAZAvsB8heRu5D62d2\">\n            <h4 style=\"font-size: 12px; word-wrap: break-word;\">16</h4>\n            <h4 style=\"font-size: 9px; padding-left: 10px; padding-right: 10px; width: 95%; word-wrap: break-word; white-space: normal;\">https://pbs.twimg.com/media/DdRwSmzV0AE1Yey.jpg</h4><img src=\"https://pbs.twimg.com/media/DdRwSmzV0AE1Yey.jpg\"/>\n            <a href=\"#!\">\n                <span class=\"ipyplot-img-close\"/>\n            </a>\n            <a href=\"#ipyplot-content-div-2LZYDAZAvsB8heRu5D62d2-Jca4WCbzefgretmNBnub5N\">\n                <span class=\"ipyplot-img-expand\"/>\n            </a>\n        </div>\n    </div>\n    \n    <div class=\"ipyplot-placeholder-div-2LZYDAZAvsB8heRu5D62d2\">\n        <div id=\"ipyplot-content-div-2LZYDAZAvsB8heRu5D62d2-D9oNRyB5C9D7RCfCMFe3Qj\" class=\"ipyplot-content-div-2LZYDAZAvsB8heRu5D62d2\">\n            <h4 style=\"font-size: 12px; word-wrap: break-word;\">17</h4>\n            <h4 style=\"font-size: 9px; padding-left: 10px; padding-right: 10px; width: 95%; word-wrap: break-word; white-space: normal;\">https://pbs.twimg.com/media/Ebia6CvUMAIbrCy.jpg</h4><img src=\"https://pbs.twimg.com/media/Ebia6CvUMAIbrCy.jpg\"/>\n            <a href=\"#!\">\n                <span class=\"ipyplot-img-close\"/>\n            </a>\n            <a href=\"#ipyplot-content-div-2LZYDAZAvsB8heRu5D62d2-D9oNRyB5C9D7RCfCMFe3Qj\">\n                <span class=\"ipyplot-img-expand\"/>\n            </a>\n        </div>\n    </div>\n    </div>\n        </textarea>\n    </div>\n    ",
      "text/plain": "<IPython.core.display.HTML object>"
     },
     "metadata": {},
     "output_type": "display_data"
    },
    {
     "data": {
      "text/html": "\n        <style>\n        #ipyplot-imgs-container-div-2LZYDAZAvsB8heRu5D62d2 {\n            width: 100%;\n            height: 100%;\n            margin: 0%;\n            overflow: auto;\n            position: relative;\n            overflow-y: scroll;\n        }\n\n        div.ipyplot-placeholder-div-2LZYDAZAvsB8heRu5D62d2 {\n            width: 150px;\n            display: inline-block;\n            margin: 3px;\n            position: relative;\n        }\n\n        div.ipyplot-content-div-2LZYDAZAvsB8heRu5D62d2 {\n            width: 150px;\n            background: white;\n            display: inline-block;\n            vertical-align: top;\n            text-align: center;\n            position: relative;\n            border: 2px solid #ddd;\n            top: 0;\n            left: 0;\n        }\n\n        div.ipyplot-content-div-2LZYDAZAvsB8heRu5D62d2 span.ipyplot-img-close {\n            display: none;\n        }\n\n        div.ipyplot-content-div-2LZYDAZAvsB8heRu5D62d2 span {\n            width: 100%;\n            height: 100%;\n            position: absolute;\n            top: 0;\n            left: 0;\n        }\n\n        div.ipyplot-content-div-2LZYDAZAvsB8heRu5D62d2 img {\n            width: 150px;\n        }\n\n        div.ipyplot-content-div-2LZYDAZAvsB8heRu5D62d2 span.ipyplot-img-close:hover {\n            cursor: zoom-out;\n        }\n        div.ipyplot-content-div-2LZYDAZAvsB8heRu5D62d2 span.ipyplot-img-expand:hover {\n            cursor: zoom-in;\n        }\n\n        div[id^=ipyplot-content-div-2LZYDAZAvsB8heRu5D62d2]:target {\n            transform: scale(2.5);\n            transform-origin: left top;\n            z-index: 5000;\n            top: 0;\n            left: 0;\n            position: absolute;\n        }\n\n        div[id^=ipyplot-content-div-2LZYDAZAvsB8heRu5D62d2]:target span.ipyplot-img-close {\n            display: block;\n        }\n\n        div[id^=ipyplot-content-div-2LZYDAZAvsB8heRu5D62d2]:target span.ipyplot-img-expand {\n            display: none;\n        }\n        </style>\n    <div id=\"ipyplot-imgs-container-div-2LZYDAZAvsB8heRu5D62d2\">\n    <div class=\"ipyplot-placeholder-div-2LZYDAZAvsB8heRu5D62d2\">\n        <div id=\"ipyplot-content-div-2LZYDAZAvsB8heRu5D62d2-DsmyncguPUVcPSoyBfs8cZ\" class=\"ipyplot-content-div-2LZYDAZAvsB8heRu5D62d2\">\n            <h4 style=\"font-size: 12px; word-wrap: break-word;\">0</h4>\n            <h4 style=\"font-size: 9px; padding-left: 10px; padding-right: 10px; width: 95%; word-wrap: break-word; white-space: normal;\">https://pbs.twimg.com/ext_tw_video_thumb/1186432008060194816/pu/img/TLZWY2MOlZWz0dYV.jpg</h4><img src=\"https://pbs.twimg.com/ext_tw_video_thumb/1186432008060194816/pu/img/TLZWY2MOlZWz0dYV.jpg\"/>\n            <a href=\"#!\">\n                <span class=\"ipyplot-img-close\"/>\n            </a>\n            <a href=\"#ipyplot-content-div-2LZYDAZAvsB8heRu5D62d2-DsmyncguPUVcPSoyBfs8cZ\">\n                <span class=\"ipyplot-img-expand\"/>\n            </a>\n        </div>\n    </div>\n    \n    <div class=\"ipyplot-placeholder-div-2LZYDAZAvsB8heRu5D62d2\">\n        <div id=\"ipyplot-content-div-2LZYDAZAvsB8heRu5D62d2-8wRDMUpNspYHBgLWsDHrvk\" class=\"ipyplot-content-div-2LZYDAZAvsB8heRu5D62d2\">\n            <h4 style=\"font-size: 12px; word-wrap: break-word;\">1</h4>\n            <h4 style=\"font-size: 9px; padding-left: 10px; padding-right: 10px; width: 95%; word-wrap: break-word; white-space: normal;\">https://pbs.twimg.com/ext_tw_video_thumb/1054404013653942272/pu/img/pmfAvhsIyj84pqY6.jpg</h4><img src=\"https://pbs.twimg.com/ext_tw_video_thumb/1054404013653942272/pu/img/pmfAvhsIyj84pqY6.jpg\"/>\n            <a href=\"#!\">\n                <span class=\"ipyplot-img-close\"/>\n            </a>\n            <a href=\"#ipyplot-content-div-2LZYDAZAvsB8heRu5D62d2-8wRDMUpNspYHBgLWsDHrvk\">\n                <span class=\"ipyplot-img-expand\"/>\n            </a>\n        </div>\n    </div>\n    \n    <div class=\"ipyplot-placeholder-div-2LZYDAZAvsB8heRu5D62d2\">\n        <div id=\"ipyplot-content-div-2LZYDAZAvsB8heRu5D62d2-V6HenKCMsGgy5nfV9Br9W4\" class=\"ipyplot-content-div-2LZYDAZAvsB8heRu5D62d2\">\n            <h4 style=\"font-size: 12px; word-wrap: break-word;\">2</h4>\n            <h4 style=\"font-size: 9px; padding-left: 10px; padding-right: 10px; width: 95%; word-wrap: break-word; white-space: normal;\">https://pbs.twimg.com/media/EJRFrA2U0AA-Kt2.jpg</h4><img src=\"https://pbs.twimg.com/media/EJRFrA2U0AA-Kt2.jpg\"/>\n            <a href=\"#!\">\n                <span class=\"ipyplot-img-close\"/>\n            </a>\n            <a href=\"#ipyplot-content-div-2LZYDAZAvsB8heRu5D62d2-V6HenKCMsGgy5nfV9Br9W4\">\n                <span class=\"ipyplot-img-expand\"/>\n            </a>\n        </div>\n    </div>\n    \n    <div class=\"ipyplot-placeholder-div-2LZYDAZAvsB8heRu5D62d2\">\n        <div id=\"ipyplot-content-div-2LZYDAZAvsB8heRu5D62d2-UkxKQZeEzJYd6UihGrW3a4\" class=\"ipyplot-content-div-2LZYDAZAvsB8heRu5D62d2\">\n            <h4 style=\"font-size: 12px; word-wrap: break-word;\">3</h4>\n            <h4 style=\"font-size: 9px; padding-left: 10px; padding-right: 10px; width: 95%; word-wrap: break-word; white-space: normal;\">https://pbs.twimg.com/media/DhCmQKMU8AARv0_.jpg</h4><img src=\"https://pbs.twimg.com/media/DhCmQKMU8AARv0_.jpg\"/>\n            <a href=\"#!\">\n                <span class=\"ipyplot-img-close\"/>\n            </a>\n            <a href=\"#ipyplot-content-div-2LZYDAZAvsB8heRu5D62d2-UkxKQZeEzJYd6UihGrW3a4\">\n                <span class=\"ipyplot-img-expand\"/>\n            </a>\n        </div>\n    </div>\n    \n    <div class=\"ipyplot-placeholder-div-2LZYDAZAvsB8heRu5D62d2\">\n        <div id=\"ipyplot-content-div-2LZYDAZAvsB8heRu5D62d2-c9HJmqxRb8xAde6K2avT4t\" class=\"ipyplot-content-div-2LZYDAZAvsB8heRu5D62d2\">\n            <h4 style=\"font-size: 12px; word-wrap: break-word;\">4</h4>\n            <h4 style=\"font-size: 9px; padding-left: 10px; padding-right: 10px; width: 95%; word-wrap: break-word; white-space: normal;\">https://pbs.twimg.com/ext_tw_video_thumb/1189953627345084417/pu/img/UK9dkrofIXBLMcdg.jpg</h4><img src=\"https://pbs.twimg.com/ext_tw_video_thumb/1189953627345084417/pu/img/UK9dkrofIXBLMcdg.jpg\"/>\n            <a href=\"#!\">\n                <span class=\"ipyplot-img-close\"/>\n            </a>\n            <a href=\"#ipyplot-content-div-2LZYDAZAvsB8heRu5D62d2-c9HJmqxRb8xAde6K2avT4t\">\n                <span class=\"ipyplot-img-expand\"/>\n            </a>\n        </div>\n    </div>\n    \n    <div class=\"ipyplot-placeholder-div-2LZYDAZAvsB8heRu5D62d2\">\n        <div id=\"ipyplot-content-div-2LZYDAZAvsB8heRu5D62d2-fzo73xCDvT9ee6iy3CVYcQ\" class=\"ipyplot-content-div-2LZYDAZAvsB8heRu5D62d2\">\n            <h4 style=\"font-size: 12px; word-wrap: break-word;\">5</h4>\n            <h4 style=\"font-size: 9px; padding-left: 10px; padding-right: 10px; width: 95%; word-wrap: break-word; white-space: normal;\">https://pbs.twimg.com/ext_tw_video_thumb/1083092398669029376/pu/img/lXynkoHY-rgbGzhu.jpg</h4><img src=\"https://pbs.twimg.com/ext_tw_video_thumb/1083092398669029376/pu/img/lXynkoHY-rgbGzhu.jpg\"/>\n            <a href=\"#!\">\n                <span class=\"ipyplot-img-close\"/>\n            </a>\n            <a href=\"#ipyplot-content-div-2LZYDAZAvsB8heRu5D62d2-fzo73xCDvT9ee6iy3CVYcQ\">\n                <span class=\"ipyplot-img-expand\"/>\n            </a>\n        </div>\n    </div>\n    \n    <div class=\"ipyplot-placeholder-div-2LZYDAZAvsB8heRu5D62d2\">\n        <div id=\"ipyplot-content-div-2LZYDAZAvsB8heRu5D62d2-4TtZNR2BwTiPmVLEAwb5Hw\" class=\"ipyplot-content-div-2LZYDAZAvsB8heRu5D62d2\">\n            <h4 style=\"font-size: 12px; word-wrap: break-word;\">6</h4>\n            <h4 style=\"font-size: 9px; padding-left: 10px; padding-right: 10px; width: 95%; word-wrap: break-word; white-space: normal;\">https://pbs.twimg.com/ext_tw_video_thumb/1245045727140679680/pu/img/z9yPJ2vO092RwgWk.jpg</h4><img src=\"https://pbs.twimg.com/ext_tw_video_thumb/1245045727140679680/pu/img/z9yPJ2vO092RwgWk.jpg\"/>\n            <a href=\"#!\">\n                <span class=\"ipyplot-img-close\"/>\n            </a>\n            <a href=\"#ipyplot-content-div-2LZYDAZAvsB8heRu5D62d2-4TtZNR2BwTiPmVLEAwb5Hw\">\n                <span class=\"ipyplot-img-expand\"/>\n            </a>\n        </div>\n    </div>\n    \n    <div class=\"ipyplot-placeholder-div-2LZYDAZAvsB8heRu5D62d2\">\n        <div id=\"ipyplot-content-div-2LZYDAZAvsB8heRu5D62d2-4CGxbm298HagJKJPeJu49K\" class=\"ipyplot-content-div-2LZYDAZAvsB8heRu5D62d2\">\n            <h4 style=\"font-size: 12px; word-wrap: break-word;\">7</h4>\n            <h4 style=\"font-size: 9px; padding-left: 10px; padding-right: 10px; width: 95%; word-wrap: break-word; white-space: normal;\">https://pbs.twimg.com/ext_tw_video_thumb/1125193875260227584/pu/img/7pJgkcAmcgGwkyb3.jpg</h4><img src=\"https://pbs.twimg.com/ext_tw_video_thumb/1125193875260227584/pu/img/7pJgkcAmcgGwkyb3.jpg\"/>\n            <a href=\"#!\">\n                <span class=\"ipyplot-img-close\"/>\n            </a>\n            <a href=\"#ipyplot-content-div-2LZYDAZAvsB8heRu5D62d2-4CGxbm298HagJKJPeJu49K\">\n                <span class=\"ipyplot-img-expand\"/>\n            </a>\n        </div>\n    </div>\n    \n    <div class=\"ipyplot-placeholder-div-2LZYDAZAvsB8heRu5D62d2\">\n        <div id=\"ipyplot-content-div-2LZYDAZAvsB8heRu5D62d2-JcCqgUqqmPZTyEfRNjX3Fy\" class=\"ipyplot-content-div-2LZYDAZAvsB8heRu5D62d2\">\n            <h4 style=\"font-size: 12px; word-wrap: break-word;\">8</h4>\n            <h4 style=\"font-size: 9px; padding-left: 10px; padding-right: 10px; width: 95%; word-wrap: break-word; white-space: normal;\">https://pbs.twimg.com/ext_tw_video_thumb/1113473214280134656/pu/img/kEvIycg78Bd1R21l.jpg</h4><img src=\"https://pbs.twimg.com/ext_tw_video_thumb/1113473214280134656/pu/img/kEvIycg78Bd1R21l.jpg\"/>\n            <a href=\"#!\">\n                <span class=\"ipyplot-img-close\"/>\n            </a>\n            <a href=\"#ipyplot-content-div-2LZYDAZAvsB8heRu5D62d2-JcCqgUqqmPZTyEfRNjX3Fy\">\n                <span class=\"ipyplot-img-expand\"/>\n            </a>\n        </div>\n    </div>\n    \n    <div class=\"ipyplot-placeholder-div-2LZYDAZAvsB8heRu5D62d2\">\n        <div id=\"ipyplot-content-div-2LZYDAZAvsB8heRu5D62d2-VePkvtcqbBg6TTx52w8ywr\" class=\"ipyplot-content-div-2LZYDAZAvsB8heRu5D62d2\">\n            <h4 style=\"font-size: 12px; word-wrap: break-word;\">9</h4>\n            <h4 style=\"font-size: 9px; padding-left: 10px; padding-right: 10px; width: 95%; word-wrap: break-word; white-space: normal;\">https://pbs.twimg.com/media/DkrihlIWsAAacgr.jpg</h4><img src=\"https://pbs.twimg.com/media/DkrihlIWsAAacgr.jpg\"/>\n            <a href=\"#!\">\n                <span class=\"ipyplot-img-close\"/>\n            </a>\n            <a href=\"#ipyplot-content-div-2LZYDAZAvsB8heRu5D62d2-VePkvtcqbBg6TTx52w8ywr\">\n                <span class=\"ipyplot-img-expand\"/>\n            </a>\n        </div>\n    </div>\n    \n    <div class=\"ipyplot-placeholder-div-2LZYDAZAvsB8heRu5D62d2\">\n        <div id=\"ipyplot-content-div-2LZYDAZAvsB8heRu5D62d2-Kkkmef59ELyHvnE5VehRwr\" class=\"ipyplot-content-div-2LZYDAZAvsB8heRu5D62d2\">\n            <h4 style=\"font-size: 12px; word-wrap: break-word;\">10</h4>\n            <h4 style=\"font-size: 9px; padding-left: 10px; padding-right: 10px; width: 95%; word-wrap: break-word; white-space: normal;\">https://pbs.twimg.com/ext_tw_video_thumb/1032724980188897280/pu/img/jEHQqCiuFZApSLAC.jpg</h4><img src=\"https://pbs.twimg.com/ext_tw_video_thumb/1032724980188897280/pu/img/jEHQqCiuFZApSLAC.jpg\"/>\n            <a href=\"#!\">\n                <span class=\"ipyplot-img-close\"/>\n            </a>\n            <a href=\"#ipyplot-content-div-2LZYDAZAvsB8heRu5D62d2-Kkkmef59ELyHvnE5VehRwr\">\n                <span class=\"ipyplot-img-expand\"/>\n            </a>\n        </div>\n    </div>\n    \n    <div class=\"ipyplot-placeholder-div-2LZYDAZAvsB8heRu5D62d2\">\n        <div id=\"ipyplot-content-div-2LZYDAZAvsB8heRu5D62d2-DpfJh57oJRF5jghqy7h55C\" class=\"ipyplot-content-div-2LZYDAZAvsB8heRu5D62d2\">\n            <h4 style=\"font-size: 12px; word-wrap: break-word;\">11</h4>\n            <h4 style=\"font-size: 9px; padding-left: 10px; padding-right: 10px; width: 95%; word-wrap: break-word; white-space: normal;\">https://pbs.twimg.com/media/Edka7WaVAAAIKih.jpg</h4><img src=\"https://pbs.twimg.com/media/Edka7WaVAAAIKih.jpg\"/>\n            <a href=\"#!\">\n                <span class=\"ipyplot-img-close\"/>\n            </a>\n            <a href=\"#ipyplot-content-div-2LZYDAZAvsB8heRu5D62d2-DpfJh57oJRF5jghqy7h55C\">\n                <span class=\"ipyplot-img-expand\"/>\n            </a>\n        </div>\n    </div>\n    \n    <div class=\"ipyplot-placeholder-div-2LZYDAZAvsB8heRu5D62d2\">\n        <div id=\"ipyplot-content-div-2LZYDAZAvsB8heRu5D62d2-ZyTbMozJzobBr4qqY3oKj3\" class=\"ipyplot-content-div-2LZYDAZAvsB8heRu5D62d2\">\n            <h4 style=\"font-size: 12px; word-wrap: break-word;\">12</h4>\n            <h4 style=\"font-size: 9px; padding-left: 10px; padding-right: 10px; width: 95%; word-wrap: break-word; white-space: normal;\">https://pbs.twimg.com/ext_tw_video_thumb/1074723495664328705/pu/img/qkM6Jb5r-sq1z8SI.jpg</h4><img src=\"https://pbs.twimg.com/ext_tw_video_thumb/1074723495664328705/pu/img/qkM6Jb5r-sq1z8SI.jpg\"/>\n            <a href=\"#!\">\n                <span class=\"ipyplot-img-close\"/>\n            </a>\n            <a href=\"#ipyplot-content-div-2LZYDAZAvsB8heRu5D62d2-ZyTbMozJzobBr4qqY3oKj3\">\n                <span class=\"ipyplot-img-expand\"/>\n            </a>\n        </div>\n    </div>\n    \n    <div class=\"ipyplot-placeholder-div-2LZYDAZAvsB8heRu5D62d2\">\n        <div id=\"ipyplot-content-div-2LZYDAZAvsB8heRu5D62d2-irYr8KqvLtWWjHkfrGYNSq\" class=\"ipyplot-content-div-2LZYDAZAvsB8heRu5D62d2\">\n            <h4 style=\"font-size: 12px; word-wrap: break-word;\">13</h4>\n            <h4 style=\"font-size: 9px; padding-left: 10px; padding-right: 10px; width: 95%; word-wrap: break-word; white-space: normal;\">https://pbs.twimg.com/ext_tw_video_thumb/1111059087645724673/pu/img/wu3NwWZGM5PXwMmZ.jpg</h4><img src=\"https://pbs.twimg.com/ext_tw_video_thumb/1111059087645724673/pu/img/wu3NwWZGM5PXwMmZ.jpg\"/>\n            <a href=\"#!\">\n                <span class=\"ipyplot-img-close\"/>\n            </a>\n            <a href=\"#ipyplot-content-div-2LZYDAZAvsB8heRu5D62d2-irYr8KqvLtWWjHkfrGYNSq\">\n                <span class=\"ipyplot-img-expand\"/>\n            </a>\n        </div>\n    </div>\n    \n    <div class=\"ipyplot-placeholder-div-2LZYDAZAvsB8heRu5D62d2\">\n        <div id=\"ipyplot-content-div-2LZYDAZAvsB8heRu5D62d2-TbM2ZyjNB4teVmWRdreVNh\" class=\"ipyplot-content-div-2LZYDAZAvsB8heRu5D62d2\">\n            <h4 style=\"font-size: 12px; word-wrap: break-word;\">14</h4>\n            <h4 style=\"font-size: 9px; padding-left: 10px; padding-right: 10px; width: 95%; word-wrap: break-word; white-space: normal;\">https://pbs.twimg.com/ext_tw_video_thumb/1108166186557034496/pu/img/BsRfFq5qoN39Mtnx.jpg</h4><img src=\"https://pbs.twimg.com/ext_tw_video_thumb/1108166186557034496/pu/img/BsRfFq5qoN39Mtnx.jpg\"/>\n            <a href=\"#!\">\n                <span class=\"ipyplot-img-close\"/>\n            </a>\n            <a href=\"#ipyplot-content-div-2LZYDAZAvsB8heRu5D62d2-TbM2ZyjNB4teVmWRdreVNh\">\n                <span class=\"ipyplot-img-expand\"/>\n            </a>\n        </div>\n    </div>\n    \n    <div class=\"ipyplot-placeholder-div-2LZYDAZAvsB8heRu5D62d2\">\n        <div id=\"ipyplot-content-div-2LZYDAZAvsB8heRu5D62d2-BLtU28RmzbvUnfaKdAMs7J\" class=\"ipyplot-content-div-2LZYDAZAvsB8heRu5D62d2\">\n            <h4 style=\"font-size: 12px; word-wrap: break-word;\">15</h4>\n            <h4 style=\"font-size: 9px; padding-left: 10px; padding-right: 10px; width: 95%; word-wrap: break-word; white-space: normal;\">https://pbs.twimg.com/media/D18_YgHUYAIMOlj.jpg</h4><img src=\"https://pbs.twimg.com/media/D18_YgHUYAIMOlj.jpg\"/>\n            <a href=\"#!\">\n                <span class=\"ipyplot-img-close\"/>\n            </a>\n            <a href=\"#ipyplot-content-div-2LZYDAZAvsB8heRu5D62d2-BLtU28RmzbvUnfaKdAMs7J\">\n                <span class=\"ipyplot-img-expand\"/>\n            </a>\n        </div>\n    </div>\n    \n    <div class=\"ipyplot-placeholder-div-2LZYDAZAvsB8heRu5D62d2\">\n        <div id=\"ipyplot-content-div-2LZYDAZAvsB8heRu5D62d2-Jca4WCbzefgretmNBnub5N\" class=\"ipyplot-content-div-2LZYDAZAvsB8heRu5D62d2\">\n            <h4 style=\"font-size: 12px; word-wrap: break-word;\">16</h4>\n            <h4 style=\"font-size: 9px; padding-left: 10px; padding-right: 10px; width: 95%; word-wrap: break-word; white-space: normal;\">https://pbs.twimg.com/media/DdRwSmzV0AE1Yey.jpg</h4><img src=\"https://pbs.twimg.com/media/DdRwSmzV0AE1Yey.jpg\"/>\n            <a href=\"#!\">\n                <span class=\"ipyplot-img-close\"/>\n            </a>\n            <a href=\"#ipyplot-content-div-2LZYDAZAvsB8heRu5D62d2-Jca4WCbzefgretmNBnub5N\">\n                <span class=\"ipyplot-img-expand\"/>\n            </a>\n        </div>\n    </div>\n    \n    <div class=\"ipyplot-placeholder-div-2LZYDAZAvsB8heRu5D62d2\">\n        <div id=\"ipyplot-content-div-2LZYDAZAvsB8heRu5D62d2-D9oNRyB5C9D7RCfCMFe3Qj\" class=\"ipyplot-content-div-2LZYDAZAvsB8heRu5D62d2\">\n            <h4 style=\"font-size: 12px; word-wrap: break-word;\">17</h4>\n            <h4 style=\"font-size: 9px; padding-left: 10px; padding-right: 10px; width: 95%; word-wrap: break-word; white-space: normal;\">https://pbs.twimg.com/media/Ebia6CvUMAIbrCy.jpg</h4><img src=\"https://pbs.twimg.com/media/Ebia6CvUMAIbrCy.jpg\"/>\n            <a href=\"#!\">\n                <span class=\"ipyplot-img-close\"/>\n            </a>\n            <a href=\"#ipyplot-content-div-2LZYDAZAvsB8heRu5D62d2-D9oNRyB5C9D7RCfCMFe3Qj\">\n                <span class=\"ipyplot-img-expand\"/>\n            </a>\n        </div>\n    </div>\n    </div>",
      "text/plain": "<IPython.core.display.HTML object>"
     },
     "metadata": {},
     "output_type": "display_data"
    }
   ],
   "source": [
    "import ipyplot\r\n",
    "df_highest_rated = df_tweets_enhanced.sort_values(by=['likes_count'], ascending=False)\r\n",
    "top_liked_images = df_highest_rated[:18]['thumbnail'].to_numpy()\r\n",
    "ipyplot.plot_images(top_liked_images, max_images=20, img_width=150)"
   ]
  },
  {
   "cell_type": "code",
   "execution_count": 136,
   "metadata": {},
   "outputs": [
    {
     "data": {
      "text/html": "<div>\n<style scoped>\n    .dataframe tbody tr th:only-of-type {\n        vertical-align: middle;\n    }\n\n    .dataframe tbody tr th {\n        vertical-align: top;\n    }\n\n    .dataframe thead th {\n        text-align: right;\n    }\n</style>\n<table border=\"1\" class=\"dataframe\">\n  <thead>\n    <tr style=\"text-align: right;\">\n      <th></th>\n      <th>id</th>\n      <th>video</th>\n      <th>photos</th>\n      <th>thumbnail</th>\n      <th>tweet</th>\n      <th>replies_count</th>\n      <th>retweets_count</th>\n      <th>likes_count</th>\n      <th>datetime</th>\n      <th>dog_name</th>\n      <th>rating_numerator</th>\n      <th>rating_denominator</th>\n      <th>dog_stage</th>\n      <th>breed_prediction</th>\n      <th>photo_count</th>\n      <th>photo_exists</th>\n    </tr>\n  </thead>\n  <tbody>\n    <tr>\n      <th>394</th>\n      <td>1186432040394055685</td>\n      <td>1</td>\n      <td>[]</td>\n      <td>https://pbs.twimg.com/ext_tw_video_thumb/11864...</td>\n      <td>This is Willo. She likes to awoo while she eat...</td>\n      <td>7233</td>\n      <td>165679</td>\n      <td>693747</td>\n      <td>2019-10-22 03:00:15-03:00</td>\n      <td>Willo</td>\n      <td>13</td>\n      <td>10</td>\n      <td>NaN</td>\n      <td>NaN</td>\n      <td>0</td>\n      <td>False</td>\n    </tr>\n    <tr>\n      <th>723</th>\n      <td>1054404072164548611</td>\n      <td>1</td>\n      <td>[]</td>\n      <td>https://pbs.twimg.com/ext_tw_video_thumb/10544...</td>\n      <td>This is Riley. Every morning he hangs over the...</td>\n      <td>4049</td>\n      <td>156830</td>\n      <td>637945</td>\n      <td>2018-10-22 19:08:15-03:00</td>\n      <td>Riley</td>\n      <td>14</td>\n      <td>10</td>\n      <td>NaN</td>\n      <td>NaN</td>\n      <td>0</td>\n      <td>False</td>\n    </tr>\n    <tr>\n      <th>377</th>\n      <td>1194656412929908736</td>\n      <td>1</td>\n      <td>[https://pbs.twimg.com/media/EJRFrA2U0AA-Kt2.j...</td>\n      <td>https://pbs.twimg.com/media/EJRFrA2U0AA-Kt2.jpg</td>\n      <td>This is Narwhal. He was born with an extra tai...</td>\n      <td>6297</td>\n      <td>123113</td>\n      <td>590147</td>\n      <td>2019-11-13 19:40:59-03:00</td>\n      <td>Narwhal</td>\n      <td>14</td>\n      <td>10</td>\n      <td>NaN</td>\n      <td>Chihuahua</td>\n      <td>4</td>\n      <td>True</td>\n    </tr>\n    <tr>\n      <th>844</th>\n      <td>1013492719463817216</td>\n      <td>1</td>\n      <td>[https://pbs.twimg.com/media/DhCmQKMU8AARv0_.j...</td>\n      <td>https://pbs.twimg.com/media/DhCmQKMU8AARv0_.jpg</td>\n      <td>This is Todd. He saved his human from a rattle...</td>\n      <td>4601</td>\n      <td>115880</td>\n      <td>574167</td>\n      <td>2018-07-01 21:41:08-03:00</td>\n      <td>Todd</td>\n      <td>15</td>\n      <td>10</td>\n      <td>NaN</td>\n      <td>golden_retriever</td>\n      <td>2</td>\n      <td>True</td>\n    </tr>\n    <tr>\n      <th>388</th>\n      <td>1189953715349815296</td>\n      <td>1</td>\n      <td>[]</td>\n      <td>https://pbs.twimg.com/ext_tw_video_thumb/11899...</td>\n      <td>This is Benjamin. He is Froot Loops. 14/10  ht...</td>\n      <td>2561</td>\n      <td>101059</td>\n      <td>525027</td>\n      <td>2019-10-31 20:14:08-03:00</td>\n      <td>Benjamin</td>\n      <td>14</td>\n      <td>10</td>\n      <td>NaN</td>\n      <td>NaN</td>\n      <td>0</td>\n      <td>False</td>\n    </tr>\n  </tbody>\n</table>\n</div>",
      "text/plain": "                      id  video  \\\n394  1186432040394055685      1   \n723  1054404072164548611      1   \n377  1194656412929908736      1   \n844  1013492719463817216      1   \n388  1189953715349815296      1   \n\n                                                photos  \\\n394                                                 []   \n723                                                 []   \n377  [https://pbs.twimg.com/media/EJRFrA2U0AA-Kt2.j...   \n844  [https://pbs.twimg.com/media/DhCmQKMU8AARv0_.j...   \n388                                                 []   \n\n                                             thumbnail  \\\n394  https://pbs.twimg.com/ext_tw_video_thumb/11864...   \n723  https://pbs.twimg.com/ext_tw_video_thumb/10544...   \n377    https://pbs.twimg.com/media/EJRFrA2U0AA-Kt2.jpg   \n844    https://pbs.twimg.com/media/DhCmQKMU8AARv0_.jpg   \n388  https://pbs.twimg.com/ext_tw_video_thumb/11899...   \n\n                                                 tweet  replies_count  \\\n394  This is Willo. She likes to awoo while she eat...           7233   \n723  This is Riley. Every morning he hangs over the...           4049   \n377  This is Narwhal. He was born with an extra tai...           6297   \n844  This is Todd. He saved his human from a rattle...           4601   \n388  This is Benjamin. He is Froot Loops. 14/10  ht...           2561   \n\n     retweets_count  likes_count                  datetime  dog_name  \\\n394          165679       693747 2019-10-22 03:00:15-03:00     Willo   \n723          156830       637945 2018-10-22 19:08:15-03:00     Riley   \n377          123113       590147 2019-11-13 19:40:59-03:00   Narwhal   \n844          115880       574167 2018-07-01 21:41:08-03:00      Todd   \n388          101059       525027 2019-10-31 20:14:08-03:00  Benjamin   \n\n     rating_numerator rating_denominator dog_stage  breed_prediction  \\\n394                13                 10       NaN               NaN   \n723                14                 10       NaN               NaN   \n377                14                 10       NaN         Chihuahua   \n844                15                 10       NaN  golden_retriever   \n388                14                 10       NaN               NaN   \n\n     photo_count  photo_exists  \n394            0         False  \n723            0         False  \n377            4          True  \n844            2          True  \n388            0         False  "
     },
     "execution_count": 136,
     "metadata": {},
     "output_type": "execute_result"
    }
   ],
   "source": [
    "df_highest_rated.head()"
   ]
  },
  {
   "cell_type": "code",
   "execution_count": 137,
   "metadata": {},
   "outputs": [
    {
     "data": {
      "text/html": "\n    <style>\n        #ipyplot-html-viewer-toggle-SNF5R9bU6mo8Zu2uAUjCnQ {\n            position: absolute;\n            top: -9999px;\n            left: -9999px;\n            visibility: hidden;\n        }\n\n        #ipyplot-html-viewer-label-SNF5R9bU6mo8Zu2uAUjCnQ { \n            position: relative;\n            display: inline-block;\n            cursor: pointer;\n            color: blue;\n            text-decoration: underline;\n        }\n\n        #ipyplot-html-viewer-textarea-SNF5R9bU6mo8Zu2uAUjCnQ {\n            background: lightgrey;\n            width: 100%;\n            height: 0px;\n            display: none;\n        }\n\n        #ipyplot-html-viewer-toggle-SNF5R9bU6mo8Zu2uAUjCnQ:checked ~ #ipyplot-html-viewer-textarea-SNF5R9bU6mo8Zu2uAUjCnQ {\n            height: 200px;\n            display: block;\n        }\n\n        #ipyplot-html-viewer-toggle-SNF5R9bU6mo8Zu2uAUjCnQ:checked + #ipyplot-html-viewer-label-SNF5R9bU6mo8Zu2uAUjCnQ:after {\n            content: \"hide html\";\n            position: absolute;\n            top: 0;\n            left: 0;\n            right: 0;\n            bottom: 0;\n            background: white;\n            cursor: pointer;\n            color: blue;\n            text-decoration: underline;\n        }\n    </style>\n    <div>\n        <input type=\"checkbox\" id=\"ipyplot-html-viewer-toggle-SNF5R9bU6mo8Zu2uAUjCnQ\">\n        <label id=\"ipyplot-html-viewer-label-SNF5R9bU6mo8Zu2uAUjCnQ\" for=\"ipyplot-html-viewer-toggle-SNF5R9bU6mo8Zu2uAUjCnQ\">show html</label>\n        <textarea id=\"ipyplot-html-viewer-textarea-SNF5R9bU6mo8Zu2uAUjCnQ\" readonly>\n            \n        <style>\n        #ipyplot-imgs-container-div-HG5Lo42J26FMnHJ8DdxU6D {\n            width: 100%;\n            height: 100%;\n            margin: 0%;\n            overflow: auto;\n            position: relative;\n            overflow-y: scroll;\n        }\n\n        div.ipyplot-placeholder-div-HG5Lo42J26FMnHJ8DdxU6D {\n            width: 150px;\n            display: inline-block;\n            margin: 3px;\n            position: relative;\n        }\n\n        div.ipyplot-content-div-HG5Lo42J26FMnHJ8DdxU6D {\n            width: 150px;\n            background: white;\n            display: inline-block;\n            vertical-align: top;\n            text-align: center;\n            position: relative;\n            border: 2px solid #ddd;\n            top: 0;\n            left: 0;\n        }\n\n        div.ipyplot-content-div-HG5Lo42J26FMnHJ8DdxU6D span.ipyplot-img-close {\n            display: none;\n        }\n\n        div.ipyplot-content-div-HG5Lo42J26FMnHJ8DdxU6D span {\n            width: 100%;\n            height: 100%;\n            position: absolute;\n            top: 0;\n            left: 0;\n        }\n\n        div.ipyplot-content-div-HG5Lo42J26FMnHJ8DdxU6D img {\n            width: 150px;\n        }\n\n        div.ipyplot-content-div-HG5Lo42J26FMnHJ8DdxU6D span.ipyplot-img-close:hover {\n            cursor: zoom-out;\n        }\n        div.ipyplot-content-div-HG5Lo42J26FMnHJ8DdxU6D span.ipyplot-img-expand:hover {\n            cursor: zoom-in;\n        }\n\n        div[id^=ipyplot-content-div-HG5Lo42J26FMnHJ8DdxU6D]:target {\n            transform: scale(2.5);\n            transform-origin: left top;\n            z-index: 5000;\n            top: 0;\n            left: 0;\n            position: absolute;\n        }\n\n        div[id^=ipyplot-content-div-HG5Lo42J26FMnHJ8DdxU6D]:target span.ipyplot-img-close {\n            display: block;\n        }\n\n        div[id^=ipyplot-content-div-HG5Lo42J26FMnHJ8DdxU6D]:target span.ipyplot-img-expand {\n            display: none;\n        }\n        </style>\n    <div id=\"ipyplot-imgs-container-div-HG5Lo42J26FMnHJ8DdxU6D\">\n    <div class=\"ipyplot-placeholder-div-HG5Lo42J26FMnHJ8DdxU6D\">\n        <div id=\"ipyplot-content-div-HG5Lo42J26FMnHJ8DdxU6D-eGrJpMpBJPexfcypsX58Qo\" class=\"ipyplot-content-div-HG5Lo42J26FMnHJ8DdxU6D\">\n            <h4 style=\"font-size: 12px; word-wrap: break-word;\">0</h4>\n            <h4 style=\"font-size: 9px; padding-left: 10px; padding-right: 10px; width: 95%; word-wrap: break-word; white-space: normal;\">https://pbs.twimg.com/media/EJRFrA2U0AA-Kt2.jpg</h4><img src=\"https://pbs.twimg.com/media/EJRFrA2U0AA-Kt2.jpg\"/>\n            <a href=\"#!\">\n                <span class=\"ipyplot-img-close\"/>\n            </a>\n            <a href=\"#ipyplot-content-div-HG5Lo42J26FMnHJ8DdxU6D-eGrJpMpBJPexfcypsX58Qo\">\n                <span class=\"ipyplot-img-expand\"/>\n            </a>\n        </div>\n    </div>\n    \n    <div class=\"ipyplot-placeholder-div-HG5Lo42J26FMnHJ8DdxU6D\">\n        <div id=\"ipyplot-content-div-HG5Lo42J26FMnHJ8DdxU6D-CpVru8GHnoU95nBBLgQNqp\" class=\"ipyplot-content-div-HG5Lo42J26FMnHJ8DdxU6D\">\n            <h4 style=\"font-size: 12px; word-wrap: break-word;\">1</h4>\n            <h4 style=\"font-size: 9px; padding-left: 10px; padding-right: 10px; width: 95%; word-wrap: break-word; white-space: normal;\">https://pbs.twimg.com/media/DhCmQKMU8AARv0_.jpg</h4><img src=\"https://pbs.twimg.com/media/DhCmQKMU8AARv0_.jpg\"/>\n            <a href=\"#!\">\n                <span class=\"ipyplot-img-close\"/>\n            </a>\n            <a href=\"#ipyplot-content-div-HG5Lo42J26FMnHJ8DdxU6D-CpVru8GHnoU95nBBLgQNqp\">\n                <span class=\"ipyplot-img-expand\"/>\n            </a>\n        </div>\n    </div>\n    \n    <div class=\"ipyplot-placeholder-div-HG5Lo42J26FMnHJ8DdxU6D\">\n        <div id=\"ipyplot-content-div-HG5Lo42J26FMnHJ8DdxU6D-B7fy3inCT2U2hdEMM4fwzL\" class=\"ipyplot-content-div-HG5Lo42J26FMnHJ8DdxU6D\">\n            <h4 style=\"font-size: 12px; word-wrap: break-word;\">2</h4>\n            <h4 style=\"font-size: 9px; padding-left: 10px; padding-right: 10px; width: 95%; word-wrap: break-word; white-space: normal;\">https://pbs.twimg.com/media/DkrihlIWsAAacgr.jpg</h4><img src=\"https://pbs.twimg.com/media/DkrihlIWsAAacgr.jpg\"/>\n            <a href=\"#!\">\n                <span class=\"ipyplot-img-close\"/>\n            </a>\n            <a href=\"#ipyplot-content-div-HG5Lo42J26FMnHJ8DdxU6D-B7fy3inCT2U2hdEMM4fwzL\">\n                <span class=\"ipyplot-img-expand\"/>\n            </a>\n        </div>\n    </div>\n    \n    <div class=\"ipyplot-placeholder-div-HG5Lo42J26FMnHJ8DdxU6D\">\n        <div id=\"ipyplot-content-div-HG5Lo42J26FMnHJ8DdxU6D-8ivoCQRWi9uvQhWL4zNwyh\" class=\"ipyplot-content-div-HG5Lo42J26FMnHJ8DdxU6D\">\n            <h4 style=\"font-size: 12px; word-wrap: break-word;\">3</h4>\n            <h4 style=\"font-size: 9px; padding-left: 10px; padding-right: 10px; width: 95%; word-wrap: break-word; white-space: normal;\">https://pbs.twimg.com/media/DWG0vxhUMAALUMe.jpg</h4><img src=\"https://pbs.twimg.com/media/DWG0vxhUMAALUMe.jpg\"/>\n            <a href=\"#!\">\n                <span class=\"ipyplot-img-close\"/>\n            </a>\n            <a href=\"#ipyplot-content-div-HG5Lo42J26FMnHJ8DdxU6D-8ivoCQRWi9uvQhWL4zNwyh\">\n                <span class=\"ipyplot-img-expand\"/>\n            </a>\n        </div>\n    </div>\n    \n    <div class=\"ipyplot-placeholder-div-HG5Lo42J26FMnHJ8DdxU6D\">\n        <div id=\"ipyplot-content-div-HG5Lo42J26FMnHJ8DdxU6D-NbAuEZ9dpnmNZ6Xp2jqAdu\" class=\"ipyplot-content-div-HG5Lo42J26FMnHJ8DdxU6D\">\n            <h4 style=\"font-size: 12px; word-wrap: break-word;\">4</h4>\n            <h4 style=\"font-size: 9px; padding-left: 10px; padding-right: 10px; width: 95%; word-wrap: break-word; white-space: normal;\">https://pbs.twimg.com/media/D18_YgHUYAIMOlj.jpg</h4><img src=\"https://pbs.twimg.com/media/D18_YgHUYAIMOlj.jpg\"/>\n            <a href=\"#!\">\n                <span class=\"ipyplot-img-close\"/>\n            </a>\n            <a href=\"#ipyplot-content-div-HG5Lo42J26FMnHJ8DdxU6D-NbAuEZ9dpnmNZ6Xp2jqAdu\">\n                <span class=\"ipyplot-img-expand\"/>\n            </a>\n        </div>\n    </div>\n    \n    <div class=\"ipyplot-placeholder-div-HG5Lo42J26FMnHJ8DdxU6D\">\n        <div id=\"ipyplot-content-div-HG5Lo42J26FMnHJ8DdxU6D-YJ6STMJ53wua9FAsjwzRPh\" class=\"ipyplot-content-div-HG5Lo42J26FMnHJ8DdxU6D\">\n            <h4 style=\"font-size: 12px; word-wrap: break-word;\">5</h4>\n            <h4 style=\"font-size: 9px; padding-left: 10px; padding-right: 10px; width: 95%; word-wrap: break-word; white-space: normal;\">https://pbs.twimg.com/media/DdRwSmzV0AE1Yey.jpg</h4><img src=\"https://pbs.twimg.com/media/DdRwSmzV0AE1Yey.jpg\"/>\n            <a href=\"#!\">\n                <span class=\"ipyplot-img-close\"/>\n            </a>\n            <a href=\"#ipyplot-content-div-HG5Lo42J26FMnHJ8DdxU6D-YJ6STMJ53wua9FAsjwzRPh\">\n                <span class=\"ipyplot-img-expand\"/>\n            </a>\n        </div>\n    </div>\n    \n    <div class=\"ipyplot-placeholder-div-HG5Lo42J26FMnHJ8DdxU6D\">\n        <div id=\"ipyplot-content-div-HG5Lo42J26FMnHJ8DdxU6D-Qv6BYJEBFssEdDDUT9qHy2\" class=\"ipyplot-content-div-HG5Lo42J26FMnHJ8DdxU6D\">\n            <h4 style=\"font-size: 12px; word-wrap: break-word;\">6</h4>\n            <h4 style=\"font-size: 9px; padding-left: 10px; padding-right: 10px; width: 95%; word-wrap: break-word; white-space: normal;\">https://pbs.twimg.com/media/DhYVDluXkAASN1k.jpg</h4><img src=\"https://pbs.twimg.com/media/DhYVDluXkAASN1k.jpg\"/>\n            <a href=\"#!\">\n                <span class=\"ipyplot-img-close\"/>\n            </a>\n            <a href=\"#ipyplot-content-div-HG5Lo42J26FMnHJ8DdxU6D-Qv6BYJEBFssEdDDUT9qHy2\">\n                <span class=\"ipyplot-img-expand\"/>\n            </a>\n        </div>\n    </div>\n    \n    <div class=\"ipyplot-placeholder-div-HG5Lo42J26FMnHJ8DdxU6D\">\n        <div id=\"ipyplot-content-div-HG5Lo42J26FMnHJ8DdxU6D-QLNkJafTcJ2WihQU9nnwPt\" class=\"ipyplot-content-div-HG5Lo42J26FMnHJ8DdxU6D\">\n            <h4 style=\"font-size: 12px; word-wrap: break-word;\">7</h4>\n            <h4 style=\"font-size: 9px; padding-left: 10px; padding-right: 10px; width: 95%; word-wrap: break-word; white-space: normal;\">https://pbs.twimg.com/media/DOJyCCMVQAANLOy.jpg</h4><img src=\"https://pbs.twimg.com/media/DOJyCCMVQAANLOy.jpg\"/>\n            <a href=\"#!\">\n                <span class=\"ipyplot-img-close\"/>\n            </a>\n            <a href=\"#ipyplot-content-div-HG5Lo42J26FMnHJ8DdxU6D-QLNkJafTcJ2WihQU9nnwPt\">\n                <span class=\"ipyplot-img-expand\"/>\n            </a>\n        </div>\n    </div>\n    \n    <div class=\"ipyplot-placeholder-div-HG5Lo42J26FMnHJ8DdxU6D\">\n        <div id=\"ipyplot-content-div-HG5Lo42J26FMnHJ8DdxU6D-HvYyZ3anvnjdd4quRXQqXq\" class=\"ipyplot-content-div-HG5Lo42J26FMnHJ8DdxU6D\">\n            <h4 style=\"font-size: 12px; word-wrap: break-word;\">8</h4>\n            <h4 style=\"font-size: 9px; padding-left: 10px; padding-right: 10px; width: 95%; word-wrap: break-word; white-space: normal;\">https://pbs.twimg.com/media/Ebia6CvUMAIbrCy.jpg</h4><img src=\"https://pbs.twimg.com/media/Ebia6CvUMAIbrCy.jpg\"/>\n            <a href=\"#!\">\n                <span class=\"ipyplot-img-close\"/>\n            </a>\n            <a href=\"#ipyplot-content-div-HG5Lo42J26FMnHJ8DdxU6D-HvYyZ3anvnjdd4quRXQqXq\">\n                <span class=\"ipyplot-img-expand\"/>\n            </a>\n        </div>\n    </div>\n    \n    <div class=\"ipyplot-placeholder-div-HG5Lo42J26FMnHJ8DdxU6D\">\n        <div id=\"ipyplot-content-div-HG5Lo42J26FMnHJ8DdxU6D-NhWxgg3whoPP7BrFBzpLSD\" class=\"ipyplot-content-div-HG5Lo42J26FMnHJ8DdxU6D\">\n            <h4 style=\"font-size: 12px; word-wrap: break-word;\">9</h4>\n            <h4 style=\"font-size: 9px; padding-left: 10px; padding-right: 10px; width: 95%; word-wrap: break-word; white-space: normal;\">https://pbs.twimg.com/media/EMkTSHDWoAAK-4R.jpg</h4><img src=\"https://pbs.twimg.com/media/EMkTSHDWoAAK-4R.jpg\"/>\n            <a href=\"#!\">\n                <span class=\"ipyplot-img-close\"/>\n            </a>\n            <a href=\"#ipyplot-content-div-HG5Lo42J26FMnHJ8DdxU6D-NhWxgg3whoPP7BrFBzpLSD\">\n                <span class=\"ipyplot-img-expand\"/>\n            </a>\n        </div>\n    </div>\n    \n    <div class=\"ipyplot-placeholder-div-HG5Lo42J26FMnHJ8DdxU6D\">\n        <div id=\"ipyplot-content-div-HG5Lo42J26FMnHJ8DdxU6D-RdwMXiEisYUv5WuFf94CtG\" class=\"ipyplot-content-div-HG5Lo42J26FMnHJ8DdxU6D\">\n            <h4 style=\"font-size: 12px; word-wrap: break-word;\">10</h4>\n            <h4 style=\"font-size: 9px; padding-left: 10px; padding-right: 10px; width: 95%; word-wrap: break-word; white-space: normal;\">https://pbs.twimg.com/media/DMHaM0IW4AA6QQR.jpg</h4><img src=\"https://pbs.twimg.com/media/DMHaM0IW4AA6QQR.jpg\"/>\n            <a href=\"#!\">\n                <span class=\"ipyplot-img-close\"/>\n            </a>\n            <a href=\"#ipyplot-content-div-HG5Lo42J26FMnHJ8DdxU6D-RdwMXiEisYUv5WuFf94CtG\">\n                <span class=\"ipyplot-img-expand\"/>\n            </a>\n        </div>\n    </div>\n    \n    <div class=\"ipyplot-placeholder-div-HG5Lo42J26FMnHJ8DdxU6D\">\n        <div id=\"ipyplot-content-div-HG5Lo42J26FMnHJ8DdxU6D-8CBxLkfQTmoR42AU3kWHkX\" class=\"ipyplot-content-div-HG5Lo42J26FMnHJ8DdxU6D\">\n            <h4 style=\"font-size: 12px; word-wrap: break-word;\">11</h4>\n            <h4 style=\"font-size: 9px; padding-left: 10px; padding-right: 10px; width: 95%; word-wrap: break-word; white-space: normal;\">https://pbs.twimg.com/media/DxsrvJgV4AAupcQ.jpg</h4><img src=\"https://pbs.twimg.com/media/DxsrvJgV4AAupcQ.jpg\"/>\n            <a href=\"#!\">\n                <span class=\"ipyplot-img-close\"/>\n            </a>\n            <a href=\"#ipyplot-content-div-HG5Lo42J26FMnHJ8DdxU6D-8CBxLkfQTmoR42AU3kWHkX\">\n                <span class=\"ipyplot-img-expand\"/>\n            </a>\n        </div>\n    </div>\n    \n    <div class=\"ipyplot-placeholder-div-HG5Lo42J26FMnHJ8DdxU6D\">\n        <div id=\"ipyplot-content-div-HG5Lo42J26FMnHJ8DdxU6D-JN49mMFeXnBGuBiAb8byUB\" class=\"ipyplot-content-div-HG5Lo42J26FMnHJ8DdxU6D\">\n            <h4 style=\"font-size: 12px; word-wrap: break-word;\">12</h4>\n            <h4 style=\"font-size: 9px; padding-left: 10px; padding-right: 10px; width: 95%; word-wrap: break-word; white-space: normal;\">https://pbs.twimg.com/media/D92VAiXUcAAfc-Q.jpg</h4><img src=\"https://pbs.twimg.com/media/D92VAiXUcAAfc-Q.jpg\"/>\n            <a href=\"#!\">\n                <span class=\"ipyplot-img-close\"/>\n            </a>\n            <a href=\"#ipyplot-content-div-HG5Lo42J26FMnHJ8DdxU6D-JN49mMFeXnBGuBiAb8byUB\">\n                <span class=\"ipyplot-img-expand\"/>\n            </a>\n        </div>\n    </div>\n    \n    <div class=\"ipyplot-placeholder-div-HG5Lo42J26FMnHJ8DdxU6D\">\n        <div id=\"ipyplot-content-div-HG5Lo42J26FMnHJ8DdxU6D-3Azi5CdL7FD2iWFiRh8xVJ\" class=\"ipyplot-content-div-HG5Lo42J26FMnHJ8DdxU6D\">\n            <h4 style=\"font-size: 12px; word-wrap: break-word;\">13</h4>\n            <h4 style=\"font-size: 9px; padding-left: 10px; padding-right: 10px; width: 95%; word-wrap: break-word; white-space: normal;\">https://pbs.twimg.com/media/DqoympmUUAA6k7D.jpg</h4><img src=\"https://pbs.twimg.com/media/DqoympmUUAA6k7D.jpg\"/>\n            <a href=\"#!\">\n                <span class=\"ipyplot-img-close\"/>\n            </a>\n            <a href=\"#ipyplot-content-div-HG5Lo42J26FMnHJ8DdxU6D-3Azi5CdL7FD2iWFiRh8xVJ\">\n                <span class=\"ipyplot-img-expand\"/>\n            </a>\n        </div>\n    </div>\n    \n    <div class=\"ipyplot-placeholder-div-HG5Lo42J26FMnHJ8DdxU6D\">\n        <div id=\"ipyplot-content-div-HG5Lo42J26FMnHJ8DdxU6D-R8HfxCa3CtgtFAWncePujA\" class=\"ipyplot-content-div-HG5Lo42J26FMnHJ8DdxU6D\">\n            <h4 style=\"font-size: 12px; word-wrap: break-word;\">14</h4>\n            <h4 style=\"font-size: 9px; padding-left: 10px; padding-right: 10px; width: 95%; word-wrap: break-word; white-space: normal;\">https://pbs.twimg.com/media/C2tugXLXgAArJO4.jpg</h4><img src=\"https://pbs.twimg.com/media/C2tugXLXgAArJO4.jpg\"/>\n            <a href=\"#!\">\n                <span class=\"ipyplot-img-close\"/>\n            </a>\n            <a href=\"#ipyplot-content-div-HG5Lo42J26FMnHJ8DdxU6D-R8HfxCa3CtgtFAWncePujA\">\n                <span class=\"ipyplot-img-expand\"/>\n            </a>\n        </div>\n    </div>\n    \n    <div class=\"ipyplot-placeholder-div-HG5Lo42J26FMnHJ8DdxU6D\">\n        <div id=\"ipyplot-content-div-HG5Lo42J26FMnHJ8DdxU6D-o4VitZfiyF8S3dgvea3cyb\" class=\"ipyplot-content-div-HG5Lo42J26FMnHJ8DdxU6D\">\n            <h4 style=\"font-size: 12px; word-wrap: break-word;\">15</h4>\n            <h4 style=\"font-size: 9px; padding-left: 10px; padding-right: 10px; width: 95%; word-wrap: break-word; white-space: normal;\">https://pbs.twimg.com/media/DpKQgCdX4AEy1Q3.jpg</h4><img src=\"https://pbs.twimg.com/media/DpKQgCdX4AEy1Q3.jpg\"/>\n            <a href=\"#!\">\n                <span class=\"ipyplot-img-close\"/>\n            </a>\n            <a href=\"#ipyplot-content-div-HG5Lo42J26FMnHJ8DdxU6D-o4VitZfiyF8S3dgvea3cyb\">\n                <span class=\"ipyplot-img-expand\"/>\n            </a>\n        </div>\n    </div>\n    \n    <div class=\"ipyplot-placeholder-div-HG5Lo42J26FMnHJ8DdxU6D\">\n        <div id=\"ipyplot-content-div-HG5Lo42J26FMnHJ8DdxU6D-BUF7SF4FeBgk7VnTJqExKb\" class=\"ipyplot-content-div-HG5Lo42J26FMnHJ8DdxU6D\">\n            <h4 style=\"font-size: 12px; word-wrap: break-word;\">16</h4>\n            <h4 style=\"font-size: 9px; padding-left: 10px; padding-right: 10px; width: 95%; word-wrap: break-word; white-space: normal;\">https://pbs.twimg.com/media/D-aOcmrVAAAXcpO.jpg</h4><img src=\"https://pbs.twimg.com/media/D-aOcmrVAAAXcpO.jpg\"/>\n            <a href=\"#!\">\n                <span class=\"ipyplot-img-close\"/>\n            </a>\n            <a href=\"#ipyplot-content-div-HG5Lo42J26FMnHJ8DdxU6D-BUF7SF4FeBgk7VnTJqExKb\">\n                <span class=\"ipyplot-img-expand\"/>\n            </a>\n        </div>\n    </div>\n    \n    <div class=\"ipyplot-placeholder-div-HG5Lo42J26FMnHJ8DdxU6D\">\n        <div id=\"ipyplot-content-div-HG5Lo42J26FMnHJ8DdxU6D-dyZArETCx5NNrivats5pwW\" class=\"ipyplot-content-div-HG5Lo42J26FMnHJ8DdxU6D\">\n            <h4 style=\"font-size: 12px; word-wrap: break-word;\">17</h4>\n            <h4 style=\"font-size: 9px; padding-left: 10px; padding-right: 10px; width: 95%; word-wrap: break-word; white-space: normal;\">https://pbs.twimg.com/media/Dfh-FKXX4AE9qWH.jpg</h4><img src=\"https://pbs.twimg.com/media/Dfh-FKXX4AE9qWH.jpg\"/>\n            <a href=\"#!\">\n                <span class=\"ipyplot-img-close\"/>\n            </a>\n            <a href=\"#ipyplot-content-div-HG5Lo42J26FMnHJ8DdxU6D-dyZArETCx5NNrivats5pwW\">\n                <span class=\"ipyplot-img-expand\"/>\n            </a>\n        </div>\n    </div>\n    </div>\n        </textarea>\n    </div>\n    ",
      "text/plain": "<IPython.core.display.HTML object>"
     },
     "metadata": {},
     "output_type": "display_data"
    },
    {
     "data": {
      "text/html": "\n        <style>\n        #ipyplot-imgs-container-div-HG5Lo42J26FMnHJ8DdxU6D {\n            width: 100%;\n            height: 100%;\n            margin: 0%;\n            overflow: auto;\n            position: relative;\n            overflow-y: scroll;\n        }\n\n        div.ipyplot-placeholder-div-HG5Lo42J26FMnHJ8DdxU6D {\n            width: 150px;\n            display: inline-block;\n            margin: 3px;\n            position: relative;\n        }\n\n        div.ipyplot-content-div-HG5Lo42J26FMnHJ8DdxU6D {\n            width: 150px;\n            background: white;\n            display: inline-block;\n            vertical-align: top;\n            text-align: center;\n            position: relative;\n            border: 2px solid #ddd;\n            top: 0;\n            left: 0;\n        }\n\n        div.ipyplot-content-div-HG5Lo42J26FMnHJ8DdxU6D span.ipyplot-img-close {\n            display: none;\n        }\n\n        div.ipyplot-content-div-HG5Lo42J26FMnHJ8DdxU6D span {\n            width: 100%;\n            height: 100%;\n            position: absolute;\n            top: 0;\n            left: 0;\n        }\n\n        div.ipyplot-content-div-HG5Lo42J26FMnHJ8DdxU6D img {\n            width: 150px;\n        }\n\n        div.ipyplot-content-div-HG5Lo42J26FMnHJ8DdxU6D span.ipyplot-img-close:hover {\n            cursor: zoom-out;\n        }\n        div.ipyplot-content-div-HG5Lo42J26FMnHJ8DdxU6D span.ipyplot-img-expand:hover {\n            cursor: zoom-in;\n        }\n\n        div[id^=ipyplot-content-div-HG5Lo42J26FMnHJ8DdxU6D]:target {\n            transform: scale(2.5);\n            transform-origin: left top;\n            z-index: 5000;\n            top: 0;\n            left: 0;\n            position: absolute;\n        }\n\n        div[id^=ipyplot-content-div-HG5Lo42J26FMnHJ8DdxU6D]:target span.ipyplot-img-close {\n            display: block;\n        }\n\n        div[id^=ipyplot-content-div-HG5Lo42J26FMnHJ8DdxU6D]:target span.ipyplot-img-expand {\n            display: none;\n        }\n        </style>\n    <div id=\"ipyplot-imgs-container-div-HG5Lo42J26FMnHJ8DdxU6D\">\n    <div class=\"ipyplot-placeholder-div-HG5Lo42J26FMnHJ8DdxU6D\">\n        <div id=\"ipyplot-content-div-HG5Lo42J26FMnHJ8DdxU6D-eGrJpMpBJPexfcypsX58Qo\" class=\"ipyplot-content-div-HG5Lo42J26FMnHJ8DdxU6D\">\n            <h4 style=\"font-size: 12px; word-wrap: break-word;\">0</h4>\n            <h4 style=\"font-size: 9px; padding-left: 10px; padding-right: 10px; width: 95%; word-wrap: break-word; white-space: normal;\">https://pbs.twimg.com/media/EJRFrA2U0AA-Kt2.jpg</h4><img src=\"https://pbs.twimg.com/media/EJRFrA2U0AA-Kt2.jpg\"/>\n            <a href=\"#!\">\n                <span class=\"ipyplot-img-close\"/>\n            </a>\n            <a href=\"#ipyplot-content-div-HG5Lo42J26FMnHJ8DdxU6D-eGrJpMpBJPexfcypsX58Qo\">\n                <span class=\"ipyplot-img-expand\"/>\n            </a>\n        </div>\n    </div>\n    \n    <div class=\"ipyplot-placeholder-div-HG5Lo42J26FMnHJ8DdxU6D\">\n        <div id=\"ipyplot-content-div-HG5Lo42J26FMnHJ8DdxU6D-CpVru8GHnoU95nBBLgQNqp\" class=\"ipyplot-content-div-HG5Lo42J26FMnHJ8DdxU6D\">\n            <h4 style=\"font-size: 12px; word-wrap: break-word;\">1</h4>\n            <h4 style=\"font-size: 9px; padding-left: 10px; padding-right: 10px; width: 95%; word-wrap: break-word; white-space: normal;\">https://pbs.twimg.com/media/DhCmQKMU8AARv0_.jpg</h4><img src=\"https://pbs.twimg.com/media/DhCmQKMU8AARv0_.jpg\"/>\n            <a href=\"#!\">\n                <span class=\"ipyplot-img-close\"/>\n            </a>\n            <a href=\"#ipyplot-content-div-HG5Lo42J26FMnHJ8DdxU6D-CpVru8GHnoU95nBBLgQNqp\">\n                <span class=\"ipyplot-img-expand\"/>\n            </a>\n        </div>\n    </div>\n    \n    <div class=\"ipyplot-placeholder-div-HG5Lo42J26FMnHJ8DdxU6D\">\n        <div id=\"ipyplot-content-div-HG5Lo42J26FMnHJ8DdxU6D-B7fy3inCT2U2hdEMM4fwzL\" class=\"ipyplot-content-div-HG5Lo42J26FMnHJ8DdxU6D\">\n            <h4 style=\"font-size: 12px; word-wrap: break-word;\">2</h4>\n            <h4 style=\"font-size: 9px; padding-left: 10px; padding-right: 10px; width: 95%; word-wrap: break-word; white-space: normal;\">https://pbs.twimg.com/media/DkrihlIWsAAacgr.jpg</h4><img src=\"https://pbs.twimg.com/media/DkrihlIWsAAacgr.jpg\"/>\n            <a href=\"#!\">\n                <span class=\"ipyplot-img-close\"/>\n            </a>\n            <a href=\"#ipyplot-content-div-HG5Lo42J26FMnHJ8DdxU6D-B7fy3inCT2U2hdEMM4fwzL\">\n                <span class=\"ipyplot-img-expand\"/>\n            </a>\n        </div>\n    </div>\n    \n    <div class=\"ipyplot-placeholder-div-HG5Lo42J26FMnHJ8DdxU6D\">\n        <div id=\"ipyplot-content-div-HG5Lo42J26FMnHJ8DdxU6D-8ivoCQRWi9uvQhWL4zNwyh\" class=\"ipyplot-content-div-HG5Lo42J26FMnHJ8DdxU6D\">\n            <h4 style=\"font-size: 12px; word-wrap: break-word;\">3</h4>\n            <h4 style=\"font-size: 9px; padding-left: 10px; padding-right: 10px; width: 95%; word-wrap: break-word; white-space: normal;\">https://pbs.twimg.com/media/DWG0vxhUMAALUMe.jpg</h4><img src=\"https://pbs.twimg.com/media/DWG0vxhUMAALUMe.jpg\"/>\n            <a href=\"#!\">\n                <span class=\"ipyplot-img-close\"/>\n            </a>\n            <a href=\"#ipyplot-content-div-HG5Lo42J26FMnHJ8DdxU6D-8ivoCQRWi9uvQhWL4zNwyh\">\n                <span class=\"ipyplot-img-expand\"/>\n            </a>\n        </div>\n    </div>\n    \n    <div class=\"ipyplot-placeholder-div-HG5Lo42J26FMnHJ8DdxU6D\">\n        <div id=\"ipyplot-content-div-HG5Lo42J26FMnHJ8DdxU6D-NbAuEZ9dpnmNZ6Xp2jqAdu\" class=\"ipyplot-content-div-HG5Lo42J26FMnHJ8DdxU6D\">\n            <h4 style=\"font-size: 12px; word-wrap: break-word;\">4</h4>\n            <h4 style=\"font-size: 9px; padding-left: 10px; padding-right: 10px; width: 95%; word-wrap: break-word; white-space: normal;\">https://pbs.twimg.com/media/D18_YgHUYAIMOlj.jpg</h4><img src=\"https://pbs.twimg.com/media/D18_YgHUYAIMOlj.jpg\"/>\n            <a href=\"#!\">\n                <span class=\"ipyplot-img-close\"/>\n            </a>\n            <a href=\"#ipyplot-content-div-HG5Lo42J26FMnHJ8DdxU6D-NbAuEZ9dpnmNZ6Xp2jqAdu\">\n                <span class=\"ipyplot-img-expand\"/>\n            </a>\n        </div>\n    </div>\n    \n    <div class=\"ipyplot-placeholder-div-HG5Lo42J26FMnHJ8DdxU6D\">\n        <div id=\"ipyplot-content-div-HG5Lo42J26FMnHJ8DdxU6D-YJ6STMJ53wua9FAsjwzRPh\" class=\"ipyplot-content-div-HG5Lo42J26FMnHJ8DdxU6D\">\n            <h4 style=\"font-size: 12px; word-wrap: break-word;\">5</h4>\n            <h4 style=\"font-size: 9px; padding-left: 10px; padding-right: 10px; width: 95%; word-wrap: break-word; white-space: normal;\">https://pbs.twimg.com/media/DdRwSmzV0AE1Yey.jpg</h4><img src=\"https://pbs.twimg.com/media/DdRwSmzV0AE1Yey.jpg\"/>\n            <a href=\"#!\">\n                <span class=\"ipyplot-img-close\"/>\n            </a>\n            <a href=\"#ipyplot-content-div-HG5Lo42J26FMnHJ8DdxU6D-YJ6STMJ53wua9FAsjwzRPh\">\n                <span class=\"ipyplot-img-expand\"/>\n            </a>\n        </div>\n    </div>\n    \n    <div class=\"ipyplot-placeholder-div-HG5Lo42J26FMnHJ8DdxU6D\">\n        <div id=\"ipyplot-content-div-HG5Lo42J26FMnHJ8DdxU6D-Qv6BYJEBFssEdDDUT9qHy2\" class=\"ipyplot-content-div-HG5Lo42J26FMnHJ8DdxU6D\">\n            <h4 style=\"font-size: 12px; word-wrap: break-word;\">6</h4>\n            <h4 style=\"font-size: 9px; padding-left: 10px; padding-right: 10px; width: 95%; word-wrap: break-word; white-space: normal;\">https://pbs.twimg.com/media/DhYVDluXkAASN1k.jpg</h4><img src=\"https://pbs.twimg.com/media/DhYVDluXkAASN1k.jpg\"/>\n            <a href=\"#!\">\n                <span class=\"ipyplot-img-close\"/>\n            </a>\n            <a href=\"#ipyplot-content-div-HG5Lo42J26FMnHJ8DdxU6D-Qv6BYJEBFssEdDDUT9qHy2\">\n                <span class=\"ipyplot-img-expand\"/>\n            </a>\n        </div>\n    </div>\n    \n    <div class=\"ipyplot-placeholder-div-HG5Lo42J26FMnHJ8DdxU6D\">\n        <div id=\"ipyplot-content-div-HG5Lo42J26FMnHJ8DdxU6D-QLNkJafTcJ2WihQU9nnwPt\" class=\"ipyplot-content-div-HG5Lo42J26FMnHJ8DdxU6D\">\n            <h4 style=\"font-size: 12px; word-wrap: break-word;\">7</h4>\n            <h4 style=\"font-size: 9px; padding-left: 10px; padding-right: 10px; width: 95%; word-wrap: break-word; white-space: normal;\">https://pbs.twimg.com/media/DOJyCCMVQAANLOy.jpg</h4><img src=\"https://pbs.twimg.com/media/DOJyCCMVQAANLOy.jpg\"/>\n            <a href=\"#!\">\n                <span class=\"ipyplot-img-close\"/>\n            </a>\n            <a href=\"#ipyplot-content-div-HG5Lo42J26FMnHJ8DdxU6D-QLNkJafTcJ2WihQU9nnwPt\">\n                <span class=\"ipyplot-img-expand\"/>\n            </a>\n        </div>\n    </div>\n    \n    <div class=\"ipyplot-placeholder-div-HG5Lo42J26FMnHJ8DdxU6D\">\n        <div id=\"ipyplot-content-div-HG5Lo42J26FMnHJ8DdxU6D-HvYyZ3anvnjdd4quRXQqXq\" class=\"ipyplot-content-div-HG5Lo42J26FMnHJ8DdxU6D\">\n            <h4 style=\"font-size: 12px; word-wrap: break-word;\">8</h4>\n            <h4 style=\"font-size: 9px; padding-left: 10px; padding-right: 10px; width: 95%; word-wrap: break-word; white-space: normal;\">https://pbs.twimg.com/media/Ebia6CvUMAIbrCy.jpg</h4><img src=\"https://pbs.twimg.com/media/Ebia6CvUMAIbrCy.jpg\"/>\n            <a href=\"#!\">\n                <span class=\"ipyplot-img-close\"/>\n            </a>\n            <a href=\"#ipyplot-content-div-HG5Lo42J26FMnHJ8DdxU6D-HvYyZ3anvnjdd4quRXQqXq\">\n                <span class=\"ipyplot-img-expand\"/>\n            </a>\n        </div>\n    </div>\n    \n    <div class=\"ipyplot-placeholder-div-HG5Lo42J26FMnHJ8DdxU6D\">\n        <div id=\"ipyplot-content-div-HG5Lo42J26FMnHJ8DdxU6D-NhWxgg3whoPP7BrFBzpLSD\" class=\"ipyplot-content-div-HG5Lo42J26FMnHJ8DdxU6D\">\n            <h4 style=\"font-size: 12px; word-wrap: break-word;\">9</h4>\n            <h4 style=\"font-size: 9px; padding-left: 10px; padding-right: 10px; width: 95%; word-wrap: break-word; white-space: normal;\">https://pbs.twimg.com/media/EMkTSHDWoAAK-4R.jpg</h4><img src=\"https://pbs.twimg.com/media/EMkTSHDWoAAK-4R.jpg\"/>\n            <a href=\"#!\">\n                <span class=\"ipyplot-img-close\"/>\n            </a>\n            <a href=\"#ipyplot-content-div-HG5Lo42J26FMnHJ8DdxU6D-NhWxgg3whoPP7BrFBzpLSD\">\n                <span class=\"ipyplot-img-expand\"/>\n            </a>\n        </div>\n    </div>\n    \n    <div class=\"ipyplot-placeholder-div-HG5Lo42J26FMnHJ8DdxU6D\">\n        <div id=\"ipyplot-content-div-HG5Lo42J26FMnHJ8DdxU6D-RdwMXiEisYUv5WuFf94CtG\" class=\"ipyplot-content-div-HG5Lo42J26FMnHJ8DdxU6D\">\n            <h4 style=\"font-size: 12px; word-wrap: break-word;\">10</h4>\n            <h4 style=\"font-size: 9px; padding-left: 10px; padding-right: 10px; width: 95%; word-wrap: break-word; white-space: normal;\">https://pbs.twimg.com/media/DMHaM0IW4AA6QQR.jpg</h4><img src=\"https://pbs.twimg.com/media/DMHaM0IW4AA6QQR.jpg\"/>\n            <a href=\"#!\">\n                <span class=\"ipyplot-img-close\"/>\n            </a>\n            <a href=\"#ipyplot-content-div-HG5Lo42J26FMnHJ8DdxU6D-RdwMXiEisYUv5WuFf94CtG\">\n                <span class=\"ipyplot-img-expand\"/>\n            </a>\n        </div>\n    </div>\n    \n    <div class=\"ipyplot-placeholder-div-HG5Lo42J26FMnHJ8DdxU6D\">\n        <div id=\"ipyplot-content-div-HG5Lo42J26FMnHJ8DdxU6D-8CBxLkfQTmoR42AU3kWHkX\" class=\"ipyplot-content-div-HG5Lo42J26FMnHJ8DdxU6D\">\n            <h4 style=\"font-size: 12px; word-wrap: break-word;\">11</h4>\n            <h4 style=\"font-size: 9px; padding-left: 10px; padding-right: 10px; width: 95%; word-wrap: break-word; white-space: normal;\">https://pbs.twimg.com/media/DxsrvJgV4AAupcQ.jpg</h4><img src=\"https://pbs.twimg.com/media/DxsrvJgV4AAupcQ.jpg\"/>\n            <a href=\"#!\">\n                <span class=\"ipyplot-img-close\"/>\n            </a>\n            <a href=\"#ipyplot-content-div-HG5Lo42J26FMnHJ8DdxU6D-8CBxLkfQTmoR42AU3kWHkX\">\n                <span class=\"ipyplot-img-expand\"/>\n            </a>\n        </div>\n    </div>\n    \n    <div class=\"ipyplot-placeholder-div-HG5Lo42J26FMnHJ8DdxU6D\">\n        <div id=\"ipyplot-content-div-HG5Lo42J26FMnHJ8DdxU6D-JN49mMFeXnBGuBiAb8byUB\" class=\"ipyplot-content-div-HG5Lo42J26FMnHJ8DdxU6D\">\n            <h4 style=\"font-size: 12px; word-wrap: break-word;\">12</h4>\n            <h4 style=\"font-size: 9px; padding-left: 10px; padding-right: 10px; width: 95%; word-wrap: break-word; white-space: normal;\">https://pbs.twimg.com/media/D92VAiXUcAAfc-Q.jpg</h4><img src=\"https://pbs.twimg.com/media/D92VAiXUcAAfc-Q.jpg\"/>\n            <a href=\"#!\">\n                <span class=\"ipyplot-img-close\"/>\n            </a>\n            <a href=\"#ipyplot-content-div-HG5Lo42J26FMnHJ8DdxU6D-JN49mMFeXnBGuBiAb8byUB\">\n                <span class=\"ipyplot-img-expand\"/>\n            </a>\n        </div>\n    </div>\n    \n    <div class=\"ipyplot-placeholder-div-HG5Lo42J26FMnHJ8DdxU6D\">\n        <div id=\"ipyplot-content-div-HG5Lo42J26FMnHJ8DdxU6D-3Azi5CdL7FD2iWFiRh8xVJ\" class=\"ipyplot-content-div-HG5Lo42J26FMnHJ8DdxU6D\">\n            <h4 style=\"font-size: 12px; word-wrap: break-word;\">13</h4>\n            <h4 style=\"font-size: 9px; padding-left: 10px; padding-right: 10px; width: 95%; word-wrap: break-word; white-space: normal;\">https://pbs.twimg.com/media/DqoympmUUAA6k7D.jpg</h4><img src=\"https://pbs.twimg.com/media/DqoympmUUAA6k7D.jpg\"/>\n            <a href=\"#!\">\n                <span class=\"ipyplot-img-close\"/>\n            </a>\n            <a href=\"#ipyplot-content-div-HG5Lo42J26FMnHJ8DdxU6D-3Azi5CdL7FD2iWFiRh8xVJ\">\n                <span class=\"ipyplot-img-expand\"/>\n            </a>\n        </div>\n    </div>\n    \n    <div class=\"ipyplot-placeholder-div-HG5Lo42J26FMnHJ8DdxU6D\">\n        <div id=\"ipyplot-content-div-HG5Lo42J26FMnHJ8DdxU6D-R8HfxCa3CtgtFAWncePujA\" class=\"ipyplot-content-div-HG5Lo42J26FMnHJ8DdxU6D\">\n            <h4 style=\"font-size: 12px; word-wrap: break-word;\">14</h4>\n            <h4 style=\"font-size: 9px; padding-left: 10px; padding-right: 10px; width: 95%; word-wrap: break-word; white-space: normal;\">https://pbs.twimg.com/media/C2tugXLXgAArJO4.jpg</h4><img src=\"https://pbs.twimg.com/media/C2tugXLXgAArJO4.jpg\"/>\n            <a href=\"#!\">\n                <span class=\"ipyplot-img-close\"/>\n            </a>\n            <a href=\"#ipyplot-content-div-HG5Lo42J26FMnHJ8DdxU6D-R8HfxCa3CtgtFAWncePujA\">\n                <span class=\"ipyplot-img-expand\"/>\n            </a>\n        </div>\n    </div>\n    \n    <div class=\"ipyplot-placeholder-div-HG5Lo42J26FMnHJ8DdxU6D\">\n        <div id=\"ipyplot-content-div-HG5Lo42J26FMnHJ8DdxU6D-o4VitZfiyF8S3dgvea3cyb\" class=\"ipyplot-content-div-HG5Lo42J26FMnHJ8DdxU6D\">\n            <h4 style=\"font-size: 12px; word-wrap: break-word;\">15</h4>\n            <h4 style=\"font-size: 9px; padding-left: 10px; padding-right: 10px; width: 95%; word-wrap: break-word; white-space: normal;\">https://pbs.twimg.com/media/DpKQgCdX4AEy1Q3.jpg</h4><img src=\"https://pbs.twimg.com/media/DpKQgCdX4AEy1Q3.jpg\"/>\n            <a href=\"#!\">\n                <span class=\"ipyplot-img-close\"/>\n            </a>\n            <a href=\"#ipyplot-content-div-HG5Lo42J26FMnHJ8DdxU6D-o4VitZfiyF8S3dgvea3cyb\">\n                <span class=\"ipyplot-img-expand\"/>\n            </a>\n        </div>\n    </div>\n    \n    <div class=\"ipyplot-placeholder-div-HG5Lo42J26FMnHJ8DdxU6D\">\n        <div id=\"ipyplot-content-div-HG5Lo42J26FMnHJ8DdxU6D-BUF7SF4FeBgk7VnTJqExKb\" class=\"ipyplot-content-div-HG5Lo42J26FMnHJ8DdxU6D\">\n            <h4 style=\"font-size: 12px; word-wrap: break-word;\">16</h4>\n            <h4 style=\"font-size: 9px; padding-left: 10px; padding-right: 10px; width: 95%; word-wrap: break-word; white-space: normal;\">https://pbs.twimg.com/media/D-aOcmrVAAAXcpO.jpg</h4><img src=\"https://pbs.twimg.com/media/D-aOcmrVAAAXcpO.jpg\"/>\n            <a href=\"#!\">\n                <span class=\"ipyplot-img-close\"/>\n            </a>\n            <a href=\"#ipyplot-content-div-HG5Lo42J26FMnHJ8DdxU6D-BUF7SF4FeBgk7VnTJqExKb\">\n                <span class=\"ipyplot-img-expand\"/>\n            </a>\n        </div>\n    </div>\n    \n    <div class=\"ipyplot-placeholder-div-HG5Lo42J26FMnHJ8DdxU6D\">\n        <div id=\"ipyplot-content-div-HG5Lo42J26FMnHJ8DdxU6D-dyZArETCx5NNrivats5pwW\" class=\"ipyplot-content-div-HG5Lo42J26FMnHJ8DdxU6D\">\n            <h4 style=\"font-size: 12px; word-wrap: break-word;\">17</h4>\n            <h4 style=\"font-size: 9px; padding-left: 10px; padding-right: 10px; width: 95%; word-wrap: break-word; white-space: normal;\">https://pbs.twimg.com/media/Dfh-FKXX4AE9qWH.jpg</h4><img src=\"https://pbs.twimg.com/media/Dfh-FKXX4AE9qWH.jpg\"/>\n            <a href=\"#!\">\n                <span class=\"ipyplot-img-close\"/>\n            </a>\n            <a href=\"#ipyplot-content-div-HG5Lo42J26FMnHJ8DdxU6D-dyZArETCx5NNrivats5pwW\">\n                <span class=\"ipyplot-img-expand\"/>\n            </a>\n        </div>\n    </div>\n    </div>",
      "text/plain": "<IPython.core.display.HTML object>"
     },
     "metadata": {},
     "output_type": "display_data"
    }
   ],
   "source": [
    "# Photo only images\r\n",
    "top_retweeted_images = df_tweets_enhanced[df_tweets_enhanced.photo_exists].sort_values(by=['retweets_count'], ascending=False)[:18]['thumbnail'].to_numpy()\r\n",
    "ipyplot.plot_images(top_retweeted_images, max_images=20, img_width=150)"
   ]
  },
  {
   "cell_type": "code",
   "execution_count": 138,
   "metadata": {},
   "outputs": [],
   "source": [
    "df_tweets_enhanced.rating_denominator = df_tweets_enhanced.rating_denominator.astype(int)"
   ]
  },
  {
   "cell_type": "code",
   "execution_count": 139,
   "metadata": {},
   "outputs": [
    {
     "data": {
      "text/html": "\n    <style>\n        #ipyplot-html-viewer-toggle-XcCD5j9jqb5g6VfHxjTFcS {\n            position: absolute;\n            top: -9999px;\n            left: -9999px;\n            visibility: hidden;\n        }\n\n        #ipyplot-html-viewer-label-XcCD5j9jqb5g6VfHxjTFcS { \n            position: relative;\n            display: inline-block;\n            cursor: pointer;\n            color: blue;\n            text-decoration: underline;\n        }\n\n        #ipyplot-html-viewer-textarea-XcCD5j9jqb5g6VfHxjTFcS {\n            background: lightgrey;\n            width: 100%;\n            height: 0px;\n            display: none;\n        }\n\n        #ipyplot-html-viewer-toggle-XcCD5j9jqb5g6VfHxjTFcS:checked ~ #ipyplot-html-viewer-textarea-XcCD5j9jqb5g6VfHxjTFcS {\n            height: 200px;\n            display: block;\n        }\n\n        #ipyplot-html-viewer-toggle-XcCD5j9jqb5g6VfHxjTFcS:checked + #ipyplot-html-viewer-label-XcCD5j9jqb5g6VfHxjTFcS:after {\n            content: \"hide html\";\n            position: absolute;\n            top: 0;\n            left: 0;\n            right: 0;\n            bottom: 0;\n            background: white;\n            cursor: pointer;\n            color: blue;\n            text-decoration: underline;\n        }\n    </style>\n    <div>\n        <input type=\"checkbox\" id=\"ipyplot-html-viewer-toggle-XcCD5j9jqb5g6VfHxjTFcS\">\n        <label id=\"ipyplot-html-viewer-label-XcCD5j9jqb5g6VfHxjTFcS\" for=\"ipyplot-html-viewer-toggle-XcCD5j9jqb5g6VfHxjTFcS\">show html</label>\n        <textarea id=\"ipyplot-html-viewer-textarea-XcCD5j9jqb5g6VfHxjTFcS\" readonly>\n            \n        <style>\n        #ipyplot-imgs-container-div-KBLrqRCUBynqWhXgzppKxE {\n            width: 100%;\n            height: 100%;\n            margin: 0%;\n            overflow: auto;\n            position: relative;\n            overflow-y: scroll;\n        }\n\n        div.ipyplot-placeholder-div-KBLrqRCUBynqWhXgzppKxE {\n            width: 150px;\n            display: inline-block;\n            margin: 3px;\n            position: relative;\n        }\n\n        div.ipyplot-content-div-KBLrqRCUBynqWhXgzppKxE {\n            width: 150px;\n            background: white;\n            display: inline-block;\n            vertical-align: top;\n            text-align: center;\n            position: relative;\n            border: 2px solid #ddd;\n            top: 0;\n            left: 0;\n        }\n\n        div.ipyplot-content-div-KBLrqRCUBynqWhXgzppKxE span.ipyplot-img-close {\n            display: none;\n        }\n\n        div.ipyplot-content-div-KBLrqRCUBynqWhXgzppKxE span {\n            width: 100%;\n            height: 100%;\n            position: absolute;\n            top: 0;\n            left: 0;\n        }\n\n        div.ipyplot-content-div-KBLrqRCUBynqWhXgzppKxE img {\n            width: 150px;\n        }\n\n        div.ipyplot-content-div-KBLrqRCUBynqWhXgzppKxE span.ipyplot-img-close:hover {\n            cursor: zoom-out;\n        }\n        div.ipyplot-content-div-KBLrqRCUBynqWhXgzppKxE span.ipyplot-img-expand:hover {\n            cursor: zoom-in;\n        }\n\n        div[id^=ipyplot-content-div-KBLrqRCUBynqWhXgzppKxE]:target {\n            transform: scale(2.5);\n            transform-origin: left top;\n            z-index: 5000;\n            top: 0;\n            left: 0;\n            position: absolute;\n        }\n\n        div[id^=ipyplot-content-div-KBLrqRCUBynqWhXgzppKxE]:target span.ipyplot-img-close {\n            display: block;\n        }\n\n        div[id^=ipyplot-content-div-KBLrqRCUBynqWhXgzppKxE]:target span.ipyplot-img-expand {\n            display: none;\n        }\n        </style>\n    <div id=\"ipyplot-imgs-container-div-KBLrqRCUBynqWhXgzppKxE\">\n    <div class=\"ipyplot-placeholder-div-KBLrqRCUBynqWhXgzppKxE\">\n        <div id=\"ipyplot-content-div-KBLrqRCUBynqWhXgzppKxE-PAop8cQ3JmBVdZWLDAEDPG\" class=\"ipyplot-content-div-KBLrqRCUBynqWhXgzppKxE\">\n            <h4 style=\"font-size: 12px; word-wrap: break-word;\">0</h4>\n            <h4 style=\"font-size: 9px; padding-left: 10px; padding-right: 10px; width: 95%; word-wrap: break-word; white-space: normal;\">https://pbs.twimg.com/media/DKBNVJRVYAAtG8J.jpg</h4><img src=\"https://pbs.twimg.com/media/DKBNVJRVYAAtG8J.jpg\"/>\n            <a href=\"#!\">\n                <span class=\"ipyplot-img-close\"/>\n            </a>\n            <a href=\"#ipyplot-content-div-KBLrqRCUBynqWhXgzppKxE-PAop8cQ3JmBVdZWLDAEDPG\">\n                <span class=\"ipyplot-img-expand\"/>\n            </a>\n        </div>\n    </div>\n    \n    <div class=\"ipyplot-placeholder-div-KBLrqRCUBynqWhXgzppKxE\">\n        <div id=\"ipyplot-content-div-KBLrqRCUBynqWhXgzppKxE-KyFd9KGTY9YPqCRb8rUjrP\" class=\"ipyplot-content-div-KBLrqRCUBynqWhXgzppKxE\">\n            <h4 style=\"font-size: 12px; word-wrap: break-word;\">1</h4>\n            <h4 style=\"font-size: 9px; padding-left: 10px; padding-right: 10px; width: 95%; word-wrap: break-word; white-space: normal;\">https://pbs.twimg.com/media/C2OtWrzUsAE8i0D.jpg</h4><img src=\"https://pbs.twimg.com/media/C2OtWrzUsAE8i0D.jpg\"/>\n            <a href=\"#!\">\n                <span class=\"ipyplot-img-close\"/>\n            </a>\n            <a href=\"#ipyplot-content-div-KBLrqRCUBynqWhXgzppKxE-KyFd9KGTY9YPqCRb8rUjrP\">\n                <span class=\"ipyplot-img-expand\"/>\n            </a>\n        </div>\n    </div>\n    \n    <div class=\"ipyplot-placeholder-div-KBLrqRCUBynqWhXgzppKxE\">\n        <div id=\"ipyplot-content-div-KBLrqRCUBynqWhXgzppKxE-Qy2qvEzxmLVHZHndGgAARs\" class=\"ipyplot-content-div-KBLrqRCUBynqWhXgzppKxE\">\n            <h4 style=\"font-size: 12px; word-wrap: break-word;\">2</h4>\n            <h4 style=\"font-size: 9px; padding-left: 10px; padding-right: 10px; width: 95%; word-wrap: break-word; white-space: normal;\">https://pbs.twimg.com/media/DpkCD0GWsAAASc4.jpg</h4><img src=\"https://pbs.twimg.com/media/DpkCD0GWsAAASc4.jpg\"/>\n            <a href=\"#!\">\n                <span class=\"ipyplot-img-close\"/>\n            </a>\n            <a href=\"#ipyplot-content-div-KBLrqRCUBynqWhXgzppKxE-Qy2qvEzxmLVHZHndGgAARs\">\n                <span class=\"ipyplot-img-expand\"/>\n            </a>\n        </div>\n    </div>\n    \n    <div class=\"ipyplot-placeholder-div-KBLrqRCUBynqWhXgzppKxE\">\n        <div id=\"ipyplot-content-div-KBLrqRCUBynqWhXgzppKxE-N4J8eemepspFzEDgk5VrNm\" class=\"ipyplot-content-div-KBLrqRCUBynqWhXgzppKxE\">\n            <h4 style=\"font-size: 12px; word-wrap: break-word;\">3</h4>\n            <h4 style=\"font-size: 9px; padding-left: 10px; padding-right: 10px; width: 95%; word-wrap: break-word; white-space: normal;\">https://pbs.twimg.com/media/Dd65RnKV0AAIJCW.jpg</h4><img src=\"https://pbs.twimg.com/media/Dd65RnKV0AAIJCW.jpg\"/>\n            <a href=\"#!\">\n                <span class=\"ipyplot-img-close\"/>\n            </a>\n            <a href=\"#ipyplot-content-div-KBLrqRCUBynqWhXgzppKxE-N4J8eemepspFzEDgk5VrNm\">\n                <span class=\"ipyplot-img-expand\"/>\n            </a>\n        </div>\n    </div>\n    \n    <div class=\"ipyplot-placeholder-div-KBLrqRCUBynqWhXgzppKxE\">\n        <div id=\"ipyplot-content-div-KBLrqRCUBynqWhXgzppKxE-HXouEVBhnBtiZZqqyFRAgK\" class=\"ipyplot-content-div-KBLrqRCUBynqWhXgzppKxE\">\n            <h4 style=\"font-size: 12px; word-wrap: break-word;\">4</h4>\n            <h4 style=\"font-size: 9px; padding-left: 10px; padding-right: 10px; width: 95%; word-wrap: break-word; white-space: normal;\">https://pbs.twimg.com/media/DYQsM9aUMAEjMie.jpg</h4><img src=\"https://pbs.twimg.com/media/DYQsM9aUMAEjMie.jpg\"/>\n            <a href=\"#!\">\n                <span class=\"ipyplot-img-close\"/>\n            </a>\n            <a href=\"#ipyplot-content-div-KBLrqRCUBynqWhXgzppKxE-HXouEVBhnBtiZZqqyFRAgK\">\n                <span class=\"ipyplot-img-expand\"/>\n            </a>\n        </div>\n    </div>\n    \n    <div class=\"ipyplot-placeholder-div-KBLrqRCUBynqWhXgzppKxE\">\n        <div id=\"ipyplot-content-div-KBLrqRCUBynqWhXgzppKxE-oY4tpBkPAkyqS2Dn6fGyA6\" class=\"ipyplot-content-div-KBLrqRCUBynqWhXgzppKxE\">\n            <h4 style=\"font-size: 12px; word-wrap: break-word;\">5</h4>\n            <h4 style=\"font-size: 9px; padding-left: 10px; padding-right: 10px; width: 95%; word-wrap: break-word; white-space: normal;\">https://pbs.twimg.com/media/DlDTTxZW0AEQf2h.jpg</h4><img src=\"https://pbs.twimg.com/media/DlDTTxZW0AEQf2h.jpg\"/>\n            <a href=\"#!\">\n                <span class=\"ipyplot-img-close\"/>\n            </a>\n            <a href=\"#ipyplot-content-div-KBLrqRCUBynqWhXgzppKxE-oY4tpBkPAkyqS2Dn6fGyA6\">\n                <span class=\"ipyplot-img-expand\"/>\n            </a>\n        </div>\n    </div>\n    \n    <div class=\"ipyplot-placeholder-div-KBLrqRCUBynqWhXgzppKxE\">\n        <div id=\"ipyplot-content-div-KBLrqRCUBynqWhXgzppKxE-8T2vBFQjwmGSEDEhdU9QcR\" class=\"ipyplot-content-div-KBLrqRCUBynqWhXgzppKxE\">\n            <h4 style=\"font-size: 12px; word-wrap: break-word;\">6</h4>\n            <h4 style=\"font-size: 9px; padding-left: 10px; padding-right: 10px; width: 95%; word-wrap: break-word; white-space: normal;\">https://pbs.twimg.com/ext_tw_video_thumb/758467147756691456/pu/img/YTNzjRFDSPNXukmM.jpg</h4><img src=\"https://pbs.twimg.com/ext_tw_video_thumb/758467147756691456/pu/img/YTNzjRFDSPNXukmM.jpg\"/>\n            <a href=\"#!\">\n                <span class=\"ipyplot-img-close\"/>\n            </a>\n            <a href=\"#ipyplot-content-div-KBLrqRCUBynqWhXgzppKxE-8T2vBFQjwmGSEDEhdU9QcR\">\n                <span class=\"ipyplot-img-expand\"/>\n            </a>\n        </div>\n    </div>\n    \n    <div class=\"ipyplot-placeholder-div-KBLrqRCUBynqWhXgzppKxE\">\n        <div id=\"ipyplot-content-div-KBLrqRCUBynqWhXgzppKxE-fLySKHMDpAHhSTzzKq7qib\" class=\"ipyplot-content-div-KBLrqRCUBynqWhXgzppKxE\">\n            <h4 style=\"font-size: 12px; word-wrap: break-word;\">7</h4>\n            <h4 style=\"font-size: 9px; padding-left: 10px; padding-right: 10px; width: 95%; word-wrap: break-word; white-space: normal;\">https://pbs.twimg.com/media/CgiFjIpWgAA4wVp.jpg</h4><img src=\"https://pbs.twimg.com/media/CgiFjIpWgAA4wVp.jpg\"/>\n            <a href=\"#!\">\n                <span class=\"ipyplot-img-close\"/>\n            </a>\n            <a href=\"#ipyplot-content-div-KBLrqRCUBynqWhXgzppKxE-fLySKHMDpAHhSTzzKq7qib\">\n                <span class=\"ipyplot-img-expand\"/>\n            </a>\n        </div>\n    </div>\n    \n    <div class=\"ipyplot-placeholder-div-KBLrqRCUBynqWhXgzppKxE\">\n        <div id=\"ipyplot-content-div-KBLrqRCUBynqWhXgzppKxE-Pe2ksQkTewcoKad4FzaX4F\" class=\"ipyplot-content-div-KBLrqRCUBynqWhXgzppKxE\">\n            <h4 style=\"font-size: 12px; word-wrap: break-word;\">8</h4>\n            <h4 style=\"font-size: 9px; padding-left: 10px; padding-right: 10px; width: 95%; word-wrap: break-word; white-space: normal;\">https://pbs.twimg.com/media/CiWWhVNUYAAab_r.jpg</h4><img src=\"https://pbs.twimg.com/media/CiWWhVNUYAAab_r.jpg\"/>\n            <a href=\"#!\">\n                <span class=\"ipyplot-img-close\"/>\n            </a>\n            <a href=\"#ipyplot-content-div-KBLrqRCUBynqWhXgzppKxE-Pe2ksQkTewcoKad4FzaX4F\">\n                <span class=\"ipyplot-img-expand\"/>\n            </a>\n        </div>\n    </div>\n    \n    <div class=\"ipyplot-placeholder-div-KBLrqRCUBynqWhXgzppKxE\">\n        <div id=\"ipyplot-content-div-KBLrqRCUBynqWhXgzppKxE-NLduR3PKp6yTk8QJcV9roo\" class=\"ipyplot-content-div-KBLrqRCUBynqWhXgzppKxE\">\n            <h4 style=\"font-size: 12px; word-wrap: break-word;\">9</h4>\n            <h4 style=\"font-size: 9px; padding-left: 10px; padding-right: 10px; width: 95%; word-wrap: break-word; white-space: normal;\">https://pbs.twimg.com/media/CX7Y_ByWwAEJdUy.jpg</h4><img src=\"https://pbs.twimg.com/media/CX7Y_ByWwAEJdUy.jpg\"/>\n            <a href=\"#!\">\n                <span class=\"ipyplot-img-close\"/>\n            </a>\n            <a href=\"#ipyplot-content-div-KBLrqRCUBynqWhXgzppKxE-NLduR3PKp6yTk8QJcV9roo\">\n                <span class=\"ipyplot-img-expand\"/>\n            </a>\n        </div>\n    </div>\n    \n    <div class=\"ipyplot-placeholder-div-KBLrqRCUBynqWhXgzppKxE\">\n        <div id=\"ipyplot-content-div-KBLrqRCUBynqWhXgzppKxE-T88K59sYgYxdvhwFhm8zji\" class=\"ipyplot-content-div-KBLrqRCUBynqWhXgzppKxE\">\n            <h4 style=\"font-size: 12px; word-wrap: break-word;\">10</h4>\n            <h4 style=\"font-size: 9px; padding-left: 10px; padding-right: 10px; width: 95%; word-wrap: break-word; white-space: normal;\">https://pbs.twimg.com/media/Ca3i7CzXIAMLhg8.jpg</h4><img src=\"https://pbs.twimg.com/media/Ca3i7CzXIAMLhg8.jpg\"/>\n            <a href=\"#!\">\n                <span class=\"ipyplot-img-close\"/>\n            </a>\n            <a href=\"#ipyplot-content-div-KBLrqRCUBynqWhXgzppKxE-T88K59sYgYxdvhwFhm8zji\">\n                <span class=\"ipyplot-img-expand\"/>\n            </a>\n        </div>\n    </div>\n    \n    <div class=\"ipyplot-placeholder-div-KBLrqRCUBynqWhXgzppKxE\">\n        <div id=\"ipyplot-content-div-KBLrqRCUBynqWhXgzppKxE-QnvHmshv8JumbhfRQQPiZs\" class=\"ipyplot-content-div-KBLrqRCUBynqWhXgzppKxE\">\n            <h4 style=\"font-size: 12px; word-wrap: break-word;\">11</h4>\n            <h4 style=\"font-size: 9px; padding-left: 10px; padding-right: 10px; width: 95%; word-wrap: break-word; white-space: normal;\">https://pbs.twimg.com/media/CWe7kw9W4AE8UJh.jpg</h4><img src=\"https://pbs.twimg.com/media/CWe7kw9W4AE8UJh.jpg\"/>\n            <a href=\"#!\">\n                <span class=\"ipyplot-img-close\"/>\n            </a>\n            <a href=\"#ipyplot-content-div-KBLrqRCUBynqWhXgzppKxE-QnvHmshv8JumbhfRQQPiZs\">\n                <span class=\"ipyplot-img-expand\"/>\n            </a>\n        </div>\n    </div>\n    \n    <div class=\"ipyplot-placeholder-div-KBLrqRCUBynqWhXgzppKxE\">\n        <div id=\"ipyplot-content-div-KBLrqRCUBynqWhXgzppKxE-hnioD5JWEU7gJZM4pKatmv\" class=\"ipyplot-content-div-KBLrqRCUBynqWhXgzppKxE\">\n            <h4 style=\"font-size: 12px; word-wrap: break-word;\">12</h4>\n            <h4 style=\"font-size: 9px; padding-left: 10px; padding-right: 10px; width: 95%; word-wrap: break-word; white-space: normal;\">https://pbs.twimg.com/media/CcVOJEcXEAM0FHL.jpg</h4><img src=\"https://pbs.twimg.com/media/CcVOJEcXEAM0FHL.jpg\"/>\n            <a href=\"#!\">\n                <span class=\"ipyplot-img-close\"/>\n            </a>\n            <a href=\"#ipyplot-content-div-KBLrqRCUBynqWhXgzppKxE-hnioD5JWEU7gJZM4pKatmv\">\n                <span class=\"ipyplot-img-expand\"/>\n            </a>\n        </div>\n    </div>\n    \n    <div class=\"ipyplot-placeholder-div-KBLrqRCUBynqWhXgzppKxE\">\n        <div id=\"ipyplot-content-div-KBLrqRCUBynqWhXgzppKxE-ZqJPAptRJZBnxrJsgqJCPF\" class=\"ipyplot-content-div-KBLrqRCUBynqWhXgzppKxE\">\n            <h4 style=\"font-size: 12px; word-wrap: break-word;\">13</h4>\n            <h4 style=\"font-size: 9px; padding-left: 10px; padding-right: 10px; width: 95%; word-wrap: break-word; white-space: normal;\">https://pbs.twimg.com/media/CehIzzZWQAEyHH5.jpg</h4><img src=\"https://pbs.twimg.com/media/CehIzzZWQAEyHH5.jpg\"/>\n            <a href=\"#!\">\n                <span class=\"ipyplot-img-close\"/>\n            </a>\n            <a href=\"#ipyplot-content-div-KBLrqRCUBynqWhXgzppKxE-ZqJPAptRJZBnxrJsgqJCPF\">\n                <span class=\"ipyplot-img-expand\"/>\n            </a>\n        </div>\n    </div>\n    \n    <div class=\"ipyplot-placeholder-div-KBLrqRCUBynqWhXgzppKxE\">\n        <div id=\"ipyplot-content-div-KBLrqRCUBynqWhXgzppKxE-E2M4H3tVVTHv497frpp2Ef\" class=\"ipyplot-content-div-KBLrqRCUBynqWhXgzppKxE\">\n            <h4 style=\"font-size: 12px; word-wrap: break-word;\">14</h4>\n            <h4 style=\"font-size: 9px; padding-left: 10px; padding-right: 10px; width: 95%; word-wrap: break-word; white-space: normal;\">https://pbs.twimg.com/media/CWEcxqWVEAAHyGH.jpg</h4><img src=\"https://pbs.twimg.com/media/CWEcxqWVEAAHyGH.jpg\"/>\n            <a href=\"#!\">\n                <span class=\"ipyplot-img-close\"/>\n            </a>\n            <a href=\"#ipyplot-content-div-KBLrqRCUBynqWhXgzppKxE-E2M4H3tVVTHv497frpp2Ef\">\n                <span class=\"ipyplot-img-expand\"/>\n            </a>\n        </div>\n    </div>\n    \n    <div class=\"ipyplot-placeholder-div-KBLrqRCUBynqWhXgzppKxE\">\n        <div id=\"ipyplot-content-div-KBLrqRCUBynqWhXgzppKxE-km6qm6ZWNBYrPseJ9mhMVM\" class=\"ipyplot-content-div-KBLrqRCUBynqWhXgzppKxE\">\n            <h4 style=\"font-size: 12px; word-wrap: break-word;\">15</h4>\n            <h4 style=\"font-size: 9px; padding-left: 10px; padding-right: 10px; width: 95%; word-wrap: break-word; white-space: normal;\">https://pbs.twimg.com/media/CdeUKpcWoAAJAWJ.jpg</h4><img src=\"https://pbs.twimg.com/media/CdeUKpcWoAAJAWJ.jpg\"/>\n            <a href=\"#!\">\n                <span class=\"ipyplot-img-close\"/>\n            </a>\n            <a href=\"#ipyplot-content-div-KBLrqRCUBynqWhXgzppKxE-km6qm6ZWNBYrPseJ9mhMVM\">\n                <span class=\"ipyplot-img-expand\"/>\n            </a>\n        </div>\n    </div>\n    \n    <div class=\"ipyplot-placeholder-div-KBLrqRCUBynqWhXgzppKxE\">\n        <div id=\"ipyplot-content-div-KBLrqRCUBynqWhXgzppKxE-ZQHNNTXMJcnYWZWFepgr7a\" class=\"ipyplot-content-div-KBLrqRCUBynqWhXgzppKxE\">\n            <h4 style=\"font-size: 12px; word-wrap: break-word;\">16</h4>\n            <h4 style=\"font-size: 9px; padding-left: 10px; padding-right: 10px; width: 95%; word-wrap: break-word; white-space: normal;\">https://pbs.twimg.com/media/CfFNk7cWAAA-hND.jpg</h4><img src=\"https://pbs.twimg.com/media/CfFNk7cWAAA-hND.jpg\"/>\n            <a href=\"#!\">\n                <span class=\"ipyplot-img-close\"/>\n            </a>\n            <a href=\"#ipyplot-content-div-KBLrqRCUBynqWhXgzppKxE-ZQHNNTXMJcnYWZWFepgr7a\">\n                <span class=\"ipyplot-img-expand\"/>\n            </a>\n        </div>\n    </div>\n    \n    <div class=\"ipyplot-placeholder-div-KBLrqRCUBynqWhXgzppKxE\">\n        <div id=\"ipyplot-content-div-KBLrqRCUBynqWhXgzppKxE-862vcwzJ6emsR47GihaxqE\" class=\"ipyplot-content-div-KBLrqRCUBynqWhXgzppKxE\">\n            <h4 style=\"font-size: 12px; word-wrap: break-word;\">17</h4>\n            <h4 style=\"font-size: 9px; padding-left: 10px; padding-right: 10px; width: 95%; word-wrap: break-word; white-space: normal;\">https://pbs.twimg.com/media/CdzETn4W4AAVU5N.jpg</h4><img src=\"https://pbs.twimg.com/media/CdzETn4W4AAVU5N.jpg\"/>\n            <a href=\"#!\">\n                <span class=\"ipyplot-img-close\"/>\n            </a>\n            <a href=\"#ipyplot-content-div-KBLrqRCUBynqWhXgzppKxE-862vcwzJ6emsR47GihaxqE\">\n                <span class=\"ipyplot-img-expand\"/>\n            </a>\n        </div>\n    </div>\n    </div>\n        </textarea>\n    </div>\n    ",
      "text/plain": "<IPython.core.display.HTML object>"
     },
     "metadata": {},
     "output_type": "display_data"
    },
    {
     "data": {
      "text/html": "\n        <style>\n        #ipyplot-imgs-container-div-KBLrqRCUBynqWhXgzppKxE {\n            width: 100%;\n            height: 100%;\n            margin: 0%;\n            overflow: auto;\n            position: relative;\n            overflow-y: scroll;\n        }\n\n        div.ipyplot-placeholder-div-KBLrqRCUBynqWhXgzppKxE {\n            width: 150px;\n            display: inline-block;\n            margin: 3px;\n            position: relative;\n        }\n\n        div.ipyplot-content-div-KBLrqRCUBynqWhXgzppKxE {\n            width: 150px;\n            background: white;\n            display: inline-block;\n            vertical-align: top;\n            text-align: center;\n            position: relative;\n            border: 2px solid #ddd;\n            top: 0;\n            left: 0;\n        }\n\n        div.ipyplot-content-div-KBLrqRCUBynqWhXgzppKxE span.ipyplot-img-close {\n            display: none;\n        }\n\n        div.ipyplot-content-div-KBLrqRCUBynqWhXgzppKxE span {\n            width: 100%;\n            height: 100%;\n            position: absolute;\n            top: 0;\n            left: 0;\n        }\n\n        div.ipyplot-content-div-KBLrqRCUBynqWhXgzppKxE img {\n            width: 150px;\n        }\n\n        div.ipyplot-content-div-KBLrqRCUBynqWhXgzppKxE span.ipyplot-img-close:hover {\n            cursor: zoom-out;\n        }\n        div.ipyplot-content-div-KBLrqRCUBynqWhXgzppKxE span.ipyplot-img-expand:hover {\n            cursor: zoom-in;\n        }\n\n        div[id^=ipyplot-content-div-KBLrqRCUBynqWhXgzppKxE]:target {\n            transform: scale(2.5);\n            transform-origin: left top;\n            z-index: 5000;\n            top: 0;\n            left: 0;\n            position: absolute;\n        }\n\n        div[id^=ipyplot-content-div-KBLrqRCUBynqWhXgzppKxE]:target span.ipyplot-img-close {\n            display: block;\n        }\n\n        div[id^=ipyplot-content-div-KBLrqRCUBynqWhXgzppKxE]:target span.ipyplot-img-expand {\n            display: none;\n        }\n        </style>\n    <div id=\"ipyplot-imgs-container-div-KBLrqRCUBynqWhXgzppKxE\">\n    <div class=\"ipyplot-placeholder-div-KBLrqRCUBynqWhXgzppKxE\">\n        <div id=\"ipyplot-content-div-KBLrqRCUBynqWhXgzppKxE-PAop8cQ3JmBVdZWLDAEDPG\" class=\"ipyplot-content-div-KBLrqRCUBynqWhXgzppKxE\">\n            <h4 style=\"font-size: 12px; word-wrap: break-word;\">0</h4>\n            <h4 style=\"font-size: 9px; padding-left: 10px; padding-right: 10px; width: 95%; word-wrap: break-word; white-space: normal;\">https://pbs.twimg.com/media/DKBNVJRVYAAtG8J.jpg</h4><img src=\"https://pbs.twimg.com/media/DKBNVJRVYAAtG8J.jpg\"/>\n            <a href=\"#!\">\n                <span class=\"ipyplot-img-close\"/>\n            </a>\n            <a href=\"#ipyplot-content-div-KBLrqRCUBynqWhXgzppKxE-PAop8cQ3JmBVdZWLDAEDPG\">\n                <span class=\"ipyplot-img-expand\"/>\n            </a>\n        </div>\n    </div>\n    \n    <div class=\"ipyplot-placeholder-div-KBLrqRCUBynqWhXgzppKxE\">\n        <div id=\"ipyplot-content-div-KBLrqRCUBynqWhXgzppKxE-KyFd9KGTY9YPqCRb8rUjrP\" class=\"ipyplot-content-div-KBLrqRCUBynqWhXgzppKxE\">\n            <h4 style=\"font-size: 12px; word-wrap: break-word;\">1</h4>\n            <h4 style=\"font-size: 9px; padding-left: 10px; padding-right: 10px; width: 95%; word-wrap: break-word; white-space: normal;\">https://pbs.twimg.com/media/C2OtWrzUsAE8i0D.jpg</h4><img src=\"https://pbs.twimg.com/media/C2OtWrzUsAE8i0D.jpg\"/>\n            <a href=\"#!\">\n                <span class=\"ipyplot-img-close\"/>\n            </a>\n            <a href=\"#ipyplot-content-div-KBLrqRCUBynqWhXgzppKxE-KyFd9KGTY9YPqCRb8rUjrP\">\n                <span class=\"ipyplot-img-expand\"/>\n            </a>\n        </div>\n    </div>\n    \n    <div class=\"ipyplot-placeholder-div-KBLrqRCUBynqWhXgzppKxE\">\n        <div id=\"ipyplot-content-div-KBLrqRCUBynqWhXgzppKxE-Qy2qvEzxmLVHZHndGgAARs\" class=\"ipyplot-content-div-KBLrqRCUBynqWhXgzppKxE\">\n            <h4 style=\"font-size: 12px; word-wrap: break-word;\">2</h4>\n            <h4 style=\"font-size: 9px; padding-left: 10px; padding-right: 10px; width: 95%; word-wrap: break-word; white-space: normal;\">https://pbs.twimg.com/media/DpkCD0GWsAAASc4.jpg</h4><img src=\"https://pbs.twimg.com/media/DpkCD0GWsAAASc4.jpg\"/>\n            <a href=\"#!\">\n                <span class=\"ipyplot-img-close\"/>\n            </a>\n            <a href=\"#ipyplot-content-div-KBLrqRCUBynqWhXgzppKxE-Qy2qvEzxmLVHZHndGgAARs\">\n                <span class=\"ipyplot-img-expand\"/>\n            </a>\n        </div>\n    </div>\n    \n    <div class=\"ipyplot-placeholder-div-KBLrqRCUBynqWhXgzppKxE\">\n        <div id=\"ipyplot-content-div-KBLrqRCUBynqWhXgzppKxE-N4J8eemepspFzEDgk5VrNm\" class=\"ipyplot-content-div-KBLrqRCUBynqWhXgzppKxE\">\n            <h4 style=\"font-size: 12px; word-wrap: break-word;\">3</h4>\n            <h4 style=\"font-size: 9px; padding-left: 10px; padding-right: 10px; width: 95%; word-wrap: break-word; white-space: normal;\">https://pbs.twimg.com/media/Dd65RnKV0AAIJCW.jpg</h4><img src=\"https://pbs.twimg.com/media/Dd65RnKV0AAIJCW.jpg\"/>\n            <a href=\"#!\">\n                <span class=\"ipyplot-img-close\"/>\n            </a>\n            <a href=\"#ipyplot-content-div-KBLrqRCUBynqWhXgzppKxE-N4J8eemepspFzEDgk5VrNm\">\n                <span class=\"ipyplot-img-expand\"/>\n            </a>\n        </div>\n    </div>\n    \n    <div class=\"ipyplot-placeholder-div-KBLrqRCUBynqWhXgzppKxE\">\n        <div id=\"ipyplot-content-div-KBLrqRCUBynqWhXgzppKxE-HXouEVBhnBtiZZqqyFRAgK\" class=\"ipyplot-content-div-KBLrqRCUBynqWhXgzppKxE\">\n            <h4 style=\"font-size: 12px; word-wrap: break-word;\">4</h4>\n            <h4 style=\"font-size: 9px; padding-left: 10px; padding-right: 10px; width: 95%; word-wrap: break-word; white-space: normal;\">https://pbs.twimg.com/media/DYQsM9aUMAEjMie.jpg</h4><img src=\"https://pbs.twimg.com/media/DYQsM9aUMAEjMie.jpg\"/>\n            <a href=\"#!\">\n                <span class=\"ipyplot-img-close\"/>\n            </a>\n            <a href=\"#ipyplot-content-div-KBLrqRCUBynqWhXgzppKxE-HXouEVBhnBtiZZqqyFRAgK\">\n                <span class=\"ipyplot-img-expand\"/>\n            </a>\n        </div>\n    </div>\n    \n    <div class=\"ipyplot-placeholder-div-KBLrqRCUBynqWhXgzppKxE\">\n        <div id=\"ipyplot-content-div-KBLrqRCUBynqWhXgzppKxE-oY4tpBkPAkyqS2Dn6fGyA6\" class=\"ipyplot-content-div-KBLrqRCUBynqWhXgzppKxE\">\n            <h4 style=\"font-size: 12px; word-wrap: break-word;\">5</h4>\n            <h4 style=\"font-size: 9px; padding-left: 10px; padding-right: 10px; width: 95%; word-wrap: break-word; white-space: normal;\">https://pbs.twimg.com/media/DlDTTxZW0AEQf2h.jpg</h4><img src=\"https://pbs.twimg.com/media/DlDTTxZW0AEQf2h.jpg\"/>\n            <a href=\"#!\">\n                <span class=\"ipyplot-img-close\"/>\n            </a>\n            <a href=\"#ipyplot-content-div-KBLrqRCUBynqWhXgzppKxE-oY4tpBkPAkyqS2Dn6fGyA6\">\n                <span class=\"ipyplot-img-expand\"/>\n            </a>\n        </div>\n    </div>\n    \n    <div class=\"ipyplot-placeholder-div-KBLrqRCUBynqWhXgzppKxE\">\n        <div id=\"ipyplot-content-div-KBLrqRCUBynqWhXgzppKxE-8T2vBFQjwmGSEDEhdU9QcR\" class=\"ipyplot-content-div-KBLrqRCUBynqWhXgzppKxE\">\n            <h4 style=\"font-size: 12px; word-wrap: break-word;\">6</h4>\n            <h4 style=\"font-size: 9px; padding-left: 10px; padding-right: 10px; width: 95%; word-wrap: break-word; white-space: normal;\">https://pbs.twimg.com/ext_tw_video_thumb/758467147756691456/pu/img/YTNzjRFDSPNXukmM.jpg</h4><img src=\"https://pbs.twimg.com/ext_tw_video_thumb/758467147756691456/pu/img/YTNzjRFDSPNXukmM.jpg\"/>\n            <a href=\"#!\">\n                <span class=\"ipyplot-img-close\"/>\n            </a>\n            <a href=\"#ipyplot-content-div-KBLrqRCUBynqWhXgzppKxE-8T2vBFQjwmGSEDEhdU9QcR\">\n                <span class=\"ipyplot-img-expand\"/>\n            </a>\n        </div>\n    </div>\n    \n    <div class=\"ipyplot-placeholder-div-KBLrqRCUBynqWhXgzppKxE\">\n        <div id=\"ipyplot-content-div-KBLrqRCUBynqWhXgzppKxE-fLySKHMDpAHhSTzzKq7qib\" class=\"ipyplot-content-div-KBLrqRCUBynqWhXgzppKxE\">\n            <h4 style=\"font-size: 12px; word-wrap: break-word;\">7</h4>\n            <h4 style=\"font-size: 9px; padding-left: 10px; padding-right: 10px; width: 95%; word-wrap: break-word; white-space: normal;\">https://pbs.twimg.com/media/CgiFjIpWgAA4wVp.jpg</h4><img src=\"https://pbs.twimg.com/media/CgiFjIpWgAA4wVp.jpg\"/>\n            <a href=\"#!\">\n                <span class=\"ipyplot-img-close\"/>\n            </a>\n            <a href=\"#ipyplot-content-div-KBLrqRCUBynqWhXgzppKxE-fLySKHMDpAHhSTzzKq7qib\">\n                <span class=\"ipyplot-img-expand\"/>\n            </a>\n        </div>\n    </div>\n    \n    <div class=\"ipyplot-placeholder-div-KBLrqRCUBynqWhXgzppKxE\">\n        <div id=\"ipyplot-content-div-KBLrqRCUBynqWhXgzppKxE-Pe2ksQkTewcoKad4FzaX4F\" class=\"ipyplot-content-div-KBLrqRCUBynqWhXgzppKxE\">\n            <h4 style=\"font-size: 12px; word-wrap: break-word;\">8</h4>\n            <h4 style=\"font-size: 9px; padding-left: 10px; padding-right: 10px; width: 95%; word-wrap: break-word; white-space: normal;\">https://pbs.twimg.com/media/CiWWhVNUYAAab_r.jpg</h4><img src=\"https://pbs.twimg.com/media/CiWWhVNUYAAab_r.jpg\"/>\n            <a href=\"#!\">\n                <span class=\"ipyplot-img-close\"/>\n            </a>\n            <a href=\"#ipyplot-content-div-KBLrqRCUBynqWhXgzppKxE-Pe2ksQkTewcoKad4FzaX4F\">\n                <span class=\"ipyplot-img-expand\"/>\n            </a>\n        </div>\n    </div>\n    \n    <div class=\"ipyplot-placeholder-div-KBLrqRCUBynqWhXgzppKxE\">\n        <div id=\"ipyplot-content-div-KBLrqRCUBynqWhXgzppKxE-NLduR3PKp6yTk8QJcV9roo\" class=\"ipyplot-content-div-KBLrqRCUBynqWhXgzppKxE\">\n            <h4 style=\"font-size: 12px; word-wrap: break-word;\">9</h4>\n            <h4 style=\"font-size: 9px; padding-left: 10px; padding-right: 10px; width: 95%; word-wrap: break-word; white-space: normal;\">https://pbs.twimg.com/media/CX7Y_ByWwAEJdUy.jpg</h4><img src=\"https://pbs.twimg.com/media/CX7Y_ByWwAEJdUy.jpg\"/>\n            <a href=\"#!\">\n                <span class=\"ipyplot-img-close\"/>\n            </a>\n            <a href=\"#ipyplot-content-div-KBLrqRCUBynqWhXgzppKxE-NLduR3PKp6yTk8QJcV9roo\">\n                <span class=\"ipyplot-img-expand\"/>\n            </a>\n        </div>\n    </div>\n    \n    <div class=\"ipyplot-placeholder-div-KBLrqRCUBynqWhXgzppKxE\">\n        <div id=\"ipyplot-content-div-KBLrqRCUBynqWhXgzppKxE-T88K59sYgYxdvhwFhm8zji\" class=\"ipyplot-content-div-KBLrqRCUBynqWhXgzppKxE\">\n            <h4 style=\"font-size: 12px; word-wrap: break-word;\">10</h4>\n            <h4 style=\"font-size: 9px; padding-left: 10px; padding-right: 10px; width: 95%; word-wrap: break-word; white-space: normal;\">https://pbs.twimg.com/media/Ca3i7CzXIAMLhg8.jpg</h4><img src=\"https://pbs.twimg.com/media/Ca3i7CzXIAMLhg8.jpg\"/>\n            <a href=\"#!\">\n                <span class=\"ipyplot-img-close\"/>\n            </a>\n            <a href=\"#ipyplot-content-div-KBLrqRCUBynqWhXgzppKxE-T88K59sYgYxdvhwFhm8zji\">\n                <span class=\"ipyplot-img-expand\"/>\n            </a>\n        </div>\n    </div>\n    \n    <div class=\"ipyplot-placeholder-div-KBLrqRCUBynqWhXgzppKxE\">\n        <div id=\"ipyplot-content-div-KBLrqRCUBynqWhXgzppKxE-QnvHmshv8JumbhfRQQPiZs\" class=\"ipyplot-content-div-KBLrqRCUBynqWhXgzppKxE\">\n            <h4 style=\"font-size: 12px; word-wrap: break-word;\">11</h4>\n            <h4 style=\"font-size: 9px; padding-left: 10px; padding-right: 10px; width: 95%; word-wrap: break-word; white-space: normal;\">https://pbs.twimg.com/media/CWe7kw9W4AE8UJh.jpg</h4><img src=\"https://pbs.twimg.com/media/CWe7kw9W4AE8UJh.jpg\"/>\n            <a href=\"#!\">\n                <span class=\"ipyplot-img-close\"/>\n            </a>\n            <a href=\"#ipyplot-content-div-KBLrqRCUBynqWhXgzppKxE-QnvHmshv8JumbhfRQQPiZs\">\n                <span class=\"ipyplot-img-expand\"/>\n            </a>\n        </div>\n    </div>\n    \n    <div class=\"ipyplot-placeholder-div-KBLrqRCUBynqWhXgzppKxE\">\n        <div id=\"ipyplot-content-div-KBLrqRCUBynqWhXgzppKxE-hnioD5JWEU7gJZM4pKatmv\" class=\"ipyplot-content-div-KBLrqRCUBynqWhXgzppKxE\">\n            <h4 style=\"font-size: 12px; word-wrap: break-word;\">12</h4>\n            <h4 style=\"font-size: 9px; padding-left: 10px; padding-right: 10px; width: 95%; word-wrap: break-word; white-space: normal;\">https://pbs.twimg.com/media/CcVOJEcXEAM0FHL.jpg</h4><img src=\"https://pbs.twimg.com/media/CcVOJEcXEAM0FHL.jpg\"/>\n            <a href=\"#!\">\n                <span class=\"ipyplot-img-close\"/>\n            </a>\n            <a href=\"#ipyplot-content-div-KBLrqRCUBynqWhXgzppKxE-hnioD5JWEU7gJZM4pKatmv\">\n                <span class=\"ipyplot-img-expand\"/>\n            </a>\n        </div>\n    </div>\n    \n    <div class=\"ipyplot-placeholder-div-KBLrqRCUBynqWhXgzppKxE\">\n        <div id=\"ipyplot-content-div-KBLrqRCUBynqWhXgzppKxE-ZqJPAptRJZBnxrJsgqJCPF\" class=\"ipyplot-content-div-KBLrqRCUBynqWhXgzppKxE\">\n            <h4 style=\"font-size: 12px; word-wrap: break-word;\">13</h4>\n            <h4 style=\"font-size: 9px; padding-left: 10px; padding-right: 10px; width: 95%; word-wrap: break-word; white-space: normal;\">https://pbs.twimg.com/media/CehIzzZWQAEyHH5.jpg</h4><img src=\"https://pbs.twimg.com/media/CehIzzZWQAEyHH5.jpg\"/>\n            <a href=\"#!\">\n                <span class=\"ipyplot-img-close\"/>\n            </a>\n            <a href=\"#ipyplot-content-div-KBLrqRCUBynqWhXgzppKxE-ZqJPAptRJZBnxrJsgqJCPF\">\n                <span class=\"ipyplot-img-expand\"/>\n            </a>\n        </div>\n    </div>\n    \n    <div class=\"ipyplot-placeholder-div-KBLrqRCUBynqWhXgzppKxE\">\n        <div id=\"ipyplot-content-div-KBLrqRCUBynqWhXgzppKxE-E2M4H3tVVTHv497frpp2Ef\" class=\"ipyplot-content-div-KBLrqRCUBynqWhXgzppKxE\">\n            <h4 style=\"font-size: 12px; word-wrap: break-word;\">14</h4>\n            <h4 style=\"font-size: 9px; padding-left: 10px; padding-right: 10px; width: 95%; word-wrap: break-word; white-space: normal;\">https://pbs.twimg.com/media/CWEcxqWVEAAHyGH.jpg</h4><img src=\"https://pbs.twimg.com/media/CWEcxqWVEAAHyGH.jpg\"/>\n            <a href=\"#!\">\n                <span class=\"ipyplot-img-close\"/>\n            </a>\n            <a href=\"#ipyplot-content-div-KBLrqRCUBynqWhXgzppKxE-E2M4H3tVVTHv497frpp2Ef\">\n                <span class=\"ipyplot-img-expand\"/>\n            </a>\n        </div>\n    </div>\n    \n    <div class=\"ipyplot-placeholder-div-KBLrqRCUBynqWhXgzppKxE\">\n        <div id=\"ipyplot-content-div-KBLrqRCUBynqWhXgzppKxE-km6qm6ZWNBYrPseJ9mhMVM\" class=\"ipyplot-content-div-KBLrqRCUBynqWhXgzppKxE\">\n            <h4 style=\"font-size: 12px; word-wrap: break-word;\">15</h4>\n            <h4 style=\"font-size: 9px; padding-left: 10px; padding-right: 10px; width: 95%; word-wrap: break-word; white-space: normal;\">https://pbs.twimg.com/media/CdeUKpcWoAAJAWJ.jpg</h4><img src=\"https://pbs.twimg.com/media/CdeUKpcWoAAJAWJ.jpg\"/>\n            <a href=\"#!\">\n                <span class=\"ipyplot-img-close\"/>\n            </a>\n            <a href=\"#ipyplot-content-div-KBLrqRCUBynqWhXgzppKxE-km6qm6ZWNBYrPseJ9mhMVM\">\n                <span class=\"ipyplot-img-expand\"/>\n            </a>\n        </div>\n    </div>\n    \n    <div class=\"ipyplot-placeholder-div-KBLrqRCUBynqWhXgzppKxE\">\n        <div id=\"ipyplot-content-div-KBLrqRCUBynqWhXgzppKxE-ZQHNNTXMJcnYWZWFepgr7a\" class=\"ipyplot-content-div-KBLrqRCUBynqWhXgzppKxE\">\n            <h4 style=\"font-size: 12px; word-wrap: break-word;\">16</h4>\n            <h4 style=\"font-size: 9px; padding-left: 10px; padding-right: 10px; width: 95%; word-wrap: break-word; white-space: normal;\">https://pbs.twimg.com/media/CfFNk7cWAAA-hND.jpg</h4><img src=\"https://pbs.twimg.com/media/CfFNk7cWAAA-hND.jpg\"/>\n            <a href=\"#!\">\n                <span class=\"ipyplot-img-close\"/>\n            </a>\n            <a href=\"#ipyplot-content-div-KBLrqRCUBynqWhXgzppKxE-ZQHNNTXMJcnYWZWFepgr7a\">\n                <span class=\"ipyplot-img-expand\"/>\n            </a>\n        </div>\n    </div>\n    \n    <div class=\"ipyplot-placeholder-div-KBLrqRCUBynqWhXgzppKxE\">\n        <div id=\"ipyplot-content-div-KBLrqRCUBynqWhXgzppKxE-862vcwzJ6emsR47GihaxqE\" class=\"ipyplot-content-div-KBLrqRCUBynqWhXgzppKxE\">\n            <h4 style=\"font-size: 12px; word-wrap: break-word;\">17</h4>\n            <h4 style=\"font-size: 9px; padding-left: 10px; padding-right: 10px; width: 95%; word-wrap: break-word; white-space: normal;\">https://pbs.twimg.com/media/CdzETn4W4AAVU5N.jpg</h4><img src=\"https://pbs.twimg.com/media/CdzETn4W4AAVU5N.jpg\"/>\n            <a href=\"#!\">\n                <span class=\"ipyplot-img-close\"/>\n            </a>\n            <a href=\"#ipyplot-content-div-KBLrqRCUBynqWhXgzppKxE-862vcwzJ6emsR47GihaxqE\">\n                <span class=\"ipyplot-img-expand\"/>\n            </a>\n        </div>\n    </div>\n    </div>",
      "text/plain": "<IPython.core.display.HTML object>"
     },
     "metadata": {},
     "output_type": "display_data"
    }
   ],
   "source": [
    "df_images_with_large_denominator = df_tweets_enhanced[df_tweets_enhanced.rating_denominator > 17].sort_values(by=['likes_count'], ascending=False)[:18]['thumbnail'].to_numpy()\r\n",
    "ipyplot.plot_images(df_images_with_large_denominator, max_images=20, img_width=150)"
   ]
  },
  {
   "cell_type": "code",
   "execution_count": 140,
   "metadata": {},
   "outputs": [],
   "source": [
    "df_tweets.to_csv(\"./data/twitter_archive_master.csv\", index=False)"
   ]
  }
 ],
 "metadata": {
  "kernelspec": {
   "display_name": "Python 3.8.5 64-bit ('base': conda)",
   "name": "python385jvsc74a57bd0d3ff5a1ce451dfff603f0aeb2fe958ed2741cc1700d7ef242fbe9997037b9eb5"
  },
  "language_info": {
   "name": "python",
   "version": ""
  }
 },
 "nbformat": 4,
 "nbformat_minor": 4
}