{
 "cells": [
  {
   "cell_type": "markdown",
   "metadata": {},
   "source": [
    "### About the dataset\n",
    "TMBD is a movies dataset compiled from IMDB.com and hosted by Kaggle here https://www.kaggle.com/tmdb/tmdb-movie-metadata\n",
    "\n",
    "dataset has 10866 rows and 22 columns. Which include; movie title, imdb_id, popularity, rating, cast, genre, release_date and other overall details about a movie "
   ]
  },
  {
   "cell_type": "markdown",
   "metadata": {},
   "source": [
    "#### Questions I wondered from looking at the dataset \n",
    "\n",
    "Require revenue and budget:\n",
    "- do high budget moves often release in specific months (like for Christmas and holidays)\n",
    "- which genres have the lowest budgets, among them which makes the highest returns \n",
    "- which movies have a high rating and high votes but not profitable. (if so, google how did that happen)\n",
    "- vote count vs. revenue (do we have less voted but high revenue movies? if so, are they the old ones?)\n",
    "- go back in time to invest in studios and directors. which ones would you pick to maximize returns?(5-year bins?)\n",
    "- actors with the highest # movies, what are their avg score and revenue\n",
    "- highest/lowest avg rated actors. #ratings high, played latest in 8? movies. what are their avg rev/budget \n",
    "- if we were to divide profit equally among the cast, who would be the richest\n",
    "\n",
    "Require production companies:\n",
    "- what are the prod companies that made more than 5+? movies and has the highest return on average\n",
    "- which studios do big-budget movies? Do they also do low budgets\n",
    "\n",
    "Require genre:\n",
    "- does having a lot of genre 3+ is helpful to make a high revenue movie. \n",
    "- is increasing the number of the genre in the movie require more budget. Does low budget movies have 3+ genre?\n",
    "- which genres appear less together. does it makes sense. are their budget high to make that combination\n",
    "- which genres appear together. (are there a clear distinction between these genres, or are we not using them correctly)\n",
    "- which actors appear together\n",
    "\n",
    "\n",
    "No specific requirement:\n",
    "- what day of the week movies often release (expectation: Friday).\n",
    "- does the old movies (<80) have a higher rating and lower #votes.\n",
    "\n",
    "\n",
    "#### Rest of the questions \n",
    "- does the tagline include anything from movie name, do keywords appear in the movie name or in tagline\n",
    "- reverse engineer inflation from rev/rev adj. plot it  \n",
    "- which actors/directors made a comeback. high score first, low on a series of moves, then increased again \n",
    "- what are the movies with high budget and long runtime with low rating. (could they be saved if movie was shorter, google) \n"
   ]
  },
  {
   "cell_type": "code",
   "execution_count": 1,
   "metadata": {},
   "outputs": [
    {
     "name": "stdout",
     "output_type": "stream",
     "text": [
      "Requirement already satisfied: pandas==0.25.0 in /opt/conda/lib/python3.6/site-packages (0.25.0)\n",
      "Requirement already satisfied: numpy>=1.13.3 in /opt/conda/lib/python3.6/site-packages (from pandas==0.25.0) (1.19.5)\n",
      "Requirement already satisfied: python-dateutil>=2.6.1 in /opt/conda/lib/python3.6/site-packages (from pandas==0.25.0) (2.8.1)\n",
      "Requirement already satisfied: pytz>=2017.2 in /opt/conda/lib/python3.6/site-packages (from pandas==0.25.0) (2017.3)\n",
      "Requirement already satisfied: six>=1.5 in /opt/conda/lib/python3.6/site-packages (from python-dateutil>=2.6.1->pandas==0.25.0) (1.11.0)\n"
     ]
    }
   ],
   "source": [
    "# required for series explode function\n",
    "!pip3 install pandas==0.25.0"
   ]
  },
  {
   "cell_type": "code",
   "execution_count": 2,
   "metadata": {},
   "outputs": [],
   "source": [
    "import pandas as pd\n",
    "import numpy as np\n",
    "import matplotlib.pyplot as plt\n",
    "import seaborn as sns\n",
    "%matplotlib inline\n",
    "\n",
    "# imdb movie dataset source -> https://www.kaggle.com/tmdb/tmdb-movie-metadata\n",
    "\n",
    "# udacity version \n",
    "moviesdb_url = \"https://d17h27t6h515a5.cloudfront.net/topher/2017/October/59dd1c4c_tmdb-movies/tmdb-movies.csv\"\n",
    "\n",
    "df = pd.read_csv(moviesdb_url)"
   ]
  },
  {
   "cell_type": "markdown",
   "metadata": {},
   "source": [
    "## Exploratory Data Analysis\n"
   ]
  },
  {
   "cell_type": "code",
   "execution_count": 3,
   "metadata": {},
   "outputs": [],
   "source": [
    "### Cheatsheet I prepared from this project\n",
    "\n",
    "### info about the datatset\n",
    "# df.shape\n",
    "# df.columns\n",
    "# df.head()\n",
    "# df.iloc[0]\n",
    "# df.describe()\n",
    "# df.info()\n",
    "# df.isnull().sum()\n",
    "# df.nunique()\n",
    "# df.hist()\n",
    "\n",
    "### to clear db\n",
    "# sum(df.duplicated())\n",
    "# (df.revenue == 0).sum()\n",
    "# df.loc[df.revenue == 0]\n",
    "\n",
    "\n",
    "### detail\n",
    "# df.corr()"
   ]
  },
  {
   "cell_type": "code",
   "execution_count": 4,
   "metadata": {},
   "outputs": [
    {
     "data": {
      "text/plain": [
       "(10866, 21)"
      ]
     },
     "execution_count": 4,
     "metadata": {},
     "output_type": "execute_result"
    }
   ],
   "source": [
    "df.shape"
   ]
  },
  {
   "cell_type": "code",
   "execution_count": 5,
   "metadata": {},
   "outputs": [
    {
     "data": {
      "text/plain": [
       "Index(['id', 'imdb_id', 'popularity', 'budget', 'revenue', 'original_title',\n",
       "       'cast', 'homepage', 'director', 'tagline', 'keywords', 'overview',\n",
       "       'runtime', 'genres', 'production_companies', 'release_date',\n",
       "       'vote_count', 'vote_average', 'release_year', 'budget_adj',\n",
       "       'revenue_adj'],\n",
       "      dtype='object')"
      ]
     },
     "execution_count": 5,
     "metadata": {},
     "output_type": "execute_result"
    }
   ],
   "source": [
    "df.columns"
   ]
  },
  {
   "cell_type": "code",
   "execution_count": 6,
   "metadata": {},
   "outputs": [
    {
     "data": {
      "text/html": [
       "<div>\n",
       "<style scoped>\n",
       "    .dataframe tbody tr th:only-of-type {\n",
       "        vertical-align: middle;\n",
       "    }\n",
       "\n",
       "    .dataframe tbody tr th {\n",
       "        vertical-align: top;\n",
       "    }\n",
       "\n",
       "    .dataframe thead th {\n",
       "        text-align: right;\n",
       "    }\n",
       "</style>\n",
       "<table border=\"1\" class=\"dataframe\">\n",
       "  <thead>\n",
       "    <tr style=\"text-align: right;\">\n",
       "      <th></th>\n",
       "      <th>id</th>\n",
       "      <th>imdb_id</th>\n",
       "      <th>popularity</th>\n",
       "      <th>budget</th>\n",
       "      <th>revenue</th>\n",
       "      <th>original_title</th>\n",
       "      <th>cast</th>\n",
       "      <th>homepage</th>\n",
       "      <th>director</th>\n",
       "      <th>tagline</th>\n",
       "      <th>...</th>\n",
       "      <th>overview</th>\n",
       "      <th>runtime</th>\n",
       "      <th>genres</th>\n",
       "      <th>production_companies</th>\n",
       "      <th>release_date</th>\n",
       "      <th>vote_count</th>\n",
       "      <th>vote_average</th>\n",
       "      <th>release_year</th>\n",
       "      <th>budget_adj</th>\n",
       "      <th>revenue_adj</th>\n",
       "    </tr>\n",
       "  </thead>\n",
       "  <tbody>\n",
       "    <tr>\n",
       "      <th>0</th>\n",
       "      <td>135397</td>\n",
       "      <td>tt0369610</td>\n",
       "      <td>32.985763</td>\n",
       "      <td>150000000</td>\n",
       "      <td>1513528810</td>\n",
       "      <td>Jurassic World</td>\n",
       "      <td>Chris Pratt|Bryce Dallas Howard|Irrfan Khan|Vi...</td>\n",
       "      <td>http://www.jurassicworld.com/</td>\n",
       "      <td>Colin Trevorrow</td>\n",
       "      <td>The park is open.</td>\n",
       "      <td>...</td>\n",
       "      <td>Twenty-two years after the events of Jurassic ...</td>\n",
       "      <td>124</td>\n",
       "      <td>Action|Adventure|Science Fiction|Thriller</td>\n",
       "      <td>Universal Studios|Amblin Entertainment|Legenda...</td>\n",
       "      <td>6/9/15</td>\n",
       "      <td>5562</td>\n",
       "      <td>6.5</td>\n",
       "      <td>2015</td>\n",
       "      <td>1.379999e+08</td>\n",
       "      <td>1.392446e+09</td>\n",
       "    </tr>\n",
       "    <tr>\n",
       "      <th>1</th>\n",
       "      <td>76341</td>\n",
       "      <td>tt1392190</td>\n",
       "      <td>28.419936</td>\n",
       "      <td>150000000</td>\n",
       "      <td>378436354</td>\n",
       "      <td>Mad Max: Fury Road</td>\n",
       "      <td>Tom Hardy|Charlize Theron|Hugh Keays-Byrne|Nic...</td>\n",
       "      <td>http://www.madmaxmovie.com/</td>\n",
       "      <td>George Miller</td>\n",
       "      <td>What a Lovely Day.</td>\n",
       "      <td>...</td>\n",
       "      <td>An apocalyptic story set in the furthest reach...</td>\n",
       "      <td>120</td>\n",
       "      <td>Action|Adventure|Science Fiction|Thriller</td>\n",
       "      <td>Village Roadshow Pictures|Kennedy Miller Produ...</td>\n",
       "      <td>5/13/15</td>\n",
       "      <td>6185</td>\n",
       "      <td>7.1</td>\n",
       "      <td>2015</td>\n",
       "      <td>1.379999e+08</td>\n",
       "      <td>3.481613e+08</td>\n",
       "    </tr>\n",
       "  </tbody>\n",
       "</table>\n",
       "<p>2 rows × 21 columns</p>\n",
       "</div>"
      ],
      "text/plain": [
       "       id    imdb_id  popularity     budget     revenue      original_title  \\\n",
       "0  135397  tt0369610   32.985763  150000000  1513528810      Jurassic World   \n",
       "1   76341  tt1392190   28.419936  150000000   378436354  Mad Max: Fury Road   \n",
       "\n",
       "                                                cast  \\\n",
       "0  Chris Pratt|Bryce Dallas Howard|Irrfan Khan|Vi...   \n",
       "1  Tom Hardy|Charlize Theron|Hugh Keays-Byrne|Nic...   \n",
       "\n",
       "                        homepage         director             tagline  ...  \\\n",
       "0  http://www.jurassicworld.com/  Colin Trevorrow   The park is open.  ...   \n",
       "1    http://www.madmaxmovie.com/    George Miller  What a Lovely Day.  ...   \n",
       "\n",
       "                                            overview runtime  \\\n",
       "0  Twenty-two years after the events of Jurassic ...     124   \n",
       "1  An apocalyptic story set in the furthest reach...     120   \n",
       "\n",
       "                                      genres  \\\n",
       "0  Action|Adventure|Science Fiction|Thriller   \n",
       "1  Action|Adventure|Science Fiction|Thriller   \n",
       "\n",
       "                                production_companies release_date vote_count  \\\n",
       "0  Universal Studios|Amblin Entertainment|Legenda...       6/9/15       5562   \n",
       "1  Village Roadshow Pictures|Kennedy Miller Produ...      5/13/15       6185   \n",
       "\n",
       "   vote_average  release_year    budget_adj   revenue_adj  \n",
       "0           6.5          2015  1.379999e+08  1.392446e+09  \n",
       "1           7.1          2015  1.379999e+08  3.481613e+08  \n",
       "\n",
       "[2 rows x 21 columns]"
      ]
     },
     "execution_count": 6,
     "metadata": {},
     "output_type": "execute_result"
    }
   ],
   "source": [
    "df.head(2)"
   ]
  },
  {
   "cell_type": "markdown",
   "metadata": {},
   "source": [
    "Notes:\n",
    "- trim popularity\n",
    "- use adjusted revenue and budget instead of originals\n",
    "- cast, genres and production companies has multiple info divided by |\n",
    "- keep release date and drop release year\n",
    "- adj budget and revenue as ints ?"
   ]
  },
  {
   "cell_type": "code",
   "execution_count": 7,
   "metadata": {},
   "outputs": [
    {
     "data": {
      "text/plain": [
       "id                         0\n",
       "imdb_id                   10\n",
       "popularity                 0\n",
       "budget                     0\n",
       "revenue                    0\n",
       "original_title             0\n",
       "cast                      76\n",
       "homepage                7930\n",
       "director                  44\n",
       "tagline                 2824\n",
       "keywords                1493\n",
       "overview                   4\n",
       "runtime                    0\n",
       "genres                    23\n",
       "production_companies    1030\n",
       "release_date               0\n",
       "vote_count                 0\n",
       "vote_average               0\n",
       "release_year               0\n",
       "budget_adj                 0\n",
       "revenue_adj                0\n",
       "dtype: int64"
      ]
     },
     "execution_count": 7,
     "metadata": {},
     "output_type": "execute_result"
    }
   ],
   "source": [
    "df.isnull().sum()"
   ]
  },
  {
   "cell_type": "code",
   "execution_count": 8,
   "metadata": {},
   "outputs": [
    {
     "data": {
      "text/plain": [
       "1"
      ]
     },
     "execution_count": 8,
     "metadata": {},
     "output_type": "execute_result"
    }
   ],
   "source": [
    "sum(df.duplicated())"
   ]
  },
  {
   "cell_type": "code",
   "execution_count": 9,
   "metadata": {},
   "outputs": [
    {
     "data": {
      "text/plain": [
       "5696"
      ]
     },
     "execution_count": 9,
     "metadata": {},
     "output_type": "execute_result"
    }
   ],
   "source": [
    "(df.budget == 0).sum()"
   ]
  },
  {
   "cell_type": "code",
   "execution_count": 10,
   "metadata": {},
   "outputs": [
    {
     "data": {
      "text/html": [
       "<div>\n",
       "<style scoped>\n",
       "    .dataframe tbody tr th:only-of-type {\n",
       "        vertical-align: middle;\n",
       "    }\n",
       "\n",
       "    .dataframe tbody tr th {\n",
       "        vertical-align: top;\n",
       "    }\n",
       "\n",
       "    .dataframe thead th {\n",
       "        text-align: right;\n",
       "    }\n",
       "</style>\n",
       "<table border=\"1\" class=\"dataframe\">\n",
       "  <thead>\n",
       "    <tr style=\"text-align: right;\">\n",
       "      <th></th>\n",
       "      <th>id</th>\n",
       "      <th>imdb_id</th>\n",
       "      <th>popularity</th>\n",
       "      <th>budget</th>\n",
       "      <th>revenue</th>\n",
       "      <th>original_title</th>\n",
       "      <th>cast</th>\n",
       "      <th>homepage</th>\n",
       "      <th>director</th>\n",
       "      <th>tagline</th>\n",
       "      <th>...</th>\n",
       "      <th>overview</th>\n",
       "      <th>runtime</th>\n",
       "      <th>genres</th>\n",
       "      <th>production_companies</th>\n",
       "      <th>release_date</th>\n",
       "      <th>vote_count</th>\n",
       "      <th>vote_average</th>\n",
       "      <th>release_year</th>\n",
       "      <th>budget_adj</th>\n",
       "      <th>revenue_adj</th>\n",
       "    </tr>\n",
       "  </thead>\n",
       "  <tbody>\n",
       "    <tr>\n",
       "      <th>30</th>\n",
       "      <td>280996</td>\n",
       "      <td>tt3168230</td>\n",
       "      <td>3.927333</td>\n",
       "      <td>0</td>\n",
       "      <td>29355203</td>\n",
       "      <td>Mr. Holmes</td>\n",
       "      <td>Ian McKellen|Milo Parker|Laura Linney|Hattie M...</td>\n",
       "      <td>http://www.mrholmesfilm.com/</td>\n",
       "      <td>Bill Condon</td>\n",
       "      <td>The man behind the myth</td>\n",
       "      <td>...</td>\n",
       "      <td>The story is set in 1947, following a long-ret...</td>\n",
       "      <td>103</td>\n",
       "      <td>Mystery|Drama</td>\n",
       "      <td>BBC Films|See-Saw Films|FilmNation Entertainme...</td>\n",
       "      <td>6/19/15</td>\n",
       "      <td>425</td>\n",
       "      <td>6.4</td>\n",
       "      <td>2015</td>\n",
       "      <td>0.0</td>\n",
       "      <td>2.700677e+07</td>\n",
       "    </tr>\n",
       "    <tr>\n",
       "      <th>36</th>\n",
       "      <td>339527</td>\n",
       "      <td>tt1291570</td>\n",
       "      <td>3.358321</td>\n",
       "      <td>0</td>\n",
       "      <td>22354572</td>\n",
       "      <td>Solace</td>\n",
       "      <td>Abbie Cornish|Jeffrey Dean Morgan|Colin Farrel...</td>\n",
       "      <td>NaN</td>\n",
       "      <td>Afonso Poyart</td>\n",
       "      <td>A serial killer who can see your future, a psy...</td>\n",
       "      <td>...</td>\n",
       "      <td>A psychic doctor, John Clancy, works with an F...</td>\n",
       "      <td>101</td>\n",
       "      <td>Crime|Drama|Mystery</td>\n",
       "      <td>Eden Rock Media|FilmNation Entertainment|Flynn...</td>\n",
       "      <td>9/3/15</td>\n",
       "      <td>474</td>\n",
       "      <td>6.2</td>\n",
       "      <td>2015</td>\n",
       "      <td>0.0</td>\n",
       "      <td>2.056620e+07</td>\n",
       "    </tr>\n",
       "  </tbody>\n",
       "</table>\n",
       "<p>2 rows × 21 columns</p>\n",
       "</div>"
      ],
      "text/plain": [
       "        id    imdb_id  popularity  budget   revenue original_title  \\\n",
       "30  280996  tt3168230    3.927333       0  29355203     Mr. Holmes   \n",
       "36  339527  tt1291570    3.358321       0  22354572         Solace   \n",
       "\n",
       "                                                 cast  \\\n",
       "30  Ian McKellen|Milo Parker|Laura Linney|Hattie M...   \n",
       "36  Abbie Cornish|Jeffrey Dean Morgan|Colin Farrel...   \n",
       "\n",
       "                        homepage       director  \\\n",
       "30  http://www.mrholmesfilm.com/    Bill Condon   \n",
       "36                           NaN  Afonso Poyart   \n",
       "\n",
       "                                              tagline  ...  \\\n",
       "30                            The man behind the myth  ...   \n",
       "36  A serial killer who can see your future, a psy...  ...   \n",
       "\n",
       "                                             overview runtime  \\\n",
       "30  The story is set in 1947, following a long-ret...     103   \n",
       "36  A psychic doctor, John Clancy, works with an F...     101   \n",
       "\n",
       "                 genres                               production_companies  \\\n",
       "30        Mystery|Drama  BBC Films|See-Saw Films|FilmNation Entertainme...   \n",
       "36  Crime|Drama|Mystery  Eden Rock Media|FilmNation Entertainment|Flynn...   \n",
       "\n",
       "   release_date vote_count  vote_average  release_year  budget_adj  \\\n",
       "30      6/19/15        425           6.4          2015         0.0   \n",
       "36       9/3/15        474           6.2          2015         0.0   \n",
       "\n",
       "     revenue_adj  \n",
       "30  2.700677e+07  \n",
       "36  2.056620e+07  \n",
       "\n",
       "[2 rows x 21 columns]"
      ]
     },
     "execution_count": 10,
     "metadata": {},
     "output_type": "execute_result"
    }
   ],
   "source": [
    "df.loc[df.budget == 0].head(2)"
   ]
  },
  {
   "cell_type": "markdown",
   "metadata": {},
   "source": [
    "Notes:\n",
    "- budgets with 0 \n",
    "- homepage, tagline, keywords and prod companies have a lot of null values. since they are strings it won't be easy to fill with means\n",
    "- 1 duplicate"
   ]
  },
  {
   "cell_type": "markdown",
   "metadata": {},
   "source": [
    "## Wrangling tasks\n",
    "\n",
    "### Format Todo\n",
    "\n",
    "- dates column is str, could be in date format\n",
    "- popularity could be rounded\n",
    "- revenue, budget, and their adjusted values could be the same type and rounded (int)\n",
    "- genere, cast, production_companies -> contain more than one data splited by | . they might need to be splitted\n",
    "\n",
    "### Remove Todos\n",
    "\n",
    "- hompage, tagline, keywords and production_companies -> contain a lot of null values\n",
    "- columns to drop to answer most of the questions (release_year, imdb_id, homepage, budget, revenue, tagline, overview)\n",
    "- drop one duplicate\n",
    "- there are 0 revenue items. for related calculations they need to be removed (are they accurate, maybe they didn't earn anything, but 0 budget doesn't seem reasonable)\n",
    "- release date = 2070 ? \n"
   ]
  },
  {
   "cell_type": "code",
   "execution_count": 11,
   "metadata": {},
   "outputs": [],
   "source": [
    "### Wrangling cheatsheet I prepared from this project\n",
    "\n",
    "### Format\n",
    "# pd.to_datetime(df['___'])\n",
    "# round(df['___'],2)\n",
    "# df['___'].astype(int)\n",
    "\n",
    "\n",
    "### Remove\n",
    "# df.drop_duplicates(keep ='first', inplace=True)\n",
    "\n",
    "\n",
    "### Examine\n",
    "# df['___'].value_counts()"
   ]
  },
  {
   "cell_type": "markdown",
   "metadata": {},
   "source": [
    "## Format Data"
   ]
  },
  {
   "cell_type": "code",
   "execution_count": 12,
   "metadata": {},
   "outputs": [],
   "source": [
    "# convert date str to datetime\n",
    "\n",
    "df['release_date'] = pd.to_datetime(df['release_date'])"
   ]
  },
  {
   "cell_type": "code",
   "execution_count": 13,
   "metadata": {},
   "outputs": [
    {
     "data": {
      "text/plain": [
       "(403, 21)"
      ]
     },
     "execution_count": 13,
     "metadata": {},
     "output_type": "execute_result"
    }
   ],
   "source": [
    "# rows with possibly wrong release dates\n",
    "# ignored for now\n",
    "df.loc[df.release_date >  pd.Timestamp(2030,1,1)].shape"
   ]
  },
  {
   "cell_type": "code",
   "execution_count": 14,
   "metadata": {},
   "outputs": [
    {
     "data": {
      "text/plain": [
       "32.99"
      ]
     },
     "execution_count": 14,
     "metadata": {},
     "output_type": "execute_result"
    }
   ],
   "source": [
    "# round popularity to two digits\n",
    "\n",
    "df['popularity'] = round(df['popularity'],2)\n",
    "df['popularity'][0]"
   ]
  },
  {
   "cell_type": "code",
   "execution_count": 15,
   "metadata": {},
   "outputs": [
    {
     "data": {
      "text/plain": [
       "id                               int64\n",
       "imdb_id                         object\n",
       "popularity                     float64\n",
       "budget                           int64\n",
       "revenue                          int64\n",
       "original_title                  object\n",
       "cast                            object\n",
       "homepage                        object\n",
       "director                        object\n",
       "tagline                         object\n",
       "keywords                        object\n",
       "overview                        object\n",
       "runtime                          int64\n",
       "genres                          object\n",
       "production_companies            object\n",
       "release_date            datetime64[ns]\n",
       "vote_count                       int64\n",
       "vote_average                   float64\n",
       "release_year                     int64\n",
       "budget_adj                       int64\n",
       "revenue_adj                      int64\n",
       "dtype: object"
      ]
     },
     "execution_count": 15,
     "metadata": {},
     "output_type": "execute_result"
    }
   ],
   "source": [
    "# adjusted values has float precission. For currency I think it is not necessary\n",
    "\n",
    "df['budget_adj'] = df['budget_adj'].astype(np.int64)\n",
    "df['revenue_adj'] = df['revenue_adj'].astype(np.int64)\n",
    "df.dtypes"
   ]
  },
  {
   "cell_type": "code",
   "execution_count": 16,
   "metadata": {},
   "outputs": [
    {
     "data": {
      "text/plain": [
       "137999939"
      ]
     },
     "execution_count": 16,
     "metadata": {},
     "output_type": "execute_result"
    }
   ],
   "source": [
    "df['budget_adj'][0]"
   ]
  },
  {
   "cell_type": "markdown",
   "metadata": {},
   "source": [
    "## Data Remove"
   ]
  },
  {
   "cell_type": "code",
   "execution_count": 17,
   "metadata": {},
   "outputs": [
    {
     "data": {
      "text/plain": [
       "0"
      ]
     },
     "execution_count": 17,
     "metadata": {},
     "output_type": "execute_result"
    }
   ],
   "source": [
    "# drop the duplicate row\n",
    "\n",
    "df.drop_duplicates(keep ='first', inplace=True)\n",
    "sum(df.duplicated())"
   ]
  },
  {
   "cell_type": "code",
   "execution_count": 18,
   "metadata": {},
   "outputs": [
    {
     "data": {
      "text/plain": [
       "Index(['id', 'imdb_id', 'popularity', 'budget', 'revenue', 'original_title',\n",
       "       'cast', 'homepage', 'director', 'tagline', 'keywords', 'overview',\n",
       "       'runtime', 'genres', 'production_companies', 'release_date',\n",
       "       'vote_count', 'vote_average', 'release_year', 'budget_adj',\n",
       "       'revenue_adj'],\n",
       "      dtype='object')"
      ]
     },
     "execution_count": 18,
     "metadata": {},
     "output_type": "execute_result"
    }
   ],
   "source": [
    "df.columns"
   ]
  },
  {
   "cell_type": "code",
   "execution_count": 19,
   "metadata": {},
   "outputs": [],
   "source": [
    "# Drop columns that I don't plan to use\n",
    "df = df.drop(['imdb_id', 'budget', 'revenue', 'homepage', 'tagline', 'keywords', 'release_year', 'overview'], axis=1)"
   ]
  },
  {
   "cell_type": "code",
   "execution_count": 20,
   "metadata": {},
   "outputs": [
    {
     "data": {
      "text/html": [
       "<div>\n",
       "<style scoped>\n",
       "    .dataframe tbody tr th:only-of-type {\n",
       "        vertical-align: middle;\n",
       "    }\n",
       "\n",
       "    .dataframe tbody tr th {\n",
       "        vertical-align: top;\n",
       "    }\n",
       "\n",
       "    .dataframe thead th {\n",
       "        text-align: right;\n",
       "    }\n",
       "</style>\n",
       "<table border=\"1\" class=\"dataframe\">\n",
       "  <thead>\n",
       "    <tr style=\"text-align: right;\">\n",
       "      <th></th>\n",
       "      <th>id</th>\n",
       "      <th>popularity</th>\n",
       "      <th>original_title</th>\n",
       "      <th>cast</th>\n",
       "      <th>director</th>\n",
       "      <th>runtime</th>\n",
       "      <th>genres</th>\n",
       "      <th>production_companies</th>\n",
       "      <th>release_date</th>\n",
       "      <th>vote_count</th>\n",
       "      <th>vote_average</th>\n",
       "      <th>budget_adj</th>\n",
       "      <th>revenue_adj</th>\n",
       "    </tr>\n",
       "  </thead>\n",
       "  <tbody>\n",
       "    <tr>\n",
       "      <th>0</th>\n",
       "      <td>135397</td>\n",
       "      <td>32.99</td>\n",
       "      <td>Jurassic World</td>\n",
       "      <td>Chris Pratt|Bryce Dallas Howard|Irrfan Khan|Vi...</td>\n",
       "      <td>Colin Trevorrow</td>\n",
       "      <td>124</td>\n",
       "      <td>Action|Adventure|Science Fiction|Thriller</td>\n",
       "      <td>Universal Studios|Amblin Entertainment|Legenda...</td>\n",
       "      <td>2015-06-09</td>\n",
       "      <td>5562</td>\n",
       "      <td>6.5</td>\n",
       "      <td>137999939</td>\n",
       "      <td>1392445892</td>\n",
       "    </tr>\n",
       "  </tbody>\n",
       "</table>\n",
       "</div>"
      ],
      "text/plain": [
       "       id  popularity  original_title  \\\n",
       "0  135397       32.99  Jurassic World   \n",
       "\n",
       "                                                cast         director  \\\n",
       "0  Chris Pratt|Bryce Dallas Howard|Irrfan Khan|Vi...  Colin Trevorrow   \n",
       "\n",
       "   runtime                                     genres  \\\n",
       "0      124  Action|Adventure|Science Fiction|Thriller   \n",
       "\n",
       "                                production_companies release_date  vote_count  \\\n",
       "0  Universal Studios|Amblin Entertainment|Legenda...   2015-06-09        5562   \n",
       "\n",
       "   vote_average  budget_adj  revenue_adj  \n",
       "0           6.5   137999939   1392445892  "
      ]
     },
     "execution_count": 20,
     "metadata": {},
     "output_type": "execute_result"
    }
   ],
   "source": [
    "df.head(1)"
   ]
  },
  {
   "cell_type": "code",
   "execution_count": 21,
   "metadata": {},
   "outputs": [
    {
     "data": {
      "text/plain": [
       "id                         0\n",
       "popularity                 0\n",
       "original_title             0\n",
       "cast                      76\n",
       "director                  44\n",
       "runtime                    0\n",
       "genres                    23\n",
       "production_companies    1030\n",
       "release_date               0\n",
       "vote_count                 0\n",
       "vote_average               0\n",
       "budget_adj                 0\n",
       "revenue_adj                0\n",
       "dtype: int64"
      ]
     },
     "execution_count": 21,
     "metadata": {},
     "output_type": "execute_result"
    }
   ],
   "source": [
    "df.isnull().sum()"
   ]
  },
  {
   "cell_type": "code",
   "execution_count": 22,
   "metadata": {},
   "outputs": [],
   "source": [
    "# Drop 0 values of budget and revenue\n",
    "# https://stackoverflow.com/questions/22649693/drop-rows-with-all-zeros-in-pandas-data-frame\n",
    "\n",
    "df_filtered = df.loc[~(df.budget_adj==0)]\n",
    "df_filtered = df_filtered.loc[~(df.revenue_adj==0)]"
   ]
  },
  {
   "cell_type": "code",
   "execution_count": 23,
   "metadata": {},
   "outputs": [],
   "source": [
    "# remove negative revenue movies\n",
    "df_filtered = df_filtered.loc[~(df_filtered.revenue_adj <= 0)]"
   ]
  },
  {
   "cell_type": "code",
   "execution_count": 24,
   "metadata": {},
   "outputs": [],
   "source": [
    "# Drop na cast\n",
    "df_filtered['cast'].dropna(inplace=True)"
   ]
  },
  {
   "cell_type": "markdown",
   "metadata": {},
   "source": [
    "## Add cloumns"
   ]
  },
  {
   "cell_type": "code",
   "execution_count": 25,
   "metadata": {},
   "outputs": [],
   "source": [
    "# to see the investment / revenue difference\n",
    "df_filtered['return_multiplier'] = df_filtered.revenue_adj / df_filtered.budget_adj"
   ]
  },
  {
   "cell_type": "code",
   "execution_count": 26,
   "metadata": {},
   "outputs": [
    {
     "data": {
      "text/plain": [
       "0    10.090192\n",
       "1     2.522909\n",
       "2     2.683984\n",
       "3    10.340891\n",
       "4     7.927628\n",
       "Name: return_multiplier, dtype: float64"
      ]
     },
     "execution_count": 26,
     "metadata": {},
     "output_type": "execute_result"
    }
   ],
   "source": [
    "df_filtered.return_multiplier.head()"
   ]
  },
  {
   "cell_type": "markdown",
   "metadata": {},
   "source": [
    "# Questions "
   ]
  },
  {
   "cell_type": "markdown",
   "metadata": {},
   "source": [
    "Require revenue and budget:\n",
    "- vote count vs. revenue (do we have less voted but high revenue movies? if so, are they the old ones?)"
   ]
  },
  {
   "cell_type": "markdown",
   "metadata": {},
   "source": [
    "## Q1: do high budget moves often release in specific months"
   ]
  },
  {
   "cell_type": "code",
   "execution_count": 27,
   "metadata": {},
   "outputs": [],
   "source": [
    "# plots monthly bar chart given dataframe with date in it\n",
    "#  https://stackoverflow.com/questions/44908383/how-can-i-group-by-month-from-a-date-field-using-python-pandas/44908576\n",
    "\n",
    "def release_by_month(df_input, title):\n",
    "    df_release_by_month = df_input.groupby(df_input.release_date.dt.strftime('%m-%B')).size() \n",
    "    ax = df_release_by_month.plot(kind='bar',  title=title)\n",
    "    ax.set_xlabel(\"Month\")\n",
    "    ax.set_ylabel(\"Number of movies\")\n"
   ]
  },
  {
   "cell_type": "code",
   "execution_count": 28,
   "metadata": {},
   "outputs": [
    {
     "data": {
      "image/png": "[encoded data removed]",
      "text/plain": [
       "<matplotlib.figure.Figure at 0x7f2a91eaa978>"
      ]
     },
     "metadata": {
      "needs_background": "light"
     },
     "output_type": "display_data"
    }
   ],
   "source": [
    "release_by_month(df_filtered, 'Total # of moveies release in that month')"
   ]
  },
  {
   "cell_type": "markdown",
   "metadata": {},
   "source": [
    "Among all movies December and September has the highest release date. Christmas and winter time might have an effect on this"
   ]
  },
  {
   "cell_type": "code",
   "execution_count": 29,
   "metadata": {},
   "outputs": [
    {
     "data": {
      "text/plain": [
       "(1206, 14)"
      ]
     },
     "execution_count": 29,
     "metadata": {},
     "output_type": "execute_result"
    }
   ],
   "source": [
    "high_budget = 50000000 #50 M$\n",
    "df_high_budget = df_filtered[df_filtered.budget_adj > high_budget]\n",
    "df_high_budget.shape"
   ]
  },
  {
   "cell_type": "code",
   "execution_count": 30,
   "metadata": {},
   "outputs": [
    {
     "data": {
      "image/png": "[encoded data removed]",
      "text/plain": [
       "<matplotlib.figure.Figure at 0x7f2a8a665e48>"
      ]
     },
     "metadata": {
      "needs_background": "light"
     },
     "output_type": "display_data"
    }
   ],
   "source": [
    "release_by_month(df_high_budget, \"Movies with at least 50 Million $ budget, relased in a month\")"
   ]
  },
  {
   "cell_type": "code",
   "execution_count": 31,
   "metadata": {},
   "outputs": [
    {
     "data": {
      "text/plain": [
       "(413, 14)"
      ]
     },
     "execution_count": 31,
     "metadata": {},
     "output_type": "execute_result"
    }
   ],
   "source": [
    "low_budget = 5000000 #5 M$\n",
    "df_low_budget = df_filtered[df_filtered.budget_adj < low_budget]\n",
    "df_low_budget.shape"
   ]
  },
  {
   "cell_type": "code",
   "execution_count": 32,
   "metadata": {},
   "outputs": [
    {
     "data": {
      "image/png": "[encoded data removed]",
      "text/plain": [
       "<matplotlib.figure.Figure at 0x7f2a88380400>"
      ]
     },
     "metadata": {
      "needs_background": "light"
     },
     "output_type": "display_data"
    }
   ],
   "source": [
    "release_by_month(df_low_budget, \"Movies with less than 5 Million $ budget, relased in a month\")"
   ]
  },
  {
   "cell_type": "markdown",
   "metadata": {},
   "source": [
    "Seems like high revenue movies often get june and december, while low budget movies avoid those months."
   ]
  },
  {
   "cell_type": "code",
   "execution_count": 33,
   "metadata": {},
   "outputs": [
    {
     "data": {
      "text/plain": [
       "release_date\n",
       "2011-12-31    198\n",
       "2013-12-31    180\n",
       "2010-12-31    178\n",
       "2009-12-31    174\n",
       "2006-12-31    169\n",
       "Name: id, dtype: int64"
      ]
     },
     "execution_count": 33,
     "metadata": {},
     "output_type": "execute_result"
    }
   ],
   "source": [
    "df_filtered.groupby(pd.Grouper(key='release_date',freq='1Y')).count().sort_values(by='id', ascending=False)['id'].head()"
   ]
  },
  {
   "cell_type": "markdown",
   "metadata": {},
   "source": [
    "2011 december has most releases in a month, followed by decembers of 2013 an 2010"
   ]
  },
  {
   "cell_type": "markdown",
   "metadata": {},
   "source": [
    "## Q2: What day of the week movies often release (expectation: Friday)"
   ]
  },
  {
   "cell_type": "code",
   "execution_count": 34,
   "metadata": {},
   "outputs": [
    {
     "data": {
      "text/plain": [
       "Text(0,0.5,'Number of movies')"
      ]
     },
     "execution_count": 34,
     "metadata": {},
     "output_type": "execute_result"
    },
    {
     "data": {
      "image/png": "[encoded data removed]",
      "text/plain": [
       "<matplotlib.figure.Figure at 0x7f2a8a117e80>"
      ]
     },
     "metadata": {
      "needs_background": "light"
     },
     "output_type": "display_data"
    }
   ],
   "source": [
    "# strftime %A gives the week of the day --> similar to dt.dayofweek\n",
    "\n",
    "df_release_by_day_of_the_week = df_filtered.groupby(df_filtered.release_date.dt.strftime('%A')).size() \n",
    "ax = df_release_by_day_of_the_week.plot(kind='bar',  title='Total # of moveies release in that week of the day')\n",
    "ax.set_xlabel(\"Day\")\n",
    "ax.set_ylabel(\"Number of movies\")"
   ]
  },
  {
   "cell_type": "markdown",
   "metadata": {},
   "source": [
    "## Q3: Which genres have the lowest budgets, among them which makes the highest returns "
   ]
  },
  {
   "cell_type": "code",
   "execution_count": 35,
   "metadata": {},
   "outputs": [
    {
     "data": {
      "text/plain": [
       "3853"
      ]
     },
     "execution_count": 35,
     "metadata": {},
     "output_type": "execute_result"
    }
   ],
   "source": [
    "df_filtered.genres.count()"
   ]
  },
  {
   "cell_type": "code",
   "execution_count": 36,
   "metadata": {},
   "outputs": [
    {
     "data": {
      "text/plain": [
       "0"
      ]
     },
     "execution_count": 36,
     "metadata": {},
     "output_type": "execute_result"
    }
   ],
   "source": [
    "df_filtered.genres.isnull().sum()"
   ]
  },
  {
   "cell_type": "code",
   "execution_count": 37,
   "metadata": {},
   "outputs": [
    {
     "data": {
      "text/plain": [
       "Thriller|Mystery|Adventure                           1\n",
       "Mystery|Crime|Drama                                  1\n",
       "Action|Adventure|Animation|Science Fiction           1\n",
       "Adventure|Action|Thriller|Crime|Mystery              1\n",
       "Horror|Romance|Science Fiction                       1\n",
       "Action|Thriller|Science Fiction|Mystery|Adventure    1\n",
       "Romance|Fantasy|Drama|Comedy                         1\n",
       "Animation|Action|Family|Science Fiction              1\n",
       "Fantasy|Mystery|Thriller                             1\n",
       "Music|Crime|Drama                                    1\n",
       "Romance|Comedy|Crime|Fantasy                         1\n",
       "Comedy|Action|Adventure|Fantasy|Science Fiction      1\n",
       "Family|Comedy|Drama                                  1\n",
       "Action|Adventure|Drama|Science Fiction               1\n",
       "Thriller|Crime|Science Fiction|Mystery               1\n",
       "War|Adventure|Drama                                  1\n",
       "Comedy|Horror|Romance                                1\n",
       "Mystery|Thriller|Horror                              1\n",
       "Adventure|War|History                                1\n",
       "Animation|Family|Comedy|Adventure|Fantasy            1\n",
       "Drama|Thriller|Mystery|War                           1\n",
       "Science Fiction|Action|Horror|Thriller|Adventure     1\n",
       "Action|Adventure|Drama|Foreign|History               1\n",
       "War|Crime|Drama|Mystery|Romance                      1\n",
       "Horror|Action|Thriller|Crime                         1\n",
       "Name: genres, dtype: int64"
      ]
     },
     "execution_count": 37,
     "metadata": {},
     "output_type": "execute_result"
    }
   ],
   "source": [
    "df_filtered.genres.value_counts().tail(25)"
   ]
  },
  {
   "cell_type": "markdown",
   "metadata": {},
   "source": [
    "looks like genres not sorted alphabetically, but by importance"
   ]
  },
  {
   "cell_type": "code",
   "execution_count": 38,
   "metadata": {},
   "outputs": [],
   "source": [
    "# get the first genre\n",
    "df_filtered['top_genre'] = df_filtered['genres'].apply(lambda x: x.split('|')[0])"
   ]
  },
  {
   "cell_type": "code",
   "execution_count": 39,
   "metadata": {},
   "outputs": [
    {
     "data": {
      "text/plain": [
       "Drama              890\n",
       "Comedy             786\n",
       "Action             689\n",
       "Adventure          314\n",
       "Horror             275\n",
       "Crime              171\n",
       "Thriller           160\n",
       "Fantasy            110\n",
       "Animation          103\n",
       "Science Fiction     98\n",
       "Romance             66\n",
       "Family              40\n",
       "Mystery             36\n",
       "Documentary         32\n",
       "Music               29\n",
       "War                 20\n",
       "History             17\n",
       "Western             16\n",
       "TV Movie             1\n",
       "Name: top_genre, dtype: int64"
      ]
     },
     "execution_count": 39,
     "metadata": {},
     "output_type": "execute_result"
    }
   ],
   "source": [
    "df_filtered.top_genre.value_counts()"
   ]
  },
  {
   "cell_type": "code",
   "execution_count": 40,
   "metadata": {},
   "outputs": [],
   "source": [
    "df_genres = df_filtered.groupby(df_filtered.top_genre)['budget_adj'].sum().sort_values()"
   ]
  },
  {
   "cell_type": "code",
   "execution_count": 41,
   "metadata": {},
   "outputs": [
    {
     "data": {
      "text/plain": [
       "top_genre\n",
       "TV Movie               6951083\n",
       "Documentary          157631910\n",
       "History              848931763\n",
       "Western              990152009\n",
       "Music               1247514543\n",
       "War                 1282033675\n",
       "Mystery             1321269461\n",
       "Romance             2095743083\n",
       "Family              2697950232\n",
       "Horror              5352125248\n",
       "Crime               5438026940\n",
       "Thriller            6045470926\n",
       "Science Fiction     6125723873\n",
       "Fantasy             7045587434\n",
       "Animation           8797426781\n",
       "Comedy             24439867213\n",
       "Adventure          27054153846\n",
       "Drama              27487332671\n",
       "Action             42067038797\n",
       "Name: budget_adj, dtype: int64"
      ]
     },
     "execution_count": 41,
     "metadata": {},
     "output_type": "execute_result"
    }
   ],
   "source": [
    "df_genres"
   ]
  },
  {
   "cell_type": "markdown",
   "metadata": {},
   "source": [
    "TV Movie, Documentary, History, Western and music have the lowest buddgets"
   ]
  },
  {
   "cell_type": "code",
   "execution_count": 42,
   "metadata": {},
   "outputs": [],
   "source": [
    "low_budget_genre_names = ['TV Movie', 'Documentary', 'History', 'Western', 'Music']"
   ]
  },
  {
   "cell_type": "code",
   "execution_count": 43,
   "metadata": {},
   "outputs": [],
   "source": [
    "low_budget_genres = df_filtered[df_filtered.top_genre.isin(low_budget_genre_names)].sort_values(by='return_multiplier', ascending=False)"
   ]
  },
  {
   "cell_type": "code",
   "execution_count": 44,
   "metadata": {},
   "outputs": [
    {
     "data": {
      "text/html": [
       "<div>\n",
       "<style scoped>\n",
       "    .dataframe tbody tr th:only-of-type {\n",
       "        vertical-align: middle;\n",
       "    }\n",
       "\n",
       "    .dataframe tbody tr th {\n",
       "        vertical-align: top;\n",
       "    }\n",
       "\n",
       "    .dataframe thead th {\n",
       "        text-align: right;\n",
       "    }\n",
       "</style>\n",
       "<table border=\"1\" class=\"dataframe\">\n",
       "  <thead>\n",
       "    <tr style=\"text-align: right;\">\n",
       "      <th></th>\n",
       "      <th>id</th>\n",
       "      <th>popularity</th>\n",
       "      <th>original_title</th>\n",
       "      <th>cast</th>\n",
       "      <th>director</th>\n",
       "      <th>runtime</th>\n",
       "      <th>genres</th>\n",
       "      <th>production_companies</th>\n",
       "      <th>release_date</th>\n",
       "      <th>vote_count</th>\n",
       "      <th>vote_average</th>\n",
       "      <th>budget_adj</th>\n",
       "      <th>revenue_adj</th>\n",
       "      <th>return_multiplier</th>\n",
       "      <th>top_genre</th>\n",
       "    </tr>\n",
       "  </thead>\n",
       "  <tbody>\n",
       "    <tr>\n",
       "      <th>10755</th>\n",
       "      <td>621</td>\n",
       "      <td>1.70</td>\n",
       "      <td>Grease</td>\n",
       "      <td>John Travolta|Olivia Newton-John|Stockard Chan...</td>\n",
       "      <td>Randal Kleiser</td>\n",
       "      <td>110</td>\n",
       "      <td>Music</td>\n",
       "      <td>Paramount Pictures|Robert Stigwood Organizatio...</td>\n",
       "      <td>1978-07-07</td>\n",
       "      <td>786</td>\n",
       "      <td>7.0</td>\n",
       "      <td>20056204</td>\n",
       "      <td>607749015</td>\n",
       "      <td>30.302295</td>\n",
       "      <td>Music</td>\n",
       "    </tr>\n",
       "    <tr>\n",
       "      <th>636</th>\n",
       "      <td>205596</td>\n",
       "      <td>8.11</td>\n",
       "      <td>The Imitation Game</td>\n",
       "      <td>Benedict Cumberbatch|Keira Knightley|Matthew G...</td>\n",
       "      <td>Morten Tyldum</td>\n",
       "      <td>113</td>\n",
       "      <td>History|Drama|Thriller|War</td>\n",
       "      <td>Black Bear Pictures|Bristol Automotive</td>\n",
       "      <td>2014-11-14</td>\n",
       "      <td>3478</td>\n",
       "      <td>8.0</td>\n",
       "      <td>12895274</td>\n",
       "      <td>215126072</td>\n",
       "      <td>16.682551</td>\n",
       "      <td>History</td>\n",
       "    </tr>\n",
       "    <tr>\n",
       "      <th>5</th>\n",
       "      <td>281957</td>\n",
       "      <td>9.11</td>\n",
       "      <td>The Revenant</td>\n",
       "      <td>Leonardo DiCaprio|Tom Hardy|Will Poulter|Domhn...</td>\n",
       "      <td>Alejandro GonzÃ¡lez IÃ±Ã¡rritu</td>\n",
       "      <td>156</td>\n",
       "      <td>Western|Drama|Adventure|Thriller</td>\n",
       "      <td>Regency Enterprises|Appian Way|CatchPlay|Anony...</td>\n",
       "      <td>2015-12-25</td>\n",
       "      <td>3929</td>\n",
       "      <td>7.2</td>\n",
       "      <td>124199945</td>\n",
       "      <td>490314247</td>\n",
       "      <td>3.947782</td>\n",
       "      <td>Western</td>\n",
       "    </tr>\n",
       "    <tr>\n",
       "      <th>6587</th>\n",
       "      <td>9836</td>\n",
       "      <td>1.41</td>\n",
       "      <td>Happy Feet</td>\n",
       "      <td>Lombardo Boyar|Robin Williams|Johnny A. Sanche...</td>\n",
       "      <td>George Miller</td>\n",
       "      <td>108</td>\n",
       "      <td>Music|Animation|Comedy|Family</td>\n",
       "      <td>Village Roadshow Pictures|Kennedy Miller Produ...</td>\n",
       "      <td>2006-11-16</td>\n",
       "      <td>876</td>\n",
       "      <td>5.8</td>\n",
       "      <td>108166915</td>\n",
       "      <td>415723973</td>\n",
       "      <td>3.843356</td>\n",
       "      <td>Music</td>\n",
       "    </tr>\n",
       "    <tr>\n",
       "      <th>2642</th>\n",
       "      <td>676</td>\n",
       "      <td>2.48</td>\n",
       "      <td>Pearl Harbor</td>\n",
       "      <td>Ben Affleck|Josh Hartnett|Kate Beckinsale|Cuba...</td>\n",
       "      <td>Michael Bay</td>\n",
       "      <td>183</td>\n",
       "      <td>History|Romance|War</td>\n",
       "      <td>Jerry Bruckheimer Films|Touchstone Pictures</td>\n",
       "      <td>2001-05-21</td>\n",
       "      <td>1044</td>\n",
       "      <td>6.6</td>\n",
       "      <td>172408336</td>\n",
       "      <td>553210255</td>\n",
       "      <td>3.208721</td>\n",
       "      <td>History</td>\n",
       "    </tr>\n",
       "    <tr>\n",
       "      <th>1446</th>\n",
       "      <td>11322</td>\n",
       "      <td>1.14</td>\n",
       "      <td>Public Enemies</td>\n",
       "      <td>Christian Bale|Johnny Depp|Giovanni Ribisi|Bil...</td>\n",
       "      <td>Michael Mann</td>\n",
       "      <td>140</td>\n",
       "      <td>History|Crime|Drama</td>\n",
       "      <td>Universal Pictures|Appian Way|Forward Pass|Den...</td>\n",
       "      <td>2009-07-01</td>\n",
       "      <td>853</td>\n",
       "      <td>6.5</td>\n",
       "      <td>81312034</td>\n",
       "      <td>217616028</td>\n",
       "      <td>2.676308</td>\n",
       "      <td>History</td>\n",
       "    </tr>\n",
       "    <tr>\n",
       "      <th>7443</th>\n",
       "      <td>5176</td>\n",
       "      <td>1.15</td>\n",
       "      <td>3:10 to Yuma</td>\n",
       "      <td>Russell Crowe|Christian Bale|Logan Lerman|Dall...</td>\n",
       "      <td>James Mangold</td>\n",
       "      <td>122</td>\n",
       "      <td>Western</td>\n",
       "      <td>Tree Line Films|Lionsgate|Relativity Media|Yuma</td>\n",
       "      <td>2007-09-06</td>\n",
       "      <td>762</td>\n",
       "      <td>6.8</td>\n",
       "      <td>57841772</td>\n",
       "      <td>73633858</td>\n",
       "      <td>1.273022</td>\n",
       "      <td>Western</td>\n",
       "    </tr>\n",
       "    <tr>\n",
       "      <th>42</th>\n",
       "      <td>321697</td>\n",
       "      <td>3.08</td>\n",
       "      <td>Steve Jobs</td>\n",
       "      <td>Michael Fassbender|Kate Winslet|Seth Rogen|Kat...</td>\n",
       "      <td>Danny Boyle</td>\n",
       "      <td>122</td>\n",
       "      <td>History|Drama</td>\n",
       "      <td>Universal Pictures|Scott Rudin Productions|Leg...</td>\n",
       "      <td>2015-10-09</td>\n",
       "      <td>1035</td>\n",
       "      <td>6.9</td>\n",
       "      <td>27599987</td>\n",
       "      <td>31686509</td>\n",
       "      <td>1.148062</td>\n",
       "      <td>History</td>\n",
       "    </tr>\n",
       "  </tbody>\n",
       "</table>\n",
       "</div>"
      ],
      "text/plain": [
       "           id  popularity      original_title  \\\n",
       "10755     621        1.70              Grease   \n",
       "636    205596        8.11  The Imitation Game   \n",
       "5      281957        9.11        The Revenant   \n",
       "6587     9836        1.41          Happy Feet   \n",
       "2642      676        2.48        Pearl Harbor   \n",
       "1446    11322        1.14      Public Enemies   \n",
       "7443     5176        1.15        3:10 to Yuma   \n",
       "42     321697        3.08          Steve Jobs   \n",
       "\n",
       "                                                    cast  \\\n",
       "10755  John Travolta|Olivia Newton-John|Stockard Chan...   \n",
       "636    Benedict Cumberbatch|Keira Knightley|Matthew G...   \n",
       "5      Leonardo DiCaprio|Tom Hardy|Will Poulter|Domhn...   \n",
       "6587   Lombardo Boyar|Robin Williams|Johnny A. Sanche...   \n",
       "2642   Ben Affleck|Josh Hartnett|Kate Beckinsale|Cuba...   \n",
       "1446   Christian Bale|Johnny Depp|Giovanni Ribisi|Bil...   \n",
       "7443   Russell Crowe|Christian Bale|Logan Lerman|Dall...   \n",
       "42     Michael Fassbender|Kate Winslet|Seth Rogen|Kat...   \n",
       "\n",
       "                             director  runtime  \\\n",
       "10755                  Randal Kleiser      110   \n",
       "636                     Morten Tyldum      113   \n",
       "5      Alejandro GonzÃ¡lez IÃ±Ã¡rritu      156   \n",
       "6587                    George Miller      108   \n",
       "2642                      Michael Bay      183   \n",
       "1446                     Michael Mann      140   \n",
       "7443                    James Mangold      122   \n",
       "42                        Danny Boyle      122   \n",
       "\n",
       "                                 genres  \\\n",
       "10755                             Music   \n",
       "636          History|Drama|Thriller|War   \n",
       "5      Western|Drama|Adventure|Thriller   \n",
       "6587      Music|Animation|Comedy|Family   \n",
       "2642                History|Romance|War   \n",
       "1446                History|Crime|Drama   \n",
       "7443                            Western   \n",
       "42                        History|Drama   \n",
       "\n",
       "                                    production_companies release_date  \\\n",
       "10755  Paramount Pictures|Robert Stigwood Organizatio...   1978-07-07   \n",
       "636               Black Bear Pictures|Bristol Automotive   2014-11-14   \n",
       "5      Regency Enterprises|Appian Way|CatchPlay|Anony...   2015-12-25   \n",
       "6587   Village Roadshow Pictures|Kennedy Miller Produ...   2006-11-16   \n",
       "2642         Jerry Bruckheimer Films|Touchstone Pictures   2001-05-21   \n",
       "1446   Universal Pictures|Appian Way|Forward Pass|Den...   2009-07-01   \n",
       "7443     Tree Line Films|Lionsgate|Relativity Media|Yuma   2007-09-06   \n",
       "42     Universal Pictures|Scott Rudin Productions|Leg...   2015-10-09   \n",
       "\n",
       "       vote_count  vote_average  budget_adj  revenue_adj  return_multiplier  \\\n",
       "10755         786           7.0    20056204    607749015          30.302295   \n",
       "636          3478           8.0    12895274    215126072          16.682551   \n",
       "5            3929           7.2   124199945    490314247           3.947782   \n",
       "6587          876           5.8   108166915    415723973           3.843356   \n",
       "2642         1044           6.6   172408336    553210255           3.208721   \n",
       "1446          853           6.5    81312034    217616028           2.676308   \n",
       "7443          762           6.8    57841772     73633858           1.273022   \n",
       "42           1035           6.9    27599987     31686509           1.148062   \n",
       "\n",
       "      top_genre  \n",
       "10755     Music  \n",
       "636     History  \n",
       "5       Western  \n",
       "6587      Music  \n",
       "2642    History  \n",
       "1446    History  \n",
       "7443    Western  \n",
       "42      History  "
      ]
     },
     "execution_count": 44,
     "metadata": {},
     "output_type": "execute_result"
    }
   ],
   "source": [
    "low_budget_genres[low_budget_genres.vote_count > 700].head(10)"
   ]
  },
  {
   "cell_type": "markdown",
   "metadata": {},
   "source": [
    "among low budget genres, these have higher vote counts and made good returns for their studios"
   ]
  },
  {
   "cell_type": "markdown",
   "metadata": {},
   "source": [
    "## Q4: Which movies have a high rating and high votes but not profitable. (if so, google how did that happen)"
   ]
  },
  {
   "cell_type": "code",
   "execution_count": 45,
   "metadata": {},
   "outputs": [
    {
     "data": {
      "text/plain": [
       "<matplotlib.axes._subplots.AxesSubplot at 0x7f2a8a057d30>"
      ]
     },
     "execution_count": 45,
     "metadata": {},
     "output_type": "execute_result"
    },
    {
     "data": {
      "image/png": "[encoded data removed]",
      "text/plain": [
       "<matplotlib.figure.Figure at 0x7f2a922d8828>"
      ]
     },
     "metadata": {
      "needs_background": "light"
     },
     "output_type": "display_data"
    }
   ],
   "source": [
    "df_filtered.vote_count.hist()"
   ]
  },
  {
   "cell_type": "code",
   "execution_count": 46,
   "metadata": {},
   "outputs": [
    {
     "data": {
      "text/plain": [
       "<matplotlib.axes._subplots.AxesSubplot at 0x7f2a8a037f98>"
      ]
     },
     "execution_count": 46,
     "metadata": {},
     "output_type": "execute_result"
    },
    {
     "data": {
      "image/png": "[encoded data removed]",
      "text/plain": [
       "<matplotlib.figure.Figure at 0x7f2a8a05f7f0>"
      ]
     },
     "metadata": {
      "needs_background": "light"
     },
     "output_type": "display_data"
    }
   ],
   "source": [
    "df_filtered.vote_average.hist()"
   ]
  },
  {
   "cell_type": "markdown",
   "metadata": {},
   "source": [
    "Looking at the histograms, I decedied on avg score >  7 and avg count > 1000"
   ]
  },
  {
   "cell_type": "code",
   "execution_count": 47,
   "metadata": {},
   "outputs": [
    {
     "data": {
      "text/html": [
       "<div>\n",
       "<style scoped>\n",
       "    .dataframe tbody tr th:only-of-type {\n",
       "        vertical-align: middle;\n",
       "    }\n",
       "\n",
       "    .dataframe tbody tr th {\n",
       "        vertical-align: top;\n",
       "    }\n",
       "\n",
       "    .dataframe thead th {\n",
       "        text-align: right;\n",
       "    }\n",
       "</style>\n",
       "<table border=\"1\" class=\"dataframe\">\n",
       "  <thead>\n",
       "    <tr style=\"text-align: right;\">\n",
       "      <th></th>\n",
       "      <th>id</th>\n",
       "      <th>popularity</th>\n",
       "      <th>original_title</th>\n",
       "      <th>cast</th>\n",
       "      <th>director</th>\n",
       "      <th>runtime</th>\n",
       "      <th>genres</th>\n",
       "      <th>production_companies</th>\n",
       "      <th>release_date</th>\n",
       "      <th>vote_count</th>\n",
       "      <th>vote_average</th>\n",
       "      <th>budget_adj</th>\n",
       "      <th>revenue_adj</th>\n",
       "      <th>return_multiplier</th>\n",
       "      <th>top_genre</th>\n",
       "    </tr>\n",
       "  </thead>\n",
       "  <tbody>\n",
       "    <tr>\n",
       "      <th>2636</th>\n",
       "      <td>141</td>\n",
       "      <td>3.85</td>\n",
       "      <td>Donnie Darko</td>\n",
       "      <td>Jake Gyllenhaal|Patrick Swayze|Drew Barrymore|...</td>\n",
       "      <td>Richard Kelly</td>\n",
       "      <td>113</td>\n",
       "      <td>Fantasy|Drama|Mystery</td>\n",
       "      <td>Pandora Cinema|Flower Films|Adam Fields Produc...</td>\n",
       "      <td>2001-01-18</td>\n",
       "      <td>1777</td>\n",
       "      <td>7.5</td>\n",
       "      <td>7388928</td>\n",
       "      <td>1564632</td>\n",
       "      <td>0.211754</td>\n",
       "      <td>Fantasy</td>\n",
       "    </tr>\n",
       "    <tr>\n",
       "      <th>5234</th>\n",
       "      <td>782</td>\n",
       "      <td>3.08</td>\n",
       "      <td>Gattaca</td>\n",
       "      <td>Ethan Hawke|Jude Law|Gore Vidal|Uma Thurman|Al...</td>\n",
       "      <td>Andrew Niccol</td>\n",
       "      <td>106</td>\n",
       "      <td>Thriller|Science Fiction|Mystery|Romance</td>\n",
       "      <td>Columbia Pictures|Jersey Films</td>\n",
       "      <td>1997-09-07</td>\n",
       "      <td>1117</td>\n",
       "      <td>7.3</td>\n",
       "      <td>48904571</td>\n",
       "      <td>17025280</td>\n",
       "      <td>0.348133</td>\n",
       "      <td>Thriller</td>\n",
       "    </tr>\n",
       "    <tr>\n",
       "      <th>701</th>\n",
       "      <td>206487</td>\n",
       "      <td>2.12</td>\n",
       "      <td>Predestination</td>\n",
       "      <td>Ethan Hawke|Sarah Snook|Noah Taylor|Christophe...</td>\n",
       "      <td>Michael Spierig|Peter Spierig</td>\n",
       "      <td>97</td>\n",
       "      <td>Science Fiction|Thriller</td>\n",
       "      <td>Screen Australia|Screen Queensland|Blacklab En...</td>\n",
       "      <td>2014-08-28</td>\n",
       "      <td>1136</td>\n",
       "      <td>7.2</td>\n",
       "      <td>5066000</td>\n",
       "      <td>2763273</td>\n",
       "      <td>0.545455</td>\n",
       "      <td>Science Fiction</td>\n",
       "    </tr>\n",
       "    <tr>\n",
       "      <th>1944</th>\n",
       "      <td>22538</td>\n",
       "      <td>1.91</td>\n",
       "      <td>Scott Pilgrim vs. the World</td>\n",
       "      <td>Michael Cera|Mary Elizabeth Winstead|Kieran Cu...</td>\n",
       "      <td>Edgar Wright</td>\n",
       "      <td>112</td>\n",
       "      <td>Action|Adventure|Comedy</td>\n",
       "      <td>Universal Pictures|Marc Platt Productions</td>\n",
       "      <td>2010-07-27</td>\n",
       "      <td>1258</td>\n",
       "      <td>7.2</td>\n",
       "      <td>60000000</td>\n",
       "      <td>47664559</td>\n",
       "      <td>0.794409</td>\n",
       "      <td>Action</td>\n",
       "    </tr>\n",
       "    <tr>\n",
       "      <th>6568</th>\n",
       "      <td>9693</td>\n",
       "      <td>2.11</td>\n",
       "      <td>Children of Men</td>\n",
       "      <td>Clive Owen|Michael Caine|Julianne Moore|Charli...</td>\n",
       "      <td>Alfonso CuarÃ³n</td>\n",
       "      <td>109</td>\n",
       "      <td>Drama|Action|Thriller|Science Fiction</td>\n",
       "      <td>Universal Pictures|Strike Entertainment|Hit &amp; ...</td>\n",
       "      <td>2006-09-22</td>\n",
       "      <td>1211</td>\n",
       "      <td>7.3</td>\n",
       "      <td>82206856</td>\n",
       "      <td>75673304</td>\n",
       "      <td>0.920523</td>\n",
       "      <td>Drama</td>\n",
       "    </tr>\n",
       "  </tbody>\n",
       "</table>\n",
       "</div>"
      ],
      "text/plain": [
       "          id  popularity               original_title  \\\n",
       "2636     141        3.85                 Donnie Darko   \n",
       "5234     782        3.08                      Gattaca   \n",
       "701   206487        2.12               Predestination   \n",
       "1944   22538        1.91  Scott Pilgrim vs. the World   \n",
       "6568    9693        2.11              Children of Men   \n",
       "\n",
       "                                                   cast  \\\n",
       "2636  Jake Gyllenhaal|Patrick Swayze|Drew Barrymore|...   \n",
       "5234  Ethan Hawke|Jude Law|Gore Vidal|Uma Thurman|Al...   \n",
       "701   Ethan Hawke|Sarah Snook|Noah Taylor|Christophe...   \n",
       "1944  Michael Cera|Mary Elizabeth Winstead|Kieran Cu...   \n",
       "6568  Clive Owen|Michael Caine|Julianne Moore|Charli...   \n",
       "\n",
       "                           director  runtime  \\\n",
       "2636                  Richard Kelly      113   \n",
       "5234                  Andrew Niccol      106   \n",
       "701   Michael Spierig|Peter Spierig       97   \n",
       "1944                   Edgar Wright      112   \n",
       "6568                Alfonso CuarÃ³n      109   \n",
       "\n",
       "                                        genres  \\\n",
       "2636                     Fantasy|Drama|Mystery   \n",
       "5234  Thriller|Science Fiction|Mystery|Romance   \n",
       "701                   Science Fiction|Thriller   \n",
       "1944                   Action|Adventure|Comedy   \n",
       "6568     Drama|Action|Thriller|Science Fiction   \n",
       "\n",
       "                                   production_companies release_date  \\\n",
       "2636  Pandora Cinema|Flower Films|Adam Fields Produc...   2001-01-18   \n",
       "5234                     Columbia Pictures|Jersey Films   1997-09-07   \n",
       "701   Screen Australia|Screen Queensland|Blacklab En...   2014-08-28   \n",
       "1944          Universal Pictures|Marc Platt Productions   2010-07-27   \n",
       "6568  Universal Pictures|Strike Entertainment|Hit & ...   2006-09-22   \n",
       "\n",
       "      vote_count  vote_average  budget_adj  revenue_adj  return_multiplier  \\\n",
       "2636        1777           7.5     7388928      1564632           0.211754   \n",
       "5234        1117           7.3    48904571     17025280           0.348133   \n",
       "701         1136           7.2     5066000      2763273           0.545455   \n",
       "1944        1258           7.2    60000000     47664559           0.794409   \n",
       "6568        1211           7.3    82206856     75673304           0.920523   \n",
       "\n",
       "            top_genre  \n",
       "2636          Fantasy  \n",
       "5234         Thriller  \n",
       "701   Science Fiction  \n",
       "1944           Action  \n",
       "6568            Drama  "
      ]
     },
     "execution_count": 47,
     "metadata": {},
     "output_type": "execute_result"
    }
   ],
   "source": [
    "df_filtered[(df_filtered.vote_average > 7) & (df_filtered.vote_count > 1000)].sort_values(by='return_multiplier', ascending=True).head(5)"
   ]
  },
  {
   "cell_type": "markdown",
   "metadata": {},
   "source": [
    "- Donnie darko retruns are not right here (it made $7.5M which would pit it after 'children of men')\n",
    "- Gattaca and Predestination. Good reviews on google. not much on why the box office is low.\n",
    "- Ethan Hawke leads in both movies. Strange.\n",
    "- I watched all except Gattaca. It was not on my radar, I got curious and watched it. Good cast and ok scenario/acting. However it was graphic. It might have been the issue behind low revenue"
   ]
  },
  {
   "cell_type": "markdown",
   "metadata": {},
   "source": [
    "## Q5: if we were to divide profit equally among the cast, who would be the richest"
   ]
  },
  {
   "cell_type": "code",
   "execution_count": 48,
   "metadata": {},
   "outputs": [
    {
     "data": {
      "text/plain": [
       "Index(['id', 'popularity', 'original_title', 'cast', 'director', 'runtime',\n",
       "       'genres', 'production_companies', 'release_date', 'vote_count',\n",
       "       'vote_average', 'budget_adj', 'revenue_adj', 'return_multiplier',\n",
       "       'top_genre'],\n",
       "      dtype='object')"
      ]
     },
     "execution_count": 48,
     "metadata": {},
     "output_type": "execute_result"
    }
   ],
   "source": [
    "df_filtered.columns"
   ]
  },
  {
   "cell_type": "code",
   "execution_count": 49,
   "metadata": {},
   "outputs": [],
   "source": [
    "df_cast = df_filtered\n",
    "df_cast['cast'].dropna(inplace=True)"
   ]
  },
  {
   "cell_type": "code",
   "execution_count": 50,
   "metadata": {},
   "outputs": [],
   "source": [
    "df_cast['num_cast_members']= df_cast['cast'].apply(lambda x: len(x.split('|')))"
   ]
  },
  {
   "cell_type": "code",
   "execution_count": 51,
   "metadata": {},
   "outputs": [
    {
     "data": {
      "text/plain": [
       "(19195, 16)"
      ]
     },
     "execution_count": 51,
     "metadata": {},
     "output_type": "execute_result"
    }
   ],
   "source": [
    "# https://stackoverflow.com/questions/58839622/pandas-split-and-expand-two-columns\n",
    "\n",
    "df_cast = df_cast.drop('cast', axis=1)\n",
    "df_cast = df_cast.join(df_filtered['cast'].str.split('|', expand=True).stack().reset_index(level=1, drop=True).rename('cast'))\n",
    "\n",
    "df_cast.shape"
   ]
  },
  {
   "cell_type": "code",
   "execution_count": 52,
   "metadata": {},
   "outputs": [
    {
     "data": {
      "text/html": [
       "<div>\n",
       "<style scoped>\n",
       "    .dataframe tbody tr th:only-of-type {\n",
       "        vertical-align: middle;\n",
       "    }\n",
       "\n",
       "    .dataframe tbody tr th {\n",
       "        vertical-align: top;\n",
       "    }\n",
       "\n",
       "    .dataframe thead th {\n",
       "        text-align: right;\n",
       "    }\n",
       "</style>\n",
       "<table border=\"1\" class=\"dataframe\">\n",
       "  <thead>\n",
       "    <tr style=\"text-align: right;\">\n",
       "      <th></th>\n",
       "      <th>id</th>\n",
       "      <th>popularity</th>\n",
       "      <th>original_title</th>\n",
       "      <th>director</th>\n",
       "      <th>runtime</th>\n",
       "      <th>genres</th>\n",
       "      <th>production_companies</th>\n",
       "      <th>release_date</th>\n",
       "      <th>vote_count</th>\n",
       "      <th>vote_average</th>\n",
       "      <th>budget_adj</th>\n",
       "      <th>revenue_adj</th>\n",
       "      <th>return_multiplier</th>\n",
       "      <th>top_genre</th>\n",
       "      <th>num_cast_members</th>\n",
       "      <th>cast</th>\n",
       "    </tr>\n",
       "  </thead>\n",
       "  <tbody>\n",
       "    <tr>\n",
       "      <th>0</th>\n",
       "      <td>135397</td>\n",
       "      <td>32.99</td>\n",
       "      <td>Jurassic World</td>\n",
       "      <td>Colin Trevorrow</td>\n",
       "      <td>124</td>\n",
       "      <td>Action|Adventure|Science Fiction|Thriller</td>\n",
       "      <td>Universal Studios|Amblin Entertainment|Legenda...</td>\n",
       "      <td>2015-06-09</td>\n",
       "      <td>5562</td>\n",
       "      <td>6.5</td>\n",
       "      <td>137999939</td>\n",
       "      <td>1392445892</td>\n",
       "      <td>10.090192</td>\n",
       "      <td>Action</td>\n",
       "      <td>5.0</td>\n",
       "      <td>Chris Pratt</td>\n",
       "    </tr>\n",
       "    <tr>\n",
       "      <th>0</th>\n",
       "      <td>135397</td>\n",
       "      <td>32.99</td>\n",
       "      <td>Jurassic World</td>\n",
       "      <td>Colin Trevorrow</td>\n",
       "      <td>124</td>\n",
       "      <td>Action|Adventure|Science Fiction|Thriller</td>\n",
       "      <td>Universal Studios|Amblin Entertainment|Legenda...</td>\n",
       "      <td>2015-06-09</td>\n",
       "      <td>5562</td>\n",
       "      <td>6.5</td>\n",
       "      <td>137999939</td>\n",
       "      <td>1392445892</td>\n",
       "      <td>10.090192</td>\n",
       "      <td>Action</td>\n",
       "      <td>5.0</td>\n",
       "      <td>Bryce Dallas Howard</td>\n",
       "    </tr>\n",
       "    <tr>\n",
       "      <th>0</th>\n",
       "      <td>135397</td>\n",
       "      <td>32.99</td>\n",
       "      <td>Jurassic World</td>\n",
       "      <td>Colin Trevorrow</td>\n",
       "      <td>124</td>\n",
       "      <td>Action|Adventure|Science Fiction|Thriller</td>\n",
       "      <td>Universal Studios|Amblin Entertainment|Legenda...</td>\n",
       "      <td>2015-06-09</td>\n",
       "      <td>5562</td>\n",
       "      <td>6.5</td>\n",
       "      <td>137999939</td>\n",
       "      <td>1392445892</td>\n",
       "      <td>10.090192</td>\n",
       "      <td>Action</td>\n",
       "      <td>5.0</td>\n",
       "      <td>Irrfan Khan</td>\n",
       "    </tr>\n",
       "    <tr>\n",
       "      <th>0</th>\n",
       "      <td>135397</td>\n",
       "      <td>32.99</td>\n",
       "      <td>Jurassic World</td>\n",
       "      <td>Colin Trevorrow</td>\n",
       "      <td>124</td>\n",
       "      <td>Action|Adventure|Science Fiction|Thriller</td>\n",
       "      <td>Universal Studios|Amblin Entertainment|Legenda...</td>\n",
       "      <td>2015-06-09</td>\n",
       "      <td>5562</td>\n",
       "      <td>6.5</td>\n",
       "      <td>137999939</td>\n",
       "      <td>1392445892</td>\n",
       "      <td>10.090192</td>\n",
       "      <td>Action</td>\n",
       "      <td>5.0</td>\n",
       "      <td>Vincent D'Onofrio</td>\n",
       "    </tr>\n",
       "    <tr>\n",
       "      <th>0</th>\n",
       "      <td>135397</td>\n",
       "      <td>32.99</td>\n",
       "      <td>Jurassic World</td>\n",
       "      <td>Colin Trevorrow</td>\n",
       "      <td>124</td>\n",
       "      <td>Action|Adventure|Science Fiction|Thriller</td>\n",
       "      <td>Universal Studios|Amblin Entertainment|Legenda...</td>\n",
       "      <td>2015-06-09</td>\n",
       "      <td>5562</td>\n",
       "      <td>6.5</td>\n",
       "      <td>137999939</td>\n",
       "      <td>1392445892</td>\n",
       "      <td>10.090192</td>\n",
       "      <td>Action</td>\n",
       "      <td>5.0</td>\n",
       "      <td>Nick Robinson</td>\n",
       "    </tr>\n",
       "  </tbody>\n",
       "</table>\n",
       "</div>"
      ],
      "text/plain": [
       "       id  popularity  original_title         director  runtime  \\\n",
       "0  135397       32.99  Jurassic World  Colin Trevorrow      124   \n",
       "0  135397       32.99  Jurassic World  Colin Trevorrow      124   \n",
       "0  135397       32.99  Jurassic World  Colin Trevorrow      124   \n",
       "0  135397       32.99  Jurassic World  Colin Trevorrow      124   \n",
       "0  135397       32.99  Jurassic World  Colin Trevorrow      124   \n",
       "\n",
       "                                      genres  \\\n",
       "0  Action|Adventure|Science Fiction|Thriller   \n",
       "0  Action|Adventure|Science Fiction|Thriller   \n",
       "0  Action|Adventure|Science Fiction|Thriller   \n",
       "0  Action|Adventure|Science Fiction|Thriller   \n",
       "0  Action|Adventure|Science Fiction|Thriller   \n",
       "\n",
       "                                production_companies release_date  vote_count  \\\n",
       "0  Universal Studios|Amblin Entertainment|Legenda...   2015-06-09        5562   \n",
       "0  Universal Studios|Amblin Entertainment|Legenda...   2015-06-09        5562   \n",
       "0  Universal Studios|Amblin Entertainment|Legenda...   2015-06-09        5562   \n",
       "0  Universal Studios|Amblin Entertainment|Legenda...   2015-06-09        5562   \n",
       "0  Universal Studios|Amblin Entertainment|Legenda...   2015-06-09        5562   \n",
       "\n",
       "   vote_average  budget_adj  revenue_adj  return_multiplier top_genre  \\\n",
       "0           6.5   137999939   1392445892          10.090192    Action   \n",
       "0           6.5   137999939   1392445892          10.090192    Action   \n",
       "0           6.5   137999939   1392445892          10.090192    Action   \n",
       "0           6.5   137999939   1392445892          10.090192    Action   \n",
       "0           6.5   137999939   1392445892          10.090192    Action   \n",
       "\n",
       "   num_cast_members                 cast  \n",
       "0               5.0          Chris Pratt  \n",
       "0               5.0  Bryce Dallas Howard  \n",
       "0               5.0          Irrfan Khan  \n",
       "0               5.0    Vincent D'Onofrio  \n",
       "0               5.0        Nick Robinson  "
      ]
     },
     "execution_count": 52,
     "metadata": {},
     "output_type": "execute_result"
    }
   ],
   "source": [
    "df_cast.head()"
   ]
  },
  {
   "cell_type": "code",
   "execution_count": 53,
   "metadata": {},
   "outputs": [
    {
     "data": {
      "text/html": [
       "<div>\n",
       "<style scoped>\n",
       "    .dataframe tbody tr th:only-of-type {\n",
       "        vertical-align: middle;\n",
       "    }\n",
       "\n",
       "    .dataframe tbody tr th {\n",
       "        vertical-align: top;\n",
       "    }\n",
       "\n",
       "    .dataframe thead th {\n",
       "        text-align: right;\n",
       "    }\n",
       "</style>\n",
       "<table border=\"1\" class=\"dataframe\">\n",
       "  <thead>\n",
       "    <tr style=\"text-align: right;\">\n",
       "      <th></th>\n",
       "      <th>id</th>\n",
       "      <th>popularity</th>\n",
       "      <th>original_title</th>\n",
       "      <th>cast</th>\n",
       "      <th>director</th>\n",
       "      <th>runtime</th>\n",
       "      <th>genres</th>\n",
       "      <th>production_companies</th>\n",
       "      <th>release_date</th>\n",
       "      <th>vote_count</th>\n",
       "      <th>vote_average</th>\n",
       "      <th>budget_adj</th>\n",
       "      <th>revenue_adj</th>\n",
       "      <th>return_multiplier</th>\n",
       "      <th>top_genre</th>\n",
       "      <th>num_cast_members</th>\n",
       "    </tr>\n",
       "  </thead>\n",
       "  <tbody>\n",
       "    <tr>\n",
       "      <th>0</th>\n",
       "      <td>135397</td>\n",
       "      <td>32.99</td>\n",
       "      <td>Jurassic World</td>\n",
       "      <td>Chris Pratt|Bryce Dallas Howard|Irrfan Khan|Vi...</td>\n",
       "      <td>Colin Trevorrow</td>\n",
       "      <td>124</td>\n",
       "      <td>Action|Adventure|Science Fiction|Thriller</td>\n",
       "      <td>Universal Studios|Amblin Entertainment|Legenda...</td>\n",
       "      <td>2015-06-09</td>\n",
       "      <td>5562</td>\n",
       "      <td>6.5</td>\n",
       "      <td>137999939</td>\n",
       "      <td>1392445892</td>\n",
       "      <td>10.090192</td>\n",
       "      <td>Action</td>\n",
       "      <td>5.0</td>\n",
       "    </tr>\n",
       "  </tbody>\n",
       "</table>\n",
       "</div>"
      ],
      "text/plain": [
       "       id  popularity  original_title  \\\n",
       "0  135397       32.99  Jurassic World   \n",
       "\n",
       "                                                cast         director  \\\n",
       "0  Chris Pratt|Bryce Dallas Howard|Irrfan Khan|Vi...  Colin Trevorrow   \n",
       "\n",
       "   runtime                                     genres  \\\n",
       "0      124  Action|Adventure|Science Fiction|Thriller   \n",
       "\n",
       "                                production_companies release_date  vote_count  \\\n",
       "0  Universal Studios|Amblin Entertainment|Legenda...   2015-06-09        5562   \n",
       "\n",
       "   vote_average  budget_adj  revenue_adj  return_multiplier top_genre  \\\n",
       "0           6.5   137999939   1392445892          10.090192    Action   \n",
       "\n",
       "   num_cast_members  \n",
       "0               5.0  "
      ]
     },
     "execution_count": 53,
     "metadata": {},
     "output_type": "execute_result"
    }
   ],
   "source": [
    "df_filtered.head(1)"
   ]
  },
  {
   "cell_type": "markdown",
   "metadata": {},
   "source": [
    "Cast part splitted and expanded to new rows with same other values"
   ]
  },
  {
   "cell_type": "code",
   "execution_count": 54,
   "metadata": {},
   "outputs": [],
   "source": [
    "# New column for income\n",
    "df_cast['income'] = df_cast.apply(lambda x: x.revenue_adj/x.num_cast_members , axis=1)"
   ]
  },
  {
   "cell_type": "code",
   "execution_count": 55,
   "metadata": {},
   "outputs": [
    {
     "data": {
      "text/plain": [
       "<matplotlib.axes._subplots.AxesSubplot at 0x7f2a8a19d4a8>"
      ]
     },
     "execution_count": 55,
     "metadata": {},
     "output_type": "execute_result"
    },
    {
     "data": {
      "image/png": "[encoded data removed]",
      "text/plain": [
       "<matplotlib.figure.Figure at 0x7f2a8a19ddd8>"
      ]
     },
     "metadata": {},
     "output_type": "display_data"
    }
   ],
   "source": [
    "df_cast.groupby(df_cast.cast)['income'].sum().sort_values(ascending=False).head(10).plot.pie(y='income', figsize=(8,8))"
   ]
  },
  {
   "cell_type": "markdown",
   "metadata": {},
   "source": [
    "## Q6: actors with the highest # movies, what are their avg score and revenue"
   ]
  },
  {
   "cell_type": "code",
   "execution_count": 56,
   "metadata": {},
   "outputs": [
    {
     "data": {
      "text/plain": [
       "(19195, 17)"
      ]
     },
     "execution_count": 56,
     "metadata": {},
     "output_type": "execute_result"
    }
   ],
   "source": [
    "df_cast.shape"
   ]
  },
  {
   "cell_type": "code",
   "execution_count": 57,
   "metadata": {},
   "outputs": [],
   "source": [
    "# https://stackoverflow.com/questions/19384532/get-statistics-for-each-group-such-as-count-mean-etc-using-pandas-groupby\n",
    "\n",
    "df_cast_by_movie_count = df_cast.groupby(df_cast.cast).agg(['count', 'mean']).sort_values(by=('vote_average', 'count'), ascending=False)[['vote_average','revenue_adj']]"
   ]
  },
  {
   "cell_type": "code",
   "execution_count": 58,
   "metadata": {},
   "outputs": [
    {
     "data": {
      "text/html": [
       "<div>\n",
       "<style scoped>\n",
       "    .dataframe tbody tr th:only-of-type {\n",
       "        vertical-align: middle;\n",
       "    }\n",
       "\n",
       "    .dataframe tbody tr th {\n",
       "        vertical-align: top;\n",
       "    }\n",
       "\n",
       "    .dataframe thead tr th {\n",
       "        text-align: left;\n",
       "    }\n",
       "\n",
       "    .dataframe thead tr:last-of-type th {\n",
       "        text-align: right;\n",
       "    }\n",
       "</style>\n",
       "<table border=\"1\" class=\"dataframe\">\n",
       "  <thead>\n",
       "    <tr>\n",
       "      <th></th>\n",
       "      <th colspan=\"2\" halign=\"left\">vote_average</th>\n",
       "      <th colspan=\"2\" halign=\"left\">revenue_adj</th>\n",
       "    </tr>\n",
       "    <tr>\n",
       "      <th></th>\n",
       "      <th>count</th>\n",
       "      <th>mean</th>\n",
       "      <th>count</th>\n",
       "      <th>mean</th>\n",
       "    </tr>\n",
       "    <tr>\n",
       "      <th>cast</th>\n",
       "      <th></th>\n",
       "      <th></th>\n",
       "      <th></th>\n",
       "      <th></th>\n",
       "    </tr>\n",
       "  </thead>\n",
       "  <tbody>\n",
       "    <tr>\n",
       "      <th>Robert De Niro</th>\n",
       "      <td>52</td>\n",
       "      <td>6.398077</td>\n",
       "      <td>52</td>\n",
       "      <td>1.245128e+08</td>\n",
       "    </tr>\n",
       "    <tr>\n",
       "      <th>Bruce Willis</th>\n",
       "      <td>46</td>\n",
       "      <td>6.054348</td>\n",
       "      <td>46</td>\n",
       "      <td>1.790538e+08</td>\n",
       "    </tr>\n",
       "    <tr>\n",
       "      <th>Samuel L. Jackson</th>\n",
       "      <td>44</td>\n",
       "      <td>6.270455</td>\n",
       "      <td>44</td>\n",
       "      <td>1.806471e+08</td>\n",
       "    </tr>\n",
       "    <tr>\n",
       "      <th>Nicolas Cage</th>\n",
       "      <td>43</td>\n",
       "      <td>5.918605</td>\n",
       "      <td>43</td>\n",
       "      <td>1.274347e+08</td>\n",
       "    </tr>\n",
       "    <tr>\n",
       "      <th>Matt Damon</th>\n",
       "      <td>36</td>\n",
       "      <td>6.455556</td>\n",
       "      <td>36</td>\n",
       "      <td>1.549264e+08</td>\n",
       "    </tr>\n",
       "    <tr>\n",
       "      <th>Johnny Depp</th>\n",
       "      <td>35</td>\n",
       "      <td>6.471429</td>\n",
       "      <td>35</td>\n",
       "      <td>2.433724e+08</td>\n",
       "    </tr>\n",
       "    <tr>\n",
       "      <th>Sylvester Stallone</th>\n",
       "      <td>34</td>\n",
       "      <td>6.029412</td>\n",
       "      <td>34</td>\n",
       "      <td>2.002138e+08</td>\n",
       "    </tr>\n",
       "    <tr>\n",
       "      <th>Tom Hanks</th>\n",
       "      <td>34</td>\n",
       "      <td>6.741176</td>\n",
       "      <td>34</td>\n",
       "      <td>3.068681e+08</td>\n",
       "    </tr>\n",
       "    <tr>\n",
       "      <th>Harrison Ford</th>\n",
       "      <td>34</td>\n",
       "      <td>6.452941</td>\n",
       "      <td>34</td>\n",
       "      <td>4.201675e+08</td>\n",
       "    </tr>\n",
       "    <tr>\n",
       "      <th>Morgan Freeman</th>\n",
       "      <td>34</td>\n",
       "      <td>6.411765</td>\n",
       "      <td>34</td>\n",
       "      <td>1.376819e+08</td>\n",
       "    </tr>\n",
       "  </tbody>\n",
       "</table>\n",
       "</div>"
      ],
      "text/plain": [
       "                   vote_average           revenue_adj              \n",
       "                          count      mean       count          mean\n",
       "cast                                                               \n",
       "Robert De Niro               52  6.398077          52  1.245128e+08\n",
       "Bruce Willis                 46  6.054348          46  1.790538e+08\n",
       "Samuel L. Jackson            44  6.270455          44  1.806471e+08\n",
       "Nicolas Cage                 43  5.918605          43  1.274347e+08\n",
       "Matt Damon                   36  6.455556          36  1.549264e+08\n",
       "Johnny Depp                  35  6.471429          35  2.433724e+08\n",
       "Sylvester Stallone           34  6.029412          34  2.002138e+08\n",
       "Tom Hanks                    34  6.741176          34  3.068681e+08\n",
       "Harrison Ford                34  6.452941          34  4.201675e+08\n",
       "Morgan Freeman               34  6.411765          34  1.376819e+08"
      ]
     },
     "execution_count": 58,
     "metadata": {},
     "output_type": "execute_result"
    }
   ],
   "source": [
    "df_cast_by_movie_count.head(10)"
   ]
  },
  {
   "cell_type": "markdown",
   "metadata": {},
   "source": [
    "it looks like winner is Harrison Ford. with highest revenue and above avg rating (among serial movie makers)"
   ]
  },
  {
   "cell_type": "markdown",
   "metadata": {},
   "source": [
    "## Q7: Which actors appear together"
   ]
  },
  {
   "cell_type": "code",
   "execution_count": 59,
   "metadata": {},
   "outputs": [
    {
     "data": {
      "text/plain": [
       "Index(['id', 'popularity', 'original_title', 'cast', 'director', 'runtime',\n",
       "       'genres', 'production_companies', 'release_date', 'vote_count',\n",
       "       'vote_average', 'budget_adj', 'revenue_adj', 'return_multiplier',\n",
       "       'top_genre', 'num_cast_members'],\n",
       "      dtype='object')"
      ]
     },
     "execution_count": 59,
     "metadata": {},
     "output_type": "execute_result"
    }
   ],
   "source": [
    "df_filtered.columns"
   ]
  },
  {
   "cell_type": "code",
   "execution_count": 60,
   "metadata": {},
   "outputs": [],
   "source": [
    "# after some research I found out that this is called affinity analysis\n",
    "# found a good post about ingridients that appear in market basket analysis. \n",
    "# https://towardsdatascience.com/market-basket-analysis-with-pandas-246fb8ee10a5"
   ]
  },
  {
   "cell_type": "code",
   "execution_count": 61,
   "metadata": {},
   "outputs": [
    {
     "data": {
      "text/plain": [
       "0    [Chris Pratt, Bryce Dallas Howard, Irrfan Khan...\n",
       "1    [Tom Hardy, Charlize Theron, Hugh Keays-Byrne,...\n",
       "Name: cast, dtype: object"
      ]
     },
     "execution_count": 61,
     "metadata": {},
     "output_type": "execute_result"
    }
   ],
   "source": [
    "df_cast_com = df_filtered\n",
    "df_cast_com.cast.dropna(inplace= True)\n",
    "df_cast_com = df_cast_com.cast.apply(lambda x: x.split('|'))\n",
    "df_cast_com.head(2)"
   ]
  },
  {
   "cell_type": "code",
   "execution_count": 62,
   "metadata": {},
   "outputs": [],
   "source": [
    "import itertools"
   ]
  },
  {
   "cell_type": "code",
   "execution_count": 63,
   "metadata": {},
   "outputs": [
    {
     "data": {
      "text/plain": [
       "[('Chris Pratt', 'Bryce Dallas Howard'),\n",
       " ('Chris Pratt', 'Irrfan Khan'),\n",
       " ('Chris Pratt', \"Vincent D'Onofrio\"),\n",
       " ('Chris Pratt', 'Nick Robinson'),\n",
       " ('Bryce Dallas Howard', 'Irrfan Khan'),\n",
       " ('Bryce Dallas Howard', \"Vincent D'Onofrio\"),\n",
       " ('Bryce Dallas Howard', 'Nick Robinson'),\n",
       " ('Irrfan Khan', \"Vincent D'Onofrio\"),\n",
       " ('Irrfan Khan', 'Nick Robinson'),\n",
       " (\"Vincent D'Onofrio\", 'Nick Robinson')]"
      ]
     },
     "execution_count": 63,
     "metadata": {},
     "output_type": "execute_result"
    }
   ],
   "source": [
    "# first movie, combinations of 2\n",
    "list(itertools.combinations(df_cast_com[0], 2))"
   ]
  },
  {
   "cell_type": "code",
   "execution_count": 64,
   "metadata": {},
   "outputs": [],
   "source": [
    "combinations_list = []\n",
    "for row in df_cast_com:\n",
    "    combinations = list(itertools.combinations(row, 2))\n",
    "    combinations_list.append(combinations)"
   ]
  },
  {
   "cell_type": "code",
   "execution_count": 65,
   "metadata": {},
   "outputs": [
    {
     "data": {
      "text/plain": [
       "3849"
      ]
     },
     "execution_count": 65,
     "metadata": {},
     "output_type": "execute_result"
    }
   ],
   "source": [
    "len(combinations_list)"
   ]
  },
  {
   "cell_type": "code",
   "execution_count": 66,
   "metadata": {},
   "outputs": [
    {
     "data": {
      "text/plain": [
       "[[('Chris Pratt', 'Bryce Dallas Howard'),\n",
       "  ('Chris Pratt', 'Irrfan Khan'),\n",
       "  ('Chris Pratt', \"Vincent D'Onofrio\"),\n",
       "  ('Chris Pratt', 'Nick Robinson'),\n",
       "  ('Bryce Dallas Howard', 'Irrfan Khan'),\n",
       "  ('Bryce Dallas Howard', \"Vincent D'Onofrio\"),\n",
       "  ('Bryce Dallas Howard', 'Nick Robinson'),\n",
       "  ('Irrfan Khan', \"Vincent D'Onofrio\"),\n",
       "  ('Irrfan Khan', 'Nick Robinson'),\n",
       "  (\"Vincent D'Onofrio\", 'Nick Robinson')]]"
      ]
     },
     "execution_count": 66,
     "metadata": {},
     "output_type": "execute_result"
    }
   ],
   "source": [
    "combinations_list[:1]"
   ]
  },
  {
   "cell_type": "code",
   "execution_count": 67,
   "metadata": {},
   "outputs": [],
   "source": [
    "combination_counts = pd.Series(combinations_list).explode().reset_index(drop=True)"
   ]
  },
  {
   "cell_type": "code",
   "execution_count": 68,
   "metadata": {},
   "outputs": [
    {
     "data": {
      "text/plain": [
       "(Daniel Radcliffe, Emma Watson)        8\n",
       "(Daniel Radcliffe, Rupert Grint)       8\n",
       "(Rupert Grint, Emma Watson)            7\n",
       "(William Shatner, Leonard Nimoy)       6\n",
       "(Leonard Nimoy, James Doohan)          6\n",
       "(William Shatner, James Doohan)        6\n",
       "(Johnny Depp, Helena Bonham Carter)    6\n",
       "(Sylvester Stallone, Burt Young)       6\n",
       "(Ben Stiller, Owen Wilson)             6\n",
       "(William Shatner, George Takei)        6\n",
       "(Leonard Nimoy, George Takei)          6\n",
       "(DeForest Kelley, James Doohan)        5\n",
       "(Adam Sandler, Kevin James)            5\n",
       "(William Shatner, DeForest Kelley)     5\n",
       "(James Doohan, George Takei)           5\n",
       "(Leonard Nimoy, DeForest Kelley)       5\n",
       "(DeForest Kelley, George Takei)        5\n",
       "(Hugh Jackman, Ian McKellen)           5\n",
       "(Talia Shire, Burt Young)              5\n",
       "(Kristen Stewart, Robert Pattinson)    5\n",
       "dtype: int64"
      ]
     },
     "execution_count": 68,
     "metadata": {},
     "output_type": "execute_result"
    }
   ],
   "source": [
    "combination_counts.value_counts()[:20]"
   ]
  },
  {
   "cell_type": "markdown",
   "metadata": {},
   "source": [
    "Actors who appear together in movies with count.\n",
    "\n",
    "Harry potter, star trek, rocky, xman it makes sense that movies with series has actors that appear together. \n",
    "\n",
    "Johnny Depp and Helena put a smile on my face :) Tim burton should be the common director\n",
    "\n",
    "this was fun"
   ]
  },
  {
   "cell_type": "markdown",
   "metadata": {
    "collapsed": true
   },
   "source": [
    "# Conclusions"
   ]
  },
  {
   "cell_type": "markdown",
   "metadata": {},
   "source": [
    "About the limitations of the dataset\n",
    "- Dataset has missing, na, 0 and wrong values (release dates, negative infinite revenues, not uptodate revenue (like in Donnie darko))\n",
    "- Cast and genre is limited by max 5 values\n",
    "\n",
    "\n",
    "Some of the answers I got from the dataset\n",
    "- `December` is the month that has most of the releases in e year\n",
    "- `Friday` is the week of the day that gets most releases in a week\n",
    "- `Documentary`, `History`, `Western` and `Music` genres often has the lowest budgets. Among them `Grease` and `The Imitation Game` made highest returns\n",
    "- `Gattaca` and `Predestination` had high budgets, received good scores and rated by many. However their return is low. Not much on the topic on the web. \n",
    "- Among the actors with 30+ movies, `Harrison Ford` is the outlier with high user scors and high box office\n",
    "- Series like `Harry Potter` makes some actors appear togheter multiple times in different movies. Seems like exceptions to these accour when the director has a core cast team like `Johnny Depp` and `Helena Bonham Carter`\n"
   ]
  },
  {
   "cell_type": "code",
   "execution_count": 69,
   "metadata": {},
   "outputs": [
    {
     "data": {
      "text/plain": [
       "0"
      ]
     },
     "execution_count": 69,
     "metadata": {},
     "output_type": "execute_result"
    }
   ],
   "source": [
    "from subprocess import call\n",
    "call(['python', '-m', 'nbconvert', 'Investigate_a_Dataset.ipynb'])"
   ]
  },
  {
   "cell_type": "code",
   "execution_count": null,
   "metadata": {},
   "outputs": [],
   "source": []
  }
 ],
 "metadata": {
  "kernelspec": {
   "display_name": "Python 3",
   "language": "python",
   "name": "python3"
  },
  "language_info": {
   "codemirror_mode": {
    "name": "ipython",
    "version": 3
   },
   "file_extension": ".py",
   "mimetype": "text/x-python",
   "name": "python",
   "nbconvert_exporter": "python",
   "pygments_lexer": "ipython3",
   "version": "3.6.3"
  }
 },
 "nbformat": 4,
 "nbformat_minor": 2
}
